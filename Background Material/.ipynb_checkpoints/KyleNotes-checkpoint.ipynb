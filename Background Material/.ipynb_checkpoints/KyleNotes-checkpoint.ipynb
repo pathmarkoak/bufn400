{
 "cells": [
  {
   "cell_type": "markdown",
   "id": "1419b6e1-a796-4cca-b433-335a3c0fa331",
   "metadata": {
    "id": "1419b6e1-a796-4cca-b433-335a3c0fa331",
    "tags": []
   },
   "source": [
    "# Pete's Notes on Python\n",
    "\n",
    "## By Pete Kyle \n",
    "\n"
   ]
  },
  {
   "cell_type": "markdown",
   "id": "4882a774-d92d-4c9a-9777-efe2a873ef01",
   "metadata": {},
   "source": [
    "### Why Python\n",
    "\n",
    "Python is popular because:\n",
    "\n",
    "1. The language is flexible.\n",
    "2. The code is easy to read.\n",
    "3. It is actively supported with thousands of packages to implement various tasks easily.\n",
    "\n",
    "If you are new to Python, I recommend the Python tutorial https://docs.python.org/3/tutorial/index.html . \n",
    "\n",
    "You will find yourself wanting to read documentation, which can be found on the main Python webpage https://www.python.org/ .\n",
    "\n",
    "You might also want to learn the language using online lecture notes, such as https://lectures.scientific-python.org/# .\n",
    "\n"
   ]
  },
  {
   "cell_type": "markdown",
   "id": "5b8310fa-791e-4e83-8092-d1dd9f1698d5",
   "metadata": {},
   "source": [
    "### Getting Started with Python\n",
    "\n",
    "I recommend installing Python using Anaconda as an interface to the conda package manager. This allows you to create custom Python environments with specific collections of packages. To install an environment for BUFN400, open a terminal from Anaconda, then execute\n",
    "\n",
    "`conda create -c defaults --name environmentname numpy scipy matplotlib pandas numba notebook conda numexpr jupyter nbconvert nodejs`\n",
    "\n",
    "then\n",
    "\n",
    "`conda activate environmentname`\n",
    "\n",
    "Python code can be created using Python files (extension .py) with IDEs like Spyder or PyCharm. \n",
    "\n",
    "This course will use notebook files (extension ipynb) created with Jupyter Notebook or Jupyter-lab; Google Colab can also be used. Notebook files conveniently allow mixing cells with code and cells with Markdown text.\n",
    "\n",
    "\n"
   ]
  },
  {
   "cell_type": "markdown",
   "id": "79049151-1230-4858-bc13-fb3c5a0db6ee",
   "metadata": {},
   "source": [
    "### Important Packages\n",
    "\n",
    "For data science and finance, this bootcamp will introduce the most important basic Python packages, which are:\n",
    "\n",
    "* **Numpy**: Has fast algorithms for numerical calculations of data in arrays. \n",
    "\n",
    "* **Pandas**: Has reasonably fast, flexible algorithms for manipulating data for finance and other research.\n",
    "\n",
    "* **Scipy**: Augments Numpy with specialized functions for mathematical calculations.\n",
    "\n",
    "* **Matplotlib**: Flexible, extensive plotting functionality.\n",
    "\n",
    "For data science and finance, some other important packages are **scikit-learn** for machine learning, **statsmodels** for traditional statistics, **seaborn** for data visualization, **pytorch** for neural nets on gpus, and **numba** for speeding up Python loops.\n"
   ]
  },
  {
   "cell_type": "markdown",
   "id": "75a1f777-9aef-4016-9b63-1013afa5793c",
   "metadata": {},
   "source": [
    "### Documantation and Help\n",
    "\n",
    "For absolute beginners, I recommend \n",
    "\n",
    "* The beginner's guide for numpy, https://numpy.org/doc/stable/user/absolute_beginners.html\n",
    "\n",
    "* The \"10 minutes to pandas\" guide, https://pandas.pydata.org/docs/user_guide/10min.html\n",
    "\n",
    "Scipy and matplotlib do not seem to have documentation for absolute beginners.\n",
    "\n",
    "The websites numpy.org, pandas.org, scipy.org, and matplotlib.org have good documentation. I recommend the user guides:\n",
    "\n",
    "* Numpy: https://numpy.org/doc/stable/user/index.html\n",
    "\n",
    "* Pandas: https://pandas.pydata.org/docs/user_guide/index.html\n",
    "\n",
    "* Scipy: https://docs.scipy.org/doc/scipy/tutorial/index.html#user-guide\n",
    "\n",
    "* Matplotlib: https://matplotlib.org/stable/tutorials/index.html\n",
    "\n"
   ]
  },
  {
   "cell_type": "markdown",
   "id": "f9b5a666-612a-43f6-a927-bc840a1ba591",
   "metadata": {},
   "source": [
    "### Which container to use\n",
    "\n",
    "When working with data, you need to put the data into the type of container which makes it best to work with.\n",
    "\n",
    "Python has several built-in container classes, including **list**, **dictionary**, and **tuple**. Numpy has the **ndarray**. Pandas has the **dataframe**. Different containers are appropriate for different purposes:\n",
    "\n"
   ]
  },
  {
   "cell_type": "markdown",
   "id": "4e87498c-694b-456a-a79c-e3e67df39c9d",
   "metadata": {},
   "source": [
    "#### Python List\n",
    "\n",
    "A list is an ordered sequence of objects, which may be of different type. It is fast to **append** to a list.\n",
    "\n",
    "Use a Python list when you are creating a sequence of objects when: \n",
    "\n",
    "* You may want to interate over the list, but speed of iteration is not an issue.\n",
    "* The objects in the list may be of different types.\n",
    "* You do not know how many objects will be in the list. \n",
    "* You want to keep things simple and obvious.\n",
    "\n",
    "It is typical to start with an empty list, then add elements one by one.\n",
    "\n",
    "Sample Exercise: Given a list of numbers which may be of type **int** or **float**, create a list of the squares of those numbers, perserving their type:\n"
   ]
  },
  {
   "cell_type": "code",
   "execution_count": 1,
   "id": "f6269d63-cae6-4ac7-9183-155c6b1bb34a",
   "metadata": {
    "tags": []
   },
   "outputs": [
    {
     "name": "stdout",
     "output_type": "stream",
     "text": [
      "ns=[1, 3, 5, 9.9], n2s=[1, 9, 25, 98.01]\n",
      "\n",
      "0, 1, 1, <class 'int'>, <class 'int'>\n",
      "1, 3, 9, <class 'int'>, <class 'int'>\n",
      "2, 5, 25, <class 'int'>, <class 'int'>\n",
      "3, 9.9, 98.01, <class 'float'>, <class 'float'>\n"
     ]
    }
   ],
   "source": [
    "ns = [1, 3, 5, 9.9]\n",
    "\n",
    "n2s = []\n",
    "for n in ns:\n",
    "    n2s.append(n**2)\n",
    "    \n",
    "print(f\"{ns=}, {n2s=}\\n\")\n",
    "for i in range(len(ns)):\n",
    "    print(f\"{i}, {ns[i]}, {n2s[i]}, {type(ns[i])}, {type(n2s[i])}\")\n"
   ]
  },
  {
   "cell_type": "markdown",
   "id": "5e28fb2c-2b2a-4b87-b9b3-c28ac6fa1332",
   "metadata": {},
   "source": [
    "##### List Comprehension\n",
    "\n",
    "A useful shortcut for creating lists is the **list comprehension**.\n",
    "\n",
    "Sample Exercise: Creat the same list of squares as above using a list comprehension:"
   ]
  },
  {
   "cell_type": "code",
   "execution_count": 2,
   "id": "c05e67d9-8538-4efb-9c56-847ac7792034",
   "metadata": {
    "tags": []
   },
   "outputs": [
    {
     "name": "stdout",
     "output_type": "stream",
     "text": [
      "[1, 9, 25, 98.01]\n"
     ]
    }
   ],
   "source": [
    "n2sc = [n**2 for n in ns]  # list comprehension syntax\n",
    "\n",
    "print(n2sc)"
   ]
  },
  {
   "cell_type": "markdown",
   "id": "2fe500fd-fe9a-4eae-951d-0319a6013d61",
   "metadata": {},
   "source": [
    "#### Python Dictionary\n",
    "\n",
    "A Python dictionary is a hash-table of name-object pairs. The names are typically strings but can be any hashable object. The objects can be of different types.  Looking up objects by name is fast. Adding to the dictionary is fast.\n",
    "\n",
    "Use Python dictionaries when:\n",
    "\n",
    "1. You want te to manipulate or iterate over the names of objects, such as printing the name of objects as strings:\n",
    "2. Fast look-up is important.\n",
    "3. You want to keep similar data together (like in a namespace) to increase transparency and avoid name clashes.\n",
    "\n",
    "We can put the lists `ns`, `n2s`, and their types into a dictionary:\n"
   ]
  },
  {
   "cell_type": "code",
   "execution_count": 3,
   "id": "95f4db8c-99a8-4b88-b516-c4903adffe12",
   "metadata": {
    "tags": []
   },
   "outputs": [
    {
     "name": "stdout",
     "output_type": "stream",
     "text": [
      "nums: [1, 3, 5, 9.9]\n",
      "nums_squared: [1, 9, 25, 98.01]\n",
      "nums_type: [<class 'int'>, <class 'int'>, <class 'int'>, <class 'float'>]\n",
      "nums_squared_type: [<class 'int'>, <class 'int'>, <class 'int'>, <class 'float'>]\n"
     ]
    }
   ],
   "source": [
    "d = {'nums' : ns, 'nums_squared' : n2s}\n",
    "d['nums_type'] = [type(n) for n in ns]\n",
    "d['nums_squared_type'] = [type(n) for n in n2s]\n",
    "\n",
    "for k in d:\n",
    "    print(f\"{k}: {d[k]}\")\n"
   ]
  },
  {
   "cell_type": "markdown",
   "id": "7d804f21-04a3-4d2c-aba9-d0eb06511e78",
   "metadata": {},
   "source": [
    "\n",
    "### Python Tuple\n",
    "\n",
    "A Python **tuple** is an immutable sequence of objects, which may be of different types.  Immutability means that elements in the tuple cannot be replaced by different elements, nor can elements be added or deleted, without creating a new tuple. Examples of immutable types are float, int, tuple. Examples of mutable types are lists and dictionaries.\n",
    "\n",
    "Use tuples when it is important to keep elements in a precise, unchanging order and not to replace their elements with new ones. \n",
    "\n",
    "Here are examples illustrating mutable and immutable types.  This example also illustrates Python's `try ... except` syntax for throwing exceptions.\n"
   ]
  },
  {
   "cell_type": "code",
   "execution_count": 4,
   "id": "260c23ab-9236-48b8-8fa3-cc7e520fc032",
   "metadata": {
    "tags": []
   },
   "outputs": [
    {
     "name": "stdout",
     "output_type": "stream",
     "text": [
      "[1, 200, 3]\n",
      "{'a': 1, 'b': 2, 'c': 3, 1: 200}\n",
      "<class 'tuple'> is immutable (1, 2, 3)\n"
     ]
    }
   ],
   "source": [
    "l = [1,2,3] #list (mutable)\n",
    "d = {'a' : 1, 'b' : 2, 'c' : 3} # dictionary (mutable)\n",
    "t = (1,2,3)  # tuple (immutable)\n",
    "\n",
    "for x in [l, d, t]:\n",
    "    try:\n",
    "        x[1] = 200\n",
    "    except:\n",
    "        print(f\"{type(x)} is immutable\", end=\" \")\n",
    "    print(x)    "
   ]
  },
  {
   "cell_type": "markdown",
   "id": "15979368-f221-4aa4-8c24-7a54186f980c",
   "metadata": {},
   "source": [
    "If the elements of a tuple are themselves mutable, changes which do not create new elements are allowed:\n"
   ]
  },
  {
   "cell_type": "code",
   "execution_count": 5,
   "id": "9f6dcf36-ed29-4eef-b2b7-9effe0000d4f",
   "metadata": {
    "tags": []
   },
   "outputs": [
    {
     "name": "stdout",
     "output_type": "stream",
     "text": [
      "t=(1, [999], (3,))\n"
     ]
    }
   ],
   "source": [
    "t = (1, [2], (3,)) \n",
    "t[1][0] = 999\n",
    "print(f\"{t=}\")\n"
   ]
  },
  {
   "cell_type": "markdown",
   "id": "b34ec055-3796-48c7-aab5-e67046ce811c",
   "metadata": {},
   "source": [
    "The notation `(5,)` is uesed to denote a tuple containing the single element 5 because the notation `(5)` means the integer 5"
   ]
  },
  {
   "cell_type": "code",
   "execution_count": 6,
   "id": "1a38eb46-0607-4878-ae73-f7f8e9112159",
   "metadata": {
    "tags": []
   },
   "outputs": [
    {
     "name": "stdout",
     "output_type": "stream",
     "text": [
      "t=(5,), <class 'tuple'>\n",
      "n=5, <class 'int'>\n"
     ]
    }
   ],
   "source": [
    "t = (5,)\n",
    "print(f\"{t=}, {type(t)}\")\n",
    "n = (5)\n",
    "print(f\"{n=}, {type(n)}\")\n",
    "      "
   ]
  },
  {
   "cell_type": "markdown",
   "id": "ae26d057-3f2d-468a-9cee-416254676f35",
   "metadata": {},
   "source": [
    "### Numpy ndarray\n",
    "\n",
    "Numpy arrays are optimized for fast math calculations by requiring elements to have the same type and be stored contiguously in memory. This also makes numpy arrys use less memory than lists or other Python containers.\n",
    "\n",
    "Use numpy arrays when you want to do fast, efficient numerical calculations, especially element-by-element evaluation of functions and matrix operations like inner product and matrix product.\n"
   ]
  },
  {
   "cell_type": "markdown",
   "id": "b4ccb249-7d8c-4041-8c67-ce8f078832ba",
   "metadata": {},
   "source": [
    "Suppose `x` is a numpy array. \n",
    "\n",
    "The homogeneous element type is `x.dtype`.\n",
    "\n",
    "The dimensions of the array are `x.shape`, which is a tuple with `x.ndim` elements. The number of elements is `x.size` "
   ]
  },
  {
   "cell_type": "markdown",
   "id": "e7e49117-b876-4f72-a107-d156acb504ae",
   "metadata": {},
   "source": [
    "#### Creation of numpy arrays\n",
    "\n",
    "Numpy arrays can be created in many ways. Arrays keep track of their own size, shape, and `dtype` of elements.\n"
   ]
  },
  {
   "cell_type": "markdown",
   "id": "f332bbc6-e31c-47c9-af01-63f1451a93cb",
   "metadata": {},
   "source": [
    "1. Create a $2 \\times 3$ numpy array (matrix) from a list of lists:\n"
   ]
  },
  {
   "cell_type": "code",
   "execution_count": 7,
   "id": "ea9f368f-9949-4c3d-9e13-70c708cc4ccb",
   "metadata": {
    "tags": []
   },
   "outputs": [
    {
     "ename": "NameError",
     "evalue": "name 'np' is not defined",
     "output_type": "error",
     "traceback": [
      "\u001b[1;31m---------------------------------------------------------------------------\u001b[0m",
      "\u001b[1;31mNameError\u001b[0m                                 Traceback (most recent call last)",
      "Cell \u001b[1;32mIn[7], line 1\u001b[0m\n\u001b[1;32m----> 1\u001b[0m a \u001b[38;5;241m=\u001b[39m \u001b[43mnp\u001b[49m\u001b[38;5;241m.\u001b[39marray([[\u001b[38;5;241m1\u001b[39m, \u001b[38;5;241m3\u001b[39m, \u001b[38;5;241m5\u001b[39m], [\u001b[38;5;241m7\u001b[39m, \u001b[38;5;241m9\u001b[39m, \u001b[38;5;241m11\u001b[39m]], dtype\u001b[38;5;241m=\u001b[39mnp\u001b[38;5;241m.\u001b[39mfloat32)\n\u001b[0;32m      3\u001b[0m \u001b[38;5;28mprint\u001b[39m(\u001b[38;5;124mf\u001b[39m\u001b[38;5;124m\"\u001b[39m\u001b[38;5;132;01m{\u001b[39;00ma\u001b[38;5;132;01m=}\u001b[39;00m\u001b[38;5;130;01m\\n\u001b[39;00m\u001b[38;5;132;01m{\u001b[39;00ma\u001b[38;5;241m.\u001b[39msize\u001b[38;5;132;01m=}\u001b[39;00m\u001b[38;5;124m, \u001b[39m\u001b[38;5;132;01m{\u001b[39;00ma\u001b[38;5;241m.\u001b[39mshape\u001b[38;5;132;01m=}\u001b[39;00m\u001b[38;5;124m, \u001b[39m\u001b[38;5;132;01m{\u001b[39;00ma\u001b[38;5;241m.\u001b[39mdtype\u001b[38;5;132;01m=}\u001b[39;00m\u001b[38;5;124m\"\u001b[39m)\n",
      "\u001b[1;31mNameError\u001b[0m: name 'np' is not defined"
     ]
    }
   ],
   "source": [
    "a = np.array([[1, 3, 5], [7, 9, 11]], dtype=np.float32)\n",
    "\n",
    "print(f\"{a=}\\n{a.size=}, {a.shape=}, {a.dtype=}\")"
   ]
  },
  {
   "cell_type": "markdown",
   "id": "45eadc21-47be-4d0d-85ca-16b43707d29b",
   "metadata": {},
   "source": [
    "2. Create an array of 11 equally spaced points between 0.00 and 1.00, including endpoints:"
   ]
  },
  {
   "cell_type": "code",
   "execution_count": null,
   "id": "56311978-e620-4067-8601-89f1402465b5",
   "metadata": {
    "tags": []
   },
   "outputs": [],
   "source": [
    "b = np.linspace(start=0.00, stop=1.00, num=11, endpoint=True, dtype=np.float64)\n",
    "\n",
    "print(f\"{b=}\\n{b.size=}, {b.shape=}, {b.dtype=}\")"
   ]
  },
  {
   "cell_type": "markdown",
   "id": "1f10d80d-d021-472a-b075-a32c9777e7c9",
   "metadata": {},
   "source": [
    "3. Create a $2 \\times 5$ array of random numbers drawn from a normal distribution with mean 10 and standard deviation 2:\n"
   ]
  },
  {
   "cell_type": "code",
   "execution_count": null,
   "id": "98a3a263-939d-4010-92cf-97dee7bd96ab",
   "metadata": {
    "tags": []
   },
   "outputs": [],
   "source": [
    "rng = np.random.default_rng(seed=12345)\n",
    "x = rng.normal(loc=10.0, scale=2.0, size=(2,5))\n",
    "print(f\"{x=}\\n{x.shape=}, {x.ndim=}, {x.dtype=}\")"
   ]
  },
  {
   "cell_type": "markdown",
   "id": "71c03c37-f218-467d-8871-b074aff2d0ed",
   "metadata": {},
   "source": [
    "In finance, it is common to illustrate concepts and test models using simulated data. \n",
    "\n",
    "Therefore random number generators are used frequently.\n"
   ]
  },
  {
   "cell_type": "markdown",
   "id": "441edf15-9126-44f1-a5a8-ae98f46b0fc0",
   "metadata": {},
   "source": [
    "#### Operations on Numpy arrays\n",
    "\n",
    "Numpy arrays are optimized for two kinds of calculations: element-by-element function evaluation and common matrix algebra calculations.\n"
   ]
  },
  {
   "cell_type": "markdown",
   "id": "a215d863-74ba-4124-9f4f-83e719446bcc",
   "metadata": {},
   "source": [
    "1. Element-by-element function evaluations: Numpy has a concept call **universal functions** or **U-functions**, which result in many common functions like addition, subtraction,  multiplication, division, powers, exp, log, sin, cos, etc. being automatically applied to arrays element by element."
   ]
  },
  {
   "cell_type": "code",
   "execution_count": null,
   "id": "aa5f495a-c177-42cb-ad6b-4d5205c0ba0d",
   "metadata": {
    "tags": []
   },
   "outputs": [],
   "source": [
    "x = np.array(range(5), dtype=np.float64)\n",
    "res1 = x**2\n",
    "res2 = np.log(x+1) + 5 * x - np.exp(x / 2.00)\n",
    "\n",
    "print(f\"{x=}\\n{res1=}\\n{res2=}\")\n"
   ]
  },
  {
   "cell_type": "markdown",
   "id": "dd594e91-6554-4f75-9dd9-5ecb44756ab8",
   "metadata": {},
   "source": [
    "2. Matrix algebra calculations:  Numpy is optimized for common matrix algebra calculations like inner product, matrix-vector product, matrix-matrix product, and matrix decompositions. To perform matrix multiplication, you may use the \"at\" symbol `@`, `np.dot`, or `np.matmul`.\n",
    "\n",
    "Exercise: Multiply a $2 \\times 3$ matrix by a vector of length 3:\n"
   ]
  },
  {
   "cell_type": "code",
   "execution_count": null,
   "id": "70df2c6c-211d-43df-8f89-827cc71ca54f",
   "metadata": {
    "tags": []
   },
   "outputs": [],
   "source": [
    "x = np.arange(6).reshape((2,3))\n",
    "y = np.array([10, 30, 50])\n",
    "res = x @ y\n",
    "print(f\"{x=}\\n{y=}\\n{res=}\")\n",
    "print(f\"{x.shape=}, {y.shape=}, {res.shape=}\")"
   ]
  },
  {
   "cell_type": "code",
   "execution_count": null,
   "id": "9262a962-06b1-40f2-b1d1-a23815444adf",
   "metadata": {
    "tags": []
   },
   "outputs": [],
   "source": [
    "v = np.array([1,2,3])\n",
    "w = np.array([10,20,30]).reshape((3,1))\n",
    "vw = v @ w\n",
    "vw2 = np.dot(v, w)\n",
    "print(f\"{v=}\\n{w=}\\n{vw=}\\n{vw2=}\")\n",
    "print(f\"{v.shape=}, {w.shape=}, {vw.shape=}, {vw2.shape=}\")"
   ]
  },
  {
   "cell_type": "markdown",
   "id": "9d71d284-e0e9-46df-a9c7-a651422ad265",
   "metadata": {},
   "source": [
    "### Python loops are slow!\n",
    "\n",
    "It is much faster to use pre-optimized numpy functions rather than your own hand-coded python loops to do the same thing.\n",
    "\n",
    "When looping over many elements, best practice is to avoid python loops whereever possible.\n",
    "\n",
    "Example: Use python's timeit package to illustrate the difference in speed for calculation of inner products using numpy and hand-coded python loops over lists or numpy arrays:"
   ]
  },
  {
   "cell_type": "code",
   "execution_count": null,
   "id": "01bdde8f-6e6d-45db-9d73-7c55958e2990",
   "metadata": {
    "tags": []
   },
   "outputs": [],
   "source": [
    "import timeit\n",
    "\n",
    "n = 10**5\n",
    "\n",
    "va = [ m / n for m in range(n) ]\n",
    "vb = [ m**2 / n for m in range(n) ]\n",
    "\n",
    "xa = np.array(va)\n",
    "xb = np.array(vb)\n",
    "\n",
    "print(f\"{type(v[0])=}, {x.dtype=}\")\n",
    "\n",
    "def f(a, b):\n",
    "    res = 0.00\n",
    "    for i in range(len(a)):\n",
    "        res += a[i] * b[i]\n",
    "    return res\n",
    "\n",
    "print(f\"{f(va, vb) = }, {f(xa, xb) = },{np.dot(xa, xb) = }\")\n",
    "\n",
    "%timeit -r 3 -n 5 f(va, vb)\n",
    "%timeit -r 3 -n 5 f(xa, xb)\n",
    "%timeit -r 3 -n 15 np.dot(xa, xb)"
   ]
  },
  {
   "cell_type": "markdown",
   "id": "d50dd06b-1a13-4d2e-90c3-9de8b1866872",
   "metadata": {},
   "source": [
    "\n"
   ]
  }
 ],
 "metadata": {
  "colab": {
   "collapsed_sections": [],
   "name": "PythonBootcamp.ipynb",
   "provenance": []
  },
  "kernelspec": {
   "display_name": "Python [conda env:a202306]",
   "language": "python",
   "name": "conda-env-a202306-py"
  },
  "language_info": {
   "codemirror_mode": {
    "name": "ipython",
    "version": 3
   },
   "file_extension": ".py",
   "mimetype": "text/x-python",
   "name": "python",
   "nbconvert_exporter": "python",
   "pygments_lexer": "ipython3",
   "version": "3.10.11"
  }
 },
 "nbformat": 4,
 "nbformat_minor": 5
}
