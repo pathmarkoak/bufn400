{
 "cells": [
  {
   "cell_type": "markdown",
   "metadata": {
    "tags": []
   },
   "source": [
    "# Background Note \n",
    "\n",
    "# Probability: Normal Distribution and Central Limit Theorem\n",
    "\n",
    "# Solutions to Exercises\n",
    "\n",
    "## By Albert S. Kyle\n",
    "\n",
    "There are probably plenty of typos, or even errors, in these notes.  Please let me know about them when you spot them.\n",
    "\n",
    "$\\require{\\newcommand}$\n",
    "$\\require{\\renewcommand}$\n",
    "$\\renewcommand{\\sm}{ {\\scriptstyle{\\text{*}}}}$ \n",
    "$\\renewcommand{\\mm}{{\\scriptsize @}}$\n",
    "$\\newcommand{\\E}{\\mathrm{E}}$\n",
    "$\\newcommand{\\e}{\\mathrm{e}}$\n",
    "$\\newcommand{\\drm}{\\mathrm{\\, d}}$\n",
    "$\\newcommand{\\var}{\\mathrm{var}}$\n",
    "$\\newcommand{\\stdev}{\\mathrm{stdev}}$\n",
    "$\\renewcommand{\\t}{^{\\mathsf{T}}}$\n",
    "$\\renewcommand{\\comma}{\\, , \\,}$\n",
    "$\\renewcommand{\\vec}[1]{\\mathbf{#1}}$\n",
    "$\\newcommand{\\skew}{\\mathrm{skew}}$\n",
    "$\\newcommand{\\kurt}{\\mathrm{kurt}}$\n",
    "$\\newcommand{\\prob}{\\textrm{prob}}$\n",
    "$\\newcommand{\\midx}{\\, \\mid \\,}$\n"
   ]
  },
  {
   "cell_type": "code",
   "execution_count": 1,
   "metadata": {},
   "outputs": [
    {
     "name": "stdout",
     "output_type": "stream",
     "text": [
      "Python version 3.8.11 (default, Aug  6 2021, 09:57:55) [MSC v.1916 64 bit (AMD64)]\n",
      "Pandas version 1.5.3\n",
      "NumPy version 1.23.5\n",
      "SciPy version 1.10.1\n",
      "matplotlib version 3.7.1\n",
      "Timestamp: 2023-09-05 16:48:30\n"
     ]
    }
   ],
   "source": [
    "import pandas as pd\n",
    "import numpy as np\n",
    "import scipy\n",
    "import matplotlib\n",
    "import matplotlib.pyplot as plt\n",
    "import sys\n",
    "import datetime\n",
    "import timeit\n",
    "import math\n",
    "import statistics\n",
    "import nbconvert\n",
    "\n",
    "print('Python version ' + sys.version)\n",
    "print('Pandas version ' + pd.__version__)\n",
    "print('NumPy version ' + np.__version__)\n",
    "print('SciPy version ' + scipy.__version__)\n",
    "print('matplotlib version ' + matplotlib.__version__)\n",
    "\n",
    "timestamp = datetime.datetime.now().strftime('%Y-%m-%d %H:%M:%S')\n",
    "print(\"Timestamp:\", timestamp)\n",
    "\n",
    "tstart = timeit.default_timer()\n"
   ]
  },
  {
   "cell_type": "markdown",
   "metadata": {},
   "source": [
    "##### Conventions\n",
    "\n",
    "These notes define the function `f()` so that its definition changes from cell to cell.  By using local variables to make the examplesself-contained, this approach avoids name clashes, except for the name of the function `f()` itself. "
   ]
  },
  {
   "cell_type": "markdown",
   "metadata": {},
   "source": [
    "### Exercise 0 (Easy)\n",
    "\n",
    "Verify by applying the actual pdf formula for the standard normal distribution that `scipy.stats.norm(0.00, 1.00).pdf(z)` gives the correct pdf for the standard normal distribution."
   ]
  },
  {
   "cell_type": "markdown",
   "metadata": {},
   "source": [
    "### Solution 0\n",
    "\n",
    "The solution is obtained by adding another graph to the plot of the cdf, then verifying that the graphs look similar.\n",
    "\n",
    "For a more careful comparions, the function `np.isclose` might be used, or the maximum difference between the two pdfs might be calculated."
   ]
  },
  {
   "cell_type": "code",
   "execution_count": 2,
   "metadata": {
    "tags": []
   },
   "outputs": [
    {
     "name": "stdout",
     "output_type": "stream",
     "text": [
      "pdf and pdfz are close with rtol0=1e-16: True\n",
      "maxdiff = 0.0\n"
     ]
    },
    {
     "data": {
      "image/png": "[encoded data removed]",
      "text/plain": [
       "<Figure size 600x500 with 1 Axes>"
      ]
     },
     "metadata": {},
     "output_type": "display_data"
    }
   ],
   "source": [
    "def f():\n",
    "    nobs = 501\n",
    "    zmin = -5.00\n",
    "    zmax = +5.00\n",
    "\n",
    "    z = np.linspace(start=zmin, stop=zmax, num=nobs, endpoint=True)\n",
    "\n",
    "    norm01 = scipy.stats.norm(0.00, 1.00)\n",
    "    pdf = norm01.pdf(z)\n",
    "    cdf = norm01.cdf(z)\n",
    "    \n",
    "    pdfz = np.exp(-0.50 * z * z) / np.sqrt(2.00 * np.pi)\n",
    "\n",
    "    rtol0 = 1e-16\n",
    "    bsame = np.isclose(pdf, pdfz, rtol=rtol0).all()\n",
    "    \n",
    "    print(f\"pdf and pdfz are close with {rtol0=}: {bsame}\")\n",
    "    \n",
    "    maxdiff = np.abs(pdf - pdfz).max()\n",
    "\n",
    "    print(f\"{maxdiff = }\")\n",
    "    \n",
    "    fig, ax = plt.subplots(1, 1, figsize=(6,5))\n",
    "    ax.set_title(\"PDF for N(0,1)\")\n",
    "    ax.set_xlabel(\"z\")\n",
    "    ax.set_ylabel(\"pdf values\")\n",
    "    ax.plot(z, pdf, 'bo', ms=2, label=\"'Bell Curve'\")\n",
    "    ax.plot(z, pdfz, 'ro', ms=1, label=\"'Bell Curve'\")\n",
    "    ax.legend(loc='best', frameon=False)\n",
    "\n",
    "    plt.show()\n",
    "\n",
    "f()\n"
   ]
  },
  {
   "cell_type": "markdown",
   "metadata": {},
   "source": [
    "The solution shows that the `scipy.stats.norm(0.00, 1.00).pdf(z)` gives exactly the same values as the correct pdf, up to numerical error."
   ]
  },
  {
   "cell_type": "markdown",
   "metadata": {},
   "source": [
    "### Exercise 1 (easy)\n",
    "\n",
    "The stock market is often thought to have a standard deviation of about 1 percent per day. This percentage standard deviation of 0.01 is often called **volatility** instead of **standard deviation**. On October 19, 1987, the stock market fell more than 30 percent in one day. Theoretically, this would be a \"30 standard deviation event\".\n",
    "\n",
    "1. What is the probability of a change in the stock market value with absolute value greater than 3 percent in one day, assuming a typical daily volatility of 1 percent?\n",
    "\n",
    "2. How many 30 percent or greater stock market crashes would occur on average every 1000 years if the daily volatility were 2 percent (approximately double typcical daily volatility)?"
   ]
  },
  {
   "cell_type": "markdown",
   "metadata": {},
   "source": [
    "### Solution 1.1\n",
    "\n",
    "We need to calculate the sum of the probabilities of a change greater than $+3$ standard deviations and less than $-3$ standard deviations.  There are several ways to do this using `scipy.stats.norm` or `statistics.NormalDist`:\n"
   ]
  },
  {
   "cell_type": "code",
   "execution_count": 3,
   "metadata": {},
   "outputs": [
    {
     "name": "stdout",
     "output_type": "stream",
     "text": [
      "0.0026997960632601866\n",
      "0.0026997960632601866\n",
      "0.0026997960632601965\n",
      "0.002699796063260096\n",
      "0.002699796063260318\n",
      "0.002699796063260207\n",
      "\n",
      "rvz.cdf(nstd)=0.9986501019683699\n"
     ]
    }
   ],
   "source": [
    "def f():\n",
    "\n",
    "    nstd = 3.00\n",
    "\n",
    "    rvz = scipy.stats.norm(0.00, 1.00)\n",
    "    print(2.00 * rvz.cdf(-nstd))\n",
    "    print(rvz.cdf(-nstd) + rvz.sf(nstd))  # Uses survival function sf(z) = 1 - cdf(z)\n",
    "    print(rvz.cdf(-nstd) + (1.00 - rvz.cdf(nstd)))\n",
    "    print((rvz.cdf(-nstd) + 1.00) - rvz.cdf(nstd))\n",
    "\n",
    "    import statistics\n",
    "    rvzz = statistics.NormalDist(0.00, 1.00)\n",
    "    print((rvzz.cdf(-nstd) + 1.00) - rvzz.cdf(nstd))\n",
    "    print(2.00 * rvzz.cdf(-nstd))\n",
    "\n",
    "    print(f\"\\n{rvz.cdf(nstd)=}\")\n",
    "    \n",
    "f()    "
   ]
  },
  {
   "cell_type": "markdown",
   "metadata": {},
   "source": [
    "The probability is about 0.27 percent per day, less than once per year (of about 250 trading days).\n",
    "\n",
    "The third and fourth calculations differ only because associativity of addition is applied in a different order. The third an fourth approaches give slightly different answers from the first two because they are more affected by rounding error. Rounding error is typically a problem when two quantities of approximately equal size are subtracted from each other to obtain a difference which is small.  In this case, `rvz.cdf(nstd)` has a value close to one. The use of the survival function `rvz.sf(nstd)` addresses this problem of rounding error.\n",
    "\n"
   ]
  },
  {
   "cell_type": "markdown",
   "metadata": {},
   "source": [
    "### Solution 1.2\n",
    "\n",
    "With a daily volatility of 2 percent, a 30 percent stock price decline is a -15 standard deviation event. The probability of a crash in 1000 years is essentially 0, less than $10^{-45}$.\n",
    "\n",
    "This example implies that naive application of normal distributions is not a good way to model outlier events for market returns.\n",
    "\n",
    "Traders were surprised by the crash.  I met a formerly successful trader who was wiped out in the 1987 crash and had been driving a taxi cab since October 1987."
   ]
  },
  {
   "cell_type": "code",
   "execution_count": 4,
   "metadata": {},
   "outputs": [
    {
     "name": "stdout",
     "output_type": "stream",
     "text": [
      "rvz.cdf(nstd)=3.6709661993126986e-51\n",
      "Expected number of crashes per 1000 years: rvz.cdf(nstd) * nyears * 250=9.177415498281746e-46\n"
     ]
    }
   ],
   "source": [
    "def f():\n",
    "\n",
    "    rvz = scipy.stats.norm(0.00, 1.00)\n",
    "    nstd = -15.00\n",
    "    nyears = 1000\n",
    "    print(f\"{rvz.cdf(nstd)=}\")\n",
    "    print(f\"Expected number of crashes per {nyears} years: {rvz.cdf(nstd) * nyears * 250=}\")\n",
    "\n",
    "f()    "
   ]
  },
  {
   "cell_type": "markdown",
   "metadata": {},
   "source": [
    "### Exercise 2\n",
    "\n",
    "Researchers often informally assume that a random variable will lie with $\\pm 2$ standard deviations of the mean about 95 percent of the time (\"two-tailed test\"). This implies a probability of about 97.5 percent that the outcome is greater than $+2$ standard deviations and a $97.5$ percent probability that the outcome is less than $-2$ standard deviations (\"one-tailed test\").\n",
    "\n",
    "1. Using `scipy.stats.binom(...).cdf(...)`, verify whether this intuition is reasonable for binomial random variables with numbers of trials $N=5$, $10$, $20$, $40$, $100$, $500$ and probabilities of success $p=0.05$, $0.10$, $0.25$, $0.50$, $0.75$, $0.90$, and $0.95$. Express the result as a Pandas dataframe with rows corresponding to values of $N$, columns corresponding to values of $p$, and cell values equal to the one-tailed test. Include a row for the normal distribution represented by $N=0$. (The notation $N=\\infty$ would be better notation, but Numpy's integer dtype does not support infinity.)\n",
    "\n",
    "2. Explain why it is unnecessary to construct two dataframes, one for a right-tail probabilities and one for left-tail probabilities.\n"
   ]
  },
  {
   "cell_type": "markdown",
   "metadata": {},
   "source": [
    "### Solution 2.1\n"
   ]
  },
  {
   "cell_type": "code",
   "execution_count": 5,
   "metadata": {},
   "outputs": [
    {
     "data": {
      "text/html": [
       "<div>\n",
       "<style scoped>\n",
       "    .dataframe tbody tr th:only-of-type {\n",
       "        vertical-align: middle;\n",
       "    }\n",
       "\n",
       "    .dataframe tbody tr th {\n",
       "        vertical-align: top;\n",
       "    }\n",
       "\n",
       "    .dataframe thead tr th {\n",
       "        text-align: left;\n",
       "    }\n",
       "\n",
       "    .dataframe thead tr:last-of-type th {\n",
       "        text-align: right;\n",
       "    }\n",
       "</style>\n",
       "<table border=\"1\" class=\"dataframe\">\n",
       "  <thead>\n",
       "    <tr>\n",
       "      <th></th>\n",
       "      <th colspan=\"7\" halign=\"left\">prob</th>\n",
       "    </tr>\n",
       "    <tr>\n",
       "      <th>p</th>\n",
       "      <th>0.05</th>\n",
       "      <th>0.10</th>\n",
       "      <th>0.25</th>\n",
       "      <th>0.50</th>\n",
       "      <th>0.75</th>\n",
       "      <th>0.90</th>\n",
       "      <th>0.95</th>\n",
       "    </tr>\n",
       "    <tr>\n",
       "      <th>N</th>\n",
       "      <th></th>\n",
       "      <th></th>\n",
       "      <th></th>\n",
       "      <th></th>\n",
       "      <th></th>\n",
       "      <th></th>\n",
       "      <th></th>\n",
       "    </tr>\n",
       "  </thead>\n",
       "  <tbody>\n",
       "    <tr>\n",
       "      <th>0</th>\n",
       "      <td>0.977250</td>\n",
       "      <td>0.977250</td>\n",
       "      <td>0.977250</td>\n",
       "      <td>0.977250</td>\n",
       "      <td>0.977250</td>\n",
       "      <td>0.977250</td>\n",
       "      <td>0.977250</td>\n",
       "    </tr>\n",
       "    <tr>\n",
       "      <th>5</th>\n",
       "      <td>0.977407</td>\n",
       "      <td>0.918540</td>\n",
       "      <td>0.984375</td>\n",
       "      <td>0.968750</td>\n",
       "      <td>1.000000</td>\n",
       "      <td>1.000000</td>\n",
       "      <td>1.000000</td>\n",
       "    </tr>\n",
       "    <tr>\n",
       "      <th>10</th>\n",
       "      <td>0.913862</td>\n",
       "      <td>0.929809</td>\n",
       "      <td>0.980272</td>\n",
       "      <td>0.989258</td>\n",
       "      <td>1.000000</td>\n",
       "      <td>1.000000</td>\n",
       "      <td>1.000000</td>\n",
       "    </tr>\n",
       "    <tr>\n",
       "      <th>20</th>\n",
       "      <td>0.924516</td>\n",
       "      <td>0.956826</td>\n",
       "      <td>0.959075</td>\n",
       "      <td>0.979305</td>\n",
       "      <td>0.975687</td>\n",
       "      <td>1.000000</td>\n",
       "      <td>1.000000</td>\n",
       "    </tr>\n",
       "    <tr>\n",
       "      <th>40</th>\n",
       "      <td>0.951972</td>\n",
       "      <td>0.958098</td>\n",
       "      <td>0.973755</td>\n",
       "      <td>0.980761</td>\n",
       "      <td>0.983958</td>\n",
       "      <td>0.985219</td>\n",
       "      <td>1.000000</td>\n",
       "    </tr>\n",
       "    <tr>\n",
       "      <th>100</th>\n",
       "      <td>0.971812</td>\n",
       "      <td>0.979401</td>\n",
       "      <td>0.972405</td>\n",
       "      <td>0.982400</td>\n",
       "      <td>0.978889</td>\n",
       "      <td>0.992164</td>\n",
       "      <td>0.994079</td>\n",
       "    </tr>\n",
       "    <tr>\n",
       "      <th>500</th>\n",
       "      <td>0.969740</td>\n",
       "      <td>0.974947</td>\n",
       "      <td>0.976697</td>\n",
       "      <td>0.977968</td>\n",
       "      <td>0.979467</td>\n",
       "      <td>0.981367</td>\n",
       "      <td>0.980142</td>\n",
       "    </tr>\n",
       "  </tbody>\n",
       "</table>\n",
       "</div>"
      ],
      "text/plain": [
       "         prob                                                            \n",
       "p        0.05      0.10      0.25      0.50      0.75      0.90      0.95\n",
       "N                                                                        \n",
       "0    0.977250  0.977250  0.977250  0.977250  0.977250  0.977250  0.977250\n",
       "5    0.977407  0.918540  0.984375  0.968750  1.000000  1.000000  1.000000\n",
       "10   0.913862  0.929809  0.980272  0.989258  1.000000  1.000000  1.000000\n",
       "20   0.924516  0.956826  0.959075  0.979305  0.975687  1.000000  1.000000\n",
       "40   0.951972  0.958098  0.973755  0.980761  0.983958  0.985219  1.000000\n",
       "100  0.971812  0.979401  0.972405  0.982400  0.978889  0.992164  0.994079\n",
       "500  0.969740  0.974947  0.976697  0.977968  0.979467  0.981367  0.980142"
      ]
     },
     "metadata": {},
     "output_type": "display_data"
    }
   ],
   "source": [
    "def f():\n",
    "\n",
    "    N = [0, 5, 10, 20, 40, 100, 500]\n",
    "    p =[0.05, 0.10, 0.25, 0.50, 0.75, 0.90, 0.95]\n",
    "\n",
    "    nstd = 2.00\n",
    "    \n",
    "    Ns = []\n",
    "    ps = []\n",
    "    probs = []\n",
    "\n",
    "    for _n in N:\n",
    "        for _p in p:\n",
    "            Ns.append(_n)\n",
    "            ps.append(_p)\n",
    "            if _n == 0:\n",
    "                rv = scipy.stats.norm(0, 1)\n",
    "                probs.append(rv.cdf(nstd))\n",
    "            else:    \n",
    "                rv = scipy.stats.binom(_n, _p)\n",
    "                probs.append(rv.cdf(rv.mean() + nstd * rv.std()))\n",
    "\n",
    "    df = pd.DataFrame({'N' : Ns, 'p' : ps, 'prob' : probs})\n",
    "    df = df.set_index(['N', 'p']).unstack(level=1)\n",
    "\n",
    "    display(df)\n",
    "    \n",
    "f()    "
   ]
  },
  {
   "cell_type": "markdown",
   "metadata": {},
   "source": [
    "### Solution 2.2\n",
    "\n",
    "The binomial distribution has the symmetry property that \"failure\" for $1-p$ is equivalent to \"success\" for $p$, and vice versa.  This makes the results symmetric. If we calculated probabilities for the left tail rather than the right tail, the results for $p$ in one dateframe would match the results for $1-p$ in the other dataframe.\n"
   ]
  },
  {
   "cell_type": "code",
   "execution_count": 6,
   "metadata": {},
   "outputs": [
    {
     "name": "stdout",
     "output_type": "stream",
     "text": [
      "Finished: timestamp = '2023-09-05 16:48:31'\n",
      "Execution time = 1.5492024000000004 s\n"
     ]
    }
   ],
   "source": [
    "timestamp = datetime.datetime.now().strftime('%Y-%m-%d %H:%M:%S')\n",
    "tfinish = timeit.default_timer()\n",
    "print(f\"Finished: {timestamp = }\\nExecution time = {tfinish - tstart} s\")\n"
   ]
  },
  {
   "cell_type": "code",
   "execution_count": null,
   "metadata": {},
   "outputs": [],
   "source": []
  }
 ],
 "metadata": {
  "kernelspec": {
   "display_name": "Python 3 (ipykernel)",
   "language": "python",
   "name": "python3"
  },
  "language_info": {
   "codemirror_mode": {
    "name": "ipython",
    "version": 3
   },
   "file_extension": ".py",
   "mimetype": "text/x-python",
   "name": "python",
   "nbconvert_exporter": "python",
   "pygments_lexer": "ipython3",
   "version": "3.8.11"
  }
 },
 "nbformat": 4,
 "nbformat_minor": 4
}
