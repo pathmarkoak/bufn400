{
  "cells": [
    {
      "cell_type": "markdown",
      "id": "1419b6e1-a796-4cca-b433-335a3c0fa331",
      "metadata": {
        "id": "1419b6e1-a796-4cca-b433-335a3c0fa331",
        "tags": []
      },
      "source": [
        "# Introduction to NumPy, Pandas, and Python Analytics\n",
        "Written By Trisha Shrivastava, Supplemented Material by Dr. John Bono, Modified by Sashwat Venkatesh and Samuel Galita\n",
        "\n",
        "\n",
        "**Welcome to BUFN400's Python Bootcamp! In this notebook, we will cover:**\n"
      ]
    },
    {
      "cell_type": "markdown",
      "id": "fMbD-TMd-KUR",
      "metadata": {
        "id": "fMbD-TMd-KUR"
      },
      "source": [
        "## Data Processing and Analysis in Python"
      ]
    },
    {
      "cell_type": "markdown",
      "id": "_qrVAHs_B6ei",
      "metadata": {
        "id": "_qrVAHs_B6ei"
      },
      "source": [
        "### What are Pandas and NumPy?"
      ]
    },
    {
      "cell_type": "markdown",
      "id": "e5f20b15-9ba1-46ef-8b7f-067e3ef9b3e7",
      "metadata": {
        "id": "e5f20b15-9ba1-46ef-8b7f-067e3ef9b3e7"
      },
      "source": [
        "#### A Brief Introduction to NumPy\n",
        "**NumPy (or Numerical Python)** is a library that specializes in making numerical computations faster (the speed comes from the library being built in C) which allows for easy shape manipulation, descriptive statistics, sorting, and filtering. The main highlight of this library is its ndarray (n-dimensional array)."
      ]
    },
    {
      "cell_type": "code",
      "execution_count": 212,
      "id": "iHBnnRib81dP",
      "metadata": {
        "id": "iHBnnRib81dP"
      },
      "outputs": [],
      "source": [
        "# import numpy (commonly aliased as np)\n",
        "import numpy as np"
      ]
    },
    {
      "cell_type": "markdown",
      "id": "539e3d8f-fd24-407f-9c2d-b4e759288d8d",
      "metadata": {
        "id": "539e3d8f-fd24-407f-9c2d-b4e759288d8d"
      },
      "source": [
        "#### A Brief Introduction to Pandas\n",
        "**Pandas (or panel data)** is a library that specializes in data analysis and processing functionality for data in various forms (i.e. various data types). The highlights of this library are its series (a more advanced ndarray) and its dataframes (think excel spreadsheets in Python). \n",
        "\n",
        "You will find yourself using Pandas most of the time throughout the CompFin program, as it's the easiest way to store, access, and perform larger scale data calculations."
      ]
    },
    {
      "cell_type": "code",
      "execution_count": 213,
      "id": "evzhUMco-Cdm",
      "metadata": {
        "id": "evzhUMco-Cdm"
      },
      "outputs": [],
      "source": [
        "# import pandas (commonly aliased as pd)\n",
        "import pandas as pd"
      ]
    },
    {
      "cell_type": "markdown",
      "id": "tNBT-wxQPdYe",
      "metadata": {
        "id": "tNBT-wxQPdYe"
      },
      "source": [
        "### Array Arithmetic"
      ]
    },
    {
      "cell_type": "markdown",
      "id": "OAlCnBUYTd6r",
      "metadata": {
        "id": "OAlCnBUYTd6r"
      },
      "source": [
        "Arrays, as previously mentioned, are known for their quick computational speed. There are two compelling arithmetic features of arrays **broadcasting** and **comparison** that can be done between arrays of compatible sizes and scalars."
      ]
    },
    {
      "cell_type": "code",
      "execution_count": 214,
      "id": "M38XQRMYU00k",
      "metadata": {
        "colab": {
          "base_uri": "https://localhost:8080/"
        },
        "id": "M38XQRMYU00k",
        "outputId": "11649a51-b27c-4ab7-d477-fa3dfb1cb8e8"
      },
      "outputs": [
        {
          "name": "stdout",
          "output_type": "stream",
          "text": [
            "[ 0  2  4  6  8 10 12 14 16 18]\n"
          ]
        }
      ],
      "source": [
        "# broadcasting example - scalar\n",
        "a1 = np.array([x for x in range(10)])\n",
        "a1 *= 2 #elementwise multiplication of 2\n",
        "print(a1)"
      ]
    },
    {
      "cell_type": "code",
      "execution_count": 215,
      "id": "3EI0BsgzV5i9",
      "metadata": {
        "colab": {
          "base_uri": "https://localhost:8080/"
        },
        "id": "3EI0BsgzV5i9",
        "outputId": "63b453c8-ff16-4558-de45-8d656f1e36d1"
      },
      "outputs": [
        {
          "name": "stdout",
          "output_type": "stream",
          "text": [
            "[5 7 9]\n"
          ]
        }
      ],
      "source": [
        "# broadcasting example - compatible arrays (1)\n",
        "a = np.array([1,2,3])\n",
        "b = np.array([4,5,6])\n",
        "\n",
        "print(a+b) #elementwise addition"
      ]
    },
    {
      "cell_type": "code",
      "execution_count": 216,
      "id": "YYR0ozxoWMbV",
      "metadata": {
        "colab": {
          "base_uri": "https://localhost:8080/"
        },
        "id": "YYR0ozxoWMbV",
        "outputId": "79ab534a-2793-42de-f310-2d5e8588c457"
      },
      "outputs": [
        {
          "name": "stdout",
          "output_type": "stream",
          "text": [
            "[[10 10  5]\n",
            " [ 8  3  8]]\n"
          ]
        }
      ],
      "source": [
        "# broadcasting example - compatible arrays (2)\n",
        "a = np.array([1,2,3])\n",
        "c = np.array([[9,8,2],[7,1,5]])\n",
        "print(c+a)"
      ]
    },
    {
      "cell_type": "code",
      "execution_count": 217,
      "id": "7Kagtco-Wf81",
      "metadata": {
        "colab": {
          "base_uri": "https://localhost:8080/"
        },
        "id": "7Kagtco-Wf81",
        "outputId": "16ce6d6b-0282-4cf5-aac0-52543bd09191"
      },
      "outputs": [
        {
          "name": "stdout",
          "output_type": "stream",
          "text": [
            "[[ True  True False]\n",
            " [ True False False]]\n"
          ]
        }
      ],
      "source": [
        "# comparison example - scalar\n",
        "c = np.array([[9,8,2],[7,1,5]])\n",
        "print(c > 6)"
      ]
    },
    {
      "cell_type": "code",
      "execution_count": 218,
      "id": "H5sk8-pEWxTD",
      "metadata": {
        "colab": {
          "base_uri": "https://localhost:8080/"
        },
        "id": "H5sk8-pEWxTD",
        "outputId": "5b28fbfa-c1d0-4463-e39f-60be818ed818"
      },
      "outputs": [
        {
          "name": "stdout",
          "output_type": "stream",
          "text": [
            "[[False False  True]\n",
            " [False  True  True]]\n"
          ]
        }
      ],
      "source": [
        "# comparison example - compatible arrays\n",
        "b = np.array([4,5,6])\n",
        "c = np.array([[9,8,2],[7,1,5]])\n",
        "print(c < b)"
      ]
    },
    {
      "cell_type": "code",
      "execution_count": 219,
      "id": "1d2ac6db",
      "metadata": {},
      "outputs": [
        {
          "name": "stdout",
          "output_type": "stream",
          "text": [
            "Cumulative sum array: [ 1  3  6 10 15 21 28 36 45 55]\n",
            "Cumulative product array: [      1       2       6      24     120     720    5040   40320  362880\n",
            " 3628800]\n",
            "--------------------\n",
            "True Cumulative Sum: 55\n",
            "True Cumulative product: 3628800\n",
            "--------------------\n",
            "Cumulative sum: 55\n",
            "Cumulative product: 3628800\n"
          ]
        }
      ],
      "source": [
        "#Cumulative Sums and products\n",
        "x = [1,2,3,4,5,6,7,8,9,10]\n",
        "\n",
        "print(\"Cumulative sum array:\", np.cumsum(x))\n",
        "print(\"Cumulative product array:\",np.cumprod(x))\n",
        "print('--------------------')\n",
        "\n",
        "print(\"True Cumulative Sum:\", np.cumsum(x)[len(x)-1])\n",
        "print(\"True Cumulative product:\", np.cumprod(x)[len(x)-1])\n",
        "print('--------------------')\n",
        "\n",
        "print(\"Cumulative sum:\", np.sum(x))\n",
        "print(\"Cumulative product:\", np.prod(x))\n"
      ]
    },
    {
      "cell_type": "code",
      "execution_count": 220,
      "id": "q2AGoWNdXD39",
      "metadata": {
        "id": "q2AGoWNdXD39"
      },
      "outputs": [],
      "source": [
        "# TRY IT YOURSELF -- create a 2 dimensional ndarray of numbers 1-6\n",
        "# square all of the values \n",
        "# print out the values thats squares are at most 16\n"
      ]
    },
    {
      "cell_type": "markdown",
      "id": "sNhQvd_NYt2I",
      "metadata": {
        "id": "sNhQvd_NYt2I"
      },
      "source": [
        "Given that Pandas is built off of NumPy, these arithmetic attributes also apply to Series and DataFrames!"
      ]
    },
    {
      "cell_type": "markdown",
      "id": "cNGUfZk9BuMI",
      "metadata": {
        "id": "cNGUfZk9BuMI"
      },
      "source": [
        "### Creating a Dataframe from Collections"
      ]
    },
    {
      "cell_type": "markdown",
      "id": "1jEpRsxk_yHv",
      "metadata": {
        "id": "1jEpRsxk_yHv"
      },
      "source": [
        "Let's first start playing with these libraries by creating a dataset! We are going to start off by creating a dataframe for students' grades. \n",
        "\n",
        "To start with, we will create structures to store the students' grades.\n",
        "\n",
        "Function Notes:\n",
        "- `np.array(collection)`\n",
        "- `np.arange(start, stop, step)` - stop not inclusive [start, stop)"
      ]
    },
    {
      "cell_type": "code",
      "execution_count": 221,
      "id": "3NTEy-Kl_wQg",
      "metadata": {
        "id": "3NTEy-Kl_wQg"
      },
      "outputs": [],
      "source": [
        "# student a - creating an array from a collection\n",
        "a = np.array([80, 75, 70, 90, 98])\n",
        "\n",
        "# student b - creating an array from a range of values \n",
        "b = np.arange(80, 105, 5) #this also equals np.array([80,85,90,95,100]) OR np.array(range(80,105,5)) - just faster :)\n",
        "\n",
        "# student c - creating a list of values\n",
        "c = [66, 75, 91, 72, 83]"
      ]
    },
    {
      "cell_type": "markdown",
      "id": "yJfKpL-TEC5O",
      "metadata": {
        "id": "yJfKpL-TEC5O"
      },
      "source": [
        "Next, we will add these all together into one dataframe.\n",
        "\n",
        "Function Notes:\n",
        "- `pd.DataFrame` - creates a dataframe from a collection; can specify column names, data types, and index"
      ]
    },
    {
      "cell_type": "code",
      "execution_count": 222,
      "id": "bjsijc9rErdV",
      "metadata": {
        "colab": {
          "base_uri": "https://localhost:8080/",
          "height": 206
        },
        "id": "bjsijc9rErdV",
        "outputId": "766a049e-e8fa-4775-cdb8-7fb86b7651f9"
      },
      "outputs": [
        {
          "data": {
            "text/html": [
              "<div>\n",
              "<style scoped>\n",
              "    .dataframe tbody tr th:only-of-type {\n",
              "        vertical-align: middle;\n",
              "    }\n",
              "\n",
              "    .dataframe tbody tr th {\n",
              "        vertical-align: top;\n",
              "    }\n",
              "\n",
              "    .dataframe thead th {\n",
              "        text-align: right;\n",
              "    }\n",
              "</style>\n",
              "<table border=\"1\" class=\"dataframe\">\n",
              "  <thead>\n",
              "    <tr style=\"text-align: right;\">\n",
              "      <th></th>\n",
              "      <th>a</th>\n",
              "      <th>b</th>\n",
              "      <th>c</th>\n",
              "    </tr>\n",
              "  </thead>\n",
              "  <tbody>\n",
              "    <tr>\n",
              "      <th>1</th>\n",
              "      <td>80</td>\n",
              "      <td>80</td>\n",
              "      <td>66</td>\n",
              "    </tr>\n",
              "    <tr>\n",
              "      <th>2</th>\n",
              "      <td>75</td>\n",
              "      <td>85</td>\n",
              "      <td>75</td>\n",
              "    </tr>\n",
              "    <tr>\n",
              "      <th>3</th>\n",
              "      <td>70</td>\n",
              "      <td>90</td>\n",
              "      <td>91</td>\n",
              "    </tr>\n",
              "    <tr>\n",
              "      <th>4</th>\n",
              "      <td>90</td>\n",
              "      <td>95</td>\n",
              "      <td>72</td>\n",
              "    </tr>\n",
              "    <tr>\n",
              "      <th>5</th>\n",
              "      <td>98</td>\n",
              "      <td>100</td>\n",
              "      <td>83</td>\n",
              "    </tr>\n",
              "  </tbody>\n",
              "</table>\n",
              "</div>"
            ],
            "text/plain": [
              "    a    b   c\n",
              "1  80   80  66\n",
              "2  75   85  75\n",
              "3  70   90  91\n",
              "4  90   95  72\n",
              "5  98  100  83"
            ]
          },
          "metadata": {},
          "output_type": "display_data"
        }
      ],
      "source": [
        "# merging collections into one dataframe\n",
        "df = pd.DataFrame({'a': a, 'b' : b, 'c' : c}, index=[1,2,3,4,5])\n",
        "\n",
        "# display the dataframe\n",
        "display(df)"
      ]
    },
    {
      "cell_type": "markdown",
      "id": "-JdzzbW2HFL7",
      "metadata": {
        "id": "-JdzzbW2HFL7"
      },
      "source": [
        "### Creating a Dataframe from Data Sets (csv/excel)"
      ]
    },
    {
      "cell_type": "markdown",
      "id": "MrEQshwU1S6K",
      "metadata": {
        "id": "MrEQshwU1S6K"
      },
      "source": [
        "You can import a dataset from a csv, using `pd.read_csv()`. Using this function, you can determine what columns you want to import in list form (include the attribute usecols=[]) and what datatypes there are in dictionary form (include the attribute dtype={}).\n",
        "\n",
        "An example anatomy of this function is:\n",
        "\n",
        "`pd.read_csv('path + filename', usecols = ['col1','col2','col3'], dtype = {'col1': int64, 'col2': float32, 'col3': string})`"
      ]
    },
    {
      "cell_type": "markdown",
      "id": "zVlNkkCZNUTn",
      "metadata": {
        "id": "zVlNkkCZNUTn"
      },
      "source": [
        "### Indexing and Modifying DataFrames"
      ]
    },
    {
      "cell_type": "markdown",
      "id": "oLz0nTfFn-PQ",
      "metadata": {
        "id": "oLz0nTfFn-PQ"
      },
      "source": [
        "##### Indexing DataFrames"
      ]
    },
    {
      "cell_type": "markdown",
      "id": "FqWOZLPNNc5r",
      "metadata": {
        "id": "FqWOZLPNNc5r"
      },
      "source": [
        "Being able to select data from each column, row, or cell is an important tool for analyzing and modifying data. \n",
        "\n",
        "Function Notes:\n",
        "- `loc()` allows access by [row(s), column(s)] data by index and column name\n",
        "- `iloc()` allows access by [row(s), column(s)] by positional row and column indices"
      ]
    },
    {
      "cell_type": "code",
      "execution_count": 223,
      "id": "a97f4649",
      "metadata": {},
      "outputs": [
        {
          "data": {
            "text/html": [
              "<div>\n",
              "<style scoped>\n",
              "    .dataframe tbody tr th:only-of-type {\n",
              "        vertical-align: middle;\n",
              "    }\n",
              "\n",
              "    .dataframe tbody tr th {\n",
              "        vertical-align: top;\n",
              "    }\n",
              "\n",
              "    .dataframe thead th {\n",
              "        text-align: right;\n",
              "    }\n",
              "</style>\n",
              "<table border=\"1\" class=\"dataframe\">\n",
              "  <thead>\n",
              "    <tr style=\"text-align: right;\">\n",
              "      <th></th>\n",
              "      <th>Date</th>\n",
              "      <th>Open</th>\n",
              "      <th>High</th>\n",
              "      <th>Low</th>\n",
              "      <th>Close</th>\n",
              "      <th>Adj Close</th>\n",
              "      <th>Volume</th>\n",
              "    </tr>\n",
              "  </thead>\n",
              "  <tbody>\n",
              "    <tr>\n",
              "      <th>0</th>\n",
              "      <td>1986-03-13</td>\n",
              "      <td>0.088542</td>\n",
              "      <td>0.101563</td>\n",
              "      <td>0.088542</td>\n",
              "      <td>0.097222</td>\n",
              "      <td>0.061434</td>\n",
              "      <td>1031788800</td>\n",
              "    </tr>\n",
              "    <tr>\n",
              "      <th>1</th>\n",
              "      <td>1986-03-14</td>\n",
              "      <td>0.097222</td>\n",
              "      <td>0.102431</td>\n",
              "      <td>0.097222</td>\n",
              "      <td>0.100694</td>\n",
              "      <td>0.063628</td>\n",
              "      <td>308160000</td>\n",
              "    </tr>\n",
              "    <tr>\n",
              "      <th>2</th>\n",
              "      <td>1986-03-17</td>\n",
              "      <td>0.100694</td>\n",
              "      <td>0.103299</td>\n",
              "      <td>0.100694</td>\n",
              "      <td>0.102431</td>\n",
              "      <td>0.064725</td>\n",
              "      <td>133171200</td>\n",
              "    </tr>\n",
              "    <tr>\n",
              "      <th>3</th>\n",
              "      <td>1986-03-18</td>\n",
              "      <td>0.102431</td>\n",
              "      <td>0.103299</td>\n",
              "      <td>0.098958</td>\n",
              "      <td>0.099826</td>\n",
              "      <td>0.063079</td>\n",
              "      <td>67766400</td>\n",
              "    </tr>\n",
              "    <tr>\n",
              "      <th>4</th>\n",
              "      <td>1986-03-19</td>\n",
              "      <td>0.099826</td>\n",
              "      <td>0.100694</td>\n",
              "      <td>0.097222</td>\n",
              "      <td>0.098090</td>\n",
              "      <td>0.061982</td>\n",
              "      <td>47894400</td>\n",
              "    </tr>\n",
              "  </tbody>\n",
              "</table>\n",
              "</div>"
            ],
            "text/plain": [
              "         Date      Open      High       Low     Close  Adj Close      Volume\n",
              "0  1986-03-13  0.088542  0.101563  0.088542  0.097222   0.061434  1031788800\n",
              "1  1986-03-14  0.097222  0.102431  0.097222  0.100694   0.063628   308160000\n",
              "2  1986-03-17  0.100694  0.103299  0.100694  0.102431   0.064725   133171200\n",
              "3  1986-03-18  0.102431  0.103299  0.098958  0.099826   0.063079    67766400\n",
              "4  1986-03-19  0.099826  0.100694  0.097222  0.098090   0.061982    47894400"
            ]
          },
          "execution_count": 223,
          "metadata": {},
          "output_type": "execute_result"
        }
      ],
      "source": [
        "msft = pd.read_csv(\"MSFT.csv\")\n",
        "\n",
        "msft.head()"
      ]
    },
    {
      "cell_type": "code",
      "execution_count": 224,
      "id": "hUHf7cDoNv-h",
      "metadata": {
        "colab": {
          "base_uri": "https://localhost:8080/"
        },
        "id": "hUHf7cDoNv-h",
        "outputId": "c31a81dc-3163-4600-9b74-c56f689f4770"
      },
      "outputs": [
        {
          "data": {
            "text/plain": [
              "0         0.101563\n",
              "1         0.102431\n",
              "2         0.103299\n",
              "3         0.103299\n",
              "4         0.100694\n",
              "           ...    \n",
              "9078    301.000000\n",
              "9079    300.140015\n",
              "9080    305.000000\n",
              "9081    303.230011\n",
              "9082    304.200012\n",
              "Name: High, Length: 9083, dtype: float64"
            ]
          },
          "execution_count": 224,
          "metadata": {},
          "output_type": "execute_result"
        }
      ],
      "source": [
        "# indexing a dataframe column - all of $MSFT stock prices\n",
        "msft['High']"
      ]
    },
    {
      "cell_type": "code",
      "execution_count": 225,
      "id": "XTa_-qZsOfyA",
      "metadata": {
        "colab": {
          "base_uri": "https://localhost:8080/"
        },
        "id": "XTa_-qZsOfyA",
        "outputId": "e6b43f1a-b7b6-48e6-8630-28acd63be8e3"
      },
      "outputs": [
        {
          "data": {
            "text/plain": [
              "Date         1986-03-13\n",
              "Open           0.088542\n",
              "High           0.101563\n",
              "Low            0.088542\n",
              "Close          0.097222\n",
              "Adj Close      0.061434\n",
              "Volume       1031788800\n",
              "Name: 0, dtype: object"
            ]
          },
          "execution_count": 225,
          "metadata": {},
          "output_type": "execute_result"
        }
      ],
      "source": [
        "# indexing a dataframe row - first day of trading for $MSFT\n",
        "# the ':' references all of the possible columns\n",
        "msft.loc[0,:]"
      ]
    },
    {
      "cell_type": "code",
      "execution_count": 226,
      "id": "vUCnkChsPYXg",
      "metadata": {
        "colab": {
          "base_uri": "https://localhost:8080/"
        },
        "id": "vUCnkChsPYXg",
        "outputId": "78ef0977-b1f6-41a5-9ed9-37f00a9d72c0"
      },
      "outputs": [
        {
          "data": {
            "text/plain": [
              "0.102431"
            ]
          },
          "execution_count": 226,
          "metadata": {},
          "output_type": "execute_result"
        }
      ],
      "source": [
        "# indexing a cell using .loc ($MSFT second day high price)\n",
        "msft.loc[1, 'High']"
      ]
    },
    {
      "cell_type": "code",
      "execution_count": 227,
      "id": "A05ZAxPwP5Bs",
      "metadata": {
        "colab": {
          "base_uri": "https://localhost:8080/"
        },
        "id": "A05ZAxPwP5Bs",
        "outputId": "cee322be-dcb1-4275-ef10-a57a043524af"
      },
      "outputs": [
        {
          "data": {
            "text/plain": [
              "0.088542"
            ]
          },
          "execution_count": 227,
          "metadata": {},
          "output_type": "execute_result"
        }
      ],
      "source": [
        "# indexing a cell using .iloc ($MSFT first trading day low price)\n",
        "msft.iloc[0,3]"
      ]
    },
    {
      "cell_type": "markdown",
      "id": "-STxpZb6oEcx",
      "metadata": {
        "id": "-STxpZb6oEcx"
      },
      "source": [
        "\n",
        "##### Modifying DataFrames"
      ]
    },
    {
      "cell_type": "markdown",
      "id": "tq6gOh-UoQuJ",
      "metadata": {
        "id": "tq6gOh-UoQuJ"
      },
      "source": [
        "###### **Changing Values**"
      ]
    },
    {
      "cell_type": "markdown",
      "id": "YX9iH1rLQWHa",
      "metadata": {
        "id": "YX9iH1rLQWHa"
      },
      "source": [
        "Modifying data in a dataframe is as simple as it is with a list. You simply need to set the indexed value equal to the desired value.\n",
        "\n",
        "\n",
        "\n",
        "**EXERCISE** \n",
        "Let's assume that the New York Stock Exchange had a glitch, and showed that MSFT's closing price on March 24 of the year was actually $100. Modify the DataFrame to reflect this change."
      ]
    },
    {
      "cell_type": "code",
      "execution_count": 228,
      "id": "ZnBSLR1CnNOz",
      "metadata": {
        "colab": {
          "base_uri": "https://localhost:8080/",
          "height": 206
        },
        "id": "ZnBSLR1CnNOz",
        "outputId": "279b96ff-6ce9-4d2b-aa1b-6d520566a0f0"
      },
      "outputs": [
        {
          "data": {
            "text/html": [
              "<div>\n",
              "<style scoped>\n",
              "    .dataframe tbody tr th:only-of-type {\n",
              "        vertical-align: middle;\n",
              "    }\n",
              "\n",
              "    .dataframe tbody tr th {\n",
              "        vertical-align: top;\n",
              "    }\n",
              "\n",
              "    .dataframe thead th {\n",
              "        text-align: right;\n",
              "    }\n",
              "</style>\n",
              "<table border=\"1\" class=\"dataframe\">\n",
              "  <thead>\n",
              "    <tr style=\"text-align: right;\">\n",
              "      <th></th>\n",
              "      <th>Date</th>\n",
              "      <th>Open</th>\n",
              "      <th>High</th>\n",
              "      <th>Low</th>\n",
              "      <th>Close</th>\n",
              "      <th>Adj Close</th>\n",
              "      <th>Volume</th>\n",
              "    </tr>\n",
              "  </thead>\n",
              "  <tbody>\n",
              "    <tr>\n",
              "      <th>0</th>\n",
              "      <td>1986-03-13</td>\n",
              "      <td>0.088542</td>\n",
              "      <td>0.101563</td>\n",
              "      <td>0.088542</td>\n",
              "      <td>0.097222</td>\n",
              "      <td>0.061434</td>\n",
              "      <td>1031788800</td>\n",
              "    </tr>\n",
              "    <tr>\n",
              "      <th>1</th>\n",
              "      <td>1986-03-14</td>\n",
              "      <td>0.097222</td>\n",
              "      <td>0.102431</td>\n",
              "      <td>0.097222</td>\n",
              "      <td>0.100694</td>\n",
              "      <td>0.063628</td>\n",
              "      <td>308160000</td>\n",
              "    </tr>\n",
              "    <tr>\n",
              "      <th>2</th>\n",
              "      <td>1986-03-17</td>\n",
              "      <td>0.100694</td>\n",
              "      <td>0.103299</td>\n",
              "      <td>0.100694</td>\n",
              "      <td>0.102431</td>\n",
              "      <td>0.064725</td>\n",
              "      <td>133171200</td>\n",
              "    </tr>\n",
              "    <tr>\n",
              "      <th>3</th>\n",
              "      <td>1986-03-18</td>\n",
              "      <td>0.102431</td>\n",
              "      <td>0.103299</td>\n",
              "      <td>0.098958</td>\n",
              "      <td>0.099826</td>\n",
              "      <td>0.063079</td>\n",
              "      <td>67766400</td>\n",
              "    </tr>\n",
              "    <tr>\n",
              "      <th>4</th>\n",
              "      <td>1986-03-19</td>\n",
              "      <td>0.099826</td>\n",
              "      <td>0.100694</td>\n",
              "      <td>0.097222</td>\n",
              "      <td>0.098090</td>\n",
              "      <td>0.061982</td>\n",
              "      <td>47894400</td>\n",
              "    </tr>\n",
              "    <tr>\n",
              "      <th>...</th>\n",
              "      <td>...</td>\n",
              "      <td>...</td>\n",
              "      <td>...</td>\n",
              "      <td>...</td>\n",
              "      <td>...</td>\n",
              "      <td>...</td>\n",
              "      <td>...</td>\n",
              "    </tr>\n",
              "    <tr>\n",
              "      <th>9078</th>\n",
              "      <td>2022-03-18</td>\n",
              "      <td>295.369995</td>\n",
              "      <td>301.000000</td>\n",
              "      <td>292.730011</td>\n",
              "      <td>300.429993</td>\n",
              "      <td>300.429993</td>\n",
              "      <td>43317000</td>\n",
              "    </tr>\n",
              "    <tr>\n",
              "      <th>9079</th>\n",
              "      <td>2022-03-21</td>\n",
              "      <td>298.890015</td>\n",
              "      <td>300.140015</td>\n",
              "      <td>294.899994</td>\n",
              "      <td>299.160004</td>\n",
              "      <td>299.160004</td>\n",
              "      <td>28351200</td>\n",
              "    </tr>\n",
              "    <tr>\n",
              "      <th>9080</th>\n",
              "      <td>2022-03-22</td>\n",
              "      <td>299.799988</td>\n",
              "      <td>305.000000</td>\n",
              "      <td>298.769989</td>\n",
              "      <td>304.059998</td>\n",
              "      <td>304.059998</td>\n",
              "      <td>27599700</td>\n",
              "    </tr>\n",
              "    <tr>\n",
              "      <th>9081</th>\n",
              "      <td>2022-03-23</td>\n",
              "      <td>300.510010</td>\n",
              "      <td>303.230011</td>\n",
              "      <td>297.720001</td>\n",
              "      <td>299.489990</td>\n",
              "      <td>299.489990</td>\n",
              "      <td>25715400</td>\n",
              "    </tr>\n",
              "    <tr>\n",
              "      <th>9082</th>\n",
              "      <td>2022-03-24</td>\n",
              "      <td>299.140015</td>\n",
              "      <td>304.200012</td>\n",
              "      <td>298.320007</td>\n",
              "      <td>304.100006</td>\n",
              "      <td>304.100006</td>\n",
              "      <td>24446900</td>\n",
              "    </tr>\n",
              "  </tbody>\n",
              "</table>\n",
              "<p>9083 rows × 7 columns</p>\n",
              "</div>"
            ],
            "text/plain": [
              "            Date        Open        High         Low       Close   Adj Close  \\\n",
              "0     1986-03-13    0.088542    0.101563    0.088542    0.097222    0.061434   \n",
              "1     1986-03-14    0.097222    0.102431    0.097222    0.100694    0.063628   \n",
              "2     1986-03-17    0.100694    0.103299    0.100694    0.102431    0.064725   \n",
              "3     1986-03-18    0.102431    0.103299    0.098958    0.099826    0.063079   \n",
              "4     1986-03-19    0.099826    0.100694    0.097222    0.098090    0.061982   \n",
              "...          ...         ...         ...         ...         ...         ...   \n",
              "9078  2022-03-18  295.369995  301.000000  292.730011  300.429993  300.429993   \n",
              "9079  2022-03-21  298.890015  300.140015  294.899994  299.160004  299.160004   \n",
              "9080  2022-03-22  299.799988  305.000000  298.769989  304.059998  304.059998   \n",
              "9081  2022-03-23  300.510010  303.230011  297.720001  299.489990  299.489990   \n",
              "9082  2022-03-24  299.140015  304.200012  298.320007  304.100006  304.100006   \n",
              "\n",
              "          Volume  \n",
              "0     1031788800  \n",
              "1      308160000  \n",
              "2      133171200  \n",
              "3       67766400  \n",
              "4       47894400  \n",
              "...          ...  \n",
              "9078    43317000  \n",
              "9079    28351200  \n",
              "9080    27599700  \n",
              "9081    25715400  \n",
              "9082    24446900  \n",
              "\n",
              "[9083 rows x 7 columns]"
            ]
          },
          "metadata": {},
          "output_type": "display_data"
        }
      ],
      "source": [
        "# TRY IT YOURSELF - change student b's first test score\n",
        "\n",
        "\n",
        "# display dataframe with change\n",
        "display(msft)"
      ]
    },
    {
      "cell_type": "markdown",
      "id": "Yx3CTys6od7J",
      "metadata": {
        "id": "Yx3CTys6od7J"
      },
      "source": [
        "###### **Changing Data Types**"
      ]
    },
    {
      "cell_type": "markdown",
      "id": "OWD-YTHXKdKO",
      "metadata": {
        "id": "OWD-YTHXKdKO"
      },
      "source": [
        "While Python has in-built functions to view data types and wrappers to convert data types of variables, Pandas has in-built functions to convert and view entire series and/or dataframes. These functions produce a copy of the dataframe, so in order to store the changes you've made, you must set it to a variable or use inplace = True.\n",
        "\n",
        "i.e. df = df.astype(float)"
      ]
    },
    {
      "cell_type": "code",
      "execution_count": 229,
      "id": "zOjUekmAodDp",
      "metadata": {
        "colab": {
          "base_uri": "https://localhost:8080/"
        },
        "id": "zOjUekmAodDp",
        "outputId": "5cbb3cb4-e59c-4d2c-8da3-b450af8ccd9e"
      },
      "outputs": [
        {
          "data": {
            "text/plain": [
              "Date          object\n",
              "Open         float64\n",
              "High         float64\n",
              "Low          float64\n",
              "Close        float64\n",
              "Adj Close    float64\n",
              "Volume         int64\n",
              "dtype: object"
            ]
          },
          "execution_count": 229,
          "metadata": {},
          "output_type": "execute_result"
        }
      ],
      "source": [
        "# view data types of each column\n",
        "msft.dtypes"
      ]
    },
    {
      "cell_type": "code",
      "execution_count": 230,
      "id": "laNvS1ZgLXL3",
      "metadata": {
        "colab": {
          "base_uri": "https://localhost:8080/",
          "height": 206
        },
        "id": "laNvS1ZgLXL3",
        "outputId": "c51d5963-1afb-4455-f492-3294c620f87e"
      },
      "outputs": [
        {
          "data": {
            "text/html": [
              "<div>\n",
              "<style scoped>\n",
              "    .dataframe tbody tr th:only-of-type {\n",
              "        vertical-align: middle;\n",
              "    }\n",
              "\n",
              "    .dataframe tbody tr th {\n",
              "        vertical-align: top;\n",
              "    }\n",
              "\n",
              "    .dataframe thead th {\n",
              "        text-align: right;\n",
              "    }\n",
              "</style>\n",
              "<table border=\"1\" class=\"dataframe\">\n",
              "  <thead>\n",
              "    <tr style=\"text-align: right;\">\n",
              "      <th></th>\n",
              "      <th>Date</th>\n",
              "      <th>Open</th>\n",
              "      <th>High</th>\n",
              "      <th>Low</th>\n",
              "      <th>Close</th>\n",
              "      <th>Adj Close</th>\n",
              "      <th>Volume</th>\n",
              "    </tr>\n",
              "  </thead>\n",
              "  <tbody>\n",
              "    <tr>\n",
              "      <th>0</th>\n",
              "      <td>1986-03-13</td>\n",
              "      <td>0.088542</td>\n",
              "      <td>0.101563</td>\n",
              "      <td>0.088542</td>\n",
              "      <td>0.097222</td>\n",
              "      <td>0.061434</td>\n",
              "      <td>1.031789e+09</td>\n",
              "    </tr>\n",
              "    <tr>\n",
              "      <th>1</th>\n",
              "      <td>1986-03-14</td>\n",
              "      <td>0.097222</td>\n",
              "      <td>0.102431</td>\n",
              "      <td>0.097222</td>\n",
              "      <td>0.100694</td>\n",
              "      <td>0.063628</td>\n",
              "      <td>3.081600e+08</td>\n",
              "    </tr>\n",
              "    <tr>\n",
              "      <th>2</th>\n",
              "      <td>1986-03-17</td>\n",
              "      <td>0.100694</td>\n",
              "      <td>0.103299</td>\n",
              "      <td>0.100694</td>\n",
              "      <td>0.102431</td>\n",
              "      <td>0.064725</td>\n",
              "      <td>1.331712e+08</td>\n",
              "    </tr>\n",
              "    <tr>\n",
              "      <th>3</th>\n",
              "      <td>1986-03-18</td>\n",
              "      <td>0.102431</td>\n",
              "      <td>0.103299</td>\n",
              "      <td>0.098958</td>\n",
              "      <td>0.099826</td>\n",
              "      <td>0.063079</td>\n",
              "      <td>6.776640e+07</td>\n",
              "    </tr>\n",
              "    <tr>\n",
              "      <th>4</th>\n",
              "      <td>1986-03-19</td>\n",
              "      <td>0.099826</td>\n",
              "      <td>0.100694</td>\n",
              "      <td>0.097222</td>\n",
              "      <td>0.098090</td>\n",
              "      <td>0.061982</td>\n",
              "      <td>4.789440e+07</td>\n",
              "    </tr>\n",
              "    <tr>\n",
              "      <th>...</th>\n",
              "      <td>...</td>\n",
              "      <td>...</td>\n",
              "      <td>...</td>\n",
              "      <td>...</td>\n",
              "      <td>...</td>\n",
              "      <td>...</td>\n",
              "      <td>...</td>\n",
              "    </tr>\n",
              "    <tr>\n",
              "      <th>9078</th>\n",
              "      <td>2022-03-18</td>\n",
              "      <td>295.369995</td>\n",
              "      <td>301.000000</td>\n",
              "      <td>292.730011</td>\n",
              "      <td>300.429993</td>\n",
              "      <td>300.429993</td>\n",
              "      <td>4.331700e+07</td>\n",
              "    </tr>\n",
              "    <tr>\n",
              "      <th>9079</th>\n",
              "      <td>2022-03-21</td>\n",
              "      <td>298.890015</td>\n",
              "      <td>300.140015</td>\n",
              "      <td>294.899994</td>\n",
              "      <td>299.160004</td>\n",
              "      <td>299.160004</td>\n",
              "      <td>2.835120e+07</td>\n",
              "    </tr>\n",
              "    <tr>\n",
              "      <th>9080</th>\n",
              "      <td>2022-03-22</td>\n",
              "      <td>299.799988</td>\n",
              "      <td>305.000000</td>\n",
              "      <td>298.769989</td>\n",
              "      <td>304.059998</td>\n",
              "      <td>304.059998</td>\n",
              "      <td>2.759970e+07</td>\n",
              "    </tr>\n",
              "    <tr>\n",
              "      <th>9081</th>\n",
              "      <td>2022-03-23</td>\n",
              "      <td>300.510010</td>\n",
              "      <td>303.230011</td>\n",
              "      <td>297.720001</td>\n",
              "      <td>299.489990</td>\n",
              "      <td>299.489990</td>\n",
              "      <td>2.571540e+07</td>\n",
              "    </tr>\n",
              "    <tr>\n",
              "      <th>9082</th>\n",
              "      <td>2022-03-24</td>\n",
              "      <td>299.140015</td>\n",
              "      <td>304.200012</td>\n",
              "      <td>298.320007</td>\n",
              "      <td>304.100006</td>\n",
              "      <td>304.100006</td>\n",
              "      <td>2.444690e+07</td>\n",
              "    </tr>\n",
              "  </tbody>\n",
              "</table>\n",
              "<p>9083 rows × 7 columns</p>\n",
              "</div>"
            ],
            "text/plain": [
              "            Date        Open        High         Low       Close   Adj Close  \\\n",
              "0     1986-03-13    0.088542    0.101563    0.088542    0.097222    0.061434   \n",
              "1     1986-03-14    0.097222    0.102431    0.097222    0.100694    0.063628   \n",
              "2     1986-03-17    0.100694    0.103299    0.100694    0.102431    0.064725   \n",
              "3     1986-03-18    0.102431    0.103299    0.098958    0.099826    0.063079   \n",
              "4     1986-03-19    0.099826    0.100694    0.097222    0.098090    0.061982   \n",
              "...          ...         ...         ...         ...         ...         ...   \n",
              "9078  2022-03-18  295.369995  301.000000  292.730011  300.429993  300.429993   \n",
              "9079  2022-03-21  298.890015  300.140015  294.899994  299.160004  299.160004   \n",
              "9080  2022-03-22  299.799988  305.000000  298.769989  304.059998  304.059998   \n",
              "9081  2022-03-23  300.510010  303.230011  297.720001  299.489990  299.489990   \n",
              "9082  2022-03-24  299.140015  304.200012  298.320007  304.100006  304.100006   \n",
              "\n",
              "            Volume  \n",
              "0     1.031789e+09  \n",
              "1     3.081600e+08  \n",
              "2     1.331712e+08  \n",
              "3     6.776640e+07  \n",
              "4     4.789440e+07  \n",
              "...            ...  \n",
              "9078  4.331700e+07  \n",
              "9079  2.835120e+07  \n",
              "9080  2.759970e+07  \n",
              "9081  2.571540e+07  \n",
              "9082  2.444690e+07  \n",
              "\n",
              "[9083 rows x 7 columns]"
            ]
          },
          "execution_count": 230,
          "metadata": {},
          "output_type": "execute_result"
        }
      ],
      "source": [
        "# convert datatypes based on dictionary mapping\n",
        "msft.astype({\"Volume\": 'float64'})"
      ]
    },
    {
      "cell_type": "markdown",
      "id": "9jPkDGxAlgdG",
      "metadata": {
        "id": "9jPkDGxAlgdG"
      },
      "source": [
        "###### **Time Data**"
      ]
    },
    {
      "cell_type": "markdown",
      "id": "oep1H33PmBww",
      "metadata": {
        "id": "oep1H33PmBww"
      },
      "source": [
        "Dealing with time can be a bit confusing because of various formatting inconsistencies, so to deal with the complexities of time Python has its own library - datetime! However, converting to datetime is not limited to just this library - NumPy and Pandas have their own capabilities too!"
      ]
    },
    {
      "cell_type": "code",
      "execution_count": 231,
      "id": "9iQEQzdHm1fe",
      "metadata": {
        "id": "9iQEQzdHm1fe"
      },
      "outputs": [],
      "source": [
        "# import statement for datetime\n",
        "import datetime as dt"
      ]
    },
    {
      "cell_type": "code",
      "execution_count": 232,
      "id": "qCpEiG6znnHS",
      "metadata": {
        "colab": {
          "base_uri": "https://localhost:8080/"
        },
        "id": "qCpEiG6znnHS",
        "outputId": "c941609b-1bf5-478b-94f9-41ac1fc9ce80"
      },
      "outputs": [
        {
          "name": "stdout",
          "output_type": "stream",
          "text": [
            "2023-08-22 20:54:23.934131\n",
            "<class 'datetime.datetime'>\n"
          ]
        }
      ],
      "source": [
        "# print the current time and date - datetime\n",
        "x = dt.datetime.now()\n",
        "print(x)\n",
        "print(type(x))"
      ]
    },
    {
      "cell_type": "code",
      "execution_count": 233,
      "id": "s9ZWvecCZRh_",
      "metadata": {
        "colab": {
          "base_uri": "https://localhost:8080/"
        },
        "id": "s9ZWvecCZRh_",
        "outputId": "2fb79eba-f4ac-4b53-f189-0755bd97a8e9"
      },
      "outputs": [
        {
          "name": "stdout",
          "output_type": "stream",
          "text": [
            "2023-08-23\n",
            "<class 'numpy.datetime64'>\n"
          ]
        }
      ],
      "source": [
        "# create a datetime obj - np.datetime64\n",
        "y = np.datetime64('2023-08-23')\n",
        "print(y)\n",
        "print(type(y))"
      ]
    },
    {
      "cell_type": "code",
      "execution_count": 234,
      "id": "PipuCwFAcsmp",
      "metadata": {
        "colab": {
          "base_uri": "https://localhost:8080/"
        },
        "id": "PipuCwFAcsmp",
        "outputId": "2824cd8c-9469-4e43-f6ad-5149cbd5672e"
      },
      "outputs": [
        {
          "name": "stdout",
          "output_type": "stream",
          "text": [
            "0   2000-03-11\n",
            "1   2000-03-12\n",
            "2   2000-03-13\n",
            "dtype: datetime64[ns]\n"
          ]
        }
      ],
      "source": [
        "# create a datetime obj - pd.to_datetime\n",
        "ser1 = pd.Series(['3/11/2000', '3/12/2000', '3/13/2000'])\n",
        "z = pd.to_datetime(ser1)\n",
        "print(z)"
      ]
    },
    {
      "cell_type": "markdown",
      "id": "bjI-WJjSnYJI",
      "metadata": {
        "id": "bjI-WJjSnYJI"
      },
      "source": [
        "You can pulls specifics relating to date, such as `year`,`month`,`day`,`hour`,`minute`,`seconds`, and `microseconds`."
      ]
    },
    {
      "cell_type": "code",
      "execution_count": 235,
      "id": "6-MPJnITnXPD",
      "metadata": {
        "colab": {
          "base_uri": "https://localhost:8080/"
        },
        "id": "6-MPJnITnXPD",
        "outputId": "ca025aa1-4ee5-4b35-eeef-4136abb7e874"
      },
      "outputs": [
        {
          "name": "stdout",
          "output_type": "stream",
          "text": [
            "54\n"
          ]
        }
      ],
      "source": [
        "print(x.minute)"
      ]
    },
    {
      "cell_type": "markdown",
      "id": "et72ayIMp5aQ",
      "metadata": {
        "id": "et72ayIMp5aQ"
      },
      "source": [
        "**Timedelta**\n",
        "\n",
        "Timedelta is a portion of the datetime library that calculates the sum/difference of two different points in time.\n",
        "\n",
        "*Note: When you have a negative time difference, you can use the `abs()` function in order to calculate elapsed time.\n",
        "\n",
        "You can do this with all datetime libraries."
      ]
    },
    {
      "cell_type": "code",
      "execution_count": 236,
      "id": "j8tAoYlcqGAg",
      "metadata": {
        "colab": {
          "base_uri": "https://localhost:8080/"
        },
        "id": "j8tAoYlcqGAg",
        "outputId": "3b1acd2c-9a1e-4b38-fcbd-89a80a80a40f"
      },
      "outputs": [
        {
          "name": "stdout",
          "output_type": "stream",
          "text": [
            "2023-08-28 14:00:00\n"
          ]
        }
      ],
      "source": [
        "# first day of class - datetime(year,month,day,hour,minute,second,microsecond)\n",
        "y = dt.datetime(2023,8,28,14)\n",
        "print(y)"
      ]
    },
    {
      "cell_type": "code",
      "execution_count": 237,
      "id": "hs2fYEb8rBbN",
      "metadata": {
        "colab": {
          "base_uri": "https://localhost:8080/"
        },
        "id": "hs2fYEb8rBbN",
        "outputId": "d09a48f8-8c77-4888-8246-50d8540771a1"
      },
      "outputs": [
        {
          "name": "stdout",
          "output_type": "stream",
          "text": [
            "5 days, 17:05:36.065869\n",
            "<class 'datetime.timedelta'>\n"
          ]
        }
      ],
      "source": [
        "# calculate the difference between now and the first day of class\n",
        "d1 = y-x\n",
        "print(d1)\n",
        "print(type(d1))"
      ]
    },
    {
      "cell_type": "code",
      "execution_count": 238,
      "id": "2INE0e02dsF-",
      "metadata": {
        "colab": {
          "base_uri": "https://localhost:8080/"
        },
        "id": "2INE0e02dsF-",
        "outputId": "0af30bee-759b-455f-f90d-16296e73a299"
      },
      "outputs": [
        {
          "data": {
            "text/plain": [
              "numpy.timedelta64(111,'D')"
            ]
          },
          "execution_count": 238,
          "metadata": {},
          "output_type": "execute_result"
        }
      ],
      "source": [
        "#displaying np.datetime64 timedelta functionality\n",
        "np.datetime64('2022-08-24') - np.datetime64('2022-05-05')"
      ]
    },
    {
      "cell_type": "markdown",
      "id": "pGFCdQnMo3k-",
      "metadata": {
        "id": "pGFCdQnMo3k-"
      },
      "source": [
        "###### Converting to and from Strings"
      ]
    },
    {
      "cell_type": "markdown",
      "id": "ARgae7quo-tx",
      "metadata": {
        "id": "ARgae7quo-tx"
      },
      "source": [
        "An important functionality of the datetime library is its ability to convert strings to datetime objects and datetime objects to strings. This is primarily done by two functions in datetime:\n",
        "- `strftime()`: converts datetime object to string\n",
        "- `strptime()`: converts string to datetime object\n",
        "\n",
        "While there are library specific functions to convert NumPy and Pandas datetime objects to strings, the inbuilt datetime functions allows for greater flexibility in how your data is displayed."
      ]
    },
    {
      "cell_type": "markdown",
      "id": "m-izv6TOtXEc",
      "metadata": {
        "id": "m-izv6TOtXEc"
      },
      "source": [
        "Helpful guide to strftime()/strptime() shortcuts:\n",
        "- `%a` - shortened version of weekday (i.e. Wed)\n",
        "- `%A` - long version of weekday (i.e. Wednesday)\n",
        "- `%d` - day of the month in number form (i.e. 30)\n",
        "- `%b` - shortened name of month (i.e. Aug)\n",
        "- `%B` - long version of month (i.e. August)\n",
        "- `%m` - month in number form (i.e. 9)\n",
        "- `%y` - year in shortened form, without century (i.e. 22)\n",
        "- `%Y` - year in full form (i.e. 2022)\n",
        "- `%H` - hour in military time (00 - 23)\n",
        "- `%I` - hour in analog (00 - 12)\n",
        "- `%p` - AM/PM\n",
        "- `%M` - minute (00 - 59)\n",
        "- `%S` - second (00 - 59)\n",
        "- `%f` - microsecond"
      ]
    },
    {
      "cell_type": "code",
      "execution_count": 239,
      "id": "Df59PN3ys09a",
      "metadata": {
        "colab": {
          "base_uri": "https://localhost:8080/"
        },
        "id": "Df59PN3ys09a",
        "outputId": "92218b55-1b16-4c95-f741-9f5167356087"
      },
      "outputs": [
        {
          "name": "stdout",
          "output_type": "stream",
          "text": [
            "Monday August 28, 2023 02:00 PM\n",
            "<class 'str'>\n"
          ]
        }
      ],
      "source": [
        "# convert datetime object to string\n",
        "y = y.strftime('%A %B %d, %Y %I:%M %p')\n",
        "print(y)\n",
        "print(type(y))"
      ]
    },
    {
      "cell_type": "code",
      "execution_count": 240,
      "id": "1qRi5yo9_BrU",
      "metadata": {
        "colab": {
          "base_uri": "https://localhost:8080/"
        },
        "id": "1qRi5yo9_BrU",
        "outputId": "0088bda1-2434-4acd-81c5-535bb962693e"
      },
      "outputs": [
        {
          "name": "stdout",
          "output_type": "stream",
          "text": [
            "2023-08-28 14:00:00\n",
            "<class 'datetime.datetime'>\n"
          ]
        }
      ],
      "source": [
        "# convert string to datetime object\n",
        "y = dt.datetime.strptime(y,'%A %B %d, %Y %I:%M %p')\n",
        "print(y)\n",
        "print(type(y))"
      ]
    },
    {
      "cell_type": "markdown",
      "id": "7MTtrt7qARKf",
      "metadata": {
        "id": "7MTtrt7qARKf"
      },
      "source": [
        "**EXERCISE** Calculate the difference of now versus your birthday. Print out the result."
      ]
    },
    {
      "cell_type": "code",
      "execution_count": 241,
      "id": "vSVXpr8a_7nm",
      "metadata": {
        "id": "vSVXpr8a_7nm"
      },
      "outputs": [],
      "source": [
        "# EXERCISE -- calculate the difference of now versus your birthday\n"
      ]
    },
    {
      "cell_type": "markdown",
      "id": "SwhI5d2ao_Yb",
      "metadata": {
        "id": "SwhI5d2ao_Yb"
      },
      "source": [
        "### **Adding Columns to DataFrame**"
      ]
    },
    {
      "cell_type": "markdown",
      "id": "XEF8nhQHpKjA",
      "metadata": {
        "id": "XEF8nhQHpKjA"
      },
      "source": [
        "Adding columns to a dataframe is as simple as naming the new column and setting it equal to a collection."
      ]
    },
    {
      "cell_type": "code",
      "execution_count": 242,
      "id": "uKkAWv7RpEBG",
      "metadata": {
        "id": "uKkAWv7RpEBG"
      },
      "outputs": [],
      "source": [
        "# create a new column from an ndarray\n",
        "df['d'] = np.array([79,83,99,90,76])"
      ]
    },
    {
      "cell_type": "code",
      "execution_count": 243,
      "id": "US9iFNSDN6nW",
      "metadata": {
        "colab": {
          "base_uri": "https://localhost:8080/",
          "height": 206
        },
        "id": "US9iFNSDN6nW",
        "outputId": "8e0e1aa0-4407-45e4-d164-8abe0408b1c8"
      },
      "outputs": [
        {
          "data": {
            "text/html": [
              "<div>\n",
              "<style scoped>\n",
              "    .dataframe tbody tr th:only-of-type {\n",
              "        vertical-align: middle;\n",
              "    }\n",
              "\n",
              "    .dataframe tbody tr th {\n",
              "        vertical-align: top;\n",
              "    }\n",
              "\n",
              "    .dataframe thead th {\n",
              "        text-align: right;\n",
              "    }\n",
              "</style>\n",
              "<table border=\"1\" class=\"dataframe\">\n",
              "  <thead>\n",
              "    <tr style=\"text-align: right;\">\n",
              "      <th></th>\n",
              "      <th>a</th>\n",
              "      <th>b</th>\n",
              "      <th>c</th>\n",
              "      <th>d</th>\n",
              "    </tr>\n",
              "  </thead>\n",
              "  <tbody>\n",
              "    <tr>\n",
              "      <th>1</th>\n",
              "      <td>80</td>\n",
              "      <td>80</td>\n",
              "      <td>66</td>\n",
              "      <td>79</td>\n",
              "    </tr>\n",
              "    <tr>\n",
              "      <th>2</th>\n",
              "      <td>75</td>\n",
              "      <td>85</td>\n",
              "      <td>75</td>\n",
              "      <td>83</td>\n",
              "    </tr>\n",
              "    <tr>\n",
              "      <th>3</th>\n",
              "      <td>70</td>\n",
              "      <td>90</td>\n",
              "      <td>91</td>\n",
              "      <td>99</td>\n",
              "    </tr>\n",
              "    <tr>\n",
              "      <th>4</th>\n",
              "      <td>90</td>\n",
              "      <td>95</td>\n",
              "      <td>72</td>\n",
              "      <td>90</td>\n",
              "    </tr>\n",
              "    <tr>\n",
              "      <th>5</th>\n",
              "      <td>98</td>\n",
              "      <td>100</td>\n",
              "      <td>83</td>\n",
              "      <td>76</td>\n",
              "    </tr>\n",
              "  </tbody>\n",
              "</table>\n",
              "</div>"
            ],
            "text/plain": [
              "    a    b   c   d\n",
              "1  80   80  66  79\n",
              "2  75   85  75  83\n",
              "3  70   90  91  99\n",
              "4  90   95  72  90\n",
              "5  98  100  83  76"
            ]
          },
          "metadata": {},
          "output_type": "display_data"
        }
      ],
      "source": [
        "display(df)"
      ]
    },
    {
      "cell_type": "markdown",
      "id": "TX2h3o02MhFr",
      "metadata": {
        "id": "TX2h3o02MhFr"
      },
      "source": [
        "###### **Dropping Columns from DataFrame**"
      ]
    },
    {
      "cell_type": "markdown",
      "id": "6HhBQNgJMnqG",
      "metadata": {
        "id": "6HhBQNgJMnqG"
      },
      "source": [
        "To drop a column, you need to use the `df.drop()` function and specify that the axis=1. To ensure that your dataframe keeps the change that you made you either want to set it to a variable or use inplace = True."
      ]
    },
    {
      "cell_type": "code",
      "execution_count": 244,
      "id": "7PtHHlnQMyJ6",
      "metadata": {
        "colab": {
          "base_uri": "https://localhost:8080/",
          "height": 206
        },
        "id": "7PtHHlnQMyJ6",
        "outputId": "8e543f7c-f435-4e26-e833-28135b76dd3c"
      },
      "outputs": [
        {
          "data": {
            "text/html": [
              "<div>\n",
              "<style scoped>\n",
              "    .dataframe tbody tr th:only-of-type {\n",
              "        vertical-align: middle;\n",
              "    }\n",
              "\n",
              "    .dataframe tbody tr th {\n",
              "        vertical-align: top;\n",
              "    }\n",
              "\n",
              "    .dataframe thead th {\n",
              "        text-align: right;\n",
              "    }\n",
              "</style>\n",
              "<table border=\"1\" class=\"dataframe\">\n",
              "  <thead>\n",
              "    <tr style=\"text-align: right;\">\n",
              "      <th></th>\n",
              "      <th>Date</th>\n",
              "      <th>Open</th>\n",
              "      <th>High</th>\n",
              "      <th>Low</th>\n",
              "      <th>Close</th>\n",
              "      <th>Volume</th>\n",
              "    </tr>\n",
              "  </thead>\n",
              "  <tbody>\n",
              "    <tr>\n",
              "      <th>0</th>\n",
              "      <td>1986-03-13</td>\n",
              "      <td>0.088542</td>\n",
              "      <td>0.101563</td>\n",
              "      <td>0.088542</td>\n",
              "      <td>0.097222</td>\n",
              "      <td>1031788800</td>\n",
              "    </tr>\n",
              "    <tr>\n",
              "      <th>1</th>\n",
              "      <td>1986-03-14</td>\n",
              "      <td>0.097222</td>\n",
              "      <td>0.102431</td>\n",
              "      <td>0.097222</td>\n",
              "      <td>0.100694</td>\n",
              "      <td>308160000</td>\n",
              "    </tr>\n",
              "    <tr>\n",
              "      <th>2</th>\n",
              "      <td>1986-03-17</td>\n",
              "      <td>0.100694</td>\n",
              "      <td>0.103299</td>\n",
              "      <td>0.100694</td>\n",
              "      <td>0.102431</td>\n",
              "      <td>133171200</td>\n",
              "    </tr>\n",
              "    <tr>\n",
              "      <th>3</th>\n",
              "      <td>1986-03-18</td>\n",
              "      <td>0.102431</td>\n",
              "      <td>0.103299</td>\n",
              "      <td>0.098958</td>\n",
              "      <td>0.099826</td>\n",
              "      <td>67766400</td>\n",
              "    </tr>\n",
              "    <tr>\n",
              "      <th>4</th>\n",
              "      <td>1986-03-19</td>\n",
              "      <td>0.099826</td>\n",
              "      <td>0.100694</td>\n",
              "      <td>0.097222</td>\n",
              "      <td>0.098090</td>\n",
              "      <td>47894400</td>\n",
              "    </tr>\n",
              "    <tr>\n",
              "      <th>...</th>\n",
              "      <td>...</td>\n",
              "      <td>...</td>\n",
              "      <td>...</td>\n",
              "      <td>...</td>\n",
              "      <td>...</td>\n",
              "      <td>...</td>\n",
              "    </tr>\n",
              "    <tr>\n",
              "      <th>9078</th>\n",
              "      <td>2022-03-18</td>\n",
              "      <td>295.369995</td>\n",
              "      <td>301.000000</td>\n",
              "      <td>292.730011</td>\n",
              "      <td>300.429993</td>\n",
              "      <td>43317000</td>\n",
              "    </tr>\n",
              "    <tr>\n",
              "      <th>9079</th>\n",
              "      <td>2022-03-21</td>\n",
              "      <td>298.890015</td>\n",
              "      <td>300.140015</td>\n",
              "      <td>294.899994</td>\n",
              "      <td>299.160004</td>\n",
              "      <td>28351200</td>\n",
              "    </tr>\n",
              "    <tr>\n",
              "      <th>9080</th>\n",
              "      <td>2022-03-22</td>\n",
              "      <td>299.799988</td>\n",
              "      <td>305.000000</td>\n",
              "      <td>298.769989</td>\n",
              "      <td>304.059998</td>\n",
              "      <td>27599700</td>\n",
              "    </tr>\n",
              "    <tr>\n",
              "      <th>9081</th>\n",
              "      <td>2022-03-23</td>\n",
              "      <td>300.510010</td>\n",
              "      <td>303.230011</td>\n",
              "      <td>297.720001</td>\n",
              "      <td>299.489990</td>\n",
              "      <td>25715400</td>\n",
              "    </tr>\n",
              "    <tr>\n",
              "      <th>9082</th>\n",
              "      <td>2022-03-24</td>\n",
              "      <td>299.140015</td>\n",
              "      <td>304.200012</td>\n",
              "      <td>298.320007</td>\n",
              "      <td>304.100006</td>\n",
              "      <td>24446900</td>\n",
              "    </tr>\n",
              "  </tbody>\n",
              "</table>\n",
              "<p>9083 rows × 6 columns</p>\n",
              "</div>"
            ],
            "text/plain": [
              "            Date        Open        High         Low       Close      Volume\n",
              "0     1986-03-13    0.088542    0.101563    0.088542    0.097222  1031788800\n",
              "1     1986-03-14    0.097222    0.102431    0.097222    0.100694   308160000\n",
              "2     1986-03-17    0.100694    0.103299    0.100694    0.102431   133171200\n",
              "3     1986-03-18    0.102431    0.103299    0.098958    0.099826    67766400\n",
              "4     1986-03-19    0.099826    0.100694    0.097222    0.098090    47894400\n",
              "...          ...         ...         ...         ...         ...         ...\n",
              "9078  2022-03-18  295.369995  301.000000  292.730011  300.429993    43317000\n",
              "9079  2022-03-21  298.890015  300.140015  294.899994  299.160004    28351200\n",
              "9080  2022-03-22  299.799988  305.000000  298.769989  304.059998    27599700\n",
              "9081  2022-03-23  300.510010  303.230011  297.720001  299.489990    25715400\n",
              "9082  2022-03-24  299.140015  304.200012  298.320007  304.100006    24446900\n",
              "\n",
              "[9083 rows x 6 columns]"
            ]
          },
          "execution_count": 244,
          "metadata": {},
          "output_type": "execute_result"
        }
      ],
      "source": [
        "# this function creates a shallow copy of the dataframe where b is removed\n",
        "msft.drop('Adj Close', axis=1)"
      ]
    },
    {
      "cell_type": "markdown",
      "id": "06BE4C08qohj",
      "metadata": {
        "id": "06BE4C08qohj"
      },
      "source": [
        "###### **Merging DataFrames Together**"
      ]
    },
    {
      "cell_type": "markdown",
      "id": "Ur5T7NpiqvRC",
      "metadata": {
        "id": "Ur5T7NpiqvRC"
      },
      "source": [
        "There are two ways to merge data with Pandas:\n",
        "\n",
        "- `pd.concat()` - stack additional data\n",
        "- `df.merge()` - database-style merge\n",
        "\n",
        "The type of merge you use depends upon the data that you're merging. \n",
        "\n",
        "If you have rows or columns that align, then `pd.concat()` is the best function to use because it stacks the data together.\n",
        "\n",
        "If you have datasets with a common key or value or index, then `pd.merge()` is the best function to use to achieve that relation.\n"
      ]
    },
    {
      "cell_type": "code",
      "execution_count": 245,
      "id": "7oK1TQiLi9b5",
      "metadata": {
        "id": "7oK1TQiLi9b5"
      },
      "outputs": [],
      "source": [
        "# data sets to merge\n",
        "df_2 = pd.DataFrame({'e': [63,84,76,28,81], 'f':[67,80,73,66,89]}, index=[1,2,3,4,5])\n",
        "\n",
        "df_3 = pd.DataFrame({'a':100,'b': 100, 'c': 100, 'd': 100, 'e': 100, 'f': 100}, index=[6])"
      ]
    },
    {
      "cell_type": "code",
      "execution_count": 246,
      "id": "9749b0b1",
      "metadata": {},
      "outputs": [
        {
          "data": {
            "text/html": [
              "<div>\n",
              "<style scoped>\n",
              "    .dataframe tbody tr th:only-of-type {\n",
              "        vertical-align: middle;\n",
              "    }\n",
              "\n",
              "    .dataframe tbody tr th {\n",
              "        vertical-align: top;\n",
              "    }\n",
              "\n",
              "    .dataframe thead th {\n",
              "        text-align: right;\n",
              "    }\n",
              "</style>\n",
              "<table border=\"1\" class=\"dataframe\">\n",
              "  <thead>\n",
              "    <tr style=\"text-align: right;\">\n",
              "      <th></th>\n",
              "      <th>e</th>\n",
              "      <th>f</th>\n",
              "    </tr>\n",
              "  </thead>\n",
              "  <tbody>\n",
              "    <tr>\n",
              "      <th>1</th>\n",
              "      <td>63</td>\n",
              "      <td>67</td>\n",
              "    </tr>\n",
              "    <tr>\n",
              "      <th>2</th>\n",
              "      <td>84</td>\n",
              "      <td>80</td>\n",
              "    </tr>\n",
              "    <tr>\n",
              "      <th>3</th>\n",
              "      <td>76</td>\n",
              "      <td>73</td>\n",
              "    </tr>\n",
              "    <tr>\n",
              "      <th>4</th>\n",
              "      <td>28</td>\n",
              "      <td>66</td>\n",
              "    </tr>\n",
              "    <tr>\n",
              "      <th>5</th>\n",
              "      <td>81</td>\n",
              "      <td>89</td>\n",
              "    </tr>\n",
              "  </tbody>\n",
              "</table>\n",
              "</div>"
            ],
            "text/plain": [
              "    e   f\n",
              "1  63  67\n",
              "2  84  80\n",
              "3  76  73\n",
              "4  28  66\n",
              "5  81  89"
            ]
          },
          "execution_count": 246,
          "metadata": {},
          "output_type": "execute_result"
        }
      ],
      "source": [
        "df_2"
      ]
    },
    {
      "cell_type": "code",
      "execution_count": 247,
      "id": "e1763065",
      "metadata": {},
      "outputs": [
        {
          "data": {
            "text/html": [
              "<div>\n",
              "<style scoped>\n",
              "    .dataframe tbody tr th:only-of-type {\n",
              "        vertical-align: middle;\n",
              "    }\n",
              "\n",
              "    .dataframe tbody tr th {\n",
              "        vertical-align: top;\n",
              "    }\n",
              "\n",
              "    .dataframe thead th {\n",
              "        text-align: right;\n",
              "    }\n",
              "</style>\n",
              "<table border=\"1\" class=\"dataframe\">\n",
              "  <thead>\n",
              "    <tr style=\"text-align: right;\">\n",
              "      <th></th>\n",
              "      <th>a</th>\n",
              "      <th>b</th>\n",
              "      <th>c</th>\n",
              "      <th>d</th>\n",
              "      <th>e</th>\n",
              "      <th>f</th>\n",
              "    </tr>\n",
              "  </thead>\n",
              "  <tbody>\n",
              "    <tr>\n",
              "      <th>6</th>\n",
              "      <td>100</td>\n",
              "      <td>100</td>\n",
              "      <td>100</td>\n",
              "      <td>100</td>\n",
              "      <td>100</td>\n",
              "      <td>100</td>\n",
              "    </tr>\n",
              "  </tbody>\n",
              "</table>\n",
              "</div>"
            ],
            "text/plain": [
              "     a    b    c    d    e    f\n",
              "6  100  100  100  100  100  100"
            ]
          },
          "execution_count": 247,
          "metadata": {},
          "output_type": "execute_result"
        }
      ],
      "source": [
        "df_3"
      ]
    },
    {
      "cell_type": "code",
      "execution_count": 248,
      "id": "yzVT7F5yqv4u",
      "metadata": {
        "colab": {
          "base_uri": "https://localhost:8080/",
          "height": 206
        },
        "id": "yzVT7F5yqv4u",
        "outputId": "28563fbb-0692-4d50-b969-cd92fc1860fc"
      },
      "outputs": [
        {
          "data": {
            "text/html": [
              "<div>\n",
              "<style scoped>\n",
              "    .dataframe tbody tr th:only-of-type {\n",
              "        vertical-align: middle;\n",
              "    }\n",
              "\n",
              "    .dataframe tbody tr th {\n",
              "        vertical-align: top;\n",
              "    }\n",
              "\n",
              "    .dataframe thead th {\n",
              "        text-align: right;\n",
              "    }\n",
              "</style>\n",
              "<table border=\"1\" class=\"dataframe\">\n",
              "  <thead>\n",
              "    <tr style=\"text-align: right;\">\n",
              "      <th></th>\n",
              "      <th>a</th>\n",
              "      <th>b</th>\n",
              "      <th>c</th>\n",
              "      <th>d</th>\n",
              "      <th>e</th>\n",
              "      <th>f</th>\n",
              "    </tr>\n",
              "  </thead>\n",
              "  <tbody>\n",
              "    <tr>\n",
              "      <th>1</th>\n",
              "      <td>80</td>\n",
              "      <td>80</td>\n",
              "      <td>66</td>\n",
              "      <td>79</td>\n",
              "      <td>63</td>\n",
              "      <td>67</td>\n",
              "    </tr>\n",
              "    <tr>\n",
              "      <th>2</th>\n",
              "      <td>75</td>\n",
              "      <td>85</td>\n",
              "      <td>75</td>\n",
              "      <td>83</td>\n",
              "      <td>84</td>\n",
              "      <td>80</td>\n",
              "    </tr>\n",
              "    <tr>\n",
              "      <th>3</th>\n",
              "      <td>70</td>\n",
              "      <td>90</td>\n",
              "      <td>91</td>\n",
              "      <td>99</td>\n",
              "      <td>76</td>\n",
              "      <td>73</td>\n",
              "    </tr>\n",
              "    <tr>\n",
              "      <th>4</th>\n",
              "      <td>90</td>\n",
              "      <td>95</td>\n",
              "      <td>72</td>\n",
              "      <td>90</td>\n",
              "      <td>28</td>\n",
              "      <td>66</td>\n",
              "    </tr>\n",
              "    <tr>\n",
              "      <th>5</th>\n",
              "      <td>98</td>\n",
              "      <td>100</td>\n",
              "      <td>83</td>\n",
              "      <td>76</td>\n",
              "      <td>81</td>\n",
              "      <td>89</td>\n",
              "    </tr>\n",
              "  </tbody>\n",
              "</table>\n",
              "</div>"
            ],
            "text/plain": [
              "    a    b   c   d   e   f\n",
              "1  80   80  66  79  63  67\n",
              "2  75   85  75  83  84  80\n",
              "3  70   90  91  99  76  73\n",
              "4  90   95  72  90  28  66\n",
              "5  98  100  83  76  81  89"
            ]
          },
          "metadata": {},
          "output_type": "display_data"
        }
      ],
      "source": [
        "# inner join - index is the common key\n",
        "df_final = df.merge(df_2,left_index=True,right_index=True)\n",
        "display(df_final)"
      ]
    },
    {
      "cell_type": "code",
      "execution_count": 249,
      "id": "YEMmiO8YhtVy",
      "metadata": {
        "colab": {
          "base_uri": "https://localhost:8080/",
          "height": 237
        },
        "id": "YEMmiO8YhtVy",
        "outputId": "513a26f0-3233-4eb4-af55-5795811e171d"
      },
      "outputs": [
        {
          "data": {
            "text/html": [
              "<div>\n",
              "<style scoped>\n",
              "    .dataframe tbody tr th:only-of-type {\n",
              "        vertical-align: middle;\n",
              "    }\n",
              "\n",
              "    .dataframe tbody tr th {\n",
              "        vertical-align: top;\n",
              "    }\n",
              "\n",
              "    .dataframe thead th {\n",
              "        text-align: right;\n",
              "    }\n",
              "</style>\n",
              "<table border=\"1\" class=\"dataframe\">\n",
              "  <thead>\n",
              "    <tr style=\"text-align: right;\">\n",
              "      <th></th>\n",
              "      <th>a</th>\n",
              "      <th>b</th>\n",
              "      <th>c</th>\n",
              "      <th>d</th>\n",
              "      <th>e</th>\n",
              "      <th>f</th>\n",
              "    </tr>\n",
              "  </thead>\n",
              "  <tbody>\n",
              "    <tr>\n",
              "      <th>1</th>\n",
              "      <td>80</td>\n",
              "      <td>80</td>\n",
              "      <td>66</td>\n",
              "      <td>79</td>\n",
              "      <td>63</td>\n",
              "      <td>67</td>\n",
              "    </tr>\n",
              "    <tr>\n",
              "      <th>2</th>\n",
              "      <td>75</td>\n",
              "      <td>85</td>\n",
              "      <td>75</td>\n",
              "      <td>83</td>\n",
              "      <td>84</td>\n",
              "      <td>80</td>\n",
              "    </tr>\n",
              "    <tr>\n",
              "      <th>3</th>\n",
              "      <td>70</td>\n",
              "      <td>90</td>\n",
              "      <td>91</td>\n",
              "      <td>99</td>\n",
              "      <td>76</td>\n",
              "      <td>73</td>\n",
              "    </tr>\n",
              "    <tr>\n",
              "      <th>4</th>\n",
              "      <td>90</td>\n",
              "      <td>95</td>\n",
              "      <td>72</td>\n",
              "      <td>90</td>\n",
              "      <td>28</td>\n",
              "      <td>66</td>\n",
              "    </tr>\n",
              "    <tr>\n",
              "      <th>5</th>\n",
              "      <td>98</td>\n",
              "      <td>100</td>\n",
              "      <td>83</td>\n",
              "      <td>76</td>\n",
              "      <td>81</td>\n",
              "      <td>89</td>\n",
              "    </tr>\n",
              "    <tr>\n",
              "      <th>6</th>\n",
              "      <td>100</td>\n",
              "      <td>100</td>\n",
              "      <td>100</td>\n",
              "      <td>100</td>\n",
              "      <td>100</td>\n",
              "      <td>100</td>\n",
              "    </tr>\n",
              "  </tbody>\n",
              "</table>\n",
              "</div>"
            ],
            "text/plain": [
              "     a    b    c    d    e    f\n",
              "1   80   80   66   79   63   67\n",
              "2   75   85   75   83   84   80\n",
              "3   70   90   91   99   76   73\n",
              "4   90   95   72   90   28   66\n",
              "5   98  100   83   76   81   89\n",
              "6  100  100  100  100  100  100"
            ]
          },
          "metadata": {},
          "output_type": "display_data"
        }
      ],
      "source": [
        "# stacking on additional data to the bottom of the data frame\n",
        "df_final = pd.concat([df_final,df_3])\n",
        "display(df_final)"
      ]
    },
    {
      "cell_type": "markdown",
      "id": "kk4AJxmdZGJ_",
      "metadata": {
        "id": "kk4AJxmdZGJ_"
      },
      "source": [
        "###### **Reshaping DataFrames**"
      ]
    },
    {
      "cell_type": "markdown",
      "id": "BAbF6VJxZRxa",
      "metadata": {
        "id": "BAbF6VJxZRxa"
      },
      "source": [
        "Sometimes data is not in the ideal shape we would like for it to be. There are three main functions to deal with reshaping:\n",
        "\n",
        "`.T` - transpose dataframe - switch rows and columns\n",
        "\n",
        "`.pivot()` - converting from long to wide formats\n",
        "\n",
        "`.melt()` - converting from wide to long formats"
      ]
    },
    {
      "cell_type": "code",
      "execution_count": 250,
      "id": "8A-EXxYVZFhJ",
      "metadata": {
        "colab": {
          "base_uri": "https://localhost:8080/",
          "height": 175
        },
        "id": "8A-EXxYVZFhJ",
        "outputId": "f5711c1b-b9ba-4785-918e-7c41ead97175"
      },
      "outputs": [
        {
          "data": {
            "text/html": [
              "<div>\n",
              "<style scoped>\n",
              "    .dataframe tbody tr th:only-of-type {\n",
              "        vertical-align: middle;\n",
              "    }\n",
              "\n",
              "    .dataframe tbody tr th {\n",
              "        vertical-align: top;\n",
              "    }\n",
              "\n",
              "    .dataframe thead th {\n",
              "        text-align: right;\n",
              "    }\n",
              "</style>\n",
              "<table border=\"1\" class=\"dataframe\">\n",
              "  <thead>\n",
              "    <tr style=\"text-align: right;\">\n",
              "      <th></th>\n",
              "      <th>Name</th>\n",
              "      <th>$/Hr</th>\n",
              "      <th>Age</th>\n",
              "      <th>Start Date</th>\n",
              "    </tr>\n",
              "  </thead>\n",
              "  <tbody>\n",
              "    <tr>\n",
              "      <th>1</th>\n",
              "      <td>Tom</td>\n",
              "      <td>20</td>\n",
              "      <td>19</td>\n",
              "      <td>07/06/2021</td>\n",
              "    </tr>\n",
              "    <tr>\n",
              "      <th>2</th>\n",
              "      <td>Steven</td>\n",
              "      <td>15</td>\n",
              "      <td>18</td>\n",
              "      <td>08/05/2022</td>\n",
              "    </tr>\n",
              "    <tr>\n",
              "      <th>3</th>\n",
              "      <td>Gianna</td>\n",
              "      <td>23</td>\n",
              "      <td>22</td>\n",
              "      <td>06/25/2021</td>\n",
              "    </tr>\n",
              "    <tr>\n",
              "      <th>4</th>\n",
              "      <td>Karina</td>\n",
              "      <td>25</td>\n",
              "      <td>21</td>\n",
              "      <td>07/01/2021</td>\n",
              "    </tr>\n",
              "  </tbody>\n",
              "</table>\n",
              "</div>"
            ],
            "text/plain": [
              "     Name  $/Hr  Age  Start Date\n",
              "1     Tom    20   19  07/06/2021\n",
              "2  Steven    15   18  08/05/2022\n",
              "3  Gianna    23   22  06/25/2021\n",
              "4  Karina    25   21  07/01/2021"
            ]
          },
          "metadata": {},
          "output_type": "display_data"
        }
      ],
      "source": [
        "#create employee dataset\n",
        "emp_data = [['Tom', 20, 19, '07/06/2021'],\n",
        "       ['Steven', 15, 18, '08/05/2022'],\n",
        "       ['Gianna', 23, 22, '06/25/2021'],\n",
        "       ['Karina', 25, 21, '07/01/2021']]\n",
        "\n",
        "emp = pd.DataFrame(emp_data, columns=['Name','$/Hr','Age','Start Date'], index=[1,2,3,4])\n",
        "display(emp)"
      ]
    },
    {
      "cell_type": "code",
      "execution_count": 251,
      "id": "DwGZyaSGheN3",
      "metadata": {
        "colab": {
          "base_uri": "https://localhost:8080/",
          "height": 175
        },
        "id": "DwGZyaSGheN3",
        "outputId": "cc2ac027-40e1-4691-bf1f-5bb95516ae3a"
      },
      "outputs": [
        {
          "data": {
            "text/html": [
              "<div>\n",
              "<style scoped>\n",
              "    .dataframe tbody tr th:only-of-type {\n",
              "        vertical-align: middle;\n",
              "    }\n",
              "\n",
              "    .dataframe tbody tr th {\n",
              "        vertical-align: top;\n",
              "    }\n",
              "\n",
              "    .dataframe thead th {\n",
              "        text-align: right;\n",
              "    }\n",
              "</style>\n",
              "<table border=\"1\" class=\"dataframe\">\n",
              "  <thead>\n",
              "    <tr style=\"text-align: right;\">\n",
              "      <th></th>\n",
              "      <th>1</th>\n",
              "      <th>2</th>\n",
              "      <th>3</th>\n",
              "      <th>4</th>\n",
              "    </tr>\n",
              "  </thead>\n",
              "  <tbody>\n",
              "    <tr>\n",
              "      <th>Name</th>\n",
              "      <td>Tom</td>\n",
              "      <td>Steven</td>\n",
              "      <td>Gianna</td>\n",
              "      <td>Karina</td>\n",
              "    </tr>\n",
              "    <tr>\n",
              "      <th>$/Hr</th>\n",
              "      <td>20</td>\n",
              "      <td>15</td>\n",
              "      <td>23</td>\n",
              "      <td>25</td>\n",
              "    </tr>\n",
              "    <tr>\n",
              "      <th>Age</th>\n",
              "      <td>19</td>\n",
              "      <td>18</td>\n",
              "      <td>22</td>\n",
              "      <td>21</td>\n",
              "    </tr>\n",
              "    <tr>\n",
              "      <th>Start Date</th>\n",
              "      <td>07/06/2021</td>\n",
              "      <td>08/05/2022</td>\n",
              "      <td>06/25/2021</td>\n",
              "      <td>07/01/2021</td>\n",
              "    </tr>\n",
              "  </tbody>\n",
              "</table>\n",
              "</div>"
            ],
            "text/plain": [
              "                     1           2           3           4\n",
              "Name               Tom      Steven      Gianna      Karina\n",
              "$/Hr                20          15          23          25\n",
              "Age                 19          18          22          21\n",
              "Start Date  07/06/2021  08/05/2022  06/25/2021  07/01/2021"
            ]
          },
          "metadata": {},
          "output_type": "display_data"
        }
      ],
      "source": [
        "# displaying T functionality\n",
        "display(emp.T)"
      ]
    },
    {
      "cell_type": "code",
      "execution_count": 252,
      "id": "-HDZZHPXh4JX",
      "metadata": {
        "colab": {
          "base_uri": "https://localhost:8080/",
          "height": 237
        },
        "id": "-HDZZHPXh4JX",
        "outputId": "a0245b44-5784-48a1-8843-ddda7e97fbeb"
      },
      "outputs": [
        {
          "data": {
            "text/html": [
              "<div>\n",
              "<style scoped>\n",
              "    .dataframe tbody tr th:only-of-type {\n",
              "        vertical-align: middle;\n",
              "    }\n",
              "\n",
              "    .dataframe tbody tr th {\n",
              "        vertical-align: top;\n",
              "    }\n",
              "\n",
              "    .dataframe thead th {\n",
              "        text-align: right;\n",
              "    }\n",
              "</style>\n",
              "<table border=\"1\" class=\"dataframe\">\n",
              "  <thead>\n",
              "    <tr style=\"text-align: right;\">\n",
              "      <th></th>\n",
              "      <th>A</th>\n",
              "      <th>B</th>\n",
              "      <th>C</th>\n",
              "    </tr>\n",
              "  </thead>\n",
              "  <tbody>\n",
              "    <tr>\n",
              "      <th>0</th>\n",
              "      <td>Sam</td>\n",
              "      <td>Bachelors</td>\n",
              "      <td>21</td>\n",
              "    </tr>\n",
              "    <tr>\n",
              "      <th>1</th>\n",
              "      <td>Christian</td>\n",
              "      <td>Graduated</td>\n",
              "      <td>22</td>\n",
              "    </tr>\n",
              "    <tr>\n",
              "      <th>2</th>\n",
              "      <td>Mafu</td>\n",
              "      <td>Graduated</td>\n",
              "      <td>23</td>\n",
              "    </tr>\n",
              "    <tr>\n",
              "      <th>3</th>\n",
              "      <td>Vivek</td>\n",
              "      <td>Masters</td>\n",
              "      <td>22</td>\n",
              "    </tr>\n",
              "    <tr>\n",
              "      <th>4</th>\n",
              "      <td>Keva</td>\n",
              "      <td>Bachelors</td>\n",
              "      <td>19</td>\n",
              "    </tr>\n",
              "    <tr>\n",
              "      <th>5</th>\n",
              "      <td>Thi</td>\n",
              "      <td>Masters</td>\n",
              "      <td>25</td>\n",
              "    </tr>\n",
              "  </tbody>\n",
              "</table>\n",
              "</div>"
            ],
            "text/plain": [
              "           A          B   C\n",
              "0        Sam  Bachelors  21\n",
              "1  Christian  Graduated  22\n",
              "2       Mafu  Graduated  23\n",
              "3      Vivek    Masters  22\n",
              "4       Keva  Bachelors  19\n",
              "5        Thi    Masters  25"
            ]
          },
          "metadata": {},
          "output_type": "display_data"
        }
      ],
      "source": [
        "#create student dataset\n",
        "stu_data = [['Sam','Bachelors', 21],\n",
        "            ['Christian', 'Graduated', 22],\n",
        "            ['Mafu', 'Graduated', 23],\n",
        "            ['Vivek','Masters', 22],\n",
        "            ['Keva', 'Bachelors', 19],\n",
        "            ['Thi', 'Masters', 25]]\n",
        "\n",
        "stud = pd.DataFrame(stu_data, columns=['A','B','C'])\n",
        "display(stud)"
      ]
    },
    {
      "cell_type": "code",
      "execution_count": 253,
      "id": "Wtb7PjXWlh1l",
      "metadata": {
        "colab": {
          "base_uri": "https://localhost:8080/",
          "height": 269
        },
        "id": "Wtb7PjXWlh1l",
        "outputId": "b538f31a-10a0-47c9-e8d5-8a59b61bf3d6"
      },
      "outputs": [
        {
          "data": {
            "text/html": [
              "<div>\n",
              "<style scoped>\n",
              "    .dataframe tbody tr th:only-of-type {\n",
              "        vertical-align: middle;\n",
              "    }\n",
              "\n",
              "    .dataframe tbody tr th {\n",
              "        vertical-align: top;\n",
              "    }\n",
              "\n",
              "    .dataframe thead th {\n",
              "        text-align: right;\n",
              "    }\n",
              "</style>\n",
              "<table border=\"1\" class=\"dataframe\">\n",
              "  <thead>\n",
              "    <tr style=\"text-align: right;\">\n",
              "      <th>B</th>\n",
              "      <th>Bachelors</th>\n",
              "      <th>Graduated</th>\n",
              "      <th>Masters</th>\n",
              "    </tr>\n",
              "    <tr>\n",
              "      <th>A</th>\n",
              "      <th></th>\n",
              "      <th></th>\n",
              "      <th></th>\n",
              "    </tr>\n",
              "  </thead>\n",
              "  <tbody>\n",
              "    <tr>\n",
              "      <th>Christian</th>\n",
              "      <td>NaN</td>\n",
              "      <td>22.0</td>\n",
              "      <td>NaN</td>\n",
              "    </tr>\n",
              "    <tr>\n",
              "      <th>Keva</th>\n",
              "      <td>19.0</td>\n",
              "      <td>NaN</td>\n",
              "      <td>NaN</td>\n",
              "    </tr>\n",
              "    <tr>\n",
              "      <th>Mafu</th>\n",
              "      <td>NaN</td>\n",
              "      <td>23.0</td>\n",
              "      <td>NaN</td>\n",
              "    </tr>\n",
              "    <tr>\n",
              "      <th>Sam</th>\n",
              "      <td>21.0</td>\n",
              "      <td>NaN</td>\n",
              "      <td>NaN</td>\n",
              "    </tr>\n",
              "    <tr>\n",
              "      <th>Thi</th>\n",
              "      <td>NaN</td>\n",
              "      <td>NaN</td>\n",
              "      <td>25.0</td>\n",
              "    </tr>\n",
              "    <tr>\n",
              "      <th>Vivek</th>\n",
              "      <td>NaN</td>\n",
              "      <td>NaN</td>\n",
              "      <td>22.0</td>\n",
              "    </tr>\n",
              "  </tbody>\n",
              "</table>\n",
              "</div>"
            ],
            "text/plain": [
              "B          Bachelors  Graduated  Masters\n",
              "A                                       \n",
              "Christian        NaN       22.0      NaN\n",
              "Keva            19.0        NaN      NaN\n",
              "Mafu             NaN       23.0      NaN\n",
              "Sam             21.0        NaN      NaN\n",
              "Thi              NaN        NaN     25.0\n",
              "Vivek            NaN        NaN     22.0"
            ]
          },
          "metadata": {},
          "output_type": "display_data"
        }
      ],
      "source": [
        "# display .pivot() functionality\n",
        "display(stud.pivot('A','B','C'))\n",
        "#empty values are filled with NaNs"
      ]
    },
    {
      "cell_type": "code",
      "execution_count": 254,
      "id": "9drtGf25oefx",
      "metadata": {
        "colab": {
          "base_uri": "https://localhost:8080/",
          "height": 237
        },
        "id": "9drtGf25oefx",
        "outputId": "131055b3-3324-4e6e-8be8-5851d02831b6"
      },
      "outputs": [
        {
          "data": {
            "text/html": [
              "<div>\n",
              "<style scoped>\n",
              "    .dataframe tbody tr th:only-of-type {\n",
              "        vertical-align: middle;\n",
              "    }\n",
              "\n",
              "    .dataframe tbody tr th {\n",
              "        vertical-align: top;\n",
              "    }\n",
              "\n",
              "    .dataframe thead th {\n",
              "        text-align: right;\n",
              "    }\n",
              "</style>\n",
              "<table border=\"1\" class=\"dataframe\">\n",
              "  <thead>\n",
              "    <tr style=\"text-align: right;\">\n",
              "      <th></th>\n",
              "      <th>Name</th>\n",
              "      <th>Status</th>\n",
              "      <th>Age</th>\n",
              "    </tr>\n",
              "  </thead>\n",
              "  <tbody>\n",
              "    <tr>\n",
              "      <th>0</th>\n",
              "      <td>Sam</td>\n",
              "      <td>Bachelors</td>\n",
              "      <td>21</td>\n",
              "    </tr>\n",
              "    <tr>\n",
              "      <th>1</th>\n",
              "      <td>Christian</td>\n",
              "      <td>Graduated</td>\n",
              "      <td>22</td>\n",
              "    </tr>\n",
              "    <tr>\n",
              "      <th>2</th>\n",
              "      <td>Mafu</td>\n",
              "      <td>Graduated</td>\n",
              "      <td>23</td>\n",
              "    </tr>\n",
              "    <tr>\n",
              "      <th>3</th>\n",
              "      <td>Vivek</td>\n",
              "      <td>Masters</td>\n",
              "      <td>22</td>\n",
              "    </tr>\n",
              "    <tr>\n",
              "      <th>4</th>\n",
              "      <td>Keva</td>\n",
              "      <td>Bachelors</td>\n",
              "      <td>19</td>\n",
              "    </tr>\n",
              "    <tr>\n",
              "      <th>5</th>\n",
              "      <td>Thi</td>\n",
              "      <td>Masters</td>\n",
              "      <td>25</td>\n",
              "    </tr>\n",
              "  </tbody>\n",
              "</table>\n",
              "</div>"
            ],
            "text/plain": [
              "        Name     Status  Age\n",
              "0        Sam  Bachelors   21\n",
              "1  Christian  Graduated   22\n",
              "2       Mafu  Graduated   23\n",
              "3      Vivek    Masters   22\n",
              "4       Keva  Bachelors   19\n",
              "5        Thi    Masters   25"
            ]
          },
          "metadata": {},
          "output_type": "display_data"
        }
      ],
      "source": [
        "#rename the columns\n",
        "stud.rename(columns={'A':'Name', 'B': 'Status', 'C': 'Age'}, inplace=True)\n",
        "display(stud)"
      ]
    },
    {
      "cell_type": "code",
      "execution_count": 255,
      "id": "iOzov_azm1Vf",
      "metadata": {
        "colab": {
          "base_uri": "https://localhost:8080/",
          "height": 237
        },
        "id": "iOzov_azm1Vf",
        "outputId": "02aaf9ec-8b5e-40db-d9e3-54c998a6ae14"
      },
      "outputs": [
        {
          "data": {
            "text/html": [
              "<div>\n",
              "<style scoped>\n",
              "    .dataframe tbody tr th:only-of-type {\n",
              "        vertical-align: middle;\n",
              "    }\n",
              "\n",
              "    .dataframe tbody tr th {\n",
              "        vertical-align: top;\n",
              "    }\n",
              "\n",
              "    .dataframe thead th {\n",
              "        text-align: right;\n",
              "    }\n",
              "</style>\n",
              "<table border=\"1\" class=\"dataframe\">\n",
              "  <thead>\n",
              "    <tr style=\"text-align: right;\">\n",
              "      <th></th>\n",
              "      <th>Name</th>\n",
              "      <th>variable</th>\n",
              "      <th>value</th>\n",
              "    </tr>\n",
              "  </thead>\n",
              "  <tbody>\n",
              "    <tr>\n",
              "      <th>0</th>\n",
              "      <td>Sam</td>\n",
              "      <td>Status</td>\n",
              "      <td>Bachelors</td>\n",
              "    </tr>\n",
              "    <tr>\n",
              "      <th>1</th>\n",
              "      <td>Christian</td>\n",
              "      <td>Status</td>\n",
              "      <td>Graduated</td>\n",
              "    </tr>\n",
              "    <tr>\n",
              "      <th>2</th>\n",
              "      <td>Mafu</td>\n",
              "      <td>Status</td>\n",
              "      <td>Graduated</td>\n",
              "    </tr>\n",
              "    <tr>\n",
              "      <th>3</th>\n",
              "      <td>Vivek</td>\n",
              "      <td>Status</td>\n",
              "      <td>Masters</td>\n",
              "    </tr>\n",
              "    <tr>\n",
              "      <th>4</th>\n",
              "      <td>Keva</td>\n",
              "      <td>Status</td>\n",
              "      <td>Bachelors</td>\n",
              "    </tr>\n",
              "    <tr>\n",
              "      <th>5</th>\n",
              "      <td>Thi</td>\n",
              "      <td>Status</td>\n",
              "      <td>Masters</td>\n",
              "    </tr>\n",
              "  </tbody>\n",
              "</table>\n",
              "</div>"
            ],
            "text/plain": [
              "        Name variable      value\n",
              "0        Sam   Status  Bachelors\n",
              "1  Christian   Status  Graduated\n",
              "2       Mafu   Status  Graduated\n",
              "3      Vivek   Status    Masters\n",
              "4       Keva   Status  Bachelors\n",
              "5        Thi   Status    Masters"
            ]
          },
          "metadata": {},
          "output_type": "display_data"
        }
      ],
      "source": [
        "# display .melt() functionality\n",
        "display(stud.melt(id_vars=['Name'], value_vars=['Status']))"
      ]
    },
    {
      "cell_type": "markdown",
      "id": "QT33CDmcJ46a",
      "metadata": {
        "id": "QT33CDmcJ46a"
      },
      "source": [
        "### Functions and DataFrames"
      ]
    },
    {
      "cell_type": "markdown",
      "id": "8PhhK74mBEH0",
      "metadata": {
        "id": "8PhhK74mBEH0"
      },
      "source": [
        "##### **Descriptive Statistics**"
      ]
    },
    {
      "cell_type": "markdown",
      "id": "Qvs_zRJDJjjM",
      "metadata": {
        "id": "Qvs_zRJDJjjM"
      },
      "source": [
        "Remember mean, median, and mode? Well, those are all examples of descriptive statistics or easy information about the dataset you're looking at. Pandas has inbuilt functions to streamline this process for dataframes - the most useful of which is `df.describe()`.\n",
        "\n",
        "Let's re-examine our df_final dataframe:"
      ]
    },
    {
      "cell_type": "code",
      "execution_count": 256,
      "id": "W99lP9Qh81M0",
      "metadata": {
        "id": "W99lP9Qh81M0"
      },
      "outputs": [
        {
          "data": {
            "text/html": [
              "<div>\n",
              "<style scoped>\n",
              "    .dataframe tbody tr th:only-of-type {\n",
              "        vertical-align: middle;\n",
              "    }\n",
              "\n",
              "    .dataframe tbody tr th {\n",
              "        vertical-align: top;\n",
              "    }\n",
              "\n",
              "    .dataframe thead th {\n",
              "        text-align: right;\n",
              "    }\n",
              "</style>\n",
              "<table border=\"1\" class=\"dataframe\">\n",
              "  <thead>\n",
              "    <tr style=\"text-align: right;\">\n",
              "      <th></th>\n",
              "      <th>Date</th>\n",
              "      <th>Open</th>\n",
              "      <th>High</th>\n",
              "      <th>Low</th>\n",
              "      <th>Close</th>\n",
              "      <th>Adj Close</th>\n",
              "      <th>Volume</th>\n",
              "    </tr>\n",
              "  </thead>\n",
              "  <tbody>\n",
              "    <tr>\n",
              "      <th>0</th>\n",
              "      <td>1986-03-13</td>\n",
              "      <td>0.088542</td>\n",
              "      <td>0.101563</td>\n",
              "      <td>0.088542</td>\n",
              "      <td>0.097222</td>\n",
              "      <td>0.061434</td>\n",
              "      <td>1031788800</td>\n",
              "    </tr>\n",
              "    <tr>\n",
              "      <th>1</th>\n",
              "      <td>1986-03-14</td>\n",
              "      <td>0.097222</td>\n",
              "      <td>0.102431</td>\n",
              "      <td>0.097222</td>\n",
              "      <td>0.100694</td>\n",
              "      <td>0.063628</td>\n",
              "      <td>308160000</td>\n",
              "    </tr>\n",
              "    <tr>\n",
              "      <th>2</th>\n",
              "      <td>1986-03-17</td>\n",
              "      <td>0.100694</td>\n",
              "      <td>0.103299</td>\n",
              "      <td>0.100694</td>\n",
              "      <td>0.102431</td>\n",
              "      <td>0.064725</td>\n",
              "      <td>133171200</td>\n",
              "    </tr>\n",
              "    <tr>\n",
              "      <th>3</th>\n",
              "      <td>1986-03-18</td>\n",
              "      <td>0.102431</td>\n",
              "      <td>0.103299</td>\n",
              "      <td>0.098958</td>\n",
              "      <td>0.099826</td>\n",
              "      <td>0.063079</td>\n",
              "      <td>67766400</td>\n",
              "    </tr>\n",
              "    <tr>\n",
              "      <th>4</th>\n",
              "      <td>1986-03-19</td>\n",
              "      <td>0.099826</td>\n",
              "      <td>0.100694</td>\n",
              "      <td>0.097222</td>\n",
              "      <td>0.098090</td>\n",
              "      <td>0.061982</td>\n",
              "      <td>47894400</td>\n",
              "    </tr>\n",
              "    <tr>\n",
              "      <th>...</th>\n",
              "      <td>...</td>\n",
              "      <td>...</td>\n",
              "      <td>...</td>\n",
              "      <td>...</td>\n",
              "      <td>...</td>\n",
              "      <td>...</td>\n",
              "      <td>...</td>\n",
              "    </tr>\n",
              "    <tr>\n",
              "      <th>9078</th>\n",
              "      <td>2022-03-18</td>\n",
              "      <td>295.369995</td>\n",
              "      <td>301.000000</td>\n",
              "      <td>292.730011</td>\n",
              "      <td>300.429993</td>\n",
              "      <td>300.429993</td>\n",
              "      <td>43317000</td>\n",
              "    </tr>\n",
              "    <tr>\n",
              "      <th>9079</th>\n",
              "      <td>2022-03-21</td>\n",
              "      <td>298.890015</td>\n",
              "      <td>300.140015</td>\n",
              "      <td>294.899994</td>\n",
              "      <td>299.160004</td>\n",
              "      <td>299.160004</td>\n",
              "      <td>28351200</td>\n",
              "    </tr>\n",
              "    <tr>\n",
              "      <th>9080</th>\n",
              "      <td>2022-03-22</td>\n",
              "      <td>299.799988</td>\n",
              "      <td>305.000000</td>\n",
              "      <td>298.769989</td>\n",
              "      <td>304.059998</td>\n",
              "      <td>304.059998</td>\n",
              "      <td>27599700</td>\n",
              "    </tr>\n",
              "    <tr>\n",
              "      <th>9081</th>\n",
              "      <td>2022-03-23</td>\n",
              "      <td>300.510010</td>\n",
              "      <td>303.230011</td>\n",
              "      <td>297.720001</td>\n",
              "      <td>299.489990</td>\n",
              "      <td>299.489990</td>\n",
              "      <td>25715400</td>\n",
              "    </tr>\n",
              "    <tr>\n",
              "      <th>9082</th>\n",
              "      <td>2022-03-24</td>\n",
              "      <td>299.140015</td>\n",
              "      <td>304.200012</td>\n",
              "      <td>298.320007</td>\n",
              "      <td>304.100006</td>\n",
              "      <td>304.100006</td>\n",
              "      <td>24446900</td>\n",
              "    </tr>\n",
              "  </tbody>\n",
              "</table>\n",
              "<p>9083 rows × 7 columns</p>\n",
              "</div>"
            ],
            "text/plain": [
              "            Date        Open        High         Low       Close   Adj Close  \\\n",
              "0     1986-03-13    0.088542    0.101563    0.088542    0.097222    0.061434   \n",
              "1     1986-03-14    0.097222    0.102431    0.097222    0.100694    0.063628   \n",
              "2     1986-03-17    0.100694    0.103299    0.100694    0.102431    0.064725   \n",
              "3     1986-03-18    0.102431    0.103299    0.098958    0.099826    0.063079   \n",
              "4     1986-03-19    0.099826    0.100694    0.097222    0.098090    0.061982   \n",
              "...          ...         ...         ...         ...         ...         ...   \n",
              "9078  2022-03-18  295.369995  301.000000  292.730011  300.429993  300.429993   \n",
              "9079  2022-03-21  298.890015  300.140015  294.899994  299.160004  299.160004   \n",
              "9080  2022-03-22  299.799988  305.000000  298.769989  304.059998  304.059998   \n",
              "9081  2022-03-23  300.510010  303.230011  297.720001  299.489990  299.489990   \n",
              "9082  2022-03-24  299.140015  304.200012  298.320007  304.100006  304.100006   \n",
              "\n",
              "          Volume  \n",
              "0     1031788800  \n",
              "1      308160000  \n",
              "2      133171200  \n",
              "3       67766400  \n",
              "4       47894400  \n",
              "...          ...  \n",
              "9078    43317000  \n",
              "9079    28351200  \n",
              "9080    27599700  \n",
              "9081    25715400  \n",
              "9082    24446900  \n",
              "\n",
              "[9083 rows x 7 columns]"
            ]
          },
          "metadata": {},
          "output_type": "display_data"
        }
      ],
      "source": [
        "display(msft)"
      ]
    },
    {
      "cell_type": "code",
      "execution_count": 257,
      "id": "LT3fyXKYCQnp",
      "metadata": {
        "colab": {
          "base_uri": "https://localhost:8080/",
          "height": 300
        },
        "id": "LT3fyXKYCQnp",
        "outputId": "6b566de6-4275-45cb-9a7d-1f5c6f4893c0"
      },
      "outputs": [
        {
          "data": {
            "text/html": [
              "<div>\n",
              "<style scoped>\n",
              "    .dataframe tbody tr th:only-of-type {\n",
              "        vertical-align: middle;\n",
              "    }\n",
              "\n",
              "    .dataframe tbody tr th {\n",
              "        vertical-align: top;\n",
              "    }\n",
              "\n",
              "    .dataframe thead th {\n",
              "        text-align: right;\n",
              "    }\n",
              "</style>\n",
              "<table border=\"1\" class=\"dataframe\">\n",
              "  <thead>\n",
              "    <tr style=\"text-align: right;\">\n",
              "      <th></th>\n",
              "      <th>Open</th>\n",
              "      <th>High</th>\n",
              "      <th>Low</th>\n",
              "      <th>Close</th>\n",
              "      <th>Adj Close</th>\n",
              "      <th>Volume</th>\n",
              "    </tr>\n",
              "  </thead>\n",
              "  <tbody>\n",
              "    <tr>\n",
              "      <th>count</th>\n",
              "      <td>9083.000000</td>\n",
              "      <td>9083.000000</td>\n",
              "      <td>9083.000000</td>\n",
              "      <td>9083.000000</td>\n",
              "      <td>9083.000000</td>\n",
              "      <td>9.083000e+03</td>\n",
              "    </tr>\n",
              "    <tr>\n",
              "      <th>mean</th>\n",
              "      <td>41.324936</td>\n",
              "      <td>41.760887</td>\n",
              "      <td>40.878488</td>\n",
              "      <td>41.335628</td>\n",
              "      <td>36.256120</td>\n",
              "      <td>5.875055e+07</td>\n",
              "    </tr>\n",
              "    <tr>\n",
              "      <th>std</th>\n",
              "      <td>59.696905</td>\n",
              "      <td>60.272218</td>\n",
              "      <td>59.081728</td>\n",
              "      <td>59.714567</td>\n",
              "      <td>59.981436</td>\n",
              "      <td>3.845200e+07</td>\n",
              "    </tr>\n",
              "    <tr>\n",
              "      <th>min</th>\n",
              "      <td>0.088542</td>\n",
              "      <td>0.092014</td>\n",
              "      <td>0.088542</td>\n",
              "      <td>0.090278</td>\n",
              "      <td>0.057046</td>\n",
              "      <td>2.304000e+06</td>\n",
              "    </tr>\n",
              "    <tr>\n",
              "      <th>25%</th>\n",
              "      <td>4.050781</td>\n",
              "      <td>4.102051</td>\n",
              "      <td>4.027344</td>\n",
              "      <td>4.075195</td>\n",
              "      <td>2.575089</td>\n",
              "      <td>3.461230e+07</td>\n",
              "    </tr>\n",
              "    <tr>\n",
              "      <th>50%</th>\n",
              "      <td>26.820000</td>\n",
              "      <td>27.100000</td>\n",
              "      <td>26.520000</td>\n",
              "      <td>26.840000</td>\n",
              "      <td>18.948530</td>\n",
              "      <td>5.203200e+07</td>\n",
              "    </tr>\n",
              "    <tr>\n",
              "      <th>75%</th>\n",
              "      <td>40.034999</td>\n",
              "      <td>40.443751</td>\n",
              "      <td>39.500000</td>\n",
              "      <td>39.937500</td>\n",
              "      <td>29.244812</td>\n",
              "      <td>7.265400e+07</td>\n",
              "    </tr>\n",
              "    <tr>\n",
              "      <th>max</th>\n",
              "      <td>344.619995</td>\n",
              "      <td>349.670013</td>\n",
              "      <td>342.200012</td>\n",
              "      <td>343.109985</td>\n",
              "      <td>342.402008</td>\n",
              "      <td>1.031789e+09</td>\n",
              "    </tr>\n",
              "  </tbody>\n",
              "</table>\n",
              "</div>"
            ],
            "text/plain": [
              "              Open         High          Low        Close    Adj Close  \\\n",
              "count  9083.000000  9083.000000  9083.000000  9083.000000  9083.000000   \n",
              "mean     41.324936    41.760887    40.878488    41.335628    36.256120   \n",
              "std      59.696905    60.272218    59.081728    59.714567    59.981436   \n",
              "min       0.088542     0.092014     0.088542     0.090278     0.057046   \n",
              "25%       4.050781     4.102051     4.027344     4.075195     2.575089   \n",
              "50%      26.820000    27.100000    26.520000    26.840000    18.948530   \n",
              "75%      40.034999    40.443751    39.500000    39.937500    29.244812   \n",
              "max     344.619995   349.670013   342.200012   343.109985   342.402008   \n",
              "\n",
              "             Volume  \n",
              "count  9.083000e+03  \n",
              "mean   5.875055e+07  \n",
              "std    3.845200e+07  \n",
              "min    2.304000e+06  \n",
              "25%    3.461230e+07  \n",
              "50%    5.203200e+07  \n",
              "75%    7.265400e+07  \n",
              "max    1.031789e+09  "
            ]
          },
          "execution_count": 257,
          "metadata": {},
          "output_type": "execute_result"
        }
      ],
      "source": [
        "# applying df.describe() to df_final\n",
        "msft.describe()"
      ]
    },
    {
      "cell_type": "markdown",
      "id": "AFDzDJDLKUSR",
      "metadata": {
        "id": "AFDzDJDLKUSR"
      },
      "source": [
        "You can very easily get each of these statistics by themselves by using .\"statistic\"(). \n",
        "\n",
        "Furthermore, you can specify how to apply these functions:\n",
        "- `axis=0` means by column, going through each row (default) - think vertical (up -> down)\n",
        "- `axis=1` means by row, going through each column - think horizontal (left -> right)\n",
        "\n",
        "These functions output a Series object."
      ]
    },
    {
      "cell_type": "code",
      "execution_count": 258,
      "id": "B7ZCnfzfLvom",
      "metadata": {
        "colab": {
          "base_uri": "https://localhost:8080/"
        },
        "id": "B7ZCnfzfLvom",
        "outputId": "fc3f0f56-0f59-4187-be98-471d36bcee8d"
      },
      "outputs": [
        {
          "name": "stderr",
          "output_type": "stream",
          "text": [
            "/var/folders/sj/3jvs639d20s87vbcgt_m3yc40000gn/T/ipykernel_84222/1563997374.py:2: FutureWarning: Dropping of nuisance columns in DataFrame reductions (with 'numeric_only=None') is deprecated; in a future version this will raise TypeError.  Select only valid columns before calling the reduction.\n",
            "  msft.mean()\n"
          ]
        },
        {
          "data": {
            "text/plain": [
              "Open         4.132494e+01\n",
              "High         4.176089e+01\n",
              "Low          4.087849e+01\n",
              "Close        4.133563e+01\n",
              "Adj Close    3.625612e+01\n",
              "Volume       5.875055e+07\n",
              "dtype: float64"
            ]
          },
          "execution_count": 258,
          "metadata": {},
          "output_type": "execute_result"
        }
      ],
      "source": [
        "# compute averages for each student\n",
        "msft.mean()"
      ]
    },
    {
      "cell_type": "markdown",
      "id": "oFv8lnVLXu70",
      "metadata": {
        "id": "oFv8lnVLXu70"
      },
      "source": [
        "##### **GroupBy**"
      ]
    },
    {
      "cell_type": "markdown",
      "id": "_FznEt3cYbsa",
      "metadata": {
        "id": "_FznEt3cYbsa"
      },
      "source": [
        "Pandas' GroupBy function mimics SQL's in that it boils down to conducting three processes at once:\n",
        "- Grouping data according to specified criteria (i.e. category)\n",
        "- Applying a function to each specified group\n",
        "- Combining the results into a data structure \n",
        "\n",
        "To write a successful GroupBy, you need to have three specifications present:\n",
        "- A DataFrame or Series\n",
        "- .groupby method with grouping specifications\n",
        "- function being applied to each grouping"
      ]
    },
    {
      "cell_type": "markdown",
      "id": "m4KgUkpv-nwX",
      "metadata": {
        "id": "m4KgUkpv-nwX"
      },
      "source": [
        "There are 4 ways to group the observations in a pandas data structure (Series or DataFrame):\n",
        "\n",
        "1. By a sequence of values that is the same length as the axis being grouped\n",
        "2. By a DataFrame column name (DataFrame only)**\n",
        "3. By a dictionary or Series giving a correspondence between the values on the axis being grouped and the group names\n",
        "4. By the results of a function call invoked on the axis index or the individual labels in the index\n",
        "\n",
        "** This is the method we will be covering and is the most common practice"
      ]
    },
    {
      "cell_type": "code",
      "execution_count": 259,
      "id": "6WqLZWsi-OsQ",
      "metadata": {
        "colab": {
          "base_uri": "https://localhost:8080/",
          "height": 363
        },
        "id": "6WqLZWsi-OsQ",
        "outputId": "7f90188a-3a99-46de-f389-4cc9104254c3"
      },
      "outputs": [
        {
          "data": {
            "text/html": [
              "<div>\n",
              "<style scoped>\n",
              "    .dataframe tbody tr th:only-of-type {\n",
              "        vertical-align: middle;\n",
              "    }\n",
              "\n",
              "    .dataframe tbody tr th {\n",
              "        vertical-align: top;\n",
              "    }\n",
              "\n",
              "    .dataframe thead th {\n",
              "        text-align: right;\n",
              "    }\n",
              "</style>\n",
              "<table border=\"1\" class=\"dataframe\">\n",
              "  <thead>\n",
              "    <tr style=\"text-align: right;\">\n",
              "      <th></th>\n",
              "      <th>date</th>\n",
              "      <th>time</th>\n",
              "      <th>pandas</th>\n",
              "      <th>numpy</th>\n",
              "    </tr>\n",
              "  </thead>\n",
              "  <tbody>\n",
              "    <tr>\n",
              "      <th>0</th>\n",
              "      <td>08/24/2022</td>\n",
              "      <td>Morning</td>\n",
              "      <td>5</td>\n",
              "      <td>5</td>\n",
              "    </tr>\n",
              "    <tr>\n",
              "      <th>1</th>\n",
              "      <td>08/24/2022</td>\n",
              "      <td>Morning</td>\n",
              "      <td>5</td>\n",
              "      <td>4</td>\n",
              "    </tr>\n",
              "    <tr>\n",
              "      <th>2</th>\n",
              "      <td>08/24/2022</td>\n",
              "      <td>Evening</td>\n",
              "      <td>4</td>\n",
              "      <td>4</td>\n",
              "    </tr>\n",
              "    <tr>\n",
              "      <th>3</th>\n",
              "      <td>08/24/2022</td>\n",
              "      <td>Afternoon</td>\n",
              "      <td>3</td>\n",
              "      <td>3</td>\n",
              "    </tr>\n",
              "    <tr>\n",
              "      <th>4</th>\n",
              "      <td>08/24/2022</td>\n",
              "      <td>Morning</td>\n",
              "      <td>2</td>\n",
              "      <td>2</td>\n",
              "    </tr>\n",
              "    <tr>\n",
              "      <th>5</th>\n",
              "      <td>08/24/2022</td>\n",
              "      <td>Afternoon</td>\n",
              "      <td>4</td>\n",
              "      <td>3</td>\n",
              "    </tr>\n",
              "    <tr>\n",
              "      <th>6</th>\n",
              "      <td>08/24/2022</td>\n",
              "      <td>Evening</td>\n",
              "      <td>4</td>\n",
              "      <td>4</td>\n",
              "    </tr>\n",
              "    <tr>\n",
              "      <th>7</th>\n",
              "      <td>08/24/2022</td>\n",
              "      <td>Evening</td>\n",
              "      <td>1</td>\n",
              "      <td>4</td>\n",
              "    </tr>\n",
              "    <tr>\n",
              "      <th>8</th>\n",
              "      <td>08/24/2022</td>\n",
              "      <td>Evening</td>\n",
              "      <td>2</td>\n",
              "      <td>2</td>\n",
              "    </tr>\n",
              "    <tr>\n",
              "      <th>9</th>\n",
              "      <td>08/24/2022</td>\n",
              "      <td>Morning</td>\n",
              "      <td>3</td>\n",
              "      <td>3</td>\n",
              "    </tr>\n",
              "  </tbody>\n",
              "</table>\n",
              "</div>"
            ],
            "text/plain": [
              "         date       time  pandas  numpy\n",
              "0  08/24/2022    Morning       5      5\n",
              "1  08/24/2022    Morning       5      4\n",
              "2  08/24/2022    Evening       4      4\n",
              "3  08/24/2022  Afternoon       3      3\n",
              "4  08/24/2022    Morning       2      2\n",
              "5  08/24/2022  Afternoon       4      3\n",
              "6  08/24/2022    Evening       4      4\n",
              "7  08/24/2022    Evening       1      4\n",
              "8  08/24/2022    Evening       2      2\n",
              "9  08/24/2022    Morning       3      3"
            ]
          },
          "metadata": {},
          "output_type": "display_data"
        }
      ],
      "source": [
        "# create a new dataframe\n",
        "form = pd.DataFrame({'date': ['08/24/2022','08/24/2022','08/24/2022','08/24/2022','08/24/2022','08/24/2022','08/24/2022','08/24/2022','08/24/2022','08/24/2022'],'time': ['Morning', 'Morning', 'Evening', 'Afternoon','Morning','Afternoon','Evening','Evening','Evening','Morning'], 'pandas': [5,5,4,3,2,4,4,1,2,3], 'numpy': [5,4,4,3,2,3,4,4,2,3]})\n",
        "\n",
        "display(form)"
      ]
    },
    {
      "cell_type": "markdown",
      "id": "DsWazFqQCrsx",
      "metadata": {
        "id": "DsWazFqQCrsx"
      },
      "source": [
        "**--THOUGHT EXERCISE--**\n",
        "\n",
        "What kinds of groups can we make with this data? What types of functions can we apply to get insight about this data?"
      ]
    },
    {
      "cell_type": "code",
      "execution_count": 260,
      "id": "gIpIl2YjECXr",
      "metadata": {
        "colab": {
          "base_uri": "https://localhost:8080/"
        },
        "id": "gIpIl2YjECXr",
        "outputId": "ed7475de-4d45-4215-b12d-487df2b7d17a"
      },
      "outputs": [
        {
          "data": {
            "text/plain": [
              "<pandas.core.groupby.generic.DataFrameGroupBy object at 0x7f9686d2b3a0>"
            ]
          },
          "execution_count": 260,
          "metadata": {},
          "output_type": "execute_result"
        }
      ],
      "source": [
        "# creating a group for time\n",
        "# you can also group multiple columns by using a list\n",
        "grouped = form.groupby(by='time')\n",
        "grouped"
      ]
    },
    {
      "cell_type": "code",
      "execution_count": 261,
      "id": "UryHCyhUFkD0",
      "metadata": {
        "colab": {
          "base_uri": "https://localhost:8080/"
        },
        "id": "UryHCyhUFkD0",
        "outputId": "cadb3433-0b9a-4de9-c3ca-a8a4eeec8076"
      },
      "outputs": [
        {
          "data": {
            "text/plain": [
              "time\n",
              "Afternoon    2\n",
              "Evening      4\n",
              "Morning      4\n",
              "dtype: int64"
            ]
          },
          "execution_count": 261,
          "metadata": {},
          "output_type": "execute_result"
        }
      ],
      "source": [
        "# let's see the frequency of each group \n",
        "grouped.size()"
      ]
    },
    {
      "cell_type": "code",
      "execution_count": 262,
      "id": "hC66YWeuF35z",
      "metadata": {
        "colab": {
          "base_uri": "https://localhost:8080/",
          "height": 175
        },
        "id": "hC66YWeuF35z",
        "outputId": "1fe1df4d-2ebe-4348-f7d4-1df7e374fc54"
      },
      "outputs": [
        {
          "data": {
            "text/html": [
              "<div>\n",
              "<style scoped>\n",
              "    .dataframe tbody tr th:only-of-type {\n",
              "        vertical-align: middle;\n",
              "    }\n",
              "\n",
              "    .dataframe tbody tr th {\n",
              "        vertical-align: top;\n",
              "    }\n",
              "\n",
              "    .dataframe thead th {\n",
              "        text-align: right;\n",
              "    }\n",
              "</style>\n",
              "<table border=\"1\" class=\"dataframe\">\n",
              "  <thead>\n",
              "    <tr style=\"text-align: right;\">\n",
              "      <th></th>\n",
              "      <th>date</th>\n",
              "      <th>time</th>\n",
              "      <th>pandas</th>\n",
              "      <th>numpy</th>\n",
              "    </tr>\n",
              "  </thead>\n",
              "  <tbody>\n",
              "    <tr>\n",
              "      <th>2</th>\n",
              "      <td>08/24/2022</td>\n",
              "      <td>Evening</td>\n",
              "      <td>4</td>\n",
              "      <td>4</td>\n",
              "    </tr>\n",
              "    <tr>\n",
              "      <th>6</th>\n",
              "      <td>08/24/2022</td>\n",
              "      <td>Evening</td>\n",
              "      <td>4</td>\n",
              "      <td>4</td>\n",
              "    </tr>\n",
              "    <tr>\n",
              "      <th>7</th>\n",
              "      <td>08/24/2022</td>\n",
              "      <td>Evening</td>\n",
              "      <td>1</td>\n",
              "      <td>4</td>\n",
              "    </tr>\n",
              "    <tr>\n",
              "      <th>8</th>\n",
              "      <td>08/24/2022</td>\n",
              "      <td>Evening</td>\n",
              "      <td>2</td>\n",
              "      <td>2</td>\n",
              "    </tr>\n",
              "  </tbody>\n",
              "</table>\n",
              "</div>"
            ],
            "text/plain": [
              "         date     time  pandas  numpy\n",
              "2  08/24/2022  Evening       4      4\n",
              "6  08/24/2022  Evening       4      4\n",
              "7  08/24/2022  Evening       1      4\n",
              "8  08/24/2022  Evening       2      2"
            ]
          },
          "execution_count": 262,
          "metadata": {},
          "output_type": "execute_result"
        }
      ],
      "source": [
        "# let's look into one specific group in particular\n",
        "grouped.get_group('Evening')"
      ]
    },
    {
      "cell_type": "markdown",
      "id": "urmKON_EGV1s",
      "metadata": {
        "id": "urmKON_EGV1s"
      },
      "source": [
        "**EXERCISE**\n",
        "\n",
        "What is another way we can get the same dataframe generated above?"
      ]
    },
    {
      "cell_type": "code",
      "execution_count": 263,
      "id": "GUN0A8k4GLo2",
      "metadata": {
        "id": "GUN0A8k4GLo2"
      },
      "outputs": [],
      "source": [
        "# Enter Answer\n"
      ]
    },
    {
      "cell_type": "markdown",
      "id": "x5j7O_5yHKXE",
      "metadata": {
        "id": "x5j7O_5yHKXE"
      },
      "source": [
        "**EXERCISE**\n",
        "\n",
        "Calculate the average expertise level of NumPy and Pandas amongst the time grouping."
      ]
    },
    {
      "cell_type": "code",
      "execution_count": 264,
      "id": "48lu9lEfHcMe",
      "metadata": {
        "id": "48lu9lEfHcMe"
      },
      "outputs": [],
      "source": [
        "# Enter Answer\n"
      ]
    },
    {
      "cell_type": "markdown",
      "id": "ceV-EoEyA4Qs",
      "metadata": {
        "id": "ceV-EoEyA4Qs"
      },
      "source": [
        "##### **Applying Functions to a DataFrame** - df.apply() and df.applymap()"
      ]
    },
    {
      "cell_type": "markdown",
      "id": "ApvEkoQ7mIPr",
      "metadata": {
        "id": "ApvEkoQ7mIPr"
      },
      "source": [
        "`df.apply()` is the easiest way to apply your own custom function to entire rows and/or columns (this includes lambdas and inbuilt functions!). \n",
        "\n",
        "`df.applymap()` applies function to each element in a dataframe.\n",
        "\n",
        "You can once again specify rows or columns by using \n",
        "axis=0 (column) or axis=1 (row) for `df.apply()`."
      ]
    },
    {
      "cell_type": "code",
      "execution_count": 265,
      "id": "ht0RAIvE9LXI",
      "metadata": {
        "id": "ht0RAIvE9LXI"
      },
      "outputs": [
        {
          "data": {
            "text/html": [
              "<div>\n",
              "<style scoped>\n",
              "    .dataframe tbody tr th:only-of-type {\n",
              "        vertical-align: middle;\n",
              "    }\n",
              "\n",
              "    .dataframe tbody tr th {\n",
              "        vertical-align: top;\n",
              "    }\n",
              "\n",
              "    .dataframe thead th {\n",
              "        text-align: right;\n",
              "    }\n",
              "</style>\n",
              "<table border=\"1\" class=\"dataframe\">\n",
              "  <thead>\n",
              "    <tr style=\"text-align: right;\">\n",
              "      <th></th>\n",
              "      <th>a</th>\n",
              "      <th>b</th>\n",
              "      <th>c</th>\n",
              "      <th>d</th>\n",
              "      <th>e</th>\n",
              "      <th>f</th>\n",
              "    </tr>\n",
              "  </thead>\n",
              "  <tbody>\n",
              "    <tr>\n",
              "      <th>1</th>\n",
              "      <td>80</td>\n",
              "      <td>80</td>\n",
              "      <td>66</td>\n",
              "      <td>79</td>\n",
              "      <td>63</td>\n",
              "      <td>67</td>\n",
              "    </tr>\n",
              "    <tr>\n",
              "      <th>2</th>\n",
              "      <td>75</td>\n",
              "      <td>85</td>\n",
              "      <td>75</td>\n",
              "      <td>83</td>\n",
              "      <td>84</td>\n",
              "      <td>80</td>\n",
              "    </tr>\n",
              "    <tr>\n",
              "      <th>3</th>\n",
              "      <td>70</td>\n",
              "      <td>90</td>\n",
              "      <td>91</td>\n",
              "      <td>99</td>\n",
              "      <td>76</td>\n",
              "      <td>73</td>\n",
              "    </tr>\n",
              "    <tr>\n",
              "      <th>4</th>\n",
              "      <td>90</td>\n",
              "      <td>95</td>\n",
              "      <td>72</td>\n",
              "      <td>90</td>\n",
              "      <td>28</td>\n",
              "      <td>66</td>\n",
              "    </tr>\n",
              "    <tr>\n",
              "      <th>5</th>\n",
              "      <td>98</td>\n",
              "      <td>100</td>\n",
              "      <td>83</td>\n",
              "      <td>76</td>\n",
              "      <td>81</td>\n",
              "      <td>89</td>\n",
              "    </tr>\n",
              "    <tr>\n",
              "      <th>6</th>\n",
              "      <td>100</td>\n",
              "      <td>100</td>\n",
              "      <td>100</td>\n",
              "      <td>100</td>\n",
              "      <td>100</td>\n",
              "      <td>100</td>\n",
              "    </tr>\n",
              "  </tbody>\n",
              "</table>\n",
              "</div>"
            ],
            "text/plain": [
              "     a    b    c    d    e    f\n",
              "1   80   80   66   79   63   67\n",
              "2   75   85   75   83   84   80\n",
              "3   70   90   91   99   76   73\n",
              "4   90   95   72   90   28   66\n",
              "5   98  100   83   76   81   89\n",
              "6  100  100  100  100  100  100"
            ]
          },
          "metadata": {},
          "output_type": "display_data"
        }
      ],
      "source": [
        "# reloading df_final\n",
        "display(df_final)"
      ]
    },
    {
      "cell_type": "code",
      "execution_count": 266,
      "id": "elmqAQdpL-Wq",
      "metadata": {
        "colab": {
          "base_uri": "https://localhost:8080/",
          "height": 237
        },
        "id": "elmqAQdpL-Wq",
        "outputId": "f0825ae0-a800-4a99-880a-18ceb04b6c0c"
      },
      "outputs": [
        {
          "data": {
            "text/html": [
              "<div>\n",
              "<style scoped>\n",
              "    .dataframe tbody tr th:only-of-type {\n",
              "        vertical-align: middle;\n",
              "    }\n",
              "\n",
              "    .dataframe tbody tr th {\n",
              "        vertical-align: top;\n",
              "    }\n",
              "\n",
              "    .dataframe thead th {\n",
              "        text-align: right;\n",
              "    }\n",
              "</style>\n",
              "<table border=\"1\" class=\"dataframe\">\n",
              "  <thead>\n",
              "    <tr style=\"text-align: right;\">\n",
              "      <th></th>\n",
              "      <th>a</th>\n",
              "      <th>b</th>\n",
              "      <th>c</th>\n",
              "      <th>d</th>\n",
              "      <th>e</th>\n",
              "      <th>f</th>\n",
              "    </tr>\n",
              "  </thead>\n",
              "  <tbody>\n",
              "    <tr>\n",
              "      <th>1</th>\n",
              "      <td>15.594542</td>\n",
              "      <td>14.545455</td>\n",
              "      <td>13.552361</td>\n",
              "      <td>14.990512</td>\n",
              "      <td>14.583333</td>\n",
              "      <td>14.105263</td>\n",
              "    </tr>\n",
              "    <tr>\n",
              "      <th>2</th>\n",
              "      <td>14.619883</td>\n",
              "      <td>15.454545</td>\n",
              "      <td>15.400411</td>\n",
              "      <td>15.749526</td>\n",
              "      <td>19.444444</td>\n",
              "      <td>16.842105</td>\n",
              "    </tr>\n",
              "    <tr>\n",
              "      <th>3</th>\n",
              "      <td>13.645224</td>\n",
              "      <td>16.363636</td>\n",
              "      <td>18.685832</td>\n",
              "      <td>18.785579</td>\n",
              "      <td>17.592593</td>\n",
              "      <td>15.368421</td>\n",
              "    </tr>\n",
              "    <tr>\n",
              "      <th>4</th>\n",
              "      <td>17.543860</td>\n",
              "      <td>17.272727</td>\n",
              "      <td>14.784394</td>\n",
              "      <td>17.077799</td>\n",
              "      <td>6.481481</td>\n",
              "      <td>13.894737</td>\n",
              "    </tr>\n",
              "    <tr>\n",
              "      <th>5</th>\n",
              "      <td>19.103314</td>\n",
              "      <td>18.181818</td>\n",
              "      <td>17.043121</td>\n",
              "      <td>14.421252</td>\n",
              "      <td>18.750000</td>\n",
              "      <td>18.736842</td>\n",
              "    </tr>\n",
              "    <tr>\n",
              "      <th>6</th>\n",
              "      <td>19.493177</td>\n",
              "      <td>18.181818</td>\n",
              "      <td>20.533881</td>\n",
              "      <td>18.975332</td>\n",
              "      <td>23.148148</td>\n",
              "      <td>21.052632</td>\n",
              "    </tr>\n",
              "  </tbody>\n",
              "</table>\n",
              "</div>"
            ],
            "text/plain": [
              "           a          b          c          d          e          f\n",
              "1  15.594542  14.545455  13.552361  14.990512  14.583333  14.105263\n",
              "2  14.619883  15.454545  15.400411  15.749526  19.444444  16.842105\n",
              "3  13.645224  16.363636  18.685832  18.785579  17.592593  15.368421\n",
              "4  17.543860  17.272727  14.784394  17.077799   6.481481  13.894737\n",
              "5  19.103314  18.181818  17.043121  14.421252  18.750000  18.736842\n",
              "6  19.493177  18.181818  20.533881  18.975332  23.148148  21.052632"
            ]
          },
          "execution_count": 266,
          "metadata": {},
          "output_type": "execute_result"
        }
      ],
      "source": [
        "# calculate the percentage weight of each student's test score to the their total points\n",
        "df_final.apply(lambda x: x/x.sum()*100, axis=0)"
      ]
    },
    {
      "cell_type": "code",
      "execution_count": 267,
      "id": "SRo8GHvOrq8H",
      "metadata": {
        "colab": {
          "base_uri": "https://localhost:8080/",
          "height": 237
        },
        "id": "SRo8GHvOrq8H",
        "outputId": "ca125bc5-4de0-4566-8e7e-a0fe57f34c01"
      },
      "outputs": [
        {
          "data": {
            "text/html": [
              "<div>\n",
              "<style scoped>\n",
              "    .dataframe tbody tr th:only-of-type {\n",
              "        vertical-align: middle;\n",
              "    }\n",
              "\n",
              "    .dataframe tbody tr th {\n",
              "        vertical-align: top;\n",
              "    }\n",
              "\n",
              "    .dataframe thead th {\n",
              "        text-align: right;\n",
              "    }\n",
              "</style>\n",
              "<table border=\"1\" class=\"dataframe\">\n",
              "  <thead>\n",
              "    <tr style=\"text-align: right;\">\n",
              "      <th></th>\n",
              "      <th>a</th>\n",
              "      <th>b</th>\n",
              "      <th>c</th>\n",
              "      <th>d</th>\n",
              "      <th>e</th>\n",
              "      <th>f</th>\n",
              "    </tr>\n",
              "  </thead>\n",
              "  <tbody>\n",
              "    <tr>\n",
              "      <th>1</th>\n",
              "      <td>80%</td>\n",
              "      <td>80%</td>\n",
              "      <td>66%</td>\n",
              "      <td>79%</td>\n",
              "      <td>63%</td>\n",
              "      <td>67%</td>\n",
              "    </tr>\n",
              "    <tr>\n",
              "      <th>2</th>\n",
              "      <td>75%</td>\n",
              "      <td>85%</td>\n",
              "      <td>75%</td>\n",
              "      <td>83%</td>\n",
              "      <td>84%</td>\n",
              "      <td>80%</td>\n",
              "    </tr>\n",
              "    <tr>\n",
              "      <th>3</th>\n",
              "      <td>70%</td>\n",
              "      <td>90%</td>\n",
              "      <td>91%</td>\n",
              "      <td>99%</td>\n",
              "      <td>76%</td>\n",
              "      <td>73%</td>\n",
              "    </tr>\n",
              "    <tr>\n",
              "      <th>4</th>\n",
              "      <td>90%</td>\n",
              "      <td>95%</td>\n",
              "      <td>72%</td>\n",
              "      <td>90%</td>\n",
              "      <td>28%</td>\n",
              "      <td>66%</td>\n",
              "    </tr>\n",
              "    <tr>\n",
              "      <th>5</th>\n",
              "      <td>98%</td>\n",
              "      <td>100%</td>\n",
              "      <td>83%</td>\n",
              "      <td>76%</td>\n",
              "      <td>81%</td>\n",
              "      <td>89%</td>\n",
              "    </tr>\n",
              "    <tr>\n",
              "      <th>6</th>\n",
              "      <td>100%</td>\n",
              "      <td>100%</td>\n",
              "      <td>100%</td>\n",
              "      <td>100%</td>\n",
              "      <td>100%</td>\n",
              "      <td>100%</td>\n",
              "    </tr>\n",
              "  </tbody>\n",
              "</table>\n",
              "</div>"
            ],
            "text/plain": [
              "      a     b     c     d     e     f\n",
              "1   80%   80%   66%   79%   63%   67%\n",
              "2   75%   85%   75%   83%   84%   80%\n",
              "3   70%   90%   91%   99%   76%   73%\n",
              "4   90%   95%   72%   90%   28%   66%\n",
              "5   98%  100%   83%   76%   81%   89%\n",
              "6  100%  100%  100%  100%  100%  100%"
            ]
          },
          "execution_count": 267,
          "metadata": {},
          "output_type": "execute_result"
        }
      ],
      "source": [
        "# make the test scores display as percentages\n",
        "df_final.applymap(lambda x: f'{x}%')"
      ]
    },
    {
      "cell_type": "markdown",
      "id": "3oJMKe_JJ-tg",
      "metadata": {
        "id": "3oJMKe_JJ-tg"
      },
      "source": [
        "##### **Conditional Functions** - np.where()\n",
        "\n"
      ]
    },
    {
      "cell_type": "markdown",
      "id": "GsiHN6TlsxeJ",
      "metadata": {
        "id": "GsiHN6TlsxeJ"
      },
      "source": [
        "`np.where()` is a powerful function enables the power to essentially embody a `if...then...else...` in one singular statement. It can be applied to any type of collection.\n",
        "\n",
        "Here's the anatomy of this function:\n",
        "\n",
        "np.where(condition, result_if_true, result_if_false)"
      ]
    },
    {
      "cell_type": "code",
      "execution_count": 268,
      "id": "Vm_lhcx6KNtv",
      "metadata": {
        "colab": {
          "base_uri": "https://localhost:8080/",
          "height": 237
        },
        "id": "Vm_lhcx6KNtv",
        "outputId": "7980bec1-e0eb-4dda-c016-90668b8a1733"
      },
      "outputs": [
        {
          "data": {
            "text/html": [
              "<div>\n",
              "<style scoped>\n",
              "    .dataframe tbody tr th:only-of-type {\n",
              "        vertical-align: middle;\n",
              "    }\n",
              "\n",
              "    .dataframe tbody tr th {\n",
              "        vertical-align: top;\n",
              "    }\n",
              "\n",
              "    .dataframe thead th {\n",
              "        text-align: right;\n",
              "    }\n",
              "</style>\n",
              "<table border=\"1\" class=\"dataframe\">\n",
              "  <thead>\n",
              "    <tr style=\"text-align: right;\">\n",
              "      <th></th>\n",
              "      <th>a</th>\n",
              "      <th>b</th>\n",
              "      <th>c</th>\n",
              "      <th>d</th>\n",
              "      <th>e</th>\n",
              "      <th>f</th>\n",
              "    </tr>\n",
              "  </thead>\n",
              "  <tbody>\n",
              "    <tr>\n",
              "      <th>1</th>\n",
              "      <td>-------</td>\n",
              "      <td>-------</td>\n",
              "      <td>-------</td>\n",
              "      <td>-------</td>\n",
              "      <td>Retake</td>\n",
              "      <td>-------</td>\n",
              "    </tr>\n",
              "    <tr>\n",
              "      <th>2</th>\n",
              "      <td>-------</td>\n",
              "      <td>-------</td>\n",
              "      <td>-------</td>\n",
              "      <td>-------</td>\n",
              "      <td>-------</td>\n",
              "      <td>-------</td>\n",
              "    </tr>\n",
              "    <tr>\n",
              "      <th>3</th>\n",
              "      <td>-------</td>\n",
              "      <td>-------</td>\n",
              "      <td>-------</td>\n",
              "      <td>-------</td>\n",
              "      <td>-------</td>\n",
              "      <td>-------</td>\n",
              "    </tr>\n",
              "    <tr>\n",
              "      <th>4</th>\n",
              "      <td>-------</td>\n",
              "      <td>-------</td>\n",
              "      <td>-------</td>\n",
              "      <td>-------</td>\n",
              "      <td>Retake</td>\n",
              "      <td>-------</td>\n",
              "    </tr>\n",
              "    <tr>\n",
              "      <th>5</th>\n",
              "      <td>-------</td>\n",
              "      <td>-------</td>\n",
              "      <td>-------</td>\n",
              "      <td>-------</td>\n",
              "      <td>-------</td>\n",
              "      <td>-------</td>\n",
              "    </tr>\n",
              "    <tr>\n",
              "      <th>6</th>\n",
              "      <td>-------</td>\n",
              "      <td>-------</td>\n",
              "      <td>-------</td>\n",
              "      <td>-------</td>\n",
              "      <td>-------</td>\n",
              "      <td>-------</td>\n",
              "    </tr>\n",
              "  </tbody>\n",
              "</table>\n",
              "</div>"
            ],
            "text/plain": [
              "           a          b          c          d          e          f\n",
              "1   -------    -------    -------    -------      Retake   ------- \n",
              "2   -------    -------    -------    -------    -------    ------- \n",
              "3   -------    -------    -------    -------    -------    ------- \n",
              "4   -------    -------    -------    -------      Retake   ------- \n",
              "5   -------    -------    -------    -------    -------    ------- \n",
              "6   -------    -------    -------    -------    -------    ------- "
            ]
          },
          "execution_count": 268,
          "metadata": {},
          "output_type": "execute_result"
        }
      ],
      "source": [
        "# let's flag all the tests that are below a certain score as retake\n",
        "df_final.apply(lambda x: np.where(x < 65, 'Retake', ' ------- '))"
      ]
    },
    {
      "cell_type": "markdown",
      "id": "U11CBvAkN5qy",
      "metadata": {
        "id": "U11CBvAkN5qy"
      },
      "source": [
        "##### **Masking/Filtering**"
      ]
    },
    {
      "cell_type": "markdown",
      "id": "yfFdRVHUOMXe",
      "metadata": {
        "id": "yfFdRVHUOMXe"
      },
      "source": [
        "Masking refers to hiding values based upon a condition. We can do this with dataframes by using `df[condition]` or with arrays by using `arr[condition]`."
      ]
    },
    {
      "cell_type": "code",
      "execution_count": 269,
      "id": "M2i_yfACOIK1",
      "metadata": {
        "colab": {
          "base_uri": "https://localhost:8080/",
          "height": 237
        },
        "id": "M2i_yfACOIK1",
        "outputId": "b59d9704-edfa-4a67-af03-b2e7de37cc93"
      },
      "outputs": [
        {
          "data": {
            "text/html": [
              "<div>\n",
              "<style scoped>\n",
              "    .dataframe tbody tr th:only-of-type {\n",
              "        vertical-align: middle;\n",
              "    }\n",
              "\n",
              "    .dataframe tbody tr th {\n",
              "        vertical-align: top;\n",
              "    }\n",
              "\n",
              "    .dataframe thead th {\n",
              "        text-align: right;\n",
              "    }\n",
              "</style>\n",
              "<table border=\"1\" class=\"dataframe\">\n",
              "  <thead>\n",
              "    <tr style=\"text-align: right;\">\n",
              "      <th></th>\n",
              "      <th>a</th>\n",
              "      <th>b</th>\n",
              "      <th>c</th>\n",
              "      <th>d</th>\n",
              "      <th>e</th>\n",
              "      <th>f</th>\n",
              "    </tr>\n",
              "  </thead>\n",
              "  <tbody>\n",
              "    <tr>\n",
              "      <th>1</th>\n",
              "      <td>NaN</td>\n",
              "      <td>NaN</td>\n",
              "      <td>NaN</td>\n",
              "      <td>NaN</td>\n",
              "      <td>NaN</td>\n",
              "      <td>NaN</td>\n",
              "    </tr>\n",
              "    <tr>\n",
              "      <th>2</th>\n",
              "      <td>NaN</td>\n",
              "      <td>NaN</td>\n",
              "      <td>NaN</td>\n",
              "      <td>NaN</td>\n",
              "      <td>NaN</td>\n",
              "      <td>NaN</td>\n",
              "    </tr>\n",
              "    <tr>\n",
              "      <th>3</th>\n",
              "      <td>NaN</td>\n",
              "      <td>90.0</td>\n",
              "      <td>91.0</td>\n",
              "      <td>99.0</td>\n",
              "      <td>NaN</td>\n",
              "      <td>NaN</td>\n",
              "    </tr>\n",
              "    <tr>\n",
              "      <th>4</th>\n",
              "      <td>90.0</td>\n",
              "      <td>95.0</td>\n",
              "      <td>NaN</td>\n",
              "      <td>90.0</td>\n",
              "      <td>NaN</td>\n",
              "      <td>NaN</td>\n",
              "    </tr>\n",
              "    <tr>\n",
              "      <th>5</th>\n",
              "      <td>98.0</td>\n",
              "      <td>100.0</td>\n",
              "      <td>NaN</td>\n",
              "      <td>NaN</td>\n",
              "      <td>NaN</td>\n",
              "      <td>NaN</td>\n",
              "    </tr>\n",
              "    <tr>\n",
              "      <th>6</th>\n",
              "      <td>100.0</td>\n",
              "      <td>100.0</td>\n",
              "      <td>100.0</td>\n",
              "      <td>100.0</td>\n",
              "      <td>100.0</td>\n",
              "      <td>100.0</td>\n",
              "    </tr>\n",
              "  </tbody>\n",
              "</table>\n",
              "</div>"
            ],
            "text/plain": [
              "       a      b      c      d      e      f\n",
              "1    NaN    NaN    NaN    NaN    NaN    NaN\n",
              "2    NaN    NaN    NaN    NaN    NaN    NaN\n",
              "3    NaN   90.0   91.0   99.0    NaN    NaN\n",
              "4   90.0   95.0    NaN   90.0    NaN    NaN\n",
              "5   98.0  100.0    NaN    NaN    NaN    NaN\n",
              "6  100.0  100.0  100.0  100.0  100.0  100.0"
            ]
          },
          "execution_count": 269,
          "metadata": {},
          "output_type": "execute_result"
        }
      ],
      "source": [
        "df_final[df_final >= 90]"
      ]
    },
    {
      "cell_type": "code",
      "execution_count": 270,
      "id": "DQCiQDskHD-v",
      "metadata": {
        "colab": {
          "base_uri": "https://localhost:8080/"
        },
        "id": "DQCiQDskHD-v",
        "outputId": "f215155c-4ba7-489f-9d54-7b21c0966157"
      },
      "outputs": [
        {
          "name": "stdout",
          "output_type": "stream",
          "text": [
            "     a    b    c    d    e    f\n",
            "6  100  100  100  100  100  100\n"
          ]
        }
      ],
      "source": [
        "# returns index where statement is true\n",
        "print(df_final[df_final['a'] == 100])"
      ]
    },
    {
      "cell_type": "markdown",
      "id": "c7f21545-f7b7-4402-a199-7adaee34c9f8",
      "metadata": {
        "id": "c7f21545-f7b7-4402-a199-7adaee34c9f8"
      },
      "source": [
        "## <a name=\"snek\"></a>Making Things Pythonic"
      ]
    },
    {
      "cell_type": "markdown",
      "id": "BZMFNiB5urGR",
      "metadata": {
        "id": "BZMFNiB5urGR"
      },
      "source": [
        "##### **Lambda Expressions**"
      ]
    },
    {
      "cell_type": "markdown",
      "id": "nCyqHW3UvAjz",
      "metadata": {
        "id": "nCyqHW3UvAjz"
      },
      "source": [
        "Lambda expressions are single-expressioned anonymous functions that can take any series of arguments. They're very useful if you have that one quick thing that you want to do with a function."
      ]
    },
    {
      "cell_type": "code",
      "execution_count": 271,
      "id": "b10xuhvpvcvQ",
      "metadata": {
        "colab": {
          "base_uri": "https://localhost:8080/"
        },
        "id": "b10xuhvpvcvQ",
        "outputId": "8b5ca883-e36c-42bc-ca43-c5f2811080af"
      },
      "outputs": [
        {
          "name": "stdout",
          "output_type": "stream",
          "text": [
            "Typical Function example:  16\n",
            "Using Lambda:  16\n"
          ]
        }
      ],
      "source": [
        "# A Lambda Expression that returns the square of the sum of any two numbers\n",
        "def myFunction(a, b):\n",
        "    return (a+b) **2\n",
        "\n",
        "print(\"Typical Function example: \", myFunction(1, 3))\n",
        "\n",
        "x = lambda a,b : (a+b)**2\n",
        "print(\"Using Lambda: \", x(1,3))"
      ]
    },
    {
      "cell_type": "markdown",
      "id": "f71f7cITux43",
      "metadata": {
        "id": "f71f7cITux43"
      },
      "source": [
        "##### **List Comprehensions**"
      ]
    },
    {
      "cell_type": "markdown",
      "id": "LelVfFCRwHXi",
      "metadata": {
        "id": "LelVfFCRwHXi"
      },
      "source": [
        "List comprehensions help create a new list based on the values of an existing list/range (essentially do the job of a for loop for any iterable).\n",
        "\n",
        "Here's the anatomy of a list comprehension in written form, but my personal favorite guide to writing them is the image below:\n",
        "\n",
        "new_list = [output for x in iterable if condition]\n",
        "\n",
        "![image.png](data:image/png;base64,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)"
      ]
    },
    {
      "cell_type": "code",
      "execution_count": 272,
      "id": "FaXlWxi3xc5h",
      "metadata": {
        "colab": {
          "base_uri": "https://localhost:8080/"
        },
        "id": "FaXlWxi3xc5h",
        "outputId": "8f886464-6ae9-4678-bc3b-bae263c315d0"
      },
      "outputs": [
        {
          "name": "stdout",
          "output_type": "stream",
          "text": [
            "['snek', 'snek', 'snek', 'snek']\n"
          ]
        }
      ],
      "source": [
        "# A list that records every instance of \"python\" in coding_langs as \"snek\"\n",
        "coding_langs = ['java', 'python', 'c++', 'python', 'cobol', 'javascript', 'c#', 'python', 'sql', 'python']\n",
        "sneky = ['snek' for x in coding_langs if x == 'python']\n",
        "\n",
        "print(sneky)"
      ]
    },
    {
      "cell_type": "markdown",
      "id": "orB-ml3j0DAr",
      "metadata": {
        "id": "orB-ml3j0DAr"
      },
      "source": [
        "You can also do an if, else statement with a list comprehension."
      ]
    },
    {
      "cell_type": "code",
      "execution_count": 273,
      "id": "2w_f6n890MI3",
      "metadata": {
        "colab": {
          "base_uri": "https://localhost:8080/"
        },
        "id": "2w_f6n890MI3",
        "outputId": "8582d61d-21e6-447f-80ac-73cf1f18856e"
      },
      "outputs": [
        {
          "name": "stdout",
          "output_type": "stream",
          "text": [
            "['java', 'snek', 'c++', 'snek', 'cobol', 'javascript', 'c#', 'snek', 'sql', 'snek']\n"
          ]
        }
      ],
      "source": [
        "# A list that changes every instance of \"python\" in coding_langs as \"snek\"\n",
        "coding_langs = ['java', 'python', 'c++', 'python', 'cobol', 'javascript', 'c#', 'python', 'sql', 'python']\n",
        "sneky = ['snek' if x == 'python' else x for x in coding_langs]\n",
        "\n",
        "print(sneky)"
      ]
    },
    {
      "cell_type": "markdown",
      "id": "25b1bab9-c3d4-4bb6-889a-af044fbcfd41",
      "metadata": {
        "id": "25b1bab9-c3d4-4bb6-889a-af044fbcfd41"
      },
      "source": [
        "## Summing it Up"
      ]
    },
    {
      "cell_type": "markdown",
      "id": "BxyIlyk94Ry1",
      "metadata": {
        "id": "BxyIlyk94Ry1"
      },
      "source": [
        "##### **Putting it all together - exercise 1**\n"
      ]
    },
    {
      "cell_type": "markdown",
      "id": "Jgnbstlnd4L5",
      "metadata": {
        "id": "Jgnbstlnd4L5"
      },
      "source": [
        "a) create a DataFrame from the following dictionary that documents the weekly weather in Bethesda, MD; all highs and lows are in Fahrenheit (data courtesy of wunderground.com)\n",
        "\n",
        "`{'date':['07/31/2022','08/01/2022','08/02/2022','08/03/2022','08/04/2022','08/05/2022','08/06/2022'], 'high': [85,89,92,91,94,91,88], 'low': [72,73,72,75,74,74,74], 'precipitation (in inches)': [0.00,0.48,0.51,0.00,0.00,0.93,0.00]}`\n",
        "\n",
        "b) print out the dataframe\n",
        "\n",
        "c) convert all of the dates in the dataframe to datetime objects\n",
        "\n",
        "d) analyze the data\n",
        "\n",
        "\n",
        "> i) What day of the week had the highest high? What day of the week had the lowest high? What was the difference in time between the two? (you should get a timedelta object for this question)\n",
        "\n",
        "> ii) Take a look at the precipitation - what is the average precipitation for the week?\n",
        "\n",
        "> iii) Add on the following data:\n",
        "\n",
        "`pd.Series({'date': '08/07/2022', 'high': 89, 'low': 76, 'precipitation (in inches)': 0.00)`\n",
        "\n",
        "> iv) Filter the dataframe to see the days with the highs greater than or equal to 90\n",
        "\n",
        "> v) Graph the highs for each day with the appropriate graph. **BE SURE TO INCLUDE TITLE AND LEGENDS**.\n",
        "\n",
        "\n",
        "\n",
        "\n",
        "\n",
        "\n",
        "\n"
      ]
    },
    {
      "cell_type": "code",
      "execution_count": 274,
      "id": "WWopgTn4j2tR",
      "metadata": {
        "id": "WWopgTn4j2tR"
      },
      "outputs": [],
      "source": [
        "# Enter Answer - a\n"
      ]
    },
    {
      "cell_type": "code",
      "execution_count": 275,
      "id": "ca6R-O5Hj7CG",
      "metadata": {
        "id": "ca6R-O5Hj7CG"
      },
      "outputs": [],
      "source": [
        "# Enter Answer - b\n"
      ]
    },
    {
      "cell_type": "code",
      "execution_count": 276,
      "id": "BMSaRdcFj-sp",
      "metadata": {
        "id": "BMSaRdcFj-sp"
      },
      "outputs": [],
      "source": [
        "# Enter Answer - c\n"
      ]
    },
    {
      "cell_type": "code",
      "execution_count": 277,
      "id": "FWfPGMWJkA3-",
      "metadata": {
        "id": "FWfPGMWJkA3-"
      },
      "outputs": [],
      "source": [
        "# Enter Answer - d(i)\n"
      ]
    },
    {
      "cell_type": "code",
      "execution_count": 278,
      "id": "6vB4oZaskGaF",
      "metadata": {
        "id": "6vB4oZaskGaF"
      },
      "outputs": [],
      "source": [
        "# Enter Answer - d(ii)\n"
      ]
    },
    {
      "cell_type": "code",
      "execution_count": 279,
      "id": "RGCahtrxkJ9Y",
      "metadata": {
        "id": "RGCahtrxkJ9Y"
      },
      "outputs": [],
      "source": [
        "# Enter Answer - d(iii)\n"
      ]
    },
    {
      "cell_type": "code",
      "execution_count": 280,
      "id": "rX_cws-ikN7N",
      "metadata": {
        "id": "rX_cws-ikN7N"
      },
      "outputs": [],
      "source": [
        "# Enter Answer - d(iv)\n"
      ]
    },
    {
      "cell_type": "code",
      "execution_count": 281,
      "id": "G3SzEZAZkRKR",
      "metadata": {
        "id": "G3SzEZAZkRKR"
      },
      "outputs": [],
      "source": [
        "# Enter Answer - d(v)\n"
      ]
    }
  ],
  "metadata": {
    "colab": {
      "collapsed_sections": [],
      "name": "PythonBootcamp.ipynb",
      "provenance": []
    },
    "kernelspec": {
      "display_name": "Python 3 (ipykernel)",
      "language": "python",
      "name": "python3"
    },
    "language_info": {
      "codemirror_mode": {
        "name": "ipython",
        "version": 3
      },
      "file_extension": ".py",
      "mimetype": "text/x-python",
      "name": "python",
      "nbconvert_exporter": "python",
      "pygments_lexer": "ipython3",
      "version": "3.8.8"
    }
  },
  "nbformat": 4,
  "nbformat_minor": 5
}
