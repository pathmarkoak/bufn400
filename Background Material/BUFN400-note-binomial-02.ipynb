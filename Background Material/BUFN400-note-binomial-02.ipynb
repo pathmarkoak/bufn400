{
 "cells": [
  {
   "cell_type": "markdown",
   "metadata": {},
   "source": [
    "# Background Note \n",
    "\n",
    "# Probability: Bernoulli and Binomial Random Variables\n",
    "\n",
    "$\\require{\\newcommand}$\n",
    "$\\newcommand{\\E}{\\mathrm{E}}$\n",
    "$\\newcommand{\\e}{\\mathrm{e}}$\n",
    "$\\newcommand{\\drm}{\\mathrm{\\, d}}$\n",
    "$\\newcommand{\\var}{\\mathrm{var}}$\n",
    "$\\newcommand{\\stdev}{\\mathrm{stdev}}$\n",
    "$\\newcommand{\\sm}{ {\\scriptstyle{\\text{*}}}}$ \n",
    "$\\renewcommand{\\mm}{{\\scriptsize @}}$\n",
    "$\\renewcommand{\\t}{^{\\mathsf{T}}}$\n",
    "$\\renewcommand{\\comma}{\\, , \\,}$\n",
    "$\\renewcommand{\\vec}[1]{\\mathbf{#1}}$\n"
   ]
  },
  {
   "cell_type": "code",
   "execution_count": 1,
   "metadata": {},
   "outputs": [
    {
     "name": "stdout",
     "output_type": "stream",
     "text": [
      "Python version 3.8.11 (default, Aug  6 2021, 09:57:55) [MSC v.1916 64 bit (AMD64)]\n",
      "Pandas version 1.5.3\n",
      "NumPy version 1.23.5\n",
      "SciPy version 1.10.1\n",
      "matplotlib version 3.7.1\n",
      "Timestamp: 2023-0830-1040\n"
     ]
    }
   ],
   "source": [
    "import pandas as pd\n",
    "import numpy as np\n",
    "import scipy\n",
    "import matplotlib\n",
    "import matplotlib.pyplot as plt\n",
    "import sys\n",
    "import datetime\n",
    "import timeit\n",
    "\n",
    "print('Python version ' + sys.version)\n",
    "print('Pandas version ' + pd.__version__)\n",
    "print('NumPy version ' + np.__version__)\n",
    "print('SciPy version ' + scipy.__version__)\n",
    "print('matplotlib version ' + matplotlib.__version__)\n",
    "\n",
    "timestamp = datetime.datetime.now().strftime('%Y-%m%d-%H%M')\n",
    "print(\"Timestamp:\", timestamp)\n"
   ]
  },
  {
   "cell_type": "markdown",
   "metadata": {},
   "source": [
    "##### Conventions\n",
    "\n",
    "These notes define the function `f()` so that its definition changes from cell to cell.  By using local variables to make the examplesself-contained, this approach avoids name clashes, except for the name of the function `f()` itself. "
   ]
  },
  {
   "cell_type": "markdown",
   "metadata": {},
   "source": [
    "### Importance of Probability and Statistics in Finance\n",
    "\n",
    "The prices of financial assets fluctuate in value.  These fluctuations can be modeled as outcomes of **random variables**. Understanding the randomness of financial returns requires knowledge of **probability** and **statistics**. This note reviews some fundamental concepts of probability. \n",
    "\n",
    "The philosophical, scientific, and mathematical foundations of probability theory are more complicated than the simple intuition of tossing a coin would suggest. Is anything in life random? Or is everything in life random?\n"
   ]
  },
  {
   "cell_type": "markdown",
   "metadata": {},
   "source": [
    "### Probability mass function for a random variable with two outcomes\n",
    "\n",
    "Think of tossing a coin as generating a random variable with two outcomes. If the outcome is tails, I obtain the numerical value $0$ (failure) with probability $1-p$.  If the outcome is heads, I obtain the numerical value $1$ (success) with probability $p$.  If the coin is fair, then $p = 1-p = 1/2$. The coin toss is a **random variable** which we will call $X$.\n",
    "\n",
    "We can associate with the random variable $X$ a **probability mass function** $f(x; p)$, which maps each outcome ($X=0$ or $X=1$) into its associated probability ($1-p$ or $p$):\n",
    "\n",
    "\\begin{equation}\n",
    "f(x; p) = \\left\\{ \n",
    "\\begin{array}{ll}\n",
    "1-p & \\text{if } x = 0\\\\\n",
    "p & \\text{if } x = 1\n",
    "\\end{array} \\right. .\n",
    "\\end{equation}\n",
    "\n",
    "Here the semicolon in the notation $f(x; p)$ allows us to think of $f(x)$ as probability mass function of one outcome variable $x$, with $p$ after the semicolon reminding us that the probability mass function depends on a single \"fixed\" parameter $p$.\n",
    "\n",
    "The probability mass function $f(x; p)$ completely describes the **probability distribution** associated with the random variable $X$.\n",
    "\n",
    "By convention, a capital letter ($X$) is used to denote the random variable itself, while the lower case letter  ($x$) is used to denote an outcome.\n",
    "\n",
    "Obviously, the probability of succes $p$ must satisfy the conditions $0 \\le p \\le 1$. Of course, this implies that the probability of failure $1-p$ satisfies the analogous inequalities $0 \\le 1-p \\le 1$.\n",
    "\n",
    "This particular distribution (two outcomes of 0 or 1) is called a **Bernoulli distribution**."
   ]
  },
  {
   "cell_type": "markdown",
   "metadata": {},
   "source": [
    "### Continuous and discrete random variables\n",
    "\n",
    "The concept of a random variable generalizes in the obvious way for more than two outcomes. Most random variables are classified as **discrete** or **continuous**. Discrete random variables have a finite or **countably infinite** number of outcomes. They include the **Bernoulli**, **multinomial**, **binomial**, and **Poisson** distributions. Continuous random variables have have an **uncountably infinite** number of outcomes. They include the **normal**, **lognormal**, **exponential**, **gamma**, **beta**, **Pareto**, and **Cauchy** distributions. \n",
    "\n",
    "Every discrete distribution is described by a **probability mass function** (**pmf**). For example, the **Poisson distribution**, described by one parameter $\\lambda > 0$, has a countabilty infinite number of outcomes, nonnegative integers, with pmf\n",
    "\n",
    "\\begin{equation}\n",
    "f(n) =  \\frac{\\e^{-\\lambda} \\sm \\lambda^n}{n!}, \\qquad \\text{for  } n=0,1,2,\\ldots .\n",
    "\\end{equation}\n",
    "\n",
    "Obviously, we must have $\\sum_{n=0}^\\infty f(n) = 1$ (Why?)\n",
    "\n",
    "If a continuous distribution is well-behaved enough, it is described by a **probability density function** (**pdf**). The **standard normal distribution** with mean 0 and variance 1 has probability density function\n",
    "\n",
    "\\begin{equation}\n",
    "f(z) =  \\frac{1}{\\sqrt{2 \\pi}} \\sm \\e^{-z^2 / 2}, \\qquad \\text{for  } z \\in \\mathcal{R} .\n",
    "\\end{equation}\n",
    "\n",
    "The intuitive interpretation of a pdf is $\\text{prob}[x \\le X \\le x + \\Delta t] \\approx f(x) \\sm \\Delta t$. Obviously, we must have $\\int_{z=-\\infty}^{+\\infty} f(z) \\drm z = 1$. (Why?)\n",
    "\n",
    "All of these distributions have applications in finance. The most important ones are **lognormal**, **normal**, **binomial**, **exponential**, and **Poisson**."
   ]
  },
  {
   "cell_type": "markdown",
   "metadata": {},
   "source": [
    "### Events\n",
    "\n",
    "Mathematicians distinguish between **events** (the possible outcomes of the coin toss) and the value associated events (0 or 1). Mathematicians use the upper case Greek letter omega to denote the **sample space**, define probabilities (**measures**) on subsets (**$\\pmb{\\sigma}$-algebra**) on $\\Omega$.  \n",
    "\n",
    "For the coin toss, we have $\\Omega = \\{ \\text{heads}, \\text{tails} \\}$ and use the lower case Greek letter omega to denote a particular outcome (event) such as $\\{ \\text{heads} \\} \\subset \\Omega$.\n",
    "\n",
    "In finance, the events can be thought of as earnings announcements, news articles, bankruptcy announcements, or order arrivals to trade assets. The outcomes are typically asset prices but may also be earnings numbers or macroeconomic statistics (inflation, GDP growth, retail sales)."
   ]
  },
  {
   "cell_type": "markdown",
   "metadata": {},
   "source": [
    "#### Cumulative distribution function\n",
    "\n",
    "The probability distribution of any random variable is described by a **cumulative distribution function** (**cdf**) $F(x)$, which is defined by\n",
    "\n",
    "\\begin{equation}\n",
    "F(x) = \\text{Prob}(X \\le x) \\qquad \\text{ for any } x \\in \\mathcal{R}.\n",
    "\\end{equation}\n",
    "\n",
    "For the Bernoulli distribution, the cdf is explicitly given by\n",
    "\n",
    "\\begin{equation}\n",
    "F(x) = \\left\\{ \n",
    "\\begin{array}{ll}\n",
    "0 & \\text{if } x < 0\\\\\n",
    "1-p & \\text{if } 0 \\le x < 1\\\\\n",
    "1 & \\text{if } 1 \\le x\n",
    "\\end{array} \\right. .\n",
    "\\end{equation}\n",
    "\n",
    "For the normal distribution, the cdf is defined by an integral\n",
    "\n",
    "\\begin{equation}\n",
    "F(z) = \\int_{-\\infty}^z \\frac{1}{\\sqrt{2 \\pi}} \\sm \\e^{-z^2/2} \\drm z.\n",
    "\\end{equation}\n",
    "\n",
    "This integral does not have a closed-form solution.\n",
    "\n",
    "Obvously, any cdf $F(x)$ is **weakly monotonically increasing** and satisfies $0 \\le F(x) \\le 1$, with $\\lim_{x \\rightarrow -\\infty} F(x) = 0$ and $\\lim_{x \\rightarrow +\\infty} F(x) = 1$. \n",
    "\n"
   ]
  },
  {
   "cell_type": "markdown",
   "metadata": {},
   "source": [
    "### Expected Value, Law of Large Numbers\n",
    " \n",
    "Now suppose that I flip a coin $N$ times, obtaining $N$ outcomes of $0$ or $1$. Assume the outcomes are **independently distributed**. This means that the probability distribution for the $n$th outcome cannot be predicted based on the other $N-1$ outcomes. Regardless of whether the first $N-1$ outcomes are all $0$, all $1$, or any sequence of $0$s and $1$s, my best estimate of the probabilities of heads and tails on the $N$th coin toss are $p$ and $1-p$.\n",
    "\n",
    "The **expected value** of any random variable $X$ (also called **expectation** or **mean**), written $\\E[X]$ and often denoted with the lower case Greek letter mu, can be informally defined as the average value obtained from $N$ independently distributed coin tosses in the limit as $N \\rightarrow \\infty$. For the Bernoulli distribution, the expected value is given by\n",
    "\n",
    "\\begin{equation}\n",
    "\\mu = \\E [X] = p .\n",
    "\\end{equation}\n",
    "\n",
    "More generally, the **law of large numbers** says that the empirical **frequencies** of each outcome of a discrete random variable, such as $0$ and $1$ for the Bernoulli example, converge to the true probabilities $p$, $1-p$ in the limit as $N \\rightarrow \\infty$. Defining this limit in a mathematically precise manner requires making a distinction between the **strong law of large numbers** and the **weak law of large numbers**, which we will not discuss further here.\n",
    "\n",
    "The **expectation operator** $\\E[\\ldots]$ has a useful linearity property.  If $X_0$ and $X_1$ are two random variables with $\\E[X_0] = \\mu_0$ and $\\E[X_1] = \\mu_1$, then for any constants $a$ and $b$, the random variable $a \\sm X_0 + b \\sm X_1$ has expectation given by\n",
    "\n",
    "\\begin{equation}\n",
    "\\E[a \\sm X_0 + b \\sm X_1] = a \\sm \\mu_0 + b \\sm \\mu_1 .\n",
    "\\end{equation}\n",
    "\n",
    "For example, if $X_0$ is a trivial Bernoulli random variable whose outcome is always 1 and $X_1$ is a Bernoulli random variable (with outcomes 0 and 1), $a \\sm X_0 + (b-a) \\sm X_1$ is a random variable with two outcomes: $a$ with probability $1-p$ and $b$ with probability $p$.\n",
    "\n",
    "Some random variables do not have finite expectations. (Example: Consider a random variable with payoffs $2^n$ with probability $1 / 2^n$, for $n = 1,2, \\dots $.)"
   ]
  },
  {
   "cell_type": "markdown",
   "metadata": {},
   "source": [
    "### Random Number Generator\n",
    "\n",
    "A **random number generator** is an algorithm which generates a sequence of numbers which is difficult to predict. Numpy and Scipy have random number generators which generate **pseudo-random numbers** from a nonrandom algorithm and an initial **seed**. Although the outcomes are **deterministic** (i.e., completely nonrandom) if the algorithm and initial seed are known, the outcomes appear to be random if the initial seed is unknown and hard to guess. What it means to \"appear to be random\" is infinitely complicated and the subject of a great deal of research (related, for example, to code-breaking).\n",
    "\n",
    "In finance, **stochastic simulation** based on **Monte Carlo** techniques is often used to price assets, test code, and test trading strategies. Random number generators can be used to simulate stock prices and statistics related to securities returns."
   ]
  },
  {
   "cell_type": "markdown",
   "metadata": {},
   "source": [
    "### Random Number Generation in Numpy and Scipy\n",
    "\n",
    "Here is code to generate a sequence on $N$ independently distributed random integers, which are $a$ or $b$ with probabilities $q=1-p$ and $p$. \n",
    "\n",
    "By choosing $N$ to be one million, we can illustrate the intuition for expected value and the law of large numbers."
   ]
  },
  {
   "cell_type": "code",
   "execution_count": 2,
   "metadata": {},
   "outputs": [
    {
     "name": "stdout",
     "output_type": "stream",
     "text": [
      "Time to generate N=1000000 random numbers: dt=0.044418399999999636 seconds\n",
      "\n",
      "Expectation: Sample mean should be close to theoretical mean:\n",
      "Theoretical expected value: xbar=0.0\n",
      "Sample mean:  x.mean()=-0.00034\n",
      "\n",
      "Law of Large Numbers: Sample frequencies should be close to theoretical probabilities:\n",
      "Frequencies for N=1000000:\n"
     ]
    },
    {
     "data": {
      "text/html": [
       "<div>\n",
       "<style scoped>\n",
       "    .dataframe tbody tr th:only-of-type {\n",
       "        vertical-align: middle;\n",
       "    }\n",
       "\n",
       "    .dataframe tbody tr th {\n",
       "        vertical-align: top;\n",
       "    }\n",
       "\n",
       "    .dataframe thead th {\n",
       "        text-align: right;\n",
       "    }\n",
       "</style>\n",
       "<table border=\"1\" class=\"dataframe\">\n",
       "  <thead>\n",
       "    <tr style=\"text-align: right;\">\n",
       "      <th></th>\n",
       "      <th>x</th>\n",
       "      <th>count</th>\n",
       "      <th>freq</th>\n",
       "      <th>prob</th>\n",
       "    </tr>\n",
       "  </thead>\n",
       "  <tbody>\n",
       "    <tr>\n",
       "      <th>0</th>\n",
       "      <td>-1</td>\n",
       "      <td>500170</td>\n",
       "      <td>0.50017</td>\n",
       "      <td>0.5</td>\n",
       "    </tr>\n",
       "    <tr>\n",
       "      <th>1</th>\n",
       "      <td>1</td>\n",
       "      <td>499830</td>\n",
       "      <td>0.49983</td>\n",
       "      <td>0.5</td>\n",
       "    </tr>\n",
       "  </tbody>\n",
       "</table>\n",
       "</div>"
      ],
      "text/plain": [
       "   x   count     freq  prob\n",
       "0 -1  500170  0.50017   0.5\n",
       "1  1  499830  0.49983   0.5"
      ]
     },
     "metadata": {},
     "output_type": "display_data"
    }
   ],
   "source": [
    "def f():\n",
    "    N = 10**6\n",
    "    a = -1\n",
    "    b = +1\n",
    "    p = 0.50\n",
    "\n",
    "    q = 1 - p\n",
    "    xbar = (q * a + p * b)\n",
    "\n",
    "    rng = np.random.default_rng(seed=12345)\n",
    "\n",
    "    t0 = timeit.default_timer()\n",
    "    x = rng.choice([a, b], size=N, p=[q, p])\n",
    "    #x = rng.binomial(n=1, p=p, size=N)\n",
    "    dt = timeit.default_timer() - t0\n",
    "    print(f\"Time to generate {N=} random numbers: {dt=} seconds\\n\")\n",
    "\n",
    "    xunique, xcounts = np.unique(x, return_counts=True)\n",
    "    df = pd.DataFrame({'x' : xunique, 'count' : xcounts, 'freq' : xcounts / N, 'prob' : [p,q]})\n",
    "\n",
    "    #print(x)\n",
    "\n",
    "    print(\"Expectation: Sample mean should be close to theoretical mean:\")\n",
    "    print(f\"Theoretical expected value: {xbar=}\")\n",
    "    print(f\"Sample mean:  {x.mean()=}\")\n",
    "\n",
    "    print(\"\\nLaw of Large Numbers: Sample frequencies should be close to theoretical probabilities:\")\n",
    "    print(f\"Frequencies for {N=}:\")\n",
    "    display(df)\n",
    "    return None\n",
    "    \n",
    "f()    "
   ]
  },
  {
   "cell_type": "markdown",
   "metadata": {},
   "source": [
    "#### Multiple ways to generate random variables with two outcomes:\n",
    "\n",
    "Using Numpy and Scipy, there are multiple ways to generate random sequences of numbers with two outcomes. Assuming $p=0.50$ can make the random number generation faster.\n",
    "\n",
    "Note that if the random variable $X$ has outcomes $0$ and $1$, the outcomes can be changed to $a$ and $b$ with the transformation $Y = (b - a) \\sm X + a$.\n",
    "\n",
    "The next cell illustrates use of `%timeit` to time code which generates random numbers various ways. The cell uses global variables because `%timeit` looks for global variables.\n",
    "\n"
   ]
  },
  {
   "cell_type": "code",
   "execution_count": 3,
   "metadata": {},
   "outputs": [
    {
     "name": "stdout",
     "output_type": "stream",
     "text": [
      "x=array([ 1, -1,  1, ..., -1, -1, -1]), x.dtype=dtype('int32'), x.size=1000000\n",
      "x=array([-1, -1,  1, ...,  1, -1,  1], dtype=int64), x.size=1000000\n",
      "x=array([ 1, -1,  1, ..., -1,  1,  1], dtype=int64), x.size=1000000\n",
      "x=array([-1,  1,  1, ...,  1, -1, -1], dtype=int64), x.size=1000000\n",
      "\n",
      "41.7 ms ± 244 µs per loop (mean ± std. dev. of 3 runs, 5 loops each)\n",
      "37.4 ms ± 116 µs per loop (mean ± std. dev. of 3 runs, 5 loops each)\n",
      "49.7 ms ± 640 µs per loop (mean ± std. dev. of 3 runs, 5 loops each)\n",
      "14.3 ms ± 57.2 µs per loop (mean ± std. dev. of 3 runs, 5 loops each)\n"
     ]
    }
   ],
   "source": [
    "\n",
    "N = 10**6\n",
    "a = -1\n",
    "b = +1\n",
    "p = 0.50\n",
    "q = 1 - p\n",
    "rng = np.random.default_rng()\n",
    "\n",
    "x = rng.choice([a, b], size=N, p=[q, p])\n",
    "print(f\"{x=}, {x.dtype=}, {x.size=}\")\n",
    "x = rng.binomial(n=1, p=p, size=N) * (b - a) + a\n",
    "print(f\"{x=}, {x.size=}\")\n",
    "x = scipy.stats.bernoulli.rvs(p=p, size=N) * (b - a) + a\n",
    "print(f\"{x=}, {x.size=}\")\n",
    "x = rng.integers(low=0, high=1, size=N, dtype=np.int64, endpoint=True) * (b - a) + a\n",
    "print(f\"{x=}, {x.size=}\\n\")\n",
    "\n",
    "%timeit -n 5 -r 3 x = rng.choice([a, b], size=N, p=[q, p])\n",
    "%timeit -n 5 -r 3 x = rng.binomial(n=1, p=p, size=N) * (b - a) + a\n",
    "%timeit -n 5 -r 3 x = scipy.stats.bernoulli.rvs(p=p, size=N) * (b - a) + a\n",
    "# rng.integers is faster but requires p = 0.50 exactly!\n",
    "%timeit -n 5 -r 3 x = rng.integers(low=0, high=1, size=N, dtype=np.int64, endpoint=True) * (b - a) + a\n",
    "\n",
    "del N, a, b, p, q, rng, x"
   ]
  },
  {
   "cell_type": "markdown",
   "metadata": {},
   "source": [
    "### Exercise 1 (Easy)\n",
    "\n",
    "1. Describe the probability mass function for the six outcomes of rolling an unbiased die. (This is an example of a **multinomial** distribution.)\n",
    "\n",
    "2. Simulate rolling a die one million times. Construct a Pandas dataframe to show the empirical frequencies and theoretical probabilities of the outcomes.\n",
    "\n",
    "3. (optional) Defining `rng = np.random.default_rng()`, is it fastest to use `rng.choice(...)`, `rng.integers(...)`, or `scipy.stats.multinomial.rvs(...)` to simulate rolling an unbiased die many times? (Why?)"
   ]
  },
  {
   "cell_type": "markdown",
   "metadata": {},
   "source": [
    "### Variance and standard deviation\n",
    "\n",
    "The **variance** $\\sigma^2$ and **standard deviation** $\\sigma$ of random variables are measures of dispersion.  For any random variable $X$, the variance and standard deviation are defined as\n",
    "\n",
    "\\begin{equation}\n",
    "\\sigma^2 = \\var[X] := \\E \\big[ (X - \\E[X])^2 \\big],\n",
    "\\qquad\n",
    "\\sigma = \\stdev[X] = \\sqrt{\\var[X]}.\n",
    "\\end{equation}\n",
    "\n",
    "The quantity $\\mu_2 := \\E [ X^2 ]$ is called the **second moment**. More generally, the **first moment** (mean), **second moment**, **third moment**, **fourth moment**, etc.s are defined by $\\mu_n := \\E [ X^n ]$, $n=1$, $2$, $3$, $4$, $\\ldots$.\n",
    "\n",
    "The variance is related to the second moment by\n",
    "\n",
    "\\begin{equation}\n",
    "\\var [ X ] = \\mu_2 - \\mu_1^2, \\qquad \\text{or} \\qquad \\E \\big[ (X - \\E[X])^2 \\big] = E [ X^2 ] - \\left( \\E [ X ] \\right)^2.\n",
    "\\end{equation}\n",
    "\n",
    "For the specific two-outcome random variable $X$, which has outcomes $a$, $b$ with probabilities $1-p$, $p$, with mean $\\mu = (1-p) \\sm a + p \\sm b$, it can be shown that\n",
    "\n",
    "\\begin{equation}\n",
    "\\sigma^2 = (1-p) \\sm (a - \\mu)^2 + p \\sm (b - \\mu)^2,\n",
    "\\qquad\n",
    "\\sigma = \\sqrt{(1-p) \\sm (a - \\mu)^2 + p \\sm (b - \\mu)^2}.\n",
    "\\end{equation}\n",
    "\n",
    "Note that the units for standard deviation are the same as the units for $X$ itself, but the units for variance are the squares of the units for $X$.\n",
    "\n",
    "If $X_1$, $\\ldots$, $X_N$ are a $N$ independently distributed random variables with variances $\\sigma^2_1$, $\\ldots$, $\\sigma^2_N$, then the variance of their sum is the sum of their variances:\n",
    "\n",
    "\\begin{equation}\n",
    "\\var[X + Y] := \\var[X] + \\var[Y] \\qquad \\text{if } X \\text{ and } Y \\text{ are independently distributed}.\n",
    "\\end{equation}\n",
    "\n",
    "This fact turns out to be very important in finance! Note that the standard deviation of the sum is not equal to the sum of the standard deviations. (Why?)\n",
    "\n",
    "If $a$ is a constant then\n",
    "\n",
    "\\begin{equation}\n",
    "\\var[a \\sm X] = a^2 \\sm \\var[X], \n",
    "\\qquad \\text{so } \\stdev[a \\sm X] = a \\sm \\stdev[X].\n",
    "\\end{equation}"
   ]
  },
  {
   "cell_type": "markdown",
   "metadata": {},
   "source": [
    "### Exercise 2 (easy with correct intuition, medium otherwise)\n",
    "\n",
    "1. Without doing any complicated math, write down the values of $a$ and $b$ (with $a < b$) for a two-outcome random variable with $\\mu = 100$ and $\\sigma = 5$, assuming that the probabilities of both outcomes are the same. (Note: You can solve this mathematically, but it is easier and more intuitive to \"guess\" the solution based on understanding what mean and standard deviation mean for this example.)"
   ]
  },
  {
   "cell_type": "markdown",
   "metadata": {},
   "source": [
    "### Binomial Distribution\n",
    "\n",
    "A **binomial distribution** $Y$ is defined the sum of $N$ independent draws $X_1$, $\\ldots$, $X_N$ from a Bernoulli distribution:\n",
    "\n",
    "\\begin{equation}\n",
    "Y = \\sum_{n=1}^N X_n .\n",
    "\\end{equation}\n",
    "\n",
    "The linearity properties of the mean and variance imply (Why?)\n",
    "\n",
    "\\begin{equation}\n",
    "\\E[Y] = N \\sm p, \\qquad \\var[Y] = N \\sm (1-p) \\sm p .\n",
    "\\end{equation}\n",
    "\n",
    "The outcomes (number of successes with $N$ attempts) with nonzero probabilities are obviously $0$, $1$, $\\ldots$, $N$.\n",
    "\n",
    "For $N=2$, the probability mass function is\n",
    "\n",
    "\\begin{equation}\n",
    "f_X(x) = \\left\\{ \n",
    "\\begin{array}{ll}\n",
    "1 \\sm (1-p)^2 & \\text{if } x = 0\\\\\n",
    "2 \\sm (1-p) \\sm p & \\text{if } x = 1\\\\\n",
    "1 \\sm p^2 & \\text{if } x = 2\n",
    "\\end{array} \\right. .\n",
    "\\end{equation}\n",
    "\n",
    "The **binomial coefficients** $1,2,1$ multiplying the probability factors $p$ and $q=1-p$ are same as the integer coefficients in the expansion $(q+p)^2 = 1 \\sm q^2 + 2 \\sm q \\sm p + 1 \\sm p^2$.\n",
    "\n",
    "Similarly, for $N=3$, the factors 1,3,3,1 in the probability mass function\n",
    "\n",
    "\\begin{equation}\n",
    "f_X(x) = \\left\\{ \n",
    "\\begin{array}{ll}\n",
    "1 \\sm q^3 & \\text{if } x = 0\\\\\n",
    "3 \\sm q^2 p  & \\text{if } x = 1\\\\\n",
    "3 \\sm q \\sm p^2 & \\text{if } x = 2\\\\\n",
    "1 \\sm p^3 & \\text{if } x = 3\n",
    "\\end{array} \\right. .\n",
    "\\end{equation}\n",
    "\n",
    "mimic the expansion\n",
    "\n",
    "\\begin{equation}\n",
    "(q+p)^3 = 1 \\sm q^3 + 3 \\sm q^2 \\sm p + 3 \\sm q \\sm p^2 + 1 \\sm q^3\n",
    "\\end{equation}\n",
    "\n",
    "This pattern generalizes to arbitrary positive integer $N$.\n",
    "\n",
    "The probability mass function for $n=0,\\ldots,N$ successes for $N$ trials is\n",
    "\n",
    "\\begin{equation}\n",
    "f_Y(n) = \\left( \\begin{array}{ll} N \\\\ n \\end{array} \\right) q^{N-n} \\sm p^{N},\n",
    "\\qquad \\text{where} \\qquad\n",
    "\\left( \\begin{array}{ll} N \\\\ n \\end{array} \\right) := \\frac{N!}{n! \\sm (N-n)!}.\n",
    "\\end{equation}"
   ]
  },
  {
   "cell_type": "markdown",
   "metadata": {},
   "source": [
    "### Binomial coefficients\n",
    "\n",
    "The binomial coefficients for $N+1$ can be obtained by shifting the coefficients for $N$ and adding them back to the same coefficients for $N$: \n",
    "\n",
    "The sums of binomial coefficients across outcomes are powers of 2:\n",
    "\n",
    "The binomial probabilities can be obtained by dividing rows by the row sum:"
   ]
  },
  {
   "cell_type": "code",
   "execution_count": 4,
   "metadata": {},
   "outputs": [
    {
     "name": "stdout",
     "output_type": "stream",
     "text": [
      "Binomial coefficients obtained by shifted addition:\n",
      "[[ 1  0  0  0  0  0]\n",
      " [ 1  1  0  0  0  0]\n",
      " [ 1  2  1  0  0  0]\n",
      " [ 1  3  3  1  0  0]\n",
      " [ 1  4  6  4  1  0]\n",
      " [ 1  5 10 10  5  1]]\n",
      "\n",
      "Sums of binomial coefficients are powers of 2:\n",
      "csum=array([ 1,  2,  4,  8, 16, 32], dtype=int64)\n",
      "\n",
      "Binomial probabilities for p=0.50: prob =\n",
      " [[1.      0.      0.      0.      0.      0.     ]\n",
      " [0.5     0.5     0.      0.      0.      0.     ]\n",
      " [0.25    0.5     0.25    0.      0.      0.     ]\n",
      " [0.125   0.375   0.375   0.125   0.      0.     ]\n",
      " [0.0625  0.25    0.375   0.25    0.0625  0.     ]\n",
      " [0.03125 0.15625 0.3125  0.3125  0.15625 0.03125]]\n",
      "\n",
      "Check that probabilities add up to one:\n",
      "[1. 1. 1. 1. 1. 1.]\n"
     ]
    }
   ],
   "source": [
    "def f():\n",
    "    N = 5\n",
    "\n",
    "    print(\"Binomial coefficients obtained by shifted addition:\")\n",
    "    c = np.zeros((N+1, N+1), dtype=np.int64)\n",
    "    c[:,0] = 1\n",
    "    for n in range(0, N):\n",
    "        c[n + 1, 1:] = c[n, 1:] +  c[n, :-1]\n",
    "    print(c)    \n",
    "\n",
    "    csum = c.sum(axis=1)\n",
    "    print(f\"\\nSums of binomial coefficients are powers of 2:\\n{csum=}\")\n",
    "\n",
    "    prob = c / csum.reshape(N+1, 1)\n",
    "    print(f\"\\nBinomial probabilities for p=0.50: prob =\\n {prob}\")\n",
    "    print(f\"\\nCheck that probabilities add up to one:\\n{prob.sum(axis=1)}\")\n",
    "    \n",
    "f()    "
   ]
  },
  {
   "cell_type": "markdown",
   "metadata": {
    "tags": []
   },
   "source": [
    "### Using *scipy.stats* to play with binomial random variable\n",
    "\n",
    "Use *scipy.stats* to define a binomial random variable with `rv = scipy.stats.binom(N, p)`, a  **frozen object** which stores the parameters defining the random variable for future use. Other distributions can be defined in a similar manner.\n",
    "\n",
    "We can then use `rv` to calculate mean, variance, standard deviation, pmf, cdf, other theoretical information, and simulated outcomes."
   ]
  },
  {
   "cell_type": "code",
   "execution_count": 5,
   "metadata": {},
   "outputs": [
    {
     "name": "stdout",
     "output_type": "stream",
     "text": [
      "rv=<scipy.stats._distn_infrastructure.rv_discrete_frozen object at 0x000001F96226AE50>\n",
      "rv.mean()=1.0\n",
      "rv.var()=0.5\n",
      "rv.std()=0.7071067811865476\n",
      "rv.pmf(range(N+1))=array([0.25, 0.5 , 0.25])\n",
      "rv.cdf(range(N+1))=array([0.25, 0.75, 1.  ])\n",
      "simulated values rv.rvs(10)=array([0, 1, 2, 1, 2, 2, 1, 2, 0, 1], dtype=int64)\n"
     ]
    }
   ],
   "source": [
    "def f():\n",
    "\n",
    "    N = 2 # Number of Bernoulli outcomes of 0 or 1\n",
    "    p = 0.50 # Probability of outcome = 1\n",
    "\n",
    "    rv = scipy.stats.binom(N, p) # Define the random variable\n",
    "\n",
    "    print(f\"{rv=}\")\n",
    "    print(f\"{rv.mean()=}\")\n",
    "    print(f\"{rv.var()=}\")\n",
    "    print(f\"{rv.std()=}\")\n",
    "    print(f\"{rv.pmf(range(N+1))=}\")\n",
    "    print(f\"{rv.cdf(range(N+1))=}\")\n",
    "    print(f\"simulated values {rv.rvs(10)=}\")\n",
    "    \n",
    "f()    "
   ]
  },
  {
   "cell_type": "markdown",
   "metadata": {},
   "source": [
    "### Simulate many outcomes of binomial random variable\n",
    "\n",
    "Let us simulate many outcomes of a binomial random variable defined by 100 tosses of an unbiased coin, then create a figure comparing the empirical frequencies of the simulated outcomes with the theoretical frequencies.\n",
    "\n",
    "Since we expect the outcomes will be concentrated near then mean and the probabilities of outcomes close to 0 or 100 are very small, we will plot only those outcome which are $\\pm 3$ standard deviations from the mean."
   ]
  },
  {
   "cell_type": "code",
   "execution_count": 6,
   "metadata": {},
   "outputs": [
    {
     "name": "stdout",
     "output_type": "stream",
     "text": [
      "mu=50.0, sigma=5.0, x0=35, x1=66\n"
     ]
    },
    {
     "data": {
      "image/png": "[encoded data removed]",
      "text/plain": [
       "<Figure size 640x480 with 1 Axes>"
      ]
     },
     "metadata": {},
     "output_type": "display_data"
    }
   ],
   "source": [
    "def f():\n",
    "    N = 100 # Number of Bernoulli outcomes of 0 or 1\n",
    "    p = 0.50 # Probability of outcome = 1\n",
    "    nsim = 10000 # Number of binomial random variables to simulate\n",
    "\n",
    "    # Construct the range of outcomes to be plotted:\n",
    "    \n",
    "    rv = scipy.stats.binom(N, p) # Define the random variable\n",
    "    mu = rv.mean()\n",
    "    sigma = rv.std()\n",
    "    nsig = 3.00\n",
    "    x0 = int(mu - nsig * sigma)\n",
    "    x1 = int(mu + nsig * sigma) + 1\n",
    "    xs = np.arange(x0, x1)\n",
    "\n",
    "    print(f\"{mu=}, {sigma=}, {x0=}, {x1=}\")\n",
    "\n",
    "    # Calculate theoretical probabilities:\n",
    "\n",
    "    probx = rv.pmf(xs)\n",
    "    \n",
    "    # Simulate random variables and calculate empirical frequencies:\n",
    "    \n",
    "    rvsim = rv.rvs(size=nsim, random_state=1234)  # simulate nsim binomial outcomes\n",
    "    simval, simcount = np.unique(rvsim, return_counts=True) \n",
    "    freqxx = np.zeros(N+1, dtype=np.float64)\n",
    "    freqxx[simval] = simcount / nsim\n",
    "    freqx = freqxx[xs]\n",
    "\n",
    "    # Print debugging information:\n",
    "    \n",
    "    #print(f\"{rvsim=}\")\n",
    "    #print(f\"{simcount=}\")\n",
    "    #print(f\"{simval=}\")\n",
    "    #print(f\"{freqxx=}\")\n",
    "    #print(f\"{freqx=}\")\n",
    "    \n",
    "    #df = pd.DataFrame({'xs' : xs, 'freqx' : freqx, 'probx' : probx})\n",
    "    #display(df)\n",
    "\n",
    "    # Create a figure with appropriate labesl\n",
    "    \n",
    "    fig, ax = plt.subplots(1, 1)\n",
    "    ax.set_title(\"Binomial Distribution with  N=\" + str(N) + \", p=\" + str(p))\n",
    "    ax.set_xlabel(\"xs = Number of successes\")\n",
    "    ax.set_ylabel(\"probx and freqx\")\n",
    "    ax.plot(xs, probx, 'bo', ms=4, label='probx')\n",
    "    ax.plot(xs, freqx, 'rx', ms=3, label='freqx for nsim=' + str(nsim))\n",
    "    # ax.vlines(ns, 0, freqns, colors='r', lw=1, alpha=0.5)\n",
    "\n",
    "    ax.legend(loc='best', frameon=False)\n",
    "\n",
    "    plt.show()\n",
    "    \n",
    "f()    "
   ]
  },
  {
   "cell_type": "markdown",
   "metadata": {},
   "source": [
    "### Exercise 3\n",
    "\n",
    "The *numpy.random.Generator.binomial* algorithm and the  *scipy.stats.binom.rvs* algorithm simulate binomial outcomes without necessarily adding together simulated outcomes of the individual Bernoulli trials. Presumably, this approach is more efficient.\n",
    "\n",
    "1. (easy) Simulate 10000 binomial outcomes with $N=100$ and $p=0.50$ as follows: (a) Construct a $1000 \\times 100$ matrix of Bernoulli outcomes of 0 or 1. (2) Sum across the 100 columns to obtain a vector of binomial outcomes. Mimic the figure above, replacing the simulated outcomes using `rv.rvs(...)` your simulated outcomes. Color your frequencies green instead of red.\n",
    "\n",
    "2. (optional) Using `timeit.default_timer()` or `%timeit`, define `rng = np.random.default_rng()` and `rv = scipy.stats.binom(...)`, then compare the efficiency  of (1) inefficiently summing columns of Bernoulli outcomes using `rng.integers(...)`, (2) inefficiently summing columns of Bernoulli outcomes using `rng.choice(...)`, (3) efficiently using `rng.binomial(...)`, and (4) efficiently using `rv.rvs()`.\n",
    "\n"
   ]
  },
  {
   "cell_type": "markdown",
   "metadata": {},
   "source": [
    "### Exercise 4\n",
    "\n",
    "Suppose the price of a stock begins the trading day at 100 dollars per share. The trading day starts at 9:30am and ends at 4:00pm. Every second during the trading day, the price of the stock moves up or down by 1 cent (0.01 dollars) with equal probabilities for up and down moves.\n",
    "\n",
    "1. (easy) Simulate one day's stock price, and plot the price for each second of the day. (Hint: use the function `np.cumsum()`).\n",
    "\n",
    "2. (medium) Simulate 5000 days of independendently distributed stock price fluctuations, where the stock price starts each day at 100 dollars. Plot a histogram comparing the empirical end-of-day price frequencies with theoretical probabilities. (Hint: Cut, paste, and edit previous code!)\n",
    "\n",
    "3. (medium) A typical stock has a standard deviation of price changes equal to about 2 percent each day. Are the results of your simulation for one day empirically realistic?\n",
    "\n",
    "4. (medium) What \"bad\" things might happen if the second-by-second simulation had a time frame of 10 years (about 2500 trading days) rather than one trading day?\n",
    "\n"
   ]
  },
  {
   "cell_type": "code",
   "execution_count": 7,
   "metadata": {},
   "outputs": [
    {
     "name": "stdout",
     "output_type": "stream",
     "text": [
      "finished\n"
     ]
    }
   ],
   "source": [
    "print(\"finished\")"
   ]
  },
  {
   "cell_type": "code",
   "execution_count": null,
   "metadata": {},
   "outputs": [],
   "source": []
  }
 ],
 "metadata": {
  "kernelspec": {
   "display_name": "Python 3 (ipykernel)",
   "language": "python",
   "name": "python3"
  },
  "language_info": {
   "codemirror_mode": {
    "name": "ipython",
    "version": 3
   },
   "file_extension": ".py",
   "mimetype": "text/x-python",
   "name": "python",
   "nbconvert_exporter": "python",
   "pygments_lexer": "ipython3",
   "version": "3.8.11"
  }
 },
 "nbformat": 4,
 "nbformat_minor": 4
}
