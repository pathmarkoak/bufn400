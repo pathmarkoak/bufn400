{
 "cells": [
  {
   "cell_type": "code",
   "execution_count": 86,
   "id": "8de1d1c2",
   "metadata": {},
   "outputs": [],
   "source": [
    "# Imports\n",
    "import pandas as pd\n",
    "import numpy as np\n",
    "import matplotlib.pyplot as plt\n",
    "import scipy as sp\n",
    "import numexpr as ne\n",
    "from pandas.tseries.offsets import MonthEnd"
   ]
  },
  {
   "cell_type": "code",
   "execution_count": 78,
   "id": "1ad71be3",
   "metadata": {},
   "outputs": [],
   "source": [
    "# Creating DataFrame\n",
    "sp500 = pd.read_csv('weni7z9lm0qu7sul.csv')"
   ]
  },
  {
   "cell_type": "code",
   "execution_count": 79,
   "id": "125eff57-31f3-49cf-a2de-b58d2db45b61",
   "metadata": {
    "tags": []
   },
   "outputs": [
    {
     "data": {
      "text/plain": [
       "(1165, 11)"
      ]
     },
     "execution_count": 79,
     "metadata": {},
     "output_type": "execute_result"
    }
   ],
   "source": [
    "sp500.shape"
   ]
  },
  {
   "cell_type": "code",
   "execution_count": 90,
   "id": "91cf1b40-4bc9-444e-aa72-e7c02a29f6ca",
   "metadata": {
    "tags": []
   },
   "outputs": [
    {
     "data": {
      "text/html": [
       "<div>\n",
       "<style scoped>\n",
       "    .dataframe tbody tr th:only-of-type {\n",
       "        vertical-align: middle;\n",
       "    }\n",
       "\n",
       "    .dataframe tbody tr th {\n",
       "        vertical-align: top;\n",
       "    }\n",
       "\n",
       "    .dataframe thead th {\n",
       "        text-align: right;\n",
       "    }\n",
       "</style>\n",
       "<table border=\"1\" class=\"dataframe\">\n",
       "  <thead>\n",
       "    <tr style=\"text-align: right;\">\n",
       "      <th></th>\n",
       "      <th>caldt</th>\n",
       "      <th>vwretd</th>\n",
       "      <th>vwretx</th>\n",
       "      <th>ewretd</th>\n",
       "      <th>ewretx</th>\n",
       "      <th>totval</th>\n",
       "      <th>totcnt</th>\n",
       "      <th>usdval</th>\n",
       "      <th>usdcnt</th>\n",
       "      <th>spindx</th>\n",
       "      <th>sprtrn</th>\n",
       "    </tr>\n",
       "  </thead>\n",
       "  <tbody>\n",
       "    <tr>\n",
       "      <th>0</th>\n",
       "      <td>1925-12-31</td>\n",
       "      <td>NaN</td>\n",
       "      <td>NaN</td>\n",
       "      <td>NaN</td>\n",
       "      <td>NaN</td>\n",
       "      <td>15236829.5</td>\n",
       "      <td>89</td>\n",
       "      <td>NaN</td>\n",
       "      <td>NaN</td>\n",
       "      <td>12.46</td>\n",
       "      <td>NaN</td>\n",
       "    </tr>\n",
       "    <tr>\n",
       "      <th>1</th>\n",
       "      <td>1926-01-31</td>\n",
       "      <td>-0.001783</td>\n",
       "      <td>-0.003980</td>\n",
       "      <td>0.006457</td>\n",
       "      <td>0.003250</td>\n",
       "      <td>15277664.0</td>\n",
       "      <td>89</td>\n",
       "      <td>15236829.5</td>\n",
       "      <td>79.0</td>\n",
       "      <td>12.74</td>\n",
       "      <td>0.022472</td>\n",
       "    </tr>\n",
       "    <tr>\n",
       "      <th>2</th>\n",
       "      <td>1926-02-28</td>\n",
       "      <td>-0.033296</td>\n",
       "      <td>-0.037876</td>\n",
       "      <td>-0.039979</td>\n",
       "      <td>-0.042451</td>\n",
       "      <td>14712894.9</td>\n",
       "      <td>89</td>\n",
       "      <td>15277664.0</td>\n",
       "      <td>81.0</td>\n",
       "      <td>12.18</td>\n",
       "      <td>-0.043956</td>\n",
       "    </tr>\n",
       "    <tr>\n",
       "      <th>3</th>\n",
       "      <td>1926-03-31</td>\n",
       "      <td>-0.057708</td>\n",
       "      <td>-0.062007</td>\n",
       "      <td>-0.067915</td>\n",
       "      <td>-0.073275</td>\n",
       "      <td>14012079.2</td>\n",
       "      <td>89</td>\n",
       "      <td>14712894.9</td>\n",
       "      <td>81.0</td>\n",
       "      <td>11.46</td>\n",
       "      <td>-0.059113</td>\n",
       "    </tr>\n",
       "    <tr>\n",
       "      <th>4</th>\n",
       "      <td>1926-04-30</td>\n",
       "      <td>0.038522</td>\n",
       "      <td>0.034856</td>\n",
       "      <td>0.031441</td>\n",
       "      <td>0.027121</td>\n",
       "      <td>14500482.2</td>\n",
       "      <td>89</td>\n",
       "      <td>14012079.2</td>\n",
       "      <td>82.0</td>\n",
       "      <td>11.72</td>\n",
       "      <td>0.022688</td>\n",
       "    </tr>\n",
       "  </tbody>\n",
       "</table>\n",
       "</div>"
      ],
      "text/plain": [
       "       caldt    vwretd    vwretx    ewretd    ewretx      totval  totcnt  \\\n",
       "0 1925-12-31       NaN       NaN       NaN       NaN  15236829.5      89   \n",
       "1 1926-01-31 -0.001783 -0.003980  0.006457  0.003250  15277664.0      89   \n",
       "2 1926-02-28 -0.033296 -0.037876 -0.039979 -0.042451  14712894.9      89   \n",
       "3 1926-03-31 -0.057708 -0.062007 -0.067915 -0.073275  14012079.2      89   \n",
       "4 1926-04-30  0.038522  0.034856  0.031441  0.027121  14500482.2      89   \n",
       "\n",
       "       usdval  usdcnt  spindx    sprtrn  \n",
       "0         NaN     NaN   12.46       NaN  \n",
       "1  15236829.5    79.0   12.74  0.022472  \n",
       "2  15277664.0    81.0   12.18 -0.043956  \n",
       "3  14712894.9    81.0   11.46 -0.059113  \n",
       "4  14012079.2    82.0   11.72  0.022688  "
      ]
     },
     "execution_count": 90,
     "metadata": {},
     "output_type": "execute_result"
    }
   ],
   "source": [
    "sp500.head()"
   ]
  },
  {
   "cell_type": "code",
   "execution_count": 110,
   "id": "8c63314b-d051-4f19-ab0c-4232da8c8886",
   "metadata": {
    "tags": []
   },
   "outputs": [
    {
     "data": {
      "text/plain": [
       "Index(['caldt', 'vwretd', 'vwretx', 'ewretd', 'ewretx', 'totval', 'totcnt',\n",
       "       'usdval', 'usdcnt', 'spindx', 'sprtrn'],\n",
       "      dtype='object')"
      ]
     },
     "execution_count": 110,
     "metadata": {},
     "output_type": "execute_result"
    }
   ],
   "source": [
    "sp500.columns"
   ]
  },
  {
   "cell_type": "code",
   "execution_count": 81,
   "id": "61850f09-80d1-4c67-8808-fc180ddc5b97",
   "metadata": {},
   "outputs": [],
   "source": [
    "infla = pd.read_csv('vif61oycy9y6jf7b.csv')"
   ]
  },
  {
   "cell_type": "code",
   "execution_count": 113,
   "id": "8b6ae2ed-dce4-4ecd-831b-9df58c40c075",
   "metadata": {
    "tags": []
   },
   "outputs": [
    {
     "data": {
      "text/plain": [
       "(1165, 11)"
      ]
     },
     "execution_count": 113,
     "metadata": {},
     "output_type": "execute_result"
    }
   ],
   "source": [
    "infla.shape"
   ]
  },
  {
   "cell_type": "code",
   "execution_count": 115,
   "id": "0bca47fc-3ea1-4c53-92fe-62bc74642962",
   "metadata": {},
   "outputs": [
    {
     "data": {
      "text/html": [
       "<div>\n",
       "<style scoped>\n",
       "    .dataframe tbody tr th:only-of-type {\n",
       "        vertical-align: middle;\n",
       "    }\n",
       "\n",
       "    .dataframe tbody tr th {\n",
       "        vertical-align: top;\n",
       "    }\n",
       "\n",
       "    .dataframe thead th {\n",
       "        text-align: right;\n",
       "    }\n",
       "</style>\n",
       "<table border=\"1\" class=\"dataframe\">\n",
       "  <thead>\n",
       "    <tr style=\"text-align: right;\">\n",
       "      <th></th>\n",
       "      <th>caldt</th>\n",
       "      <th>b30ret</th>\n",
       "      <th>b20ret</th>\n",
       "      <th>b10ret</th>\n",
       "      <th>b7ret</th>\n",
       "      <th>b5ret</th>\n",
       "      <th>b2ret</th>\n",
       "      <th>b1ret</th>\n",
       "      <th>t90ret</th>\n",
       "      <th>t30ret</th>\n",
       "      <th>cpiret</th>\n",
       "    </tr>\n",
       "  </thead>\n",
       "  <tbody>\n",
       "    <tr>\n",
       "      <th>0</th>\n",
       "      <td>1925-12-31</td>\n",
       "      <td>NaN</td>\n",
       "      <td>NaN</td>\n",
       "      <td>NaN</td>\n",
       "      <td>NaN</td>\n",
       "      <td>NaN</td>\n",
       "      <td>NaN</td>\n",
       "      <td>NaN</td>\n",
       "      <td>NaN</td>\n",
       "      <td>NaN</td>\n",
       "      <td>NaN</td>\n",
       "    </tr>\n",
       "    <tr>\n",
       "      <th>1</th>\n",
       "      <td>1926-01-31</td>\n",
       "      <td>NaN</td>\n",
       "      <td>NaN</td>\n",
       "      <td>NaN</td>\n",
       "      <td>NaN</td>\n",
       "      <td>NaN</td>\n",
       "      <td>NaN</td>\n",
       "      <td>NaN</td>\n",
       "      <td>0.004042</td>\n",
       "      <td>0.002951</td>\n",
       "      <td>0.000000</td>\n",
       "    </tr>\n",
       "    <tr>\n",
       "      <th>2</th>\n",
       "      <td>1926-02-28</td>\n",
       "      <td>NaN</td>\n",
       "      <td>NaN</td>\n",
       "      <td>NaN</td>\n",
       "      <td>NaN</td>\n",
       "      <td>NaN</td>\n",
       "      <td>NaN</td>\n",
       "      <td>NaN</td>\n",
       "      <td>0.003237</td>\n",
       "      <td>0.002768</td>\n",
       "      <td>0.000000</td>\n",
       "    </tr>\n",
       "    <tr>\n",
       "      <th>3</th>\n",
       "      <td>1926-03-31</td>\n",
       "      <td>NaN</td>\n",
       "      <td>NaN</td>\n",
       "      <td>NaN</td>\n",
       "      <td>NaN</td>\n",
       "      <td>NaN</td>\n",
       "      <td>NaN</td>\n",
       "      <td>NaN</td>\n",
       "      <td>0.002778</td>\n",
       "      <td>0.002778</td>\n",
       "      <td>-0.005587</td>\n",
       "    </tr>\n",
       "    <tr>\n",
       "      <th>4</th>\n",
       "      <td>1926-04-30</td>\n",
       "      <td>NaN</td>\n",
       "      <td>NaN</td>\n",
       "      <td>NaN</td>\n",
       "      <td>NaN</td>\n",
       "      <td>NaN</td>\n",
       "      <td>NaN</td>\n",
       "      <td>NaN</td>\n",
       "      <td>0.003072</td>\n",
       "      <td>0.003072</td>\n",
       "      <td>0.005618</td>\n",
       "    </tr>\n",
       "  </tbody>\n",
       "</table>\n",
       "</div>"
      ],
      "text/plain": [
       "       caldt  b30ret  b20ret  b10ret  b7ret  b5ret  b2ret  b1ret    t90ret  \\\n",
       "0 1925-12-31     NaN     NaN     NaN    NaN    NaN    NaN    NaN       NaN   \n",
       "1 1926-01-31     NaN     NaN     NaN    NaN    NaN    NaN    NaN  0.004042   \n",
       "2 1926-02-28     NaN     NaN     NaN    NaN    NaN    NaN    NaN  0.003237   \n",
       "3 1926-03-31     NaN     NaN     NaN    NaN    NaN    NaN    NaN  0.002778   \n",
       "4 1926-04-30     NaN     NaN     NaN    NaN    NaN    NaN    NaN  0.003072   \n",
       "\n",
       "     t30ret    cpiret  \n",
       "0       NaN       NaN  \n",
       "1  0.002951  0.000000  \n",
       "2  0.002768  0.000000  \n",
       "3  0.002778 -0.005587  \n",
       "4  0.003072  0.005618  "
      ]
     },
     "execution_count": 115,
     "metadata": {},
     "output_type": "execute_result"
    }
   ],
   "source": [
    "infla.head()"
   ]
  },
  {
   "cell_type": "code",
   "execution_count": 111,
   "id": "27d0d488-4c90-4dfe-bef9-6ec906d84777",
   "metadata": {
    "tags": []
   },
   "outputs": [
    {
     "data": {
      "text/plain": [
       "Index(['caldt', 'b30ret', 'b20ret', 'b10ret', 'b7ret', 'b5ret', 'b2ret',\n",
       "       'b1ret', 't90ret', 't30ret', 'cpiret'],\n",
       "      dtype='object')"
      ]
     },
     "execution_count": 111,
     "metadata": {},
     "output_type": "execute_result"
    }
   ],
   "source": [
    "infla.columns"
   ]
  },
  {
   "cell_type": "code",
   "execution_count": 98,
   "id": "d3fbf0f6-a9aa-46ff-ac07-3df8e9f63ea5",
   "metadata": {
    "tags": []
   },
   "outputs": [],
   "source": [
    "sp500['caldt'] = pd.to_datetime(sp500['caldt'], format=\"%Y%m\") + MonthEnd(0)"
   ]
  },
  {
   "cell_type": "code",
   "execution_count": 124,
   "id": "46f4b3a0-e1ff-4610-b2e6-145d327ffd2f",
   "metadata": {
    "tags": []
   },
   "outputs": [
    {
     "data": {
      "text/html": [
       "<div>\n",
       "<style scoped>\n",
       "    .dataframe tbody tr th:only-of-type {\n",
       "        vertical-align: middle;\n",
       "    }\n",
       "\n",
       "    .dataframe tbody tr th {\n",
       "        vertical-align: top;\n",
       "    }\n",
       "\n",
       "    .dataframe thead th {\n",
       "        text-align: right;\n",
       "    }\n",
       "</style>\n",
       "<table border=\"1\" class=\"dataframe\">\n",
       "  <thead>\n",
       "    <tr style=\"text-align: right;\">\n",
       "      <th></th>\n",
       "      <th>caldt</th>\n",
       "      <th>vwretd</th>\n",
       "      <th>vwretx</th>\n",
       "      <th>ewretd</th>\n",
       "      <th>ewretx</th>\n",
       "      <th>totval</th>\n",
       "      <th>totcnt</th>\n",
       "      <th>usdval</th>\n",
       "      <th>usdcnt</th>\n",
       "      <th>spindx</th>\n",
       "      <th>sprtrn</th>\n",
       "    </tr>\n",
       "  </thead>\n",
       "  <tbody>\n",
       "    <tr>\n",
       "      <th>0</th>\n",
       "      <td>1925-12-31</td>\n",
       "      <td>NaN</td>\n",
       "      <td>NaN</td>\n",
       "      <td>NaN</td>\n",
       "      <td>NaN</td>\n",
       "      <td>15236829.5</td>\n",
       "      <td>89</td>\n",
       "      <td>NaN</td>\n",
       "      <td>NaN</td>\n",
       "      <td>12.46</td>\n",
       "      <td>NaN</td>\n",
       "    </tr>\n",
       "    <tr>\n",
       "      <th>1</th>\n",
       "      <td>1926-01-31</td>\n",
       "      <td>-0.001783</td>\n",
       "      <td>-0.003980</td>\n",
       "      <td>0.006457</td>\n",
       "      <td>0.003250</td>\n",
       "      <td>15277664.0</td>\n",
       "      <td>89</td>\n",
       "      <td>15236829.5</td>\n",
       "      <td>79.0</td>\n",
       "      <td>12.74</td>\n",
       "      <td>0.022472</td>\n",
       "    </tr>\n",
       "    <tr>\n",
       "      <th>2</th>\n",
       "      <td>1926-02-28</td>\n",
       "      <td>-0.033296</td>\n",
       "      <td>-0.037876</td>\n",
       "      <td>-0.039979</td>\n",
       "      <td>-0.042451</td>\n",
       "      <td>14712894.9</td>\n",
       "      <td>89</td>\n",
       "      <td>15277664.0</td>\n",
       "      <td>81.0</td>\n",
       "      <td>12.18</td>\n",
       "      <td>-0.043956</td>\n",
       "    </tr>\n",
       "    <tr>\n",
       "      <th>3</th>\n",
       "      <td>1926-03-31</td>\n",
       "      <td>-0.057708</td>\n",
       "      <td>-0.062007</td>\n",
       "      <td>-0.067915</td>\n",
       "      <td>-0.073275</td>\n",
       "      <td>14012079.2</td>\n",
       "      <td>89</td>\n",
       "      <td>14712894.9</td>\n",
       "      <td>81.0</td>\n",
       "      <td>11.46</td>\n",
       "      <td>-0.059113</td>\n",
       "    </tr>\n",
       "    <tr>\n",
       "      <th>4</th>\n",
       "      <td>1926-04-30</td>\n",
       "      <td>0.038522</td>\n",
       "      <td>0.034856</td>\n",
       "      <td>0.031441</td>\n",
       "      <td>0.027121</td>\n",
       "      <td>14500482.2</td>\n",
       "      <td>89</td>\n",
       "      <td>14012079.2</td>\n",
       "      <td>82.0</td>\n",
       "      <td>11.72</td>\n",
       "      <td>0.022688</td>\n",
       "    </tr>\n",
       "  </tbody>\n",
       "</table>\n",
       "</div>"
      ],
      "text/plain": [
       "       caldt    vwretd    vwretx    ewretd    ewretx      totval  totcnt  \\\n",
       "0 1925-12-31       NaN       NaN       NaN       NaN  15236829.5      89   \n",
       "1 1926-01-31 -0.001783 -0.003980  0.006457  0.003250  15277664.0      89   \n",
       "2 1926-02-28 -0.033296 -0.037876 -0.039979 -0.042451  14712894.9      89   \n",
       "3 1926-03-31 -0.057708 -0.062007 -0.067915 -0.073275  14012079.2      89   \n",
       "4 1926-04-30  0.038522  0.034856  0.031441  0.027121  14500482.2      89   \n",
       "\n",
       "       usdval  usdcnt  spindx    sprtrn  \n",
       "0         NaN     NaN   12.46       NaN  \n",
       "1  15236829.5    79.0   12.74  0.022472  \n",
       "2  15277664.0    81.0   12.18 -0.043956  \n",
       "3  14712894.9    81.0   11.46 -0.059113  \n",
       "4  14012079.2    82.0   11.72  0.022688  "
      ]
     },
     "execution_count": 124,
     "metadata": {},
     "output_type": "execute_result"
    }
   ],
   "source": [
    "sp500.head()"
   ]
  },
  {
   "cell_type": "code",
   "execution_count": 101,
   "id": "b913b139-8bb2-4ff2-842d-10e661a310ad",
   "metadata": {
    "tags": []
   },
   "outputs": [],
   "source": [
    "infla['caldt'] = pd.to_datetime(infla['caldt'])\n",
    "infla['caldt'] = infla['caldt'] + MonthEnd(0)"
   ]
  },
  {
   "cell_type": "code",
   "execution_count": 107,
   "id": "a4a51f94-0183-471f-86c6-9ea4ca9b55ef",
   "metadata": {
    "tags": []
   },
   "outputs": [
    {
     "data": {
      "text/plain": [
       "(1165, 21)"
      ]
     },
     "execution_count": 107,
     "metadata": {},
     "output_type": "execute_result"
    }
   ],
   "source": [
    "merged = pd.merge(sp500, infla, on = 'caldt', how = 'inner')\n",
    "merged.shape"
   ]
  },
  {
   "cell_type": "code",
   "execution_count": 112,
   "id": "7febc43a-53a3-4b7e-877b-80c7b6b76068",
   "metadata": {
    "tags": []
   },
   "outputs": [
    {
     "data": {
      "text/plain": [
       "(1165, 21)"
      ]
     },
     "execution_count": 112,
     "metadata": {},
     "output_type": "execute_result"
    }
   ],
   "source": [
    "merged.shape"
   ]
  },
  {
   "cell_type": "code",
   "execution_count": 118,
   "id": "d959af58-48f8-4e8b-83c3-3dc356061c37",
   "metadata": {
    "tags": []
   },
   "outputs": [
    {
     "data": {
      "text/plain": [
       "Index(['caldt', 'vwretd', 'vwretx', 'ewretd', 'ewretx', 'totval', 'totcnt',\n",
       "       'usdval', 'usdcnt', 'spindx', 'sprtrn', 'b30ret', 'b20ret', 'b10ret',\n",
       "       'b7ret', 'b5ret', 'b2ret', 'b1ret', 't90ret', 't30ret', 'cpiret'],\n",
       "      dtype='object')"
      ]
     },
     "execution_count": 118,
     "metadata": {},
     "output_type": "execute_result"
    }
   ],
   "source": [
    "merged.columns"
   ]
  },
  {
   "cell_type": "code",
   "execution_count": 128,
   "id": "d145b7e8-5bb1-41a4-ae08-07d6a52e2784",
   "metadata": {
    "tags": []
   },
   "outputs": [
    {
     "data": {
      "text/html": [
       "<div>\n",
       "<style scoped>\n",
       "    .dataframe tbody tr th:only-of-type {\n",
       "        vertical-align: middle;\n",
       "    }\n",
       "\n",
       "    .dataframe tbody tr th {\n",
       "        vertical-align: top;\n",
       "    }\n",
       "\n",
       "    .dataframe thead th {\n",
       "        text-align: right;\n",
       "    }\n",
       "</style>\n",
       "<table border=\"1\" class=\"dataframe\">\n",
       "  <thead>\n",
       "    <tr style=\"text-align: right;\">\n",
       "      <th></th>\n",
       "      <th>caldt</th>\n",
       "      <th>vwretd</th>\n",
       "      <th>vwretx</th>\n",
       "      <th>ewretd</th>\n",
       "      <th>ewretx</th>\n",
       "      <th>totval</th>\n",
       "      <th>totcnt</th>\n",
       "      <th>usdval</th>\n",
       "      <th>usdcnt</th>\n",
       "      <th>spindx</th>\n",
       "      <th>sprtrn</th>\n",
       "      <th>b30ret</th>\n",
       "      <th>b20ret</th>\n",
       "      <th>b10ret</th>\n",
       "      <th>b7ret</th>\n",
       "      <th>b5ret</th>\n",
       "      <th>b2ret</th>\n",
       "      <th>b1ret</th>\n",
       "      <th>t90ret</th>\n",
       "      <th>t30ret</th>\n",
       "      <th>cpiret</th>\n",
       "    </tr>\n",
       "  </thead>\n",
       "  <tbody>\n",
       "    <tr>\n",
       "      <th>0</th>\n",
       "      <td>1925-12-31</td>\n",
       "      <td>NaN</td>\n",
       "      <td>NaN</td>\n",
       "      <td>NaN</td>\n",
       "      <td>NaN</td>\n",
       "      <td>15236829.5</td>\n",
       "      <td>89</td>\n",
       "      <td>NaN</td>\n",
       "      <td>NaN</td>\n",
       "      <td>12.46</td>\n",
       "      <td>NaN</td>\n",
       "      <td>NaN</td>\n",
       "      <td>NaN</td>\n",
       "      <td>NaN</td>\n",
       "      <td>NaN</td>\n",
       "      <td>NaN</td>\n",
       "      <td>NaN</td>\n",
       "      <td>NaN</td>\n",
       "      <td>NaN</td>\n",
       "      <td>NaN</td>\n",
       "      <td>NaN</td>\n",
       "    </tr>\n",
       "    <tr>\n",
       "      <th>1</th>\n",
       "      <td>1926-01-31</td>\n",
       "      <td>-0.001783</td>\n",
       "      <td>-0.003980</td>\n",
       "      <td>0.006457</td>\n",
       "      <td>0.003250</td>\n",
       "      <td>15277664.0</td>\n",
       "      <td>89</td>\n",
       "      <td>15236829.5</td>\n",
       "      <td>79.0</td>\n",
       "      <td>12.74</td>\n",
       "      <td>0.022472</td>\n",
       "      <td>NaN</td>\n",
       "      <td>NaN</td>\n",
       "      <td>NaN</td>\n",
       "      <td>NaN</td>\n",
       "      <td>NaN</td>\n",
       "      <td>NaN</td>\n",
       "      <td>NaN</td>\n",
       "      <td>0.004042</td>\n",
       "      <td>0.002951</td>\n",
       "      <td>0.000000</td>\n",
       "    </tr>\n",
       "    <tr>\n",
       "      <th>2</th>\n",
       "      <td>1926-02-28</td>\n",
       "      <td>-0.033296</td>\n",
       "      <td>-0.037876</td>\n",
       "      <td>-0.039979</td>\n",
       "      <td>-0.042451</td>\n",
       "      <td>14712894.9</td>\n",
       "      <td>89</td>\n",
       "      <td>15277664.0</td>\n",
       "      <td>81.0</td>\n",
       "      <td>12.18</td>\n",
       "      <td>-0.043956</td>\n",
       "      <td>NaN</td>\n",
       "      <td>NaN</td>\n",
       "      <td>NaN</td>\n",
       "      <td>NaN</td>\n",
       "      <td>NaN</td>\n",
       "      <td>NaN</td>\n",
       "      <td>NaN</td>\n",
       "      <td>0.003237</td>\n",
       "      <td>0.002768</td>\n",
       "      <td>0.000000</td>\n",
       "    </tr>\n",
       "    <tr>\n",
       "      <th>3</th>\n",
       "      <td>1926-03-31</td>\n",
       "      <td>-0.057708</td>\n",
       "      <td>-0.062007</td>\n",
       "      <td>-0.067915</td>\n",
       "      <td>-0.073275</td>\n",
       "      <td>14012079.2</td>\n",
       "      <td>89</td>\n",
       "      <td>14712894.9</td>\n",
       "      <td>81.0</td>\n",
       "      <td>11.46</td>\n",
       "      <td>-0.059113</td>\n",
       "      <td>NaN</td>\n",
       "      <td>NaN</td>\n",
       "      <td>NaN</td>\n",
       "      <td>NaN</td>\n",
       "      <td>NaN</td>\n",
       "      <td>NaN</td>\n",
       "      <td>NaN</td>\n",
       "      <td>0.002778</td>\n",
       "      <td>0.002778</td>\n",
       "      <td>-0.005587</td>\n",
       "    </tr>\n",
       "    <tr>\n",
       "      <th>4</th>\n",
       "      <td>1926-04-30</td>\n",
       "      <td>0.038522</td>\n",
       "      <td>0.034856</td>\n",
       "      <td>0.031441</td>\n",
       "      <td>0.027121</td>\n",
       "      <td>14500482.2</td>\n",
       "      <td>89</td>\n",
       "      <td>14012079.2</td>\n",
       "      <td>82.0</td>\n",
       "      <td>11.72</td>\n",
       "      <td>0.022688</td>\n",
       "      <td>NaN</td>\n",
       "      <td>NaN</td>\n",
       "      <td>NaN</td>\n",
       "      <td>NaN</td>\n",
       "      <td>NaN</td>\n",
       "      <td>NaN</td>\n",
       "      <td>NaN</td>\n",
       "      <td>0.003072</td>\n",
       "      <td>0.003072</td>\n",
       "      <td>0.005618</td>\n",
       "    </tr>\n",
       "  </tbody>\n",
       "</table>\n",
       "</div>"
      ],
      "text/plain": [
       "       caldt    vwretd    vwretx    ewretd    ewretx      totval  totcnt  \\\n",
       "0 1925-12-31       NaN       NaN       NaN       NaN  15236829.5      89   \n",
       "1 1926-01-31 -0.001783 -0.003980  0.006457  0.003250  15277664.0      89   \n",
       "2 1926-02-28 -0.033296 -0.037876 -0.039979 -0.042451  14712894.9      89   \n",
       "3 1926-03-31 -0.057708 -0.062007 -0.067915 -0.073275  14012079.2      89   \n",
       "4 1926-04-30  0.038522  0.034856  0.031441  0.027121  14500482.2      89   \n",
       "\n",
       "       usdval  usdcnt  spindx    sprtrn  b30ret  b20ret  b10ret  b7ret  b5ret  \\\n",
       "0         NaN     NaN   12.46       NaN     NaN     NaN     NaN    NaN    NaN   \n",
       "1  15236829.5    79.0   12.74  0.022472     NaN     NaN     NaN    NaN    NaN   \n",
       "2  15277664.0    81.0   12.18 -0.043956     NaN     NaN     NaN    NaN    NaN   \n",
       "3  14712894.9    81.0   11.46 -0.059113     NaN     NaN     NaN    NaN    NaN   \n",
       "4  14012079.2    82.0   11.72  0.022688     NaN     NaN     NaN    NaN    NaN   \n",
       "\n",
       "   b2ret  b1ret    t90ret    t30ret    cpiret  \n",
       "0    NaN    NaN       NaN       NaN       NaN  \n",
       "1    NaN    NaN  0.004042  0.002951  0.000000  \n",
       "2    NaN    NaN  0.003237  0.002768  0.000000  \n",
       "3    NaN    NaN  0.002778  0.002778 -0.005587  \n",
       "4    NaN    NaN  0.003072  0.003072  0.005618  "
      ]
     },
     "execution_count": 128,
     "metadata": {},
     "output_type": "execute_result"
    }
   ],
   "source": [
    "pd.set_option('display.max_columns', None)\n",
    "merged.head()"
   ]
  },
  {
   "cell_type": "code",
   "execution_count": 140,
   "id": "f9b5ad2a-8247-42c9-bd9c-878fb508e010",
   "metadata": {
    "tags": []
   },
   "outputs": [],
   "source": [
    "# Nominal returns, not adjusted for inflation\n",
    "sp500_nominal_returns = merged['vwretd']\n",
    "sp500_cum = (1 + sp500_nominal_returns).cumprod()\n",
    "t30_nominal_returns = merged['t30ret']\n",
    "t30_cum = (1 + t30_nominal_returns).cumprod()\n",
    "t90_nominal_returns = merged['t90ret']\n",
    "t90_cum = (1 + t90_nominal_returns).cumprod()\n",
    "b1_nominal_returns = merged['b1ret']\n",
    "b1_cum = (1 + b1_nominal_returns).cumprod()\n",
    "b2_nominal_returns = merged['b1ret']\n",
    "b2_cum = (1 + b2_nominal_returns).cumprod()\n",
    "b5_nominal_returns = merged['b5ret']\n",
    "b5_cum = (1 + b5_nominal_returns).cumprod()\n",
    "b7_nominal_returns = merged['b7ret']\n",
    "b7_cum = (1 + b7_nominal_returns).cumprod()\n",
    "b10_nominal_returns = merged['b10ret']\n",
    "b10_cum = (1 + b10_nominal_returns).cumprod()\n",
    "b20_nominal_returns = merged['b20ret']\n",
    "b20_cum = (1 + b20_nominal_returns).cumprod()\n",
    "b30_nominal_returns = merged['b30ret']\n",
    "b30_cum = (1 + b30_nominal_returns).cumprod()"
   ]
  },
  {
   "cell_type": "code",
   "execution_count": 144,
   "id": "a8c39afe-6351-469c-a250-ffef0a552e9f",
   "metadata": {
    "tags": []
   },
   "outputs": [
    {
     "data": {
      "text/plain": [
       "<matplotlib.legend.Legend at 0x1b1e741fb10>"
      ]
     },
     "execution_count": 144,
     "metadata": {},
     "output_type": "execute_result"
    },
    {
     "data": {
      "image/png": "[encoded data removed]",
      "text/plain": [
       "<Figure size 1200x600 with 1 Axes>"
      ]
     },
     "metadata": {},
     "output_type": "display_data"
    }
   ],
   "source": [
    "# Plotting nominal returns\n",
    "plt.figure(figsize=(12, 6))\n",
    "plt.title('Nominal Cumulative Returns')\n",
    "plt.xlabel('Date')\n",
    "plt.ylabel('Cumulative Value')\n",
    "plt.grid(True)\n",
    "plt.semilogy(merged['caldt'], sp500_cum, label='S&P 500', linestyle='-', marker='o', markersize=3)\n",
    "plt.semilogy(merged['caldt'], t30_cum, label='30 Day Bill', linestyle='-', marker='o', markersize=3)\n",
    "plt.semilogy(merged['caldt'], t90_cum, label='90 Day Bill', linestyle='-', marker='o', markersize=3)\n",
    "plt.semilogy(merged['caldt'], b1_cum, label='1 Year Bond', linestyle='-', marker='o', markersize=3)\n",
    "plt.semilogy(merged['caldt'], b1_cum, label='1 Year Bond', linestyle='-', marker='o', markersize=3)\n",
    "plt.semilogy(merged['caldt'], b2_cum, label='2 Year Bond', linestyle='-', marker='o', markersize=3)\n",
    "plt.semilogy(merged['caldt'], b5_cum, label='5 Year Bond', linestyle='-', marker='o', markersize=3)\n",
    "plt.semilogy(merged['caldt'], b7_cum, label='7 Year Bond', linestyle='-', marker='o', markersize=3)\n",
    "plt.semilogy(merged['caldt'], b10_cum, label='10 Year Bond', linestyle='-', marker='o', markersize=3)\n",
    "plt.semilogy(merged['caldt'], b20_cum, label='20 Year Bond', linestyle='-', marker='o', markersize=3)\n",
    "plt.semilogy(merged['caldt'], b30_cum, label='30 Year Bond', linestyle='-', marker='o', markersize=3)\n",
    "plt.legend()"
   ]
  },
  {
   "cell_type": "code",
   "execution_count": null,
   "id": "5f08ff16-e3fc-49c4-8827-7ca90053dc94",
   "metadata": {},
   "outputs": [],
   "source": []
  }
 ],
 "metadata": {
  "kernelspec": {
   "display_name": "Python 3 (ipykernel)",
   "language": "python",
   "name": "python3"
  },
  "language_info": {
   "codemirror_mode": {
    "name": "ipython",
    "version": 3
   },
   "file_extension": ".py",
   "mimetype": "text/x-python",
   "name": "python",
   "nbconvert_exporter": "python",
   "pygments_lexer": "ipython3",
   "version": "3.11.4"
  }
 },
 "nbformat": 4,
 "nbformat_minor": 5
}
