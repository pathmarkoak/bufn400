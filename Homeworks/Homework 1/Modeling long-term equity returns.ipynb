{
 "cells": [
  {
   "cell_type": "code",
   "execution_count": 44,
   "id": "8de1d1c2",
   "metadata": {},
   "outputs": [],
   "source": [
    "# Imports\n",
    "import pandas as pd\n",
    "import numpy as np\n",
    "import matplotlib.pyplot as plt\n",
    "import scipy as sp\n",
    "import numexpr as ne\n",
    "from pandas.tseries.offsets import MonthEnd"
   ]
  },
  {
   "cell_type": "markdown",
   "id": "69848691-5c77-4e1b-a847-fb3fefb056d5",
   "metadata": {},
   "source": [
    "# Problem 1"
   ]
  },
  {
   "cell_type": "code",
   "execution_count": 45,
   "id": "1ad71be3",
   "metadata": {},
   "outputs": [],
   "source": [
    "# Creating DataFrame\n",
    "sp500 = pd.read_csv('weni7z9lm0qu7sul.csv')"
   ]
  },
  {
   "cell_type": "code",
   "execution_count": 46,
   "id": "125eff57-31f3-49cf-a2de-b58d2db45b61",
   "metadata": {
    "tags": []
   },
   "outputs": [
    {
     "data": {
      "text/plain": [
       "(1165, 11)"
      ]
     },
     "execution_count": 46,
     "metadata": {},
     "output_type": "execute_result"
    }
   ],
   "source": [
    "sp500.shape"
   ]
  },
  {
   "cell_type": "code",
   "execution_count": 47,
   "id": "91cf1b40-4bc9-444e-aa72-e7c02a29f6ca",
   "metadata": {
    "tags": []
   },
   "outputs": [
    {
     "data": {
      "text/html": [
       "<div>\n",
       "<style scoped>\n",
       "    .dataframe tbody tr th:only-of-type {\n",
       "        vertical-align: middle;\n",
       "    }\n",
       "\n",
       "    .dataframe tbody tr th {\n",
       "        vertical-align: top;\n",
       "    }\n",
       "\n",
       "    .dataframe thead th {\n",
       "        text-align: right;\n",
       "    }\n",
       "</style>\n",
       "<table border=\"1\" class=\"dataframe\">\n",
       "  <thead>\n",
       "    <tr style=\"text-align: right;\">\n",
       "      <th></th>\n",
       "      <th>caldt</th>\n",
       "      <th>vwretd</th>\n",
       "      <th>vwretx</th>\n",
       "      <th>ewretd</th>\n",
       "      <th>ewretx</th>\n",
       "      <th>totval</th>\n",
       "      <th>totcnt</th>\n",
       "      <th>usdval</th>\n",
       "      <th>usdcnt</th>\n",
       "      <th>spindx</th>\n",
       "      <th>sprtrn</th>\n",
       "    </tr>\n",
       "  </thead>\n",
       "  <tbody>\n",
       "    <tr>\n",
       "      <th>0</th>\n",
       "      <td>1925-12-31</td>\n",
       "      <td>NaN</td>\n",
       "      <td>NaN</td>\n",
       "      <td>NaN</td>\n",
       "      <td>NaN</td>\n",
       "      <td>15236829.5</td>\n",
       "      <td>89</td>\n",
       "      <td>NaN</td>\n",
       "      <td>NaN</td>\n",
       "      <td>12.46</td>\n",
       "      <td>NaN</td>\n",
       "    </tr>\n",
       "    <tr>\n",
       "      <th>1</th>\n",
       "      <td>1926-01-30</td>\n",
       "      <td>-0.001783</td>\n",
       "      <td>-0.003980</td>\n",
       "      <td>0.006457</td>\n",
       "      <td>0.003250</td>\n",
       "      <td>15277664.0</td>\n",
       "      <td>89</td>\n",
       "      <td>15236829.5</td>\n",
       "      <td>79.0</td>\n",
       "      <td>12.74</td>\n",
       "      <td>0.022472</td>\n",
       "    </tr>\n",
       "    <tr>\n",
       "      <th>2</th>\n",
       "      <td>1926-02-27</td>\n",
       "      <td>-0.033296</td>\n",
       "      <td>-0.037876</td>\n",
       "      <td>-0.039979</td>\n",
       "      <td>-0.042451</td>\n",
       "      <td>14712894.9</td>\n",
       "      <td>89</td>\n",
       "      <td>15277664.0</td>\n",
       "      <td>81.0</td>\n",
       "      <td>12.18</td>\n",
       "      <td>-0.043956</td>\n",
       "    </tr>\n",
       "    <tr>\n",
       "      <th>3</th>\n",
       "      <td>1926-03-31</td>\n",
       "      <td>-0.057708</td>\n",
       "      <td>-0.062007</td>\n",
       "      <td>-0.067915</td>\n",
       "      <td>-0.073275</td>\n",
       "      <td>14012079.2</td>\n",
       "      <td>89</td>\n",
       "      <td>14712894.9</td>\n",
       "      <td>81.0</td>\n",
       "      <td>11.46</td>\n",
       "      <td>-0.059113</td>\n",
       "    </tr>\n",
       "    <tr>\n",
       "      <th>4</th>\n",
       "      <td>1926-04-30</td>\n",
       "      <td>0.038522</td>\n",
       "      <td>0.034856</td>\n",
       "      <td>0.031441</td>\n",
       "      <td>0.027121</td>\n",
       "      <td>14500482.2</td>\n",
       "      <td>89</td>\n",
       "      <td>14012079.2</td>\n",
       "      <td>82.0</td>\n",
       "      <td>11.72</td>\n",
       "      <td>0.022688</td>\n",
       "    </tr>\n",
       "  </tbody>\n",
       "</table>\n",
       "</div>"
      ],
      "text/plain": [
       "        caldt    vwretd    vwretx    ewretd    ewretx      totval  totcnt  \\\n",
       "0  1925-12-31       NaN       NaN       NaN       NaN  15236829.5      89   \n",
       "1  1926-01-30 -0.001783 -0.003980  0.006457  0.003250  15277664.0      89   \n",
       "2  1926-02-27 -0.033296 -0.037876 -0.039979 -0.042451  14712894.9      89   \n",
       "3  1926-03-31 -0.057708 -0.062007 -0.067915 -0.073275  14012079.2      89   \n",
       "4  1926-04-30  0.038522  0.034856  0.031441  0.027121  14500482.2      89   \n",
       "\n",
       "       usdval  usdcnt  spindx    sprtrn  \n",
       "0         NaN     NaN   12.46       NaN  \n",
       "1  15236829.5    79.0   12.74  0.022472  \n",
       "2  15277664.0    81.0   12.18 -0.043956  \n",
       "3  14712894.9    81.0   11.46 -0.059113  \n",
       "4  14012079.2    82.0   11.72  0.022688  "
      ]
     },
     "execution_count": 47,
     "metadata": {},
     "output_type": "execute_result"
    }
   ],
   "source": [
    "sp500.head()"
   ]
  },
  {
   "cell_type": "code",
   "execution_count": 48,
   "id": "8c63314b-d051-4f19-ab0c-4232da8c8886",
   "metadata": {
    "tags": []
   },
   "outputs": [
    {
     "data": {
      "text/plain": [
       "Index(['caldt', 'vwretd', 'vwretx', 'ewretd', 'ewretx', 'totval', 'totcnt',\n",
       "       'usdval', 'usdcnt', 'spindx', 'sprtrn'],\n",
       "      dtype='object')"
      ]
     },
     "execution_count": 48,
     "metadata": {},
     "output_type": "execute_result"
    }
   ],
   "source": [
    "sp500.columns"
   ]
  },
  {
   "cell_type": "code",
   "execution_count": 49,
   "id": "61850f09-80d1-4c67-8808-fc180ddc5b97",
   "metadata": {},
   "outputs": [],
   "source": [
    "infla = pd.read_csv('vif61oycy9y6jf7b.csv')"
   ]
  },
  {
   "cell_type": "code",
   "execution_count": 50,
   "id": "8b6ae2ed-dce4-4ecd-831b-9df58c40c075",
   "metadata": {
    "tags": []
   },
   "outputs": [
    {
     "data": {
      "text/plain": [
       "(1165, 11)"
      ]
     },
     "execution_count": 50,
     "metadata": {},
     "output_type": "execute_result"
    }
   ],
   "source": [
    "infla.shape"
   ]
  },
  {
   "cell_type": "code",
   "execution_count": 51,
   "id": "0bca47fc-3ea1-4c53-92fe-62bc74642962",
   "metadata": {},
   "outputs": [
    {
     "data": {
      "text/html": [
       "<div>\n",
       "<style scoped>\n",
       "    .dataframe tbody tr th:only-of-type {\n",
       "        vertical-align: middle;\n",
       "    }\n",
       "\n",
       "    .dataframe tbody tr th {\n",
       "        vertical-align: top;\n",
       "    }\n",
       "\n",
       "    .dataframe thead th {\n",
       "        text-align: right;\n",
       "    }\n",
       "</style>\n",
       "<table border=\"1\" class=\"dataframe\">\n",
       "  <thead>\n",
       "    <tr style=\"text-align: right;\">\n",
       "      <th></th>\n",
       "      <th>caldt</th>\n",
       "      <th>b30ret</th>\n",
       "      <th>b20ret</th>\n",
       "      <th>b10ret</th>\n",
       "      <th>b7ret</th>\n",
       "      <th>b5ret</th>\n",
       "      <th>b2ret</th>\n",
       "      <th>b1ret</th>\n",
       "      <th>t90ret</th>\n",
       "      <th>t30ret</th>\n",
       "      <th>cpiret</th>\n",
       "    </tr>\n",
       "  </thead>\n",
       "  <tbody>\n",
       "    <tr>\n",
       "      <th>0</th>\n",
       "      <td>1925-12-31</td>\n",
       "      <td>NaN</td>\n",
       "      <td>NaN</td>\n",
       "      <td>NaN</td>\n",
       "      <td>NaN</td>\n",
       "      <td>NaN</td>\n",
       "      <td>NaN</td>\n",
       "      <td>NaN</td>\n",
       "      <td>NaN</td>\n",
       "      <td>NaN</td>\n",
       "      <td>NaN</td>\n",
       "    </tr>\n",
       "    <tr>\n",
       "      <th>1</th>\n",
       "      <td>1926-01-30</td>\n",
       "      <td>NaN</td>\n",
       "      <td>NaN</td>\n",
       "      <td>NaN</td>\n",
       "      <td>NaN</td>\n",
       "      <td>NaN</td>\n",
       "      <td>NaN</td>\n",
       "      <td>NaN</td>\n",
       "      <td>0.004042</td>\n",
       "      <td>0.002951</td>\n",
       "      <td>0.000000</td>\n",
       "    </tr>\n",
       "    <tr>\n",
       "      <th>2</th>\n",
       "      <td>1926-02-27</td>\n",
       "      <td>NaN</td>\n",
       "      <td>NaN</td>\n",
       "      <td>NaN</td>\n",
       "      <td>NaN</td>\n",
       "      <td>NaN</td>\n",
       "      <td>NaN</td>\n",
       "      <td>NaN</td>\n",
       "      <td>0.003237</td>\n",
       "      <td>0.002768</td>\n",
       "      <td>0.000000</td>\n",
       "    </tr>\n",
       "    <tr>\n",
       "      <th>3</th>\n",
       "      <td>1926-03-31</td>\n",
       "      <td>NaN</td>\n",
       "      <td>NaN</td>\n",
       "      <td>NaN</td>\n",
       "      <td>NaN</td>\n",
       "      <td>NaN</td>\n",
       "      <td>NaN</td>\n",
       "      <td>NaN</td>\n",
       "      <td>0.002778</td>\n",
       "      <td>0.002778</td>\n",
       "      <td>-0.005587</td>\n",
       "    </tr>\n",
       "    <tr>\n",
       "      <th>4</th>\n",
       "      <td>1926-04-30</td>\n",
       "      <td>NaN</td>\n",
       "      <td>NaN</td>\n",
       "      <td>NaN</td>\n",
       "      <td>NaN</td>\n",
       "      <td>NaN</td>\n",
       "      <td>NaN</td>\n",
       "      <td>NaN</td>\n",
       "      <td>0.003072</td>\n",
       "      <td>0.003072</td>\n",
       "      <td>0.005618</td>\n",
       "    </tr>\n",
       "  </tbody>\n",
       "</table>\n",
       "</div>"
      ],
      "text/plain": [
       "        caldt  b30ret  b20ret  b10ret  b7ret  b5ret  b2ret  b1ret    t90ret  \\\n",
       "0  1925-12-31     NaN     NaN     NaN    NaN    NaN    NaN    NaN       NaN   \n",
       "1  1926-01-30     NaN     NaN     NaN    NaN    NaN    NaN    NaN  0.004042   \n",
       "2  1926-02-27     NaN     NaN     NaN    NaN    NaN    NaN    NaN  0.003237   \n",
       "3  1926-03-31     NaN     NaN     NaN    NaN    NaN    NaN    NaN  0.002778   \n",
       "4  1926-04-30     NaN     NaN     NaN    NaN    NaN    NaN    NaN  0.003072   \n",
       "\n",
       "     t30ret    cpiret  \n",
       "0       NaN       NaN  \n",
       "1  0.002951  0.000000  \n",
       "2  0.002768  0.000000  \n",
       "3  0.002778 -0.005587  \n",
       "4  0.003072  0.005618  "
      ]
     },
     "execution_count": 51,
     "metadata": {},
     "output_type": "execute_result"
    }
   ],
   "source": [
    "infla.head()"
   ]
  },
  {
   "cell_type": "code",
   "execution_count": 52,
   "id": "27d0d488-4c90-4dfe-bef9-6ec906d84777",
   "metadata": {
    "tags": []
   },
   "outputs": [
    {
     "data": {
      "text/plain": [
       "Index(['caldt', 'b30ret', 'b20ret', 'b10ret', 'b7ret', 'b5ret', 'b2ret',\n",
       "       'b1ret', 't90ret', 't30ret', 'cpiret'],\n",
       "      dtype='object')"
      ]
     },
     "execution_count": 52,
     "metadata": {},
     "output_type": "execute_result"
    }
   ],
   "source": [
    "infla.columns"
   ]
  },
  {
   "cell_type": "code",
   "execution_count": 53,
   "id": "d3fbf0f6-a9aa-46ff-ac07-3df8e9f63ea5",
   "metadata": {
    "tags": []
   },
   "outputs": [],
   "source": [
    "sp500['caldt'] = pd.to_datetime(sp500['caldt'])\n",
    "sp500['caldt'] = pd.to_datetime(sp500['caldt'], format=\"%Y%m\") + MonthEnd(0)"
   ]
  },
  {
   "cell_type": "code",
   "execution_count": 54,
   "id": "46f4b3a0-e1ff-4610-b2e6-145d327ffd2f",
   "metadata": {
    "tags": []
   },
   "outputs": [
    {
     "data": {
      "text/html": [
       "<div>\n",
       "<style scoped>\n",
       "    .dataframe tbody tr th:only-of-type {\n",
       "        vertical-align: middle;\n",
       "    }\n",
       "\n",
       "    .dataframe tbody tr th {\n",
       "        vertical-align: top;\n",
       "    }\n",
       "\n",
       "    .dataframe thead th {\n",
       "        text-align: right;\n",
       "    }\n",
       "</style>\n",
       "<table border=\"1\" class=\"dataframe\">\n",
       "  <thead>\n",
       "    <tr style=\"text-align: right;\">\n",
       "      <th></th>\n",
       "      <th>caldt</th>\n",
       "      <th>vwretd</th>\n",
       "      <th>vwretx</th>\n",
       "      <th>ewretd</th>\n",
       "      <th>ewretx</th>\n",
       "      <th>totval</th>\n",
       "      <th>totcnt</th>\n",
       "      <th>usdval</th>\n",
       "      <th>usdcnt</th>\n",
       "      <th>spindx</th>\n",
       "      <th>sprtrn</th>\n",
       "    </tr>\n",
       "  </thead>\n",
       "  <tbody>\n",
       "    <tr>\n",
       "      <th>0</th>\n",
       "      <td>1925-12-31</td>\n",
       "      <td>NaN</td>\n",
       "      <td>NaN</td>\n",
       "      <td>NaN</td>\n",
       "      <td>NaN</td>\n",
       "      <td>15236829.5</td>\n",
       "      <td>89</td>\n",
       "      <td>NaN</td>\n",
       "      <td>NaN</td>\n",
       "      <td>12.46</td>\n",
       "      <td>NaN</td>\n",
       "    </tr>\n",
       "    <tr>\n",
       "      <th>1</th>\n",
       "      <td>1926-01-31</td>\n",
       "      <td>-0.001783</td>\n",
       "      <td>-0.003980</td>\n",
       "      <td>0.006457</td>\n",
       "      <td>0.003250</td>\n",
       "      <td>15277664.0</td>\n",
       "      <td>89</td>\n",
       "      <td>15236829.5</td>\n",
       "      <td>79.0</td>\n",
       "      <td>12.74</td>\n",
       "      <td>0.022472</td>\n",
       "    </tr>\n",
       "    <tr>\n",
       "      <th>2</th>\n",
       "      <td>1926-02-28</td>\n",
       "      <td>-0.033296</td>\n",
       "      <td>-0.037876</td>\n",
       "      <td>-0.039979</td>\n",
       "      <td>-0.042451</td>\n",
       "      <td>14712894.9</td>\n",
       "      <td>89</td>\n",
       "      <td>15277664.0</td>\n",
       "      <td>81.0</td>\n",
       "      <td>12.18</td>\n",
       "      <td>-0.043956</td>\n",
       "    </tr>\n",
       "    <tr>\n",
       "      <th>3</th>\n",
       "      <td>1926-03-31</td>\n",
       "      <td>-0.057708</td>\n",
       "      <td>-0.062007</td>\n",
       "      <td>-0.067915</td>\n",
       "      <td>-0.073275</td>\n",
       "      <td>14012079.2</td>\n",
       "      <td>89</td>\n",
       "      <td>14712894.9</td>\n",
       "      <td>81.0</td>\n",
       "      <td>11.46</td>\n",
       "      <td>-0.059113</td>\n",
       "    </tr>\n",
       "    <tr>\n",
       "      <th>4</th>\n",
       "      <td>1926-04-30</td>\n",
       "      <td>0.038522</td>\n",
       "      <td>0.034856</td>\n",
       "      <td>0.031441</td>\n",
       "      <td>0.027121</td>\n",
       "      <td>14500482.2</td>\n",
       "      <td>89</td>\n",
       "      <td>14012079.2</td>\n",
       "      <td>82.0</td>\n",
       "      <td>11.72</td>\n",
       "      <td>0.022688</td>\n",
       "    </tr>\n",
       "  </tbody>\n",
       "</table>\n",
       "</div>"
      ],
      "text/plain": [
       "       caldt    vwretd    vwretx    ewretd    ewretx      totval  totcnt  \\\n",
       "0 1925-12-31       NaN       NaN       NaN       NaN  15236829.5      89   \n",
       "1 1926-01-31 -0.001783 -0.003980  0.006457  0.003250  15277664.0      89   \n",
       "2 1926-02-28 -0.033296 -0.037876 -0.039979 -0.042451  14712894.9      89   \n",
       "3 1926-03-31 -0.057708 -0.062007 -0.067915 -0.073275  14012079.2      89   \n",
       "4 1926-04-30  0.038522  0.034856  0.031441  0.027121  14500482.2      89   \n",
       "\n",
       "       usdval  usdcnt  spindx    sprtrn  \n",
       "0         NaN     NaN   12.46       NaN  \n",
       "1  15236829.5    79.0   12.74  0.022472  \n",
       "2  15277664.0    81.0   12.18 -0.043956  \n",
       "3  14712894.9    81.0   11.46 -0.059113  \n",
       "4  14012079.2    82.0   11.72  0.022688  "
      ]
     },
     "execution_count": 54,
     "metadata": {},
     "output_type": "execute_result"
    }
   ],
   "source": [
    "sp500.head()"
   ]
  },
  {
   "cell_type": "code",
   "execution_count": 55,
   "id": "b913b139-8bb2-4ff2-842d-10e661a310ad",
   "metadata": {
    "tags": []
   },
   "outputs": [],
   "source": [
    "infla['caldt'] = pd.to_datetime(infla['caldt'])\n",
    "infla['caldt'] = infla['caldt'] + MonthEnd(0)"
   ]
  },
  {
   "cell_type": "code",
   "execution_count": 56,
   "id": "a4a51f94-0183-471f-86c6-9ea4ca9b55ef",
   "metadata": {
    "tags": []
   },
   "outputs": [
    {
     "data": {
      "text/plain": [
       "(1165, 21)"
      ]
     },
     "execution_count": 56,
     "metadata": {},
     "output_type": "execute_result"
    }
   ],
   "source": [
    "merged = pd.merge(sp500, infla, on = 'caldt', how = 'inner')\n",
    "merged.shape"
   ]
  },
  {
   "cell_type": "code",
   "execution_count": 57,
   "id": "7febc43a-53a3-4b7e-877b-80c7b6b76068",
   "metadata": {
    "tags": []
   },
   "outputs": [
    {
     "data": {
      "text/plain": [
       "(1165, 21)"
      ]
     },
     "execution_count": 57,
     "metadata": {},
     "output_type": "execute_result"
    }
   ],
   "source": [
    "merged.shape"
   ]
  },
  {
   "cell_type": "code",
   "execution_count": 58,
   "id": "d959af58-48f8-4e8b-83c3-3dc356061c37",
   "metadata": {
    "tags": []
   },
   "outputs": [
    {
     "data": {
      "text/plain": [
       "Index(['caldt', 'vwretd', 'vwretx', 'ewretd', 'ewretx', 'totval', 'totcnt',\n",
       "       'usdval', 'usdcnt', 'spindx', 'sprtrn', 'b30ret', 'b20ret', 'b10ret',\n",
       "       'b7ret', 'b5ret', 'b2ret', 'b1ret', 't90ret', 't30ret', 'cpiret'],\n",
       "      dtype='object')"
      ]
     },
     "execution_count": 58,
     "metadata": {},
     "output_type": "execute_result"
    }
   ],
   "source": [
    "merged.columns"
   ]
  },
  {
   "cell_type": "code",
   "execution_count": 59,
   "id": "d145b7e8-5bb1-41a4-ae08-07d6a52e2784",
   "metadata": {
    "tags": []
   },
   "outputs": [
    {
     "data": {
      "text/html": [
       "<div>\n",
       "<style scoped>\n",
       "    .dataframe tbody tr th:only-of-type {\n",
       "        vertical-align: middle;\n",
       "    }\n",
       "\n",
       "    .dataframe tbody tr th {\n",
       "        vertical-align: top;\n",
       "    }\n",
       "\n",
       "    .dataframe thead th {\n",
       "        text-align: right;\n",
       "    }\n",
       "</style>\n",
       "<table border=\"1\" class=\"dataframe\">\n",
       "  <thead>\n",
       "    <tr style=\"text-align: right;\">\n",
       "      <th></th>\n",
       "      <th>caldt</th>\n",
       "      <th>vwretd</th>\n",
       "      <th>vwretx</th>\n",
       "      <th>ewretd</th>\n",
       "      <th>ewretx</th>\n",
       "      <th>totval</th>\n",
       "      <th>totcnt</th>\n",
       "      <th>usdval</th>\n",
       "      <th>usdcnt</th>\n",
       "      <th>spindx</th>\n",
       "      <th>sprtrn</th>\n",
       "      <th>b30ret</th>\n",
       "      <th>b20ret</th>\n",
       "      <th>b10ret</th>\n",
       "      <th>b7ret</th>\n",
       "      <th>b5ret</th>\n",
       "      <th>b2ret</th>\n",
       "      <th>b1ret</th>\n",
       "      <th>t90ret</th>\n",
       "      <th>t30ret</th>\n",
       "      <th>cpiret</th>\n",
       "    </tr>\n",
       "  </thead>\n",
       "  <tbody>\n",
       "    <tr>\n",
       "      <th>0</th>\n",
       "      <td>1925-12-31</td>\n",
       "      <td>NaN</td>\n",
       "      <td>NaN</td>\n",
       "      <td>NaN</td>\n",
       "      <td>NaN</td>\n",
       "      <td>15236829.5</td>\n",
       "      <td>89</td>\n",
       "      <td>NaN</td>\n",
       "      <td>NaN</td>\n",
       "      <td>12.46</td>\n",
       "      <td>NaN</td>\n",
       "      <td>NaN</td>\n",
       "      <td>NaN</td>\n",
       "      <td>NaN</td>\n",
       "      <td>NaN</td>\n",
       "      <td>NaN</td>\n",
       "      <td>NaN</td>\n",
       "      <td>NaN</td>\n",
       "      <td>NaN</td>\n",
       "      <td>NaN</td>\n",
       "      <td>NaN</td>\n",
       "    </tr>\n",
       "    <tr>\n",
       "      <th>1</th>\n",
       "      <td>1926-01-31</td>\n",
       "      <td>-0.001783</td>\n",
       "      <td>-0.003980</td>\n",
       "      <td>0.006457</td>\n",
       "      <td>0.003250</td>\n",
       "      <td>15277664.0</td>\n",
       "      <td>89</td>\n",
       "      <td>15236829.5</td>\n",
       "      <td>79.0</td>\n",
       "      <td>12.74</td>\n",
       "      <td>0.022472</td>\n",
       "      <td>NaN</td>\n",
       "      <td>NaN</td>\n",
       "      <td>NaN</td>\n",
       "      <td>NaN</td>\n",
       "      <td>NaN</td>\n",
       "      <td>NaN</td>\n",
       "      <td>NaN</td>\n",
       "      <td>0.004042</td>\n",
       "      <td>0.002951</td>\n",
       "      <td>0.000000</td>\n",
       "    </tr>\n",
       "    <tr>\n",
       "      <th>2</th>\n",
       "      <td>1926-02-28</td>\n",
       "      <td>-0.033296</td>\n",
       "      <td>-0.037876</td>\n",
       "      <td>-0.039979</td>\n",
       "      <td>-0.042451</td>\n",
       "      <td>14712894.9</td>\n",
       "      <td>89</td>\n",
       "      <td>15277664.0</td>\n",
       "      <td>81.0</td>\n",
       "      <td>12.18</td>\n",
       "      <td>-0.043956</td>\n",
       "      <td>NaN</td>\n",
       "      <td>NaN</td>\n",
       "      <td>NaN</td>\n",
       "      <td>NaN</td>\n",
       "      <td>NaN</td>\n",
       "      <td>NaN</td>\n",
       "      <td>NaN</td>\n",
       "      <td>0.003237</td>\n",
       "      <td>0.002768</td>\n",
       "      <td>0.000000</td>\n",
       "    </tr>\n",
       "    <tr>\n",
       "      <th>3</th>\n",
       "      <td>1926-03-31</td>\n",
       "      <td>-0.057708</td>\n",
       "      <td>-0.062007</td>\n",
       "      <td>-0.067915</td>\n",
       "      <td>-0.073275</td>\n",
       "      <td>14012079.2</td>\n",
       "      <td>89</td>\n",
       "      <td>14712894.9</td>\n",
       "      <td>81.0</td>\n",
       "      <td>11.46</td>\n",
       "      <td>-0.059113</td>\n",
       "      <td>NaN</td>\n",
       "      <td>NaN</td>\n",
       "      <td>NaN</td>\n",
       "      <td>NaN</td>\n",
       "      <td>NaN</td>\n",
       "      <td>NaN</td>\n",
       "      <td>NaN</td>\n",
       "      <td>0.002778</td>\n",
       "      <td>0.002778</td>\n",
       "      <td>-0.005587</td>\n",
       "    </tr>\n",
       "    <tr>\n",
       "      <th>4</th>\n",
       "      <td>1926-04-30</td>\n",
       "      <td>0.038522</td>\n",
       "      <td>0.034856</td>\n",
       "      <td>0.031441</td>\n",
       "      <td>0.027121</td>\n",
       "      <td>14500482.2</td>\n",
       "      <td>89</td>\n",
       "      <td>14012079.2</td>\n",
       "      <td>82.0</td>\n",
       "      <td>11.72</td>\n",
       "      <td>0.022688</td>\n",
       "      <td>NaN</td>\n",
       "      <td>NaN</td>\n",
       "      <td>NaN</td>\n",
       "      <td>NaN</td>\n",
       "      <td>NaN</td>\n",
       "      <td>NaN</td>\n",
       "      <td>NaN</td>\n",
       "      <td>0.003072</td>\n",
       "      <td>0.003072</td>\n",
       "      <td>0.005618</td>\n",
       "    </tr>\n",
       "  </tbody>\n",
       "</table>\n",
       "</div>"
      ],
      "text/plain": [
       "       caldt    vwretd    vwretx    ewretd    ewretx      totval  totcnt  \\\n",
       "0 1925-12-31       NaN       NaN       NaN       NaN  15236829.5      89   \n",
       "1 1926-01-31 -0.001783 -0.003980  0.006457  0.003250  15277664.0      89   \n",
       "2 1926-02-28 -0.033296 -0.037876 -0.039979 -0.042451  14712894.9      89   \n",
       "3 1926-03-31 -0.057708 -0.062007 -0.067915 -0.073275  14012079.2      89   \n",
       "4 1926-04-30  0.038522  0.034856  0.031441  0.027121  14500482.2      89   \n",
       "\n",
       "       usdval  usdcnt  spindx    sprtrn  b30ret  b20ret  b10ret  b7ret  b5ret  \\\n",
       "0         NaN     NaN   12.46       NaN     NaN     NaN     NaN    NaN    NaN   \n",
       "1  15236829.5    79.0   12.74  0.022472     NaN     NaN     NaN    NaN    NaN   \n",
       "2  15277664.0    81.0   12.18 -0.043956     NaN     NaN     NaN    NaN    NaN   \n",
       "3  14712894.9    81.0   11.46 -0.059113     NaN     NaN     NaN    NaN    NaN   \n",
       "4  14012079.2    82.0   11.72  0.022688     NaN     NaN     NaN    NaN    NaN   \n",
       "\n",
       "   b2ret  b1ret    t90ret    t30ret    cpiret  \n",
       "0    NaN    NaN       NaN       NaN       NaN  \n",
       "1    NaN    NaN  0.004042  0.002951  0.000000  \n",
       "2    NaN    NaN  0.003237  0.002768  0.000000  \n",
       "3    NaN    NaN  0.002778  0.002778 -0.005587  \n",
       "4    NaN    NaN  0.003072  0.003072  0.005618  "
      ]
     },
     "execution_count": 59,
     "metadata": {},
     "output_type": "execute_result"
    }
   ],
   "source": [
    "pd.set_option('display.max_columns', None)\n",
    "merged.head()"
   ]
  },
  {
   "cell_type": "code",
   "execution_count": 60,
   "id": "f9b5ad2a-8247-42c9-bd9c-878fb508e010",
   "metadata": {
    "tags": []
   },
   "outputs": [],
   "source": [
    "# Calculating nominal returns, not adjusted for inflation\n",
    "sp500_nominal_returns = merged['vwretd']\n",
    "sp500_cum = (1 + sp500_nominal_returns).cumprod()\n",
    "t30_nominal_returns = merged['t30ret']\n",
    "t30_cum = (1 + t30_nominal_returns).cumprod()\n",
    "t90_nominal_returns = merged['t90ret']\n",
    "t90_cum = (1 + t90_nominal_returns).cumprod()\n",
    "b1_nominal_returns = merged['b1ret']\n",
    "b1_cum = (1 + b1_nominal_returns).cumprod()\n",
    "b2_nominal_returns = merged['b1ret']\n",
    "b2_cum = (1 + b2_nominal_returns).cumprod()\n",
    "b5_nominal_returns = merged['b5ret']\n",
    "b5_cum = (1 + b5_nominal_returns).cumprod()\n",
    "b7_nominal_returns = merged['b7ret']\n",
    "b7_cum = (1 + b7_nominal_returns).cumprod()\n",
    "b10_nominal_returns = merged['b10ret']\n",
    "b10_cum = (1 + b10_nominal_returns).cumprod()\n",
    "b20_nominal_returns = merged['b20ret']\n",
    "b20_cum = (1 + b20_nominal_returns).cumprod()\n",
    "b30_nominal_returns = merged['b30ret']\n",
    "b30_cum = (1 + b30_nominal_returns).cumprod()"
   ]
  },
  {
   "cell_type": "code",
   "execution_count": 61,
   "id": "a8c39afe-6351-469c-a250-ffef0a552e9f",
   "metadata": {
    "tags": []
   },
   "outputs": [
    {
     "data": {
      "image/png": "[encoded data removed]",
      "text/plain": [
       "<Figure size 1000x500 with 1 Axes>"
      ]
     },
     "metadata": {},
     "output_type": "display_data"
    }
   ],
   "source": [
    "# Plotting nominal returns with a log-scale on the y-axis. I probably could've used a loop for less lines of code here...\n",
    "plt.figure(figsize=(10, 5))\n",
    "plt.title('Nominal Cumulative Returns')\n",
    "plt.xlabel('Date')\n",
    "plt.ylabel('Cumulative Value')\n",
    "plt.grid(True)\n",
    "plt.semilogy(merged['caldt'], sp500_cum, label='S&P 500', linestyle='-', marker='o', markersize=3)\n",
    "plt.semilogy(merged['caldt'], t30_cum, label='30 Day Bill', linestyle='-', marker='o', markersize=3)\n",
    "plt.semilogy(merged['caldt'], t90_cum, label='90 Day Bill', linestyle='-', marker='o', markersize=3)\n",
    "plt.semilogy(merged['caldt'], b1_cum, label='1 Year Bond', linestyle='-', marker='o', markersize=3)\n",
    "plt.semilogy(merged['caldt'], b2_cum, label='2 Year Bond', linestyle='-', marker='o', markersize=3)\n",
    "plt.semilogy(merged['caldt'], b5_cum, label='5 Year Bond', linestyle='-', marker='o', markersize=3)\n",
    "plt.semilogy(merged['caldt'], b7_cum, label='7 Year Bond', linestyle='-', marker='o', markersize=3)\n",
    "plt.semilogy(merged['caldt'], b10_cum, label='10 Year Bond', linestyle='-', marker='o', markersize=3)\n",
    "plt.semilogy(merged['caldt'], b20_cum, label='20 Year Bond', linestyle='-', marker='o', markersize=3)\n",
    "plt.semilogy(merged['caldt'], b30_cum, label='30 Year Bond', linestyle='-', marker='o', markersize=3)\n",
    "plt.legend()\n",
    "plt.show()"
   ]
  },
  {
   "cell_type": "code",
   "execution_count": 62,
   "id": "5f08ff16-e3fc-49c4-8827-7ca90053dc94",
   "metadata": {
    "tags": []
   },
   "outputs": [
    {
     "data": {
      "image/png": "[encoded data removed]",
      "text/plain": [
       "<Figure size 1000x500 with 1 Axes>"
      ]
     },
     "metadata": {},
     "output_type": "display_data"
    }
   ],
   "source": [
    "# Calculating real returns, adjusted for inflation\n",
    "investments = ['vwretd', 't30ret', 't90ret', 'b1ret', 'b2ret', 'b5ret', 'b7ret', 'b10ret', 'b20ret', 'b30ret']\n",
    "names = {'vwretd': 'S&P500', 't30ret': '30 Day Bill', 't90ret': '90 Day Bill', 'b1ret': '1 Year Bond', 'b2ret': '2 Year Bond', 'b5ret': \n",
    "         '5 Year Bond', 'b7ret': '7 Year Bond', 'b10ret': '10 Year Bond', 'b20ret': '20 Year Bond', 'b30ret': '30 Year Bond'}\n",
    "plt.figure(figsize=(10, 5))\n",
    "plt.title('Real Cumulative Returns')\n",
    "plt.xlabel('Date')\n",
    "plt.ylabel('Cumulative Value')\n",
    "plt.grid(True)\n",
    "for i in investments:\n",
    "    merged[i + ' adjusted'] = 1 + (merged[i] - merged['cpiret'])\n",
    "    real_returns = merged[i + ' adjusted'].cumprod()\n",
    "    plt.semilogy(merged['caldt'], real_returns, label= names[i], linestyle='-', marker='o', markersize=3)\n",
    "plt.legend()\n",
    "plt.show()    "
   ]
  },
  {
   "cell_type": "code",
   "execution_count": 63,
   "id": "aee00968-1f8a-4bf6-8bb1-3e02378761e2",
   "metadata": {
    "tags": []
   },
   "outputs": [
    {
     "name": "stdout",
     "output_type": "stream",
     "text": [
      "10299.175607746796\n"
     ]
    }
   ],
   "source": [
    "# Calculating annualized difference between S&P500 and 30-year bond\n",
    "sp500_ann_ret = (((sp500_cum.iloc[-1] - sp500_cum.iloc[1])/sp500_cum[1]) ** 1/98) - 1\n",
    "t30_ann_ret = (((t30_cum.iloc[-1] - t30_cum.iloc[1])/t30_cum[1]) ** 1/98) - 1\n",
    "ann_diff = sp500_ann_ret - t30_ann_ret\n",
    "print(ann_diff * 100)"
   ]
  },
  {
   "cell_type": "markdown",
   "id": "7939c5aa-cd3f-4627-819d-e925b07e98a2",
   "metadata": {},
   "source": [
    "The annualized difference between returns on the S&P500 ('vretd') and 30 Year Bonds ('t30ret') is approximately 0.53%. This may be because of the additional risk investors associated with S&P500 stocks versus Treasury Bills, thereby creating an expectation of higher returns. This difference may also occur due to inflation, as inflation affects Treasury Bills more significantly than stocks."
   ]
  },
  {
   "cell_type": "markdown",
   "id": "646cdfc1-31dc-41b9-ab10-44c6aae29f59",
   "metadata": {},
   "source": [
    "# Problem 2"
   ]
  },
  {
   "cell_type": "code",
   "execution_count": 64,
   "id": "24da1b8d-5d3c-4b94-8fe8-408478e0b740",
   "metadata": {
    "tags": []
   },
   "outputs": [
    {
     "data": {
      "text/html": [
       "<div>\n",
       "<style scoped>\n",
       "    .dataframe tbody tr th:only-of-type {\n",
       "        vertical-align: middle;\n",
       "    }\n",
       "\n",
       "    .dataframe tbody tr th {\n",
       "        vertical-align: top;\n",
       "    }\n",
       "\n",
       "    .dataframe thead th {\n",
       "        text-align: right;\n",
       "    }\n",
       "</style>\n",
       "<table border=\"1\" class=\"dataframe\">\n",
       "  <thead>\n",
       "    <tr style=\"text-align: right;\">\n",
       "      <th></th>\n",
       "      <th>vwretd</th>\n",
       "      <th>vwretx</th>\n",
       "      <th>ewretd</th>\n",
       "      <th>ewretx</th>\n",
       "      <th>totval</th>\n",
       "      <th>totcnt</th>\n",
       "      <th>usdval</th>\n",
       "      <th>usdcnt</th>\n",
       "      <th>spindx</th>\n",
       "      <th>sprtrn</th>\n",
       "      <th>b30ret</th>\n",
       "      <th>b20ret</th>\n",
       "      <th>b10ret</th>\n",
       "      <th>b7ret</th>\n",
       "      <th>b5ret</th>\n",
       "      <th>b2ret</th>\n",
       "      <th>b1ret</th>\n",
       "      <th>t90ret</th>\n",
       "      <th>t30ret</th>\n",
       "      <th>cpiret</th>\n",
       "      <th>vwretd adjusted</th>\n",
       "      <th>t30ret adjusted</th>\n",
       "      <th>t90ret adjusted</th>\n",
       "      <th>b1ret adjusted</th>\n",
       "      <th>b2ret adjusted</th>\n",
       "      <th>b5ret adjusted</th>\n",
       "      <th>b7ret adjusted</th>\n",
       "      <th>b10ret adjusted</th>\n",
       "      <th>b20ret adjusted</th>\n",
       "      <th>b30ret adjusted</th>\n",
       "    </tr>\n",
       "  </thead>\n",
       "  <tbody>\n",
       "    <tr>\n",
       "      <th>count</th>\n",
       "      <td>1164.000000</td>\n",
       "      <td>1164.000000</td>\n",
       "      <td>1164.000000</td>\n",
       "      <td>1164.000000</td>\n",
       "      <td>1.165000e+03</td>\n",
       "      <td>1165.000000</td>\n",
       "      <td>1.164000e+03</td>\n",
       "      <td>1164.00000</td>\n",
       "      <td>1165.000000</td>\n",
       "      <td>1164.000000</td>\n",
       "      <td>974.000000</td>\n",
       "      <td>972.000000</td>\n",
       "      <td>980.000000</td>\n",
       "      <td>981.000000</td>\n",
       "      <td>981.000000</td>\n",
       "      <td>984.000000</td>\n",
       "      <td>984.000000</td>\n",
       "      <td>1164.000000</td>\n",
       "      <td>1164.000000</td>\n",
       "      <td>1164.000000</td>\n",
       "      <td>1164.000000</td>\n",
       "      <td>1164.000000</td>\n",
       "      <td>1164.000000</td>\n",
       "      <td>984.000000</td>\n",
       "      <td>984.000000</td>\n",
       "      <td>981.000000</td>\n",
       "      <td>981.000000</td>\n",
       "      <td>980.000000</td>\n",
       "      <td>972.000000</td>\n",
       "      <td>974.000000</td>\n",
       "    </tr>\n",
       "    <tr>\n",
       "      <th>mean</th>\n",
       "      <td>0.009410</td>\n",
       "      <td>0.006304</td>\n",
       "      <td>0.011369</td>\n",
       "      <td>0.008444</td>\n",
       "      <td>4.728420e+09</td>\n",
       "      <td>368.372532</td>\n",
       "      <td>4.704517e+09</td>\n",
       "      <td>368.05756</td>\n",
       "      <td>557.673948</td>\n",
       "      <td>0.006387</td>\n",
       "      <td>0.004438</td>\n",
       "      <td>0.004585</td>\n",
       "      <td>0.004195</td>\n",
       "      <td>0.004387</td>\n",
       "      <td>0.004176</td>\n",
       "      <td>0.003744</td>\n",
       "      <td>0.003586</td>\n",
       "      <td>0.002930</td>\n",
       "      <td>0.002656</td>\n",
       "      <td>0.002429</td>\n",
       "      <td>1.006981</td>\n",
       "      <td>1.000227</td>\n",
       "      <td>1.000501</td>\n",
       "      <td>1.000475</td>\n",
       "      <td>1.000633</td>\n",
       "      <td>1.001062</td>\n",
       "      <td>1.001273</td>\n",
       "      <td>1.001085</td>\n",
       "      <td>1.001533</td>\n",
       "      <td>1.001379</td>\n",
       "    </tr>\n",
       "    <tr>\n",
       "      <th>std</th>\n",
       "      <td>0.054172</td>\n",
       "      <td>0.054242</td>\n",
       "      <td>0.067110</td>\n",
       "      <td>0.067201</td>\n",
       "      <td>8.020716e+09</td>\n",
       "      <td>191.934894</td>\n",
       "      <td>7.982123e+09</td>\n",
       "      <td>191.96191</td>\n",
       "      <td>897.231659</td>\n",
       "      <td>0.053908</td>\n",
       "      <td>0.030731</td>\n",
       "      <td>0.026672</td>\n",
       "      <td>0.019882</td>\n",
       "      <td>0.016567</td>\n",
       "      <td>0.013479</td>\n",
       "      <td>0.007439</td>\n",
       "      <td>0.004895</td>\n",
       "      <td>0.002872</td>\n",
       "      <td>0.002530</td>\n",
       "      <td>0.005283</td>\n",
       "      <td>0.054389</td>\n",
       "      <td>0.005277</td>\n",
       "      <td>0.005424</td>\n",
       "      <td>0.006480</td>\n",
       "      <td>0.008748</td>\n",
       "      <td>0.014473</td>\n",
       "      <td>0.017514</td>\n",
       "      <td>0.020736</td>\n",
       "      <td>0.027586</td>\n",
       "      <td>0.031630</td>\n",
       "    </tr>\n",
       "    <tr>\n",
       "      <th>min</th>\n",
       "      <td>-0.287461</td>\n",
       "      <td>-0.291524</td>\n",
       "      <td>-0.310002</td>\n",
       "      <td>-0.314686</td>\n",
       "      <td>6.146082e+06</td>\n",
       "      <td>89.000000</td>\n",
       "      <td>6.146082e+06</td>\n",
       "      <td>79.00000</td>\n",
       "      <td>4.430000</td>\n",
       "      <td>-0.299423</td>\n",
       "      <td>-0.147382</td>\n",
       "      <td>-0.105931</td>\n",
       "      <td>-0.066819</td>\n",
       "      <td>-0.070389</td>\n",
       "      <td>-0.058022</td>\n",
       "      <td>-0.036947</td>\n",
       "      <td>-0.017205</td>\n",
       "      <td>-0.009308</td>\n",
       "      <td>-0.000265</td>\n",
       "      <td>-0.020548</td>\n",
       "      <td>0.719162</td>\n",
       "      <td>0.941495</td>\n",
       "      <td>0.941532</td>\n",
       "      <td>0.941760</td>\n",
       "      <td>0.942422</td>\n",
       "      <td>0.927839</td>\n",
       "      <td>0.915472</td>\n",
       "      <td>0.925240</td>\n",
       "      <td>0.889717</td>\n",
       "      <td>0.848266</td>\n",
       "    </tr>\n",
       "    <tr>\n",
       "      <th>25%</th>\n",
       "      <td>-0.016868</td>\n",
       "      <td>-0.019211</td>\n",
       "      <td>-0.019244</td>\n",
       "      <td>-0.021843</td>\n",
       "      <td>3.266029e+07</td>\n",
       "      <td>90.000000</td>\n",
       "      <td>3.252151e+07</td>\n",
       "      <td>90.00000</td>\n",
       "      <td>22.790000</td>\n",
       "      <td>-0.019519</td>\n",
       "      <td>-0.010642</td>\n",
       "      <td>-0.008772</td>\n",
       "      <td>-0.006067</td>\n",
       "      <td>-0.003832</td>\n",
       "      <td>-0.001882</td>\n",
       "      <td>0.000185</td>\n",
       "      <td>0.000628</td>\n",
       "      <td>0.000359</td>\n",
       "      <td>0.000307</td>\n",
       "      <td>0.000000</td>\n",
       "      <td>0.979030</td>\n",
       "      <td>0.998006</td>\n",
       "      <td>0.998158</td>\n",
       "      <td>0.997239</td>\n",
       "      <td>0.996161</td>\n",
       "      <td>0.993921</td>\n",
       "      <td>0.991807</td>\n",
       "      <td>0.989741</td>\n",
       "      <td>0.986909</td>\n",
       "      <td>0.985012</td>\n",
       "    </tr>\n",
       "    <tr>\n",
       "      <th>50%</th>\n",
       "      <td>0.013000</td>\n",
       "      <td>0.009393</td>\n",
       "      <td>0.013631</td>\n",
       "      <td>0.010822</td>\n",
       "      <td>5.529739e+08</td>\n",
       "      <td>500.000000</td>\n",
       "      <td>5.512884e+08</td>\n",
       "      <td>499.00000</td>\n",
       "      <td>98.860000</td>\n",
       "      <td>0.009447</td>\n",
       "      <td>0.002686</td>\n",
       "      <td>0.002517</td>\n",
       "      <td>0.002488</td>\n",
       "      <td>0.002550</td>\n",
       "      <td>0.002399</td>\n",
       "      <td>0.002280</td>\n",
       "      <td>0.002488</td>\n",
       "      <td>0.002383</td>\n",
       "      <td>0.002192</td>\n",
       "      <td>0.002412</td>\n",
       "      <td>1.010092</td>\n",
       "      <td>1.000331</td>\n",
       "      <td>1.000638</td>\n",
       "      <td>1.000798</td>\n",
       "      <td>1.000692</td>\n",
       "      <td>1.000969</td>\n",
       "      <td>1.000656</td>\n",
       "      <td>1.000374</td>\n",
       "      <td>1.000325</td>\n",
       "      <td>1.000122</td>\n",
       "    </tr>\n",
       "    <tr>\n",
       "      <th>75%</th>\n",
       "      <td>0.038778</td>\n",
       "      <td>0.035916</td>\n",
       "      <td>0.042118</td>\n",
       "      <td>0.039566</td>\n",
       "      <td>7.782234e+09</td>\n",
       "      <td>500.000000</td>\n",
       "      <td>7.699438e+09</td>\n",
       "      <td>500.00000</td>\n",
       "      <td>914.620000</td>\n",
       "      <td>0.036043</td>\n",
       "      <td>0.019470</td>\n",
       "      <td>0.017521</td>\n",
       "      <td>0.013715</td>\n",
       "      <td>0.011917</td>\n",
       "      <td>0.009525</td>\n",
       "      <td>0.006752</td>\n",
       "      <td>0.005371</td>\n",
       "      <td>0.004555</td>\n",
       "      <td>0.004133</td>\n",
       "      <td>0.005098</td>\n",
       "      <td>1.036631</td>\n",
       "      <td>1.002638</td>\n",
       "      <td>1.003127</td>\n",
       "      <td>1.003551</td>\n",
       "      <td>1.004968</td>\n",
       "      <td>1.008624</td>\n",
       "      <td>1.010089</td>\n",
       "      <td>1.011937</td>\n",
       "      <td>1.015452</td>\n",
       "      <td>1.016285</td>\n",
       "    </tr>\n",
       "    <tr>\n",
       "      <th>max</th>\n",
       "      <td>0.414312</td>\n",
       "      <td>0.412291</td>\n",
       "      <td>0.680415</td>\n",
       "      <td>0.677637</td>\n",
       "      <td>4.205962e+10</td>\n",
       "      <td>506.000000</td>\n",
       "      <td>4.205962e+10</td>\n",
       "      <td>505.00000</td>\n",
       "      <td>4766.180000</td>\n",
       "      <td>0.422222</td>\n",
       "      <td>0.172202</td>\n",
       "      <td>0.152347</td>\n",
       "      <td>0.099993</td>\n",
       "      <td>0.107488</td>\n",
       "      <td>0.106119</td>\n",
       "      <td>0.084198</td>\n",
       "      <td>0.056059</td>\n",
       "      <td>0.021308</td>\n",
       "      <td>0.015158</td>\n",
       "      <td>0.058824</td>\n",
       "      <td>1.414312</td>\n",
       "      <td>1.022915</td>\n",
       "      <td>1.021071</td>\n",
       "      <td>1.044823</td>\n",
       "      <td>1.072962</td>\n",
       "      <td>1.094883</td>\n",
       "      <td>1.101048</td>\n",
       "      <td>1.104531</td>\n",
       "      <td>1.163614</td>\n",
       "      <td>1.191355</td>\n",
       "    </tr>\n",
       "  </tbody>\n",
       "</table>\n",
       "</div>"
      ],
      "text/plain": [
       "            vwretd       vwretx       ewretd       ewretx        totval  \\\n",
       "count  1164.000000  1164.000000  1164.000000  1164.000000  1.165000e+03   \n",
       "mean      0.009410     0.006304     0.011369     0.008444  4.728420e+09   \n",
       "std       0.054172     0.054242     0.067110     0.067201  8.020716e+09   \n",
       "min      -0.287461    -0.291524    -0.310002    -0.314686  6.146082e+06   \n",
       "25%      -0.016868    -0.019211    -0.019244    -0.021843  3.266029e+07   \n",
       "50%       0.013000     0.009393     0.013631     0.010822  5.529739e+08   \n",
       "75%       0.038778     0.035916     0.042118     0.039566  7.782234e+09   \n",
       "max       0.414312     0.412291     0.680415     0.677637  4.205962e+10   \n",
       "\n",
       "            totcnt        usdval      usdcnt       spindx       sprtrn  \\\n",
       "count  1165.000000  1.164000e+03  1164.00000  1165.000000  1164.000000   \n",
       "mean    368.372532  4.704517e+09   368.05756   557.673948     0.006387   \n",
       "std     191.934894  7.982123e+09   191.96191   897.231659     0.053908   \n",
       "min      89.000000  6.146082e+06    79.00000     4.430000    -0.299423   \n",
       "25%      90.000000  3.252151e+07    90.00000    22.790000    -0.019519   \n",
       "50%     500.000000  5.512884e+08   499.00000    98.860000     0.009447   \n",
       "75%     500.000000  7.699438e+09   500.00000   914.620000     0.036043   \n",
       "max     506.000000  4.205962e+10   505.00000  4766.180000     0.422222   \n",
       "\n",
       "           b30ret      b20ret      b10ret       b7ret       b5ret       b2ret  \\\n",
       "count  974.000000  972.000000  980.000000  981.000000  981.000000  984.000000   \n",
       "mean     0.004438    0.004585    0.004195    0.004387    0.004176    0.003744   \n",
       "std      0.030731    0.026672    0.019882    0.016567    0.013479    0.007439   \n",
       "min     -0.147382   -0.105931   -0.066819   -0.070389   -0.058022   -0.036947   \n",
       "25%     -0.010642   -0.008772   -0.006067   -0.003832   -0.001882    0.000185   \n",
       "50%      0.002686    0.002517    0.002488    0.002550    0.002399    0.002280   \n",
       "75%      0.019470    0.017521    0.013715    0.011917    0.009525    0.006752   \n",
       "max      0.172202    0.152347    0.099993    0.107488    0.106119    0.084198   \n",
       "\n",
       "            b1ret       t90ret       t30ret       cpiret  vwretd adjusted  \\\n",
       "count  984.000000  1164.000000  1164.000000  1164.000000      1164.000000   \n",
       "mean     0.003586     0.002930     0.002656     0.002429         1.006981   \n",
       "std      0.004895     0.002872     0.002530     0.005283         0.054389   \n",
       "min     -0.017205    -0.009308    -0.000265    -0.020548         0.719162   \n",
       "25%      0.000628     0.000359     0.000307     0.000000         0.979030   \n",
       "50%      0.002488     0.002383     0.002192     0.002412         1.010092   \n",
       "75%      0.005371     0.004555     0.004133     0.005098         1.036631   \n",
       "max      0.056059     0.021308     0.015158     0.058824         1.414312   \n",
       "\n",
       "       t30ret adjusted  t90ret adjusted  b1ret adjusted  b2ret adjusted  \\\n",
       "count      1164.000000      1164.000000      984.000000      984.000000   \n",
       "mean          1.000227         1.000501        1.000475        1.000633   \n",
       "std           0.005277         0.005424        0.006480        0.008748   \n",
       "min           0.941495         0.941532        0.941760        0.942422   \n",
       "25%           0.998006         0.998158        0.997239        0.996161   \n",
       "50%           1.000331         1.000638        1.000798        1.000692   \n",
       "75%           1.002638         1.003127        1.003551        1.004968   \n",
       "max           1.022915         1.021071        1.044823        1.072962   \n",
       "\n",
       "       b5ret adjusted  b7ret adjusted  b10ret adjusted  b20ret adjusted  \\\n",
       "count      981.000000      981.000000       980.000000       972.000000   \n",
       "mean         1.001062        1.001273         1.001085         1.001533   \n",
       "std          0.014473        0.017514         0.020736         0.027586   \n",
       "min          0.927839        0.915472         0.925240         0.889717   \n",
       "25%          0.993921        0.991807         0.989741         0.986909   \n",
       "50%          1.000969        1.000656         1.000374         1.000325   \n",
       "75%          1.008624        1.010089         1.011937         1.015452   \n",
       "max          1.094883        1.101048         1.104531         1.163614   \n",
       "\n",
       "       b30ret adjusted  \n",
       "count       974.000000  \n",
       "mean          1.001379  \n",
       "std           0.031630  \n",
       "min           0.848266  \n",
       "25%           0.985012  \n",
       "50%           1.000122  \n",
       "75%           1.016285  \n",
       "max           1.191355  "
      ]
     },
     "execution_count": 64,
     "metadata": {},
     "output_type": "execute_result"
    }
   ],
   "source": [
    "merged.describe()"
   ]
  },
  {
   "cell_type": "code",
   "execution_count": 65,
   "id": "fe82fb87-f68b-495b-ae35-37982438bcf4",
   "metadata": {
    "tags": []
   },
   "outputs": [
    {
     "data": {
      "text/html": [
       "<div>\n",
       "<style scoped>\n",
       "    .dataframe tbody tr th:only-of-type {\n",
       "        vertical-align: middle;\n",
       "    }\n",
       "\n",
       "    .dataframe tbody tr th {\n",
       "        vertical-align: top;\n",
       "    }\n",
       "\n",
       "    .dataframe thead th {\n",
       "        text-align: right;\n",
       "    }\n",
       "</style>\n",
       "<table border=\"1\" class=\"dataframe\">\n",
       "  <thead>\n",
       "    <tr style=\"text-align: right;\">\n",
       "      <th></th>\n",
       "      <th>mean</th>\n",
       "      <th>var</th>\n",
       "      <th>stdev</th>\n",
       "      <th>max</th>\n",
       "      <th>min</th>\n",
       "      <th>num_missing</th>\n",
       "      <th>zero_ret</th>\n",
       "    </tr>\n",
       "  </thead>\n",
       "  <tbody>\n",
       "    <tr>\n",
       "      <th>vwretd</th>\n",
       "      <td>0.009410</td>\n",
       "      <td>0.002935</td>\n",
       "      <td>0.054172</td>\n",
       "      <td>0.414312</td>\n",
       "      <td>-0.287461</td>\n",
       "      <td>1.0</td>\n",
       "      <td>0.0</td>\n",
       "    </tr>\n",
       "    <tr>\n",
       "      <th>b30ret</th>\n",
       "      <td>0.004438</td>\n",
       "      <td>0.000944</td>\n",
       "      <td>0.030731</td>\n",
       "      <td>0.172202</td>\n",
       "      <td>-0.147382</td>\n",
       "      <td>191.0</td>\n",
       "      <td>0.0</td>\n",
       "    </tr>\n",
       "    <tr>\n",
       "      <th>b20ret</th>\n",
       "      <td>0.004585</td>\n",
       "      <td>0.000711</td>\n",
       "      <td>0.026672</td>\n",
       "      <td>0.152347</td>\n",
       "      <td>-0.105931</td>\n",
       "      <td>193.0</td>\n",
       "      <td>0.0</td>\n",
       "    </tr>\n",
       "    <tr>\n",
       "      <th>b10ret</th>\n",
       "      <td>0.004195</td>\n",
       "      <td>0.000395</td>\n",
       "      <td>0.019882</td>\n",
       "      <td>0.099993</td>\n",
       "      <td>-0.066819</td>\n",
       "      <td>185.0</td>\n",
       "      <td>0.0</td>\n",
       "    </tr>\n",
       "    <tr>\n",
       "      <th>b7ret</th>\n",
       "      <td>0.004387</td>\n",
       "      <td>0.000274</td>\n",
       "      <td>0.016567</td>\n",
       "      <td>0.107488</td>\n",
       "      <td>-0.070389</td>\n",
       "      <td>184.0</td>\n",
       "      <td>0.0</td>\n",
       "    </tr>\n",
       "    <tr>\n",
       "      <th>b5ret</th>\n",
       "      <td>0.004176</td>\n",
       "      <td>0.000182</td>\n",
       "      <td>0.013479</td>\n",
       "      <td>0.106119</td>\n",
       "      <td>-0.058022</td>\n",
       "      <td>184.0</td>\n",
       "      <td>0.0</td>\n",
       "    </tr>\n",
       "    <tr>\n",
       "      <th>b2ret</th>\n",
       "      <td>0.003744</td>\n",
       "      <td>0.000055</td>\n",
       "      <td>0.007439</td>\n",
       "      <td>0.084198</td>\n",
       "      <td>-0.036947</td>\n",
       "      <td>181.0</td>\n",
       "      <td>0.0</td>\n",
       "    </tr>\n",
       "    <tr>\n",
       "      <th>b1ret</th>\n",
       "      <td>0.003586</td>\n",
       "      <td>0.000024</td>\n",
       "      <td>0.004895</td>\n",
       "      <td>0.056059</td>\n",
       "      <td>-0.017205</td>\n",
       "      <td>181.0</td>\n",
       "      <td>0.0</td>\n",
       "    </tr>\n",
       "    <tr>\n",
       "      <th>t90ret</th>\n",
       "      <td>0.002930</td>\n",
       "      <td>0.000008</td>\n",
       "      <td>0.002872</td>\n",
       "      <td>0.021308</td>\n",
       "      <td>-0.009308</td>\n",
       "      <td>1.0</td>\n",
       "      <td>1.0</td>\n",
       "    </tr>\n",
       "    <tr>\n",
       "      <th>t30ret</th>\n",
       "      <td>0.002656</td>\n",
       "      <td>0.000006</td>\n",
       "      <td>0.002530</td>\n",
       "      <td>0.015158</td>\n",
       "      <td>-0.000265</td>\n",
       "      <td>1.0</td>\n",
       "      <td>2.0</td>\n",
       "    </tr>\n",
       "  </tbody>\n",
       "</table>\n",
       "</div>"
      ],
      "text/plain": [
       "            mean       var     stdev       max       min  num_missing  \\\n",
       "vwretd  0.009410  0.002935  0.054172  0.414312 -0.287461          1.0   \n",
       "b30ret  0.004438  0.000944  0.030731  0.172202 -0.147382        191.0   \n",
       "b20ret  0.004585  0.000711  0.026672  0.152347 -0.105931        193.0   \n",
       "b10ret  0.004195  0.000395  0.019882  0.099993 -0.066819        185.0   \n",
       "b7ret   0.004387  0.000274  0.016567  0.107488 -0.070389        184.0   \n",
       "b5ret   0.004176  0.000182  0.013479  0.106119 -0.058022        184.0   \n",
       "b2ret   0.003744  0.000055  0.007439  0.084198 -0.036947        181.0   \n",
       "b1ret   0.003586  0.000024  0.004895  0.056059 -0.017205        181.0   \n",
       "t90ret  0.002930  0.000008  0.002872  0.021308 -0.009308          1.0   \n",
       "t30ret  0.002656  0.000006  0.002530  0.015158 -0.000265          1.0   \n",
       "\n",
       "        zero_ret  \n",
       "vwretd       0.0  \n",
       "b30ret       0.0  \n",
       "b20ret       0.0  \n",
       "b10ret       0.0  \n",
       "b7ret        0.0  \n",
       "b5ret        0.0  \n",
       "b2ret        0.0  \n",
       "b1ret        0.0  \n",
       "t90ret       1.0  \n",
       "t30ret       2.0  "
      ]
     },
     "execution_count": 65,
     "metadata": {},
     "output_type": "execute_result"
    }
   ],
   "source": [
    "# Constructing summary statistic dataframe from scratch\n",
    "['vwretd', 'b30ret', 'b20ret', 'b10ret', 'b7ret', 'b5ret', 'b2ret', 'b1ret', 't90ret', 't30ret']\n",
    "returns = merged[['vwretd', 'b30ret', 'b20ret', 'b10ret', 'b7ret', 'b5ret', 'b2ret', 'b1ret', 't90ret', 't30ret']].copy() \n",
    "stats = pd.DataFrame({'mean': returns.mean(), 'var': returns.var(), 'stdev': returns.std(), 'max': returns.max(), 'min': returns.min(), 'num_missing': returns.isnull().sum(), 'zero_ret': returns.eq(0).sum()}).T\n",
    "stats.columns = ['vwretd', 'b30ret', 'b20ret', 'b10ret', 'b7ret', 'b5ret', 'b2ret', 'b1ret', 't90ret', 't30ret']\n",
    "stats.T"
   ]
  },
  {
   "cell_type": "markdown",
   "id": "20bea1f7-fee5-46f2-8640-c469adb2aff4",
   "metadata": {},
   "source": [
    "My results are consistent with those of `df.describe()`, after comparing statistics in both dataframes."
   ]
  },
  {
   "cell_type": "code",
   "execution_count": 66,
   "id": "f01a6919-1a84-4f27-b48d-165cf984447e",
   "metadata": {
    "tags": []
   },
   "outputs": [
    {
     "data": {
      "text/html": [
       "<div>\n",
       "<style scoped>\n",
       "    .dataframe tbody tr th:only-of-type {\n",
       "        vertical-align: middle;\n",
       "    }\n",
       "\n",
       "    .dataframe tbody tr th {\n",
       "        vertical-align: top;\n",
       "    }\n",
       "\n",
       "    .dataframe thead th {\n",
       "        text-align: right;\n",
       "    }\n",
       "</style>\n",
       "<table border=\"1\" class=\"dataframe\">\n",
       "  <thead>\n",
       "    <tr style=\"text-align: right;\">\n",
       "      <th></th>\n",
       "      <th>mean</th>\n",
       "    </tr>\n",
       "  </thead>\n",
       "  <tbody>\n",
       "    <tr>\n",
       "      <th>vwretd</th>\n",
       "      <td>0.112923</td>\n",
       "    </tr>\n",
       "    <tr>\n",
       "      <th>b30ret</th>\n",
       "      <td>0.053254</td>\n",
       "    </tr>\n",
       "    <tr>\n",
       "      <th>b20ret</th>\n",
       "      <td>0.055023</td>\n",
       "    </tr>\n",
       "    <tr>\n",
       "      <th>b10ret</th>\n",
       "      <td>0.050341</td>\n",
       "    </tr>\n",
       "    <tr>\n",
       "      <th>b7ret</th>\n",
       "      <td>0.052642</td>\n",
       "    </tr>\n",
       "    <tr>\n",
       "      <th>b5ret</th>\n",
       "      <td>0.050114</td>\n",
       "    </tr>\n",
       "    <tr>\n",
       "      <th>b2ret</th>\n",
       "      <td>0.044930</td>\n",
       "    </tr>\n",
       "    <tr>\n",
       "      <th>b1ret</th>\n",
       "      <td>0.043034</td>\n",
       "    </tr>\n",
       "    <tr>\n",
       "      <th>t90ret</th>\n",
       "      <td>0.035161</td>\n",
       "    </tr>\n",
       "    <tr>\n",
       "      <th>t30ret</th>\n",
       "      <td>0.031872</td>\n",
       "    </tr>\n",
       "  </tbody>\n",
       "</table>\n",
       "</div>"
      ],
      "text/plain": [
       "            mean\n",
       "vwretd  0.112923\n",
       "b30ret  0.053254\n",
       "b20ret  0.055023\n",
       "b10ret  0.050341\n",
       "b7ret   0.052642\n",
       "b5ret   0.050114\n",
       "b2ret   0.044930\n",
       "b1ret   0.043034\n",
       "t90ret  0.035161\n",
       "t30ret  0.031872"
      ]
     },
     "execution_count": 66,
     "metadata": {},
     "output_type": "execute_result"
    }
   ],
   "source": [
    "annualized_mean_ret = pd.DataFrame(stats.T['mean'] * 12)\n",
    "annualized_mean_ret"
   ]
  },
  {
   "cell_type": "markdown",
   "id": "219dd661-b171-4b59-b40d-2f0a12a54127",
   "metadata": {},
   "source": [
    "The above annualized historical mean returns do appear to be financially reasonable, as they are all between 3% and 5% for bonds and Treasury Bills, and is 11.3% for the S&P500, which is also reasonable. "
   ]
  },
  {
   "cell_type": "markdown",
   "id": "89e03769-fca2-4be3-99b6-5f6a9dce1cac",
   "metadata": {},
   "source": [
    "Many researchers and practitioners prefer to look at numbers which are standard deviations rather than numbers that numbers that are variances because standard deviations are the same units as the original variable. Furthermore, it is also easier to infer and create confidence intervals with the standard deviation."
   ]
  },
  {
   "cell_type": "code",
   "execution_count": 67,
   "id": "c31057b1-f0bc-425e-9acb-285aa72dfe79",
   "metadata": {
    "tags": []
   },
   "outputs": [
    {
     "data": {
      "text/plain": [
       "[0.05417239046026879, 0.05414911553311059]"
      ]
     },
     "execution_count": 67,
     "metadata": {},
     "output_type": "execute_result"
    }
   ],
   "source": [
    "# Comparing Pandas vs. NumPy standard deviations using vwretd\n",
    "vwretd = merged['vwretd']\n",
    "# removing nan values from NumPy array:\n",
    "vwretd_arr = vwretd.to_numpy()\n",
    "mask = np.isnan(vwretd_arr)\n",
    "vwretd_arr = vwretd_arr[~mask]\n",
    "\n",
    "[vwretd.std(), vwretd_arr.std()]"
   ]
  },
  {
   "cell_type": "markdown",
   "id": "dff1c443-9e5d-4d58-9fee-d7677f9f8ef5",
   "metadata": {},
   "source": [
    "As the standard deviation of the Pandas DataFrame for `vretd` is greater than that of the NumPy array for `vretd`, we can conclude that Pandas divides by $N - 1$ to calculate standard deviation, whereas NumPy divides by $N$ to calculate standard deviation. Note that all NaN values were removed from the NumPy array in order to calculate standard deviation."
   ]
  },
  {
   "cell_type": "markdown",
   "id": "fb7377c1-bf29-4c66-a40f-6f950c9691aa",
   "metadata": {
    "tags": []
   },
   "source": [
    "The $N-1$ version of standard deviations is used because the standard deviation calculated with a factor of $\\frac{1}{N-1}$ is calculated as an estimate of the standard deviation of the population the sample was generated from. This implies that the sample values the standard deviation was calculated from will fall closer to the sample mean than to the mean of the entire population, which in turn implies that the sample mean will most likely be smaller than the mean of the entire population. By using $N - 1$, the standard deviation will be a bit larger than if $N$ were used, serving as a \"correction\" for the sample mean being smaller than the population mean. In this case, as we have the entire population of data and do not need to take any samples, using the $N$ version of standard deviation is most appropriate."
   ]
  },
  {
   "cell_type": "code",
   "execution_count": 68,
   "id": "da80cbcd-65b5-4044-bc1e-de89450209aa",
   "metadata": {
    "tags": []
   },
   "outputs": [
    {
     "data": {
      "text/plain": [
       "vwretd    0.187578\n",
       "b30ret    0.106400\n",
       "b20ret    0.092346\n",
       "b10ret    0.068837\n",
       "b7ret     0.057359\n",
       "b5ret     0.046670\n",
       "b2ret     0.025756\n",
       "b1ret     0.016949\n",
       "t90ret    0.009945\n",
       "t30ret    0.008760\n",
       "dtype: float64"
      ]
     },
     "execution_count": 68,
     "metadata": {},
     "output_type": "execute_result"
    }
   ],
   "source": [
    "# Calculating monthly sample volatility and annualized historical return volatility\n",
    "# Constructing summary statistic dataframe from scratch\n",
    "returns = merged[['vwretd', 'b30ret', 'b20ret', 'b10ret', 'b7ret', 'b5ret', 'b2ret', 'b1ret', 't90ret', 't30ret']].copy() \n",
    "mth_samp_vol = returns.std(ddof = 0) * (12 ** 0.5)\n",
    "\n",
    "mth_samp_vol"
   ]
  },
  {
   "cell_type": "code",
   "execution_count": 69,
   "id": "bc3fd857-c7ec-4ca4-9099-e672ac35676f",
   "metadata": {
    "tags": []
   },
   "outputs": [
    {
     "data": {
      "text/plain": [
       "{'vwretd': 0.076606546547312,\n",
       " 't30ret': 0.9711923831030377,\n",
       " 't90ret': 0.9035779084875946,\n",
       " 'b1ret': 0.4507700588274856,\n",
       " 'b2ret': 0.2755958272640144,\n",
       " 'b5ret': 0.13531838097080173,\n",
       " 'b7ret': 0.10149195471372383,\n",
       " 'b10ret': 0.08197467504559315,\n",
       " 'b20ret': 0.06745764802046678,\n",
       " 'b30ret': 0.08312149167857942}"
      ]
     },
     "execution_count": 69,
     "metadata": {},
     "output_type": "execute_result"
    }
   ],
   "source": [
    "autocorrs = {}\n",
    "for i in investments:\n",
    "    autocorrs[i] = merged[i].autocorr(lag = 1)\n",
    "autocorrs"
   ]
  },
  {
   "cell_type": "markdown",
   "id": "07282300-c33c-4bb7-a5e2-b5c6d07c731d",
   "metadata": {},
   "source": [
    "For most return series, returns are indeed mostly uncorrelated. However, for the 30-Year Treasury Bill return series, returns seem to be mostly correlated."
   ]
  },
  {
   "cell_type": "markdown",
   "id": "5cca4a50-7c07-44aa-ba31-c7aa8a5cc1cf",
   "metadata": {},
   "source": [
    "Log returns are less than returns because the log return is less than the return because of the nature of the logarithm function, which returns smaller numbers for values less than $1$. Finance researchers and practitioners prefer to use natural logarithms rather than base $2$ or base $10$ because $e$ is used in interest and growth/decay calculations."
   ]
  },
  {
   "cell_type": "code",
   "execution_count": 70,
   "id": "f6914852-96a6-40ab-acf2-36865ec97ad6",
   "metadata": {
    "tags": []
   },
   "outputs": [
    {
     "data": {
      "text/plain": [
       "vwretd    0.026786\n",
       "b30ret    0.022165\n",
       "b20ret    0.020483\n",
       "b10ret    0.016436\n",
       "b7ret     0.014531\n",
       "b5ret     0.012124\n",
       "b2ret     0.008286\n",
       "b1ret     0.005983\n",
       "t90ret    0.003225\n",
       "t30ret    0.002598\n",
       "dtype: float64"
      ]
     },
     "execution_count": 70,
     "metadata": {},
     "output_type": "execute_result"
    }
   ],
   "source": [
    "# Computing Black-Scholes volatility; first removing all rows that have either 'NaN' zero\n",
    "\n",
    "returns = merged[['vwretd', 'b30ret', 'b20ret', 'b10ret', 'b7ret', 'b5ret', 'b2ret', 'b1ret', 't90ret', 't30ret']].copy()\n",
    "returns = returns.dropna()\n",
    "returns = returns[(returns > 0).all(axis=1)]\n",
    "returns = returns.to_numpy()\n",
    "returns += 1\n",
    "\n",
    "log_returns = np.log(returns)\n",
    "log_returns = pd.DataFrame(log_returns, columns = ['vwretd', 'b30ret', 'b20ret', 'b10ret', 'b7ret', 'b5ret', 'b2ret', 'b1ret', 't90ret', 't30ret'])\n",
    "log_returns.std(ddof = 0)"
   ]
  },
  {
   "cell_type": "markdown",
   "id": "facb9ed2-2c1b-4b98-bfcd-d2acd1ff1547",
   "metadata": {},
   "source": [
    "While for some assets there is a bit of a difference between the Black-Scholes volatility and the volatility calculated using non-log returns, the values are one order of magnitude of each other."
   ]
  },
  {
   "cell_type": "markdown",
   "id": "d16cc5da-bcdc-430f-a7a4-f79d07cf10cc",
   "metadata": {},
   "source": [
    "# Problem 3"
   ]
  },
  {
   "cell_type": "code",
   "execution_count": 71,
   "id": "b4a21b67-80f2-44de-8447-f1ef3384351c",
   "metadata": {
    "tags": []
   },
   "outputs": [],
   "source": [
    "sp500_daily = pd.read_csv('ze0nvkelmjarmgyv.csv')"
   ]
  },
  {
   "cell_type": "code",
   "execution_count": 72,
   "id": "e99dc0af-c7f6-4da1-9efe-4ffc44374de6",
   "metadata": {
    "tags": []
   },
   "outputs": [],
   "source": [
    "sp500_daily['caldt'] = pd.to_datetime(sp500_daily['caldt'])"
   ]
  },
  {
   "cell_type": "code",
   "execution_count": 73,
   "id": "bcd2dbb3-6cee-418c-a085-f377bf8e42c1",
   "metadata": {
    "tags": []
   },
   "outputs": [
    {
     "data": {
      "text/html": [
       "<div>\n",
       "<style scoped>\n",
       "    .dataframe tbody tr th:only-of-type {\n",
       "        vertical-align: middle;\n",
       "    }\n",
       "\n",
       "    .dataframe tbody tr th {\n",
       "        vertical-align: top;\n",
       "    }\n",
       "\n",
       "    .dataframe thead th {\n",
       "        text-align: right;\n",
       "    }\n",
       "</style>\n",
       "<table border=\"1\" class=\"dataframe\">\n",
       "  <thead>\n",
       "    <tr style=\"text-align: right;\">\n",
       "      <th></th>\n",
       "      <th>caldt</th>\n",
       "      <th>vwretd</th>\n",
       "      <th>vwretx</th>\n",
       "      <th>ewretd</th>\n",
       "      <th>ewretx</th>\n",
       "      <th>totval</th>\n",
       "      <th>totcnt</th>\n",
       "      <th>usdval</th>\n",
       "      <th>usdcnt</th>\n",
       "      <th>spindx</th>\n",
       "      <th>sprtrn</th>\n",
       "    </tr>\n",
       "  </thead>\n",
       "  <tbody>\n",
       "    <tr>\n",
       "      <th>0</th>\n",
       "      <td>1925-12-31</td>\n",
       "      <td>NaN</td>\n",
       "      <td>NaN</td>\n",
       "      <td>NaN</td>\n",
       "      <td>NaN</td>\n",
       "      <td>15236829.5</td>\n",
       "      <td>89</td>\n",
       "      <td>NaN</td>\n",
       "      <td>NaN</td>\n",
       "      <td>NaN</td>\n",
       "      <td>NaN</td>\n",
       "    </tr>\n",
       "  </tbody>\n",
       "</table>\n",
       "</div>"
      ],
      "text/plain": [
       "       caldt  vwretd  vwretx  ewretd  ewretx      totval  totcnt  usdval  \\\n",
       "0 1925-12-31     NaN     NaN     NaN     NaN  15236829.5      89     NaN   \n",
       "\n",
       "   usdcnt  spindx  sprtrn  \n",
       "0     NaN     NaN     NaN  "
      ]
     },
     "execution_count": 73,
     "metadata": {},
     "output_type": "execute_result"
    }
   ],
   "source": [
    "sp500_daily.head(1)"
   ]
  },
  {
   "cell_type": "code",
   "execution_count": 74,
   "id": "da9e3773-a857-4ae8-a9bf-1a29621d74bf",
   "metadata": {
    "tags": []
   },
   "outputs": [
    {
     "data": {
      "text/html": [
       "<div>\n",
       "<style scoped>\n",
       "    .dataframe tbody tr th:only-of-type {\n",
       "        vertical-align: middle;\n",
       "    }\n",
       "\n",
       "    .dataframe tbody tr th {\n",
       "        vertical-align: top;\n",
       "    }\n",
       "\n",
       "    .dataframe thead th {\n",
       "        text-align: right;\n",
       "    }\n",
       "</style>\n",
       "<table border=\"1\" class=\"dataframe\">\n",
       "  <thead>\n",
       "    <tr style=\"text-align: right;\">\n",
       "      <th></th>\n",
       "      <th>caldt</th>\n",
       "      <th>vwretd</th>\n",
       "      <th>vwretx</th>\n",
       "      <th>ewretd</th>\n",
       "      <th>ewretx</th>\n",
       "      <th>totval</th>\n",
       "      <th>totcnt</th>\n",
       "      <th>usdval</th>\n",
       "      <th>usdcnt</th>\n",
       "      <th>spindx</th>\n",
       "      <th>sprtrn</th>\n",
       "    </tr>\n",
       "  </thead>\n",
       "  <tbody>\n",
       "    <tr>\n",
       "      <th>25548</th>\n",
       "      <td>2022-12-30</td>\n",
       "      <td>-0.002393</td>\n",
       "      <td>-0.002456</td>\n",
       "      <td>-0.004163</td>\n",
       "      <td>-0.00432</td>\n",
       "      <td>3.351180e+10</td>\n",
       "      <td>503</td>\n",
       "      <td>3.358943e+10</td>\n",
       "      <td>503.0</td>\n",
       "      <td>3839.5</td>\n",
       "      <td>-0.002541</td>\n",
       "    </tr>\n",
       "  </tbody>\n",
       "</table>\n",
       "</div>"
      ],
      "text/plain": [
       "           caldt    vwretd    vwretx    ewretd   ewretx        totval  totcnt  \\\n",
       "25548 2022-12-30 -0.002393 -0.002456 -0.004163 -0.00432  3.351180e+10     503   \n",
       "\n",
       "             usdval  usdcnt  spindx    sprtrn  \n",
       "25548  3.358943e+10   503.0  3839.5 -0.002541  "
      ]
     },
     "execution_count": 74,
     "metadata": {},
     "output_type": "execute_result"
    }
   ],
   "source": [
    "sp500_daily.tail(1)"
   ]
  },
  {
   "cell_type": "code",
   "execution_count": 75,
   "id": "0b309e66-c6dd-4ba8-8559-74827c307711",
   "metadata": {
    "tags": []
   },
   "outputs": [
    {
     "data": {
      "text/plain": [
       "(25549, 11)"
      ]
     },
     "execution_count": 75,
     "metadata": {},
     "output_type": "execute_result"
    }
   ],
   "source": [
    "sp500_daily.shape"
   ]
  },
  {
   "cell_type": "code",
   "execution_count": 76,
   "id": "62464dd0-18f8-482d-90b0-2cc45a310820",
   "metadata": {
    "tags": []
   },
   "outputs": [
    {
     "data": {
      "text/plain": [
       "9806.65006047523"
      ]
     },
     "execution_count": 76,
     "metadata": {},
     "output_type": "execute_result"
    }
   ],
   "source": [
    "dollar_ret = (1 + sp500_daily['vwretd']).cumprod()\n",
    "dollar_ret[25548]"
   ]
  },
  {
   "cell_type": "code",
   "execution_count": 77,
   "id": "68ce1151-99d0-459e-bc0c-6265617dc93d",
   "metadata": {
    "tags": []
   },
   "outputs": [
    {
     "data": {
      "text/plain": [
       "0                NaN\n",
       "1           1.004297\n",
       "2           1.002934\n",
       "3           0.998318\n",
       "4           0.998854\n",
       "            ...     \n",
       "25544    9818.994914\n",
       "25545    9778.501379\n",
       "25546    9660.572653\n",
       "25547    9830.173666\n",
       "25548    9806.650060\n",
       "Name: vwretd, Length: 25549, dtype: float64"
      ]
     },
     "execution_count": 77,
     "metadata": {},
     "output_type": "execute_result"
    }
   ],
   "source": [
    "dollar_ret"
   ]
  },
  {
   "cell_type": "code",
   "execution_count": 78,
   "id": "96a5a6d4-87f2-437c-af23-3b134cf75106",
   "metadata": {
    "tags": []
   },
   "outputs": [],
   "source": [
    "sp500_daily['daily_returns'] = dollar_ret"
   ]
  },
  {
   "cell_type": "code",
   "execution_count": 79,
   "id": "d55937b7-aafb-4576-9aad-0f7bb61a141c",
   "metadata": {
    "tags": []
   },
   "outputs": [
    {
     "data": {
      "image/png": "[encoded data removed]",
      "text/plain": [
       "<Figure size 1000x500 with 1 Axes>"
      ]
     },
     "metadata": {},
     "output_type": "display_data"
    }
   ],
   "source": [
    "# Comparing cumulative daily and monthly nominal returns\n",
    "\n",
    "sp500_monthly_returns = sp500\n",
    "sp500_monthly_returns['monthly_returns'] = sp500_cum\n",
    "# Convert date columns to datetime\n",
    "sp500_monthly_returns['caldt'] = pd.to_datetime(sp500['caldt'])\n",
    "\n",
    "# setting date column as the index for both dataframes\n",
    "sp500_daily.set_index('caldt', inplace=True)\n",
    "sp500_monthly_returns.set_index('caldt', inplace=True)\n",
    "\n",
    "\n",
    "fig, ax = plt.subplots(figsize=(10, 5))\n",
    "\n",
    "# Plot cumulative daily returns\n",
    "ax.plot(sp500_daily.index, sp500_daily['daily_returns'], label='Cumulative Daily Returns')\n",
    "\n",
    "# Plot cumulative monthly returns\n",
    "ax.plot(sp500_monthly_returns.index, sp500_monthly_returns['monthly_returns'], label='Cumulative Monthly Returns')\n",
    "\n",
    "ax.set_yscale('log')\n",
    "ax.set_xlabel('Date')\n",
    "ax.set_ylabel('Cumulative Returns')\n",
    "ax.set_title('Cumulative Returns of S&P500 (Daily vs. Monthly)')\n",
    "ax.grid(True)\n",
    "ax.legend()\n",
    "\n",
    "# Show the plot\n",
    "plt.show()\n"
   ]
  },
  {
   "cell_type": "code",
   "execution_count": 80,
   "id": "a0f34ef4-2948-418c-a06f-d4ccc1a25705",
   "metadata": {
    "tags": []
   },
   "outputs": [
    {
     "data": {
      "text/html": [
       "<div>\n",
       "<style scoped>\n",
       "    .dataframe tbody tr th:only-of-type {\n",
       "        vertical-align: middle;\n",
       "    }\n",
       "\n",
       "    .dataframe tbody tr th {\n",
       "        vertical-align: top;\n",
       "    }\n",
       "\n",
       "    .dataframe thead th {\n",
       "        text-align: right;\n",
       "    }\n",
       "</style>\n",
       "<table border=\"1\" class=\"dataframe\">\n",
       "  <thead>\n",
       "    <tr style=\"text-align: right;\">\n",
       "      <th></th>\n",
       "      <th>vwretd</th>\n",
       "      <th>vwretx</th>\n",
       "      <th>ewretd</th>\n",
       "      <th>ewretx</th>\n",
       "      <th>totval</th>\n",
       "      <th>totcnt</th>\n",
       "      <th>usdval</th>\n",
       "      <th>usdcnt</th>\n",
       "      <th>spindx</th>\n",
       "      <th>sprtrn</th>\n",
       "      <th>daily_returns</th>\n",
       "    </tr>\n",
       "    <tr>\n",
       "      <th>caldt</th>\n",
       "      <th></th>\n",
       "      <th></th>\n",
       "      <th></th>\n",
       "      <th></th>\n",
       "      <th></th>\n",
       "      <th></th>\n",
       "      <th></th>\n",
       "      <th></th>\n",
       "      <th></th>\n",
       "      <th></th>\n",
       "      <th></th>\n",
       "    </tr>\n",
       "  </thead>\n",
       "  <tbody>\n",
       "    <tr>\n",
       "      <th>1925-12-31</th>\n",
       "      <td>NaN</td>\n",
       "      <td>NaN</td>\n",
       "      <td>NaN</td>\n",
       "      <td>NaN</td>\n",
       "      <td>1.523683e+07</td>\n",
       "      <td>89</td>\n",
       "      <td>NaN</td>\n",
       "      <td>NaN</td>\n",
       "      <td>NaN</td>\n",
       "      <td>NaN</td>\n",
       "      <td>NaN</td>\n",
       "    </tr>\n",
       "    <tr>\n",
       "      <th>1926-01-02</th>\n",
       "      <td>0.004297</td>\n",
       "      <td>0.004297</td>\n",
       "      <td>0.002941</td>\n",
       "      <td>0.002941</td>\n",
       "      <td>1.531969e+07</td>\n",
       "      <td>89</td>\n",
       "      <td>1.523683e+07</td>\n",
       "      <td>79.0</td>\n",
       "      <td>NaN</td>\n",
       "      <td>NaN</td>\n",
       "      <td>1.004297</td>\n",
       "    </tr>\n",
       "    <tr>\n",
       "      <th>1926-01-04</th>\n",
       "      <td>-0.001357</td>\n",
       "      <td>-0.001357</td>\n",
       "      <td>0.001036</td>\n",
       "      <td>0.001036</td>\n",
       "      <td>1.529890e+07</td>\n",
       "      <td>89</td>\n",
       "      <td>1.531969e+07</td>\n",
       "      <td>80.0</td>\n",
       "      <td>NaN</td>\n",
       "      <td>NaN</td>\n",
       "      <td>1.002934</td>\n",
       "    </tr>\n",
       "    <tr>\n",
       "      <th>1926-01-05</th>\n",
       "      <td>-0.004603</td>\n",
       "      <td>-0.004653</td>\n",
       "      <td>-0.005856</td>\n",
       "      <td>-0.006063</td>\n",
       "      <td>1.522771e+07</td>\n",
       "      <td>89</td>\n",
       "      <td>1.529890e+07</td>\n",
       "      <td>80.0</td>\n",
       "      <td>NaN</td>\n",
       "      <td>NaN</td>\n",
       "      <td>0.998318</td>\n",
       "    </tr>\n",
       "    <tr>\n",
       "      <th>1926-01-06</th>\n",
       "      <td>0.000537</td>\n",
       "      <td>0.000537</td>\n",
       "      <td>0.000888</td>\n",
       "      <td>0.000888</td>\n",
       "      <td>1.523589e+07</td>\n",
       "      <td>89</td>\n",
       "      <td>1.522771e+07</td>\n",
       "      <td>80.0</td>\n",
       "      <td>NaN</td>\n",
       "      <td>NaN</td>\n",
       "      <td>0.998854</td>\n",
       "    </tr>\n",
       "    <tr>\n",
       "      <th>...</th>\n",
       "      <td>...</td>\n",
       "      <td>...</td>\n",
       "      <td>...</td>\n",
       "      <td>...</td>\n",
       "      <td>...</td>\n",
       "      <td>...</td>\n",
       "      <td>...</td>\n",
       "      <td>...</td>\n",
       "      <td>...</td>\n",
       "      <td>...</td>\n",
       "      <td>...</td>\n",
       "    </tr>\n",
       "    <tr>\n",
       "      <th>2022-12-23</th>\n",
       "      <td>0.005843</td>\n",
       "      <td>0.005815</td>\n",
       "      <td>0.006934</td>\n",
       "      <td>0.006918</td>\n",
       "      <td>3.355862e+10</td>\n",
       "      <td>503</td>\n",
       "      <td>3.336460e+10</td>\n",
       "      <td>503.0</td>\n",
       "      <td>3844.82</td>\n",
       "      <td>0.005868</td>\n",
       "      <td>9818.994914</td>\n",
       "    </tr>\n",
       "    <tr>\n",
       "      <th>2022-12-27</th>\n",
       "      <td>-0.004124</td>\n",
       "      <td>-0.004200</td>\n",
       "      <td>0.000041</td>\n",
       "      <td>-0.000041</td>\n",
       "      <td>3.341769e+10</td>\n",
       "      <td>503</td>\n",
       "      <td>3.355862e+10</td>\n",
       "      <td>503.0</td>\n",
       "      <td>3829.25</td>\n",
       "      <td>-0.004050</td>\n",
       "      <td>9778.501379</td>\n",
       "    </tr>\n",
       "    <tr>\n",
       "      <th>2022-12-28</th>\n",
       "      <td>-0.012060</td>\n",
       "      <td>-0.012068</td>\n",
       "      <td>-0.013825</td>\n",
       "      <td>-0.013839</td>\n",
       "      <td>3.301442e+10</td>\n",
       "      <td>503</td>\n",
       "      <td>3.341769e+10</td>\n",
       "      <td>503.0</td>\n",
       "      <td>3783.22</td>\n",
       "      <td>-0.012021</td>\n",
       "      <td>9660.572653</td>\n",
       "    </tr>\n",
       "    <tr>\n",
       "      <th>2022-12-29</th>\n",
       "      <td>0.017556</td>\n",
       "      <td>0.017417</td>\n",
       "      <td>0.018123</td>\n",
       "      <td>0.017823</td>\n",
       "      <td>3.358943e+10</td>\n",
       "      <td>503</td>\n",
       "      <td>3.301442e+10</td>\n",
       "      <td>503.0</td>\n",
       "      <td>3849.28</td>\n",
       "      <td>0.017461</td>\n",
       "      <td>9830.173666</td>\n",
       "    </tr>\n",
       "    <tr>\n",
       "      <th>2022-12-30</th>\n",
       "      <td>-0.002393</td>\n",
       "      <td>-0.002456</td>\n",
       "      <td>-0.004163</td>\n",
       "      <td>-0.004320</td>\n",
       "      <td>3.351180e+10</td>\n",
       "      <td>503</td>\n",
       "      <td>3.358943e+10</td>\n",
       "      <td>503.0</td>\n",
       "      <td>3839.50</td>\n",
       "      <td>-0.002541</td>\n",
       "      <td>9806.650060</td>\n",
       "    </tr>\n",
       "  </tbody>\n",
       "</table>\n",
       "<p>25549 rows × 11 columns</p>\n",
       "</div>"
      ],
      "text/plain": [
       "              vwretd    vwretx    ewretd    ewretx        totval  totcnt  \\\n",
       "caldt                                                                      \n",
       "1925-12-31       NaN       NaN       NaN       NaN  1.523683e+07      89   \n",
       "1926-01-02  0.004297  0.004297  0.002941  0.002941  1.531969e+07      89   \n",
       "1926-01-04 -0.001357 -0.001357  0.001036  0.001036  1.529890e+07      89   \n",
       "1926-01-05 -0.004603 -0.004653 -0.005856 -0.006063  1.522771e+07      89   \n",
       "1926-01-06  0.000537  0.000537  0.000888  0.000888  1.523589e+07      89   \n",
       "...              ...       ...       ...       ...           ...     ...   \n",
       "2022-12-23  0.005843  0.005815  0.006934  0.006918  3.355862e+10     503   \n",
       "2022-12-27 -0.004124 -0.004200  0.000041 -0.000041  3.341769e+10     503   \n",
       "2022-12-28 -0.012060 -0.012068 -0.013825 -0.013839  3.301442e+10     503   \n",
       "2022-12-29  0.017556  0.017417  0.018123  0.017823  3.358943e+10     503   \n",
       "2022-12-30 -0.002393 -0.002456 -0.004163 -0.004320  3.351180e+10     503   \n",
       "\n",
       "                  usdval  usdcnt   spindx    sprtrn  daily_returns  \n",
       "caldt                                                               \n",
       "1925-12-31           NaN     NaN      NaN       NaN            NaN  \n",
       "1926-01-02  1.523683e+07    79.0      NaN       NaN       1.004297  \n",
       "1926-01-04  1.531969e+07    80.0      NaN       NaN       1.002934  \n",
       "1926-01-05  1.529890e+07    80.0      NaN       NaN       0.998318  \n",
       "1926-01-06  1.522771e+07    80.0      NaN       NaN       0.998854  \n",
       "...                  ...     ...      ...       ...            ...  \n",
       "2022-12-23  3.336460e+10   503.0  3844.82  0.005868    9818.994914  \n",
       "2022-12-27  3.355862e+10   503.0  3829.25 -0.004050    9778.501379  \n",
       "2022-12-28  3.341769e+10   503.0  3783.22 -0.012021    9660.572653  \n",
       "2022-12-29  3.301442e+10   503.0  3849.28  0.017461    9830.173666  \n",
       "2022-12-30  3.358943e+10   503.0  3839.50 -0.002541    9806.650060  \n",
       "\n",
       "[25549 rows x 11 columns]"
      ]
     },
     "execution_count": 80,
     "metadata": {},
     "output_type": "execute_result"
    }
   ],
   "source": [
    "sp500_daily"
   ]
  },
  {
   "cell_type": "code",
   "execution_count": 81,
   "id": "0a69e68b-0ec7-48fb-832e-03336574af4b",
   "metadata": {
    "tags": []
   },
   "outputs": [],
   "source": [
    "sp500_daily_logret = sp500_daily.drop(columns = ['vwretd', 'vwretx', 'ewretd', 'ewretx', 'totval', 'totcnt', 'usdval', 'spindx', 'sprtrn', 'usdcnt'])"
   ]
  },
  {
   "cell_type": "code",
   "execution_count": 82,
   "id": "a8f05744-5c68-4d94-ba73-b9887224245c",
   "metadata": {
    "tags": []
   },
   "outputs": [
    {
     "data": {
      "text/plain": [
       "Index(['daily_returns'], dtype='object')"
      ]
     },
     "execution_count": 82,
     "metadata": {},
     "output_type": "execute_result"
    }
   ],
   "source": [
    "sp500_daily_logret.columns"
   ]
  },
  {
   "cell_type": "markdown",
   "id": "d8b28bc0-7f28-4bc9-ac69-4cec45f712a7",
   "metadata": {},
   "source": [
    "The returns should be almost identical, if not completely identical. This is because the aggregate returns of the daily data each month should be equal to the cumulative monthly return each month. As shown in the plot, this is indeed the case."
   ]
  },
  {
   "cell_type": "code",
   "execution_count": 83,
   "id": "8ad55840-efa5-443e-aa62-cfc2ffcb5e94",
   "metadata": {
    "tags": []
   },
   "outputs": [
    {
     "ename": "KeyError",
     "evalue": "\"None of ['caldt'] are in the columns\"",
     "output_type": "error",
     "traceback": [
      "\u001b[1;31m---------------------------------------------------------------------------\u001b[0m",
      "\u001b[1;31mKeyError\u001b[0m                                  Traceback (most recent call last)",
      "Cell \u001b[1;32mIn[83], line 8\u001b[0m\n\u001b[0;32m      6\u001b[0m sp500_daily_logret \u001b[38;5;241m=\u001b[39m np\u001b[38;5;241m.\u001b[39mlog(sp500_daily_logret)\n\u001b[0;32m      7\u001b[0m sp500_daily_logret \u001b[38;5;241m=\u001b[39m pd\u001b[38;5;241m.\u001b[39mDataFrame(sp500_daily_logret, columns \u001b[38;5;241m=\u001b[39m [\u001b[38;5;124m'\u001b[39m\u001b[38;5;124mdaily_returns\u001b[39m\u001b[38;5;124m'\u001b[39m])\n\u001b[1;32m----> 8\u001b[0m sp500_daily_logret\u001b[38;5;241m.\u001b[39mset_index(\u001b[38;5;124m'\u001b[39m\u001b[38;5;124mcaldt\u001b[39m\u001b[38;5;124m'\u001b[39m, inplace\u001b[38;5;241m=\u001b[39m\u001b[38;5;28;01mTrue\u001b[39;00m)\n\u001b[0;32m     10\u001b[0m sp500_daily_logret[\u001b[38;5;124m'\u001b[39m\u001b[38;5;124mMonth\u001b[39m\u001b[38;5;124m'\u001b[39m] \u001b[38;5;241m=\u001b[39m sp500_daily_logret\u001b[38;5;241m.\u001b[39mindex\u001b[38;5;241m.\u001b[39mto_period(\u001b[38;5;124m'\u001b[39m\u001b[38;5;124mM\u001b[39m\u001b[38;5;124m'\u001b[39m)\n\u001b[0;32m     11\u001b[0m monthly_std_logret \u001b[38;5;241m=\u001b[39m sp500_returns\u001b[38;5;241m.\u001b[39mgroupby(\u001b[38;5;124m'\u001b[39m\u001b[38;5;124mMonth\u001b[39m\u001b[38;5;124m'\u001b[39m)[\u001b[38;5;124m'\u001b[39m\u001b[38;5;124mReturns\u001b[39m\u001b[38;5;124m'\u001b[39m]\u001b[38;5;241m.\u001b[39mstd()\n",
      "File \u001b[1;32m~\\anaconda3\\Lib\\site-packages\\pandas\\util\\_decorators.py:331\u001b[0m, in \u001b[0;36mdeprecate_nonkeyword_arguments.<locals>.decorate.<locals>.wrapper\u001b[1;34m(*args, **kwargs)\u001b[0m\n\u001b[0;32m    325\u001b[0m \u001b[38;5;28;01mif\u001b[39;00m \u001b[38;5;28mlen\u001b[39m(args) \u001b[38;5;241m>\u001b[39m num_allow_args:\n\u001b[0;32m    326\u001b[0m     warnings\u001b[38;5;241m.\u001b[39mwarn(\n\u001b[0;32m    327\u001b[0m         msg\u001b[38;5;241m.\u001b[39mformat(arguments\u001b[38;5;241m=\u001b[39m_format_argument_list(allow_args)),\n\u001b[0;32m    328\u001b[0m         \u001b[38;5;167;01mFutureWarning\u001b[39;00m,\n\u001b[0;32m    329\u001b[0m         stacklevel\u001b[38;5;241m=\u001b[39mfind_stack_level(),\n\u001b[0;32m    330\u001b[0m     )\n\u001b[1;32m--> 331\u001b[0m \u001b[38;5;28;01mreturn\u001b[39;00m func(\u001b[38;5;241m*\u001b[39margs, \u001b[38;5;241m*\u001b[39m\u001b[38;5;241m*\u001b[39mkwargs)\n",
      "File \u001b[1;32m~\\anaconda3\\Lib\\site-packages\\pandas\\core\\frame.py:6012\u001b[0m, in \u001b[0;36mDataFrame.set_index\u001b[1;34m(self, keys, drop, append, inplace, verify_integrity)\u001b[0m\n\u001b[0;32m   6009\u001b[0m                 missing\u001b[38;5;241m.\u001b[39mappend(col)\n\u001b[0;32m   6011\u001b[0m \u001b[38;5;28;01mif\u001b[39;00m missing:\n\u001b[1;32m-> 6012\u001b[0m     \u001b[38;5;28;01mraise\u001b[39;00m \u001b[38;5;167;01mKeyError\u001b[39;00m(\u001b[38;5;124mf\u001b[39m\u001b[38;5;124m\"\u001b[39m\u001b[38;5;124mNone of \u001b[39m\u001b[38;5;132;01m{\u001b[39;00mmissing\u001b[38;5;132;01m}\u001b[39;00m\u001b[38;5;124m are in the columns\u001b[39m\u001b[38;5;124m\"\u001b[39m)\n\u001b[0;32m   6014\u001b[0m \u001b[38;5;28;01mif\u001b[39;00m inplace:\n\u001b[0;32m   6015\u001b[0m     frame \u001b[38;5;241m=\u001b[39m \u001b[38;5;28mself\u001b[39m\n",
      "\u001b[1;31mKeyError\u001b[0m: \"None of ['caldt'] are in the columns\""
     ]
    }
   ],
   "source": [
    "# Creating series of daily log returns:\n",
    "sp500_daily_logret = sp500_daily_logret.dropna()\n",
    "sp500_daily_logret = sp500_daily_logret[(sp500_daily_logret > 0).all(axis=1)]\n",
    "\n",
    "sp500_daily_logret = sp500_daily_logret.to_numpy()\n",
    "sp500_daily_logret = np.log(sp500_daily_logret)\n",
    "sp500_daily_logret = pd.DataFrame(sp500_daily_logret, columns = ['daily_returns'])\n",
    "sp500_daily_logret.set_index('caldt', inplace=True)\n",
    "\n",
    "sp500_daily_logret['Month'] = sp500_daily_logret.index.to_period('M')\n",
    "monthly_std_logret = sp500_returns.groupby('Month')['Returns'].std()\n",
    "monthly_std_logret = monthly_std_logret.reset_index()"
   ]
  }
 ],
 "metadata": {
  "kernelspec": {
   "display_name": "Python 3 (ipykernel)",
   "language": "python",
   "name": "python3"
  },
  "language_info": {
   "codemirror_mode": {
    "name": "ipython",
    "version": 3
   },
   "file_extension": ".py",
   "mimetype": "text/x-python",
   "name": "python",
   "nbconvert_exporter": "python",
   "pygments_lexer": "ipython3",
   "version": "3.11.4"
  }
 },
 "nbformat": 4,
 "nbformat_minor": 5
}
