{
 "cells": [
  {
   "cell_type": "markdown",
   "metadata": {},
   "source": [
    "# Homework 3: The Flash Crash\n",
    "\n",
    "## By Albert S. (Pete) Kyle\n",
    "\n",
    "## BUFN400 2023---University of Maryland \n",
    "\n",
    "This homework is due before class on Monday, October 16, 2023.\n",
    "\n",
    "If you would like to change your answers after the homework is due, you may submit a revised version before the final exam.\n"
   ]
  },
  {
   "cell_type": "markdown",
   "metadata": {},
   "source": [
    "# The Flash Crash\n",
    "\n",
    "During the afternoon of May 6, 2010, there was a sudden drop in the stock market and then a fast rebound in prices, all taking place over a time frame less than one hour. This event is commonly called the \"Flash Crash\".  \n",
    "\n",
    "This homework is based on transaction-by-transaction data for the the S&P 500 E-Mini future contract and the SPDR ETF SPY on the day of the flash crash. There are four files: trades for the future contract, quotes for the futures contract, trades for the SPY ETF, and quotes for the SPY ETF. These files are available on Canvas.\n",
    "\n",
    "The S&P 500 E-mini (ESM) is a futures contract which tracks the S&P 500 index. The seemingly strange name \"ESM10\" has the following explanation: \"E\"  represents E-mini, \"S\" represents S&P 500, \"M\" is an abbreviation for the month of June, and \"10\" represents the year 2010. The futures contract is cash-settled. This means that its expiration value on June 2010 is the price of the S&P 500 calculated from market prices at the settlement date in June 2010.  The E-mini is structured so that its price is approximately equal to the value  of the S&P 500. One contract has a value equal to 50 times the S&P 500.\n",
    "\n",
    "The SPY ETF is one of multiple ETFs in the SPDR (Spider) complex.  In the acronym \"SPDR\", the \"SP\" represents \"Standard & Poor's\", and the \"DR\" represents \"Depository Receipt.\" The SPY is a specific depository receipt which tracks the S&P500 index. The buyer of the SPY holds something equivalent to the basket of stocks underlying the S&P500. The SPY is structured so that the price of one share is approximately one tenth of the S&P 500 index.\n",
    "\n",
    "I have written a paper on the Flash Crash (posted on Canvas):\n",
    "\n",
    "Kirilenko, Andrei, Albert S. Kyle, Mehrdad Samadi, and Tugkan Tuzun. \"The flash crash: High‐frequency trading in an electronic market.\" *Journal of Finance 72*, no. 3 (2017): 967-998.  Feel free to look at this paper to get an idea of what the solutions to some of the problems below might look like.\n"
   ]
  },
  {
   "cell_type": "markdown",
   "metadata": {},
   "source": [
    "# Problem 1: Read and Clean Data\n",
    "\n",
    "A. Download the data from Canvas. Print a few lines of data. Convert columns to appropriate dtypes. Calculate some basic statistics. \n",
    "\n",
    "B. Determine the effective granularity of the time stamps (e.g., seconds, milliseconds, microseconds, nanoseconds). Determine also whether the time zones are consistent; if not, make appropriate adjustments to convert all times to New York time. We are interested in trades and quotes during regular stock market hours, which are 9:30 a.m. to 4:00 p.m. New York time.\n",
    "\n",
    "C. In the ESM10 quote data, fix the issue of missing bid prices, bid quantities, ask prices, and ask prices. (Hint: Consider using the the function *pd.fillna()* with appropriate options.)\n",
    "\n",
    "D. Explain briefly why other prices and quantities are missing, zero, or very small. (Hint: Keep in mind that, during the Flash Crash, there were ridiculously large and small prices for some stocks due to vanishing market liquidity.  Some stocks, which should have traded at approximately, say, 50.00 (dollars), actually had extreme bid, ask, or trade prices of 0.01 or 9999.99. These prices were not data errors but rather symptoms of the market functioning poorly.)\n",
    "\n",
    "E. (Extra Credit) Study whether the quote data are consistent with the trade data. For example, do trades occur at the prevailing bid or ask price based on reported time stamps? Do ESM10 quantities bid and ask prices appear to change consistently based the time stamps of trades and quote changes?\n"
   ]
  },
  {
   "cell_type": "markdown",
   "metadata": {},
   "source": [
    "# Problem 2: Overall volume and liquidity\n",
    "\n",
    "The ESM and SPY are two of the most liquid and actively traded financial instruments in the world.\n",
    "\n",
    "A. The SPY trades on multiple exchanges. Determine the minimum tick size (minimum price increment) and minimum lot size (minimum quantity unit) for quotes and trades. Calculate the share volume, dollar volume, number of trades, average trade size (dollars and shares),  average bid-ask spread, and average size at the bid and offer on each exchange. Which exchanges appear to offer the mostly liquidity? (Hint: Price and quantity increments for trades may not be the same as for quotes.)\n",
    "\n",
    "B. The ESM trades only on the CME's Globex market. Determine the minimum tick size and minimum unit for trading and quoting. Calculate its contract volume, dollar volume, number of trades, average trades size (dollars and shares), average bid-ask spread (in price units and basis points), and average size at the bid and offer. (Hint: Keep in mind the factor of 50 used to determine contract size when calculating dollar volume.)\n",
    "\n",
    "C.  If a trader is looking for liquidity to exchange S&P 500 risk, would they prefer to trade the SPY or the ESM?"
   ]
  },
  {
   "cell_type": "markdown",
   "metadata": {},
   "source": [
    "# Problem 3: Intraday breakdown in arbitrage relationship\n",
    "\n",
    "Arbitrage theory suggests that the price of the SPY should be almost exactly one tenth the price of the ESM because the pricing of the futures contract will only differ from the price of the \"cash\" market by small adjustments related to interest rates and dividends between May 6, 2010, and the futures expiration in June 2010.\n",
    "\n",
    "A. Plot ten times the trade price of SPY versus the ESM trade prices on a second-by-second basis. (Hint: Plotting every single trade price or quote price would take a lot of time because there are so many lines of data. To plot every second or every minute, there are some specialized panda's functions which can be used. Alternatively, it may be efficient to convert the *datatime* format into seconds since midnight.)\n",
    "\n",
    "B. Determine when you think the flash crash started and when it ended, based on patterns of prices. At exactly what time did the market price reach its minimum?\n",
    "\n",
    "C. Determine whether the arbitrage relationship between the SPY and ESM broke down at some point during the day. If so, determine the timing of the breakdown relative to the timing of the flash crash.\n"
   ]
  },
  {
   "cell_type": "markdown",
   "metadata": {},
   "source": [
    "# Problem 4: Intraday liquidity\n",
    "\n",
    "A. Plot volume, bid-ask spreads, and sizes at the bid and ask in both markets on a minute-by-minute (or second-by-second) basis. Based on my own research, a potentially good measure of market liqidity is  \n",
    "\n",
    "$$\n",
    "\\frac{0.50 \\cdot (Q_{ask} + Q_{bid}) \\cdot P_{midpoint}^2}{P_{ask} - P_{bid}}\n",
    "$$\n",
    "\n",
    "Theoretically, this quantity measures the quantity of dollars bought or sold to move prices one dollar. The quantities should be adjusted by the factor of 50 and factor of 10 needed to convert contracts or shares into dollars worth of the S&P 500 index. Calculate this measure of liquidity on a minute-by-minute or second-by-second basis. (Hint: Consider use a log scale for the vertical axis.) \n",
    "\n",
    "B. Were price changes reasonably continuous during the day, or were there significant instantaneous jumps in prices of more than one tick, in both the futures market and the most active stock exchanges?\n",
    "\n",
    "C. Would it be reasonable to infer that a breakdown in liquidity caused the flash crash, or vice versa?"
   ]
  },
  {
   "cell_type": "markdown",
   "metadata": {},
   "source": [
    "# (Extra Credit) Problem 5: Intraday volatility\n",
    "\n",
    "Realized variance can be calculated by summing square price changes. The resulting measure of realized variance is sensitive to possible negative autocorrelation in price changes (potentially related to \"bid-ask bounce\" associated with market making). To be most accurate, price changes should be random (not correlated).\n",
    "\n",
    "A. Using last trade and bid-ask midpoint, calculate the cumulative realized variance (cumulative sum of squared price changes) over various time intervals (e.g., 5 minutes, 1 minute, 10 seconds, 1 second) and plot realized variance over the day. Are the results consistent for last trade versus bid-ask midpoint and for various time intervals? Are price changes correlated?\n",
    "\n",
    "B. Did intraday volatility change during the day? Is the change associated with the flash crash? (Hint: This will show up a steeper slope to the graph of cumulative realized variance over the day.)\n",
    "\n",
    "C. Compared to a typical realized variance corresponding to about one percent per day (based on taking the square root of realized variance), how many \"typical days worth\" of realized variance occured on the day of the flash crash.\n",
    "\n"
   ]
  }
 ],
 "metadata": {
  "kernelspec": {
   "display_name": "Python 3 (ipykernel)",
   "language": "python",
   "name": "python3"
  },
  "language_info": {
   "codemirror_mode": {
    "name": "ipython",
    "version": 3
   },
   "file_extension": ".py",
   "mimetype": "text/x-python",
   "name": "python",
   "nbconvert_exporter": "python",
   "pygments_lexer": "ipython3",
   "version": "3.8.11"
  }
 },
 "nbformat": 4,
 "nbformat_minor": 4
}
