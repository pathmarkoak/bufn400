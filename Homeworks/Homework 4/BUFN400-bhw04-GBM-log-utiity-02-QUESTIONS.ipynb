{
 "cells": [
  {
   "cell_type": "markdown",
   "metadata": {
    "jp-MarkdownHeadingCollapsed": true
   },
   "source": [
    "### BUFN400---University of Maryland \n",
    "\n",
    "# Homework 4: Geometric Brownian Motion and Log Utility\n",
    "\n",
    "### By Albert S. (Pete) Kyle\n",
    "\n",
    "### October 28, 2023\n",
    "\n",
    "\n",
    "$\\newcommand{\\E}{\\mathrm{E}}$\n",
    "$\\newcommand{\\e}{\\mathrm{e}}$\n",
    "$\\newcommand{\\drm}{\\mathrm{\\, d}}$\n",
    "$\\newcommand{\\var}{\\mathrm{var}}$\n",
    "$\\newcommand{\\cov}{\\mathrm{cov}}$\n",
    "$\\newcommand{\\stdev}{\\mathrm{stdev}}$\n",
    "$\\newcommand{\\sm}{ {\\scriptstyle{*}} }$\n",
    "$\\renewcommand{\\mm}{{\\scriptsize @}}$\n",
    "$\\renewcommand{\\t}{^{\\mathsf{T}}}$\n",
    "$\\renewcommand{\\comma}{\\, , \\,}$\n",
    "$\\renewcommand{\\vec}[1]{\\mathbf{#1}}$\n"
   ]
  },
  {
   "cell_type": "markdown",
   "metadata": {},
   "source": [
    "# Problem 1: Geometric Brownian Motion\n",
    "\n",
    "Consider a hypothetical stock market portfolio whose value follows geometric brownian motion.  Assume the continuously compounded real rate of interest is $r_\\text{real} = 1$ percent per year, the continuously compounded inflation rate is $i = 4$ percent per year, the continuously compounded risk premium is $\\pi = 6$ percent per year, and the annualized standard deviation of log returns is $\\sigma = 20$ percent.\n",
    "\n",
    "A. Display a small dataframe showing the expected nominal value to which one dollar grows after 1, 2, 5, 10, 20, 30, and 100 years. (Hint: The expected value after one year is $1.116\\,278$ dollars. Remember that \"nominal\" returns include inflation, but \"real\" returns do not. The $\\sigma^2/2$ adjustment is not relevant here.)\n",
    "\n",
    "B. Simulate $N=5000$ sample paths of monthly returns over 100 years. (Hint: If you simulate a Brownian motion and then exponentiate it, remember to adjust the mean of the Brownian motion down by $\\frac{\\sigma^2}{2} \\sm \\Delta t$ to make the sample mean of the geometric Brownian motion correct.) \n",
    "\n",
    "   1. Along each of the $N$ sample paths, calculate the following statistics: sample mean of nominal monthly gross returns, sample variance of nominal gross monthly returns, sample mean of nominal monthly log returns, and sample variance of nominal monthly log returns over the first 1, 2, 5, 10, 20, 30, 100 years.\n",
    "\n",
    "   2. Calculate the sample means and sample standard deviations of the $N$ observations for these four statistics over the the 7 time periods. Display a dataframe comparing the sample means and standard deviations of these four statistics with the predicted mean of these four statistics.\n",
    "\n",
    "   3. What fraction of the portfolios are expected to beat the expected return? What fraction of the portfolios actually beat the expected return? Explain why these fractions are not one half.\n",
    "\n",
    "C. EXTRA CREDIT: Repeat the analysis in part B using daily data for 1 \"year\" of 12 \"months\", each of which as 20 trading days, and subintervals of 1, 4, 12 \"months\". Compare the results for 12 months of daily data with the results for one year of monthly data. Do the means and standard deviations of the four statistics change much? Specifically, do your results support the intuition that more frequent observations of returns data do not make and estimate of mean returns more accurate but do make estimates of returns standard deviations more accurate?"
   ]
  },
  {
   "cell_type": "markdown",
   "metadata": {},
   "source": [
    "# Problem 2: Growth Optimal Portfolio\n",
    "\n",
    "This problem is a continuation of Problem 1.\n",
    "\n",
    "Consider an investor who allocates his wealth between the stock market portfolio and a riskfree money market fund earning the real rate plus inflation rate every year. The investor chooses a fixed target fraction of wealth to invest in the equity portfolio. At the end of each month, the investor trades to rebalance the portfolio so that it holds the target fractions in the stock portfolio and the money market fund at the beginning of the next month. Assume that the investor has log utility. As an approximation, this means that the investor chooses the fraction $\\alpha$ to invest in stocks to maximize the function $\\mu(\\alpha) - \\tfrac{1}{2} \\sm \\rho \\sm \\sigma^2(\\alpha)$, where $\\mu(\\alpha)$ is the expected continuously compounded return on the stock market portfolio, $\\sigma^2(\\alpha)$ is the variance of log returns on the portfolio, and $\\rho=1$ for log utility.\n",
    "\n",
    "   A. Show that $\\mu(\\alpha)$ is a simple linear function of $\\alpha$, $\\sigma^2(\\alpha)$ is a simple quadratic function of $\\alpha$, and the optimal value of $\\alpha$ is $1.50$. Therefore, the optimizing investor invests 150 percent of his wealth in the stock market portfolio and finances this by borrowing 50 percent of the portfolio at the risk-free rate.  Show that the probability of the optimizing investor earning a portfolio return of $-100$ percent in one month is small enough that we might (or might not?) be justified in ignoring it.\n",
    "\n",
    "   B. Simulate 5000 sample paths of 100 years of monthly rebalanced portfolios with 8 different fractions of wealth in the stock market portfolio equal to 0, 60, 80, 100, 125, 150, 200, and 250 percent. Does bankruptcy ever become sufficiently likely that it cannot be ignored? How should potential bankruptcy be dealt with? For time periods equal to the first 1, 2, 5, 10, 20, 30, and 100 years, calculate a frequency distribution describing which of the 8 portfolios has the highest value at the end of the period. Display the results as a dataframe in which the rows are the 7 time intervals and the columns are the 8 portfolio weights.\n",
    "\n",
    "   C. Explain whether your results illustrate the concept of \"growth optimal portfolio\". Specifically, does the portfolio chosen by the log-utility investor beat all of the other portfolios a large fraction of the time, even the portfolios with more leverage and therefore a higher expected return?"
   ]
  },
  {
   "cell_type": "code",
   "execution_count": null,
   "metadata": {},
   "outputs": [],
   "source": []
  }
 ],
 "metadata": {
  "kernelspec": {
   "display_name": "Python [conda env:a202310b]",
   "language": "python",
   "name": "conda-env-a202310b-py"
  },
  "language_info": {
   "codemirror_mode": {
    "name": "ipython",
    "version": 3
   },
   "file_extension": ".py",
   "mimetype": "text/x-python",
   "name": "python",
   "nbconvert_exporter": "python",
   "pygments_lexer": "ipython3",
   "version": "3.11.6"
  }
 },
 "nbformat": 4,
 "nbformat_minor": 4
}
