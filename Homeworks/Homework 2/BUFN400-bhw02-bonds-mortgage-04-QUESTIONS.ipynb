{
 "cells": [
  {
   "cell_type": "markdown",
   "metadata": {},
   "source": [
    "### BUFN400---University of Maryland \n",
    "\n",
    "# Homework 2: Bonds and Mortgages: Theoretical Calculations\n",
    "\n",
    "### By Albert S. (Pete) Kyle\n",
    "\n",
    "There are probably some typos or errors in this homework.  If you find something which seems wrong, please let me know!\n",
    "\n",
    "$\\require{\\newcommand}$\n",
    "$\\require{\\renewcommand}$\n",
    "$\\newcommand{\\E}{\\mathrm{E}}$\n",
    "$\\newcommand{\\e}{\\mathrm{e}}$\n",
    "$\\newcommand{\\drm}{\\mathrm{\\, d}}$\n",
    "$\\newcommand{\\var}{\\mathrm{var}}$\n",
    "$\\newcommand{\\cov}{\\mathrm{cov}}$\n",
    "$\\newcommand{\\stdev}{\\mathrm{stdev}}$\n",
    "$\\newcommand{\\sm}{ {\\scriptstyle{*}} }$\n",
    "$\\renewcommand{\\mm}{{\\scriptsize @}}$\n",
    "$\\renewcommand{\\t}{^{\\mathsf{T}}}$\n",
    "$\\renewcommand{\\comma}{\\, , \\,}$\n",
    "$\\renewcommand{\\vec}[1]{\\mathbf{#1}}$\n"
   ]
  },
  {
   "cell_type": "code",
   "execution_count": 1,
   "metadata": {},
   "outputs": [
    {
     "name": "stdout",
     "output_type": "stream",
     "text": [
      "Python version 3.8.11 (default, Aug  6 2021, 09:57:55) [MSC v.1916 64 bit (AMD64)]\n",
      "Pandas version 1.5.3\n",
      "NumPy version 1.23.5\n",
      "SciPy version 1.10.1\n",
      "matplotlib version 3.7.1\n",
      "Timestamp: 2023-0919-1303\n"
     ]
    }
   ],
   "source": [
    "import pandas as pd\n",
    "import numpy as np\n",
    "import scipy\n",
    "#import scipy.sparse.linalg\n",
    "import matplotlib\n",
    "import matplotlib.pyplot as plt\n",
    "\n",
    "import sys\n",
    "import io\n",
    "import datetime\n",
    "import timeit\n",
    "\n",
    "pd.set_option('display.max_rows', 500)\n",
    "pd.set_option('display.max_columns', 50)\n",
    "pd.set_option('display.width', 200)\n",
    "pd.set_option('display.max_colwidth', 100)\n",
    "#pd.set_option(\"display.precision\", 2)\n",
    "pd.set_option('display.float_format', lambda x: '%.2f' % x)\n",
    "\n",
    "print('Python version ' + sys.version)\n",
    "print('Pandas version ' + pd.__version__)\n",
    "print('NumPy version ' + np.__version__)\n",
    "print('SciPy version ' + scipy.__version__)\n",
    "print('matplotlib version ' + matplotlib.__version__)\n",
    "\n",
    "timestamp = datetime.datetime.now().strftime('%Y-%m%d-%H%M')\n",
    "print(\"Timestamp:\", timestamp)\n",
    "tstart = timeit.default_timer()\n"
   ]
  },
  {
   "cell_type": "markdown",
   "metadata": {},
   "source": [
    "### Exercise 1\n",
    "\n",
    "The purpose of this exercise is to make sure you understand how cash flows on different types of bonds differ from one another. In fixed income markets, different types of bonds are issued by different types of issuers.\n",
    "\n",
    "* The U.S. government tends to issue coupon bonds which pay semi-annual interest and pay back the entire face value at maturity. This type of bond has **no amortization of principal**.\n",
    "\n",
    "* Individual homeowners often borrow with 30-year, fixed rate mortgages whose monthly payments are constant (like annuities) and pay back the amount of the loan gradually, so that the entire loan is fully repaid with the last (360th) monthly payment.  This type of bond has **full amortization of principal** over the life of the loan. If paid back before maturity, the is a principal balance outstanding which must be prepaid.  At maturity, the principal balance is zero after the final (360th) payment.\n",
    "\n",
    "* Commercial real estate borrowers often borrow with maturities shorter than 30 years (say 10 years). Monthly payments correspond to those on a longer maturity mortgage (say 30 years). At the maturity date, there is a principal balance outstanding which must be paid (**baloon payment**) because the amortization schedule (based on say a 30-year mortgage) does not pay back the entire principal amount at maturity.  This type of bond has **partial amortization of principal** over the life of the loan.\n",
    "\n",
    "1. Write function which takes inputs and produces outputs described by the doc-string in the next cell. This function should cover all three types of amortization schedules mentioned above.\n",
    "\n",
    "2. Display the first 5 lines and last 5 lines of dataframes returned for three cases, each of which has face value of 100,000 and coupon of 6 percent of face value. The three cases are:\n",
    "\n",
    "* U.S Treasury security: maturity of 10 years, no amortization of principal.\n",
    "\n",
    "* Residential mortgage: maturity = 30 years, amortization_horizon = 30 years.\n",
    "\n",
    "* Commercial real estate: maturity = 10 years, amortization_horizon = 30 years. (Hint for debugging: My calculations indicate amount owed after last payment is about 83685 dollars. If you think my answer is incorrect, please let me know. Your answer should show both dollars and cents.)\n",
    "\n",
    "2. In one sentence, explain why this function depends on the coupon rate but does not depend on the yield to maturity.\n",
    "\n",
    "Hints: \n",
    "\n",
    "A. It is hard to write this function without using a Python loop, so a Python loop is okay in this case.\n",
    "\n",
    "B. When principal is amortized, you probably want to use an annuity formula (see lecture notes) to determine the monthly payment.\n",
    "\n",
    "C. For nice display, you might use `pd.set_option('display.float_format', lambda x: '%.2f' % x)` to display results to cents. This option is already set in the cell above which loads packages.\n"
   ]
  },
  {
   "cell_type": "code",
   "execution_count": 2,
   "metadata": {
    "tags": []
   },
   "outputs": [],
   "source": [
    "def f_balance(loan_amount, coupon_rate, maturity, amortization_horizon=None, num_per_year=12):\n",
    "    \"\"\"\n",
    "    Sample inputs:\n",
    "    loan_amount = 400000 dollars (typical amount borrowed to buy 500000 dollar home)\n",
    "    coupon_rate = 0.06 for 6 percent annual rate\n",
    "    maturity = 30 years for typical mortgage, 10 years for commercial real estate mortgage\n",
    "    amortization_horizon = 30 years (same as maturity for typical mortgage), None means interest only\n",
    "    num_per_year = 12 for monthly payments (= 2 for semi-annual payments)\n",
    "    \n",
    "    Outputs: pd.DataFrame with the following columns for each period (e.g., month):\n",
    "    'prebalance' = amount owed before payment is made (post_balance from last month plus interest)\n",
    "    'payment' = payment on loan (zero in first month, constant for remaining months)\n",
    "    'interest' = dollar portion of payment which is interest on loan\n",
    "    'principal' = dollar protion of payment which pays down loan balance\n",
    "    'post_balance' = amount in addition to 'payment' needed to pay off loan early or at maturity (last row), \n",
    "    \n",
    "    Notes:\n",
    "    The number of rows in the Panda's dataframe is 'num_per_year' x 'maturity' + 1.\n",
    "    In row 0, the 'pre_balance' and 'post_balance' both equal the loan_amount, and no payment made.\n",
    "    In the last row, the 'post_balance' is the extra amount needed to pay off the loan.\n",
    "    In each row, the sum of 'interest' and 'principal' should equal 'payment'.\n",
    "    The 'post_balance' decreases monotonically over time.\n",
    "    If maturity = amortization_horizon, then 'post_balance' in last row is zero (up to rounding error)\n",
    "    If amortization_horizon is None, then loan is \"interest only\". This means \n",
    "            'post_balance' is a constant equal to loan_amount in every row,\n",
    "            'pre_balance' is 'loan_amount' plus one-month's interest in every row except row 0,\n",
    "            'payment' and 'interest' are the same constant in every row, \n",
    "            and 'principal' is zero (because loan balance is not reduced).\n",
    "    \"\"\"\n",
    "\n",
    "    pass\n"
   ]
  },
  {
   "cell_type": "markdown",
   "metadata": {},
   "source": [
    "### Exercise 1 (continued). Extra credit problem\n",
    "\n",
    "3. Extra credit: Try to make the function `f_balance` numerically efficient by using the Python package Numba to make loops faster. For example, use what appears to be a dumb Python loop over a Numpy array, but speed it up with the Numba decorator `@numba.njit(...)` and the use of `numba.prange` instead of Python's `range`. Since Numba may not recognize Panda's dataframes, modify the function `f_balance` so that the function `f_balance` calls another function which is compiled with Numba and returns a tuple of numpy arrays.\n",
    "\n",
    "    * Hint: To get this to work without taking a deep dive into the Numba documentation, you should write the Numba function in a seemingly dumb, simplistic manner which makes it easy for Numba's **just-in-time** (**jit**) compiler to infer the types of arguments to the functions. Numba recognizes Numpy arrays but does not recognize some other data types.  To get you started, here is an example using Numba to calculate an inner product. When a Numba-compiled function is called for the first time, the jit compiler takes some time to compile the function.  Therefore, it is a good idea to call the function once before timing it, so tht compile time is not part of the function timing.\n",
    "\n",
    "4. By what factor does the use of Numba decrease execution time? \n",
    "\n",
    "5. In two sentences, provide an intuitive explanation for the different timings of `np.dot`, `f_inner_product_fast`, and `f_inner_product_slow` in the sample code below.\n",
    "\n",
    "    * Hint: Consider both the speed of Python loops and whether multiple processers are used.\n",
    "\n",
    "6. In one sentence, provide an intuitive explanation for speedups you see in your Numba function."
   ]
  },
  {
   "cell_type": "code",
   "execution_count": 3,
   "metadata": {
    "tags": []
   },
   "outputs": [
    {
     "name": "stdout",
     "output_type": "stream",
     "text": [
      "Should be the same: res00=-5999.95682442275, res0=-5999.95682442275, res1=-5999.956824422779, res2=-5999.956824422779\n",
      "\n",
      "np.dot: 460 µs ± 19.3 µs per loop (mean ± std. dev. of 5 runs, 21 loops each)\n",
      "f_inner_product_fast: 2.73 ms ± 292 µs per loop (mean ± std. dev. of 5 runs, 11 loops each)\n",
      "f_inner_product_slow: 501 ms ± 12.2 ms per loop (mean ± std. dev. of 3 runs, 1 loop each)\n",
      "\n",
      "np.dot: 455 µs ± 20.6 µs per loop (mean ± std. dev. of 5 runs, 21 loops each)\n",
      "f_inner_product_fast: 2.71 ms ± 116 µs per loop (mean ± std. dev. of 5 runs, 11 loops each)\n",
      "f_inner_product_slow: 510 ms ± 17.9 ms per loop (mean ± std. dev. of 3 runs, 1 loop each)\n",
      "\n",
      "np.dot: 479 µs ± 28.4 µs per loop (mean ± std. dev. of 5 runs, 21 loops each)\n",
      "f_inner_product_fast: 2.36 ms ± 163 µs per loop (mean ± std. dev. of 5 runs, 11 loops each)\n",
      "f_inner_product_slow: 498 ms ± 6.43 ms per loop (mean ± std. dev. of 3 runs, 1 loop each)\n",
      "\n"
     ]
    }
   ],
   "source": [
    "import numba\n",
    "\n",
    "def f_inner_product_slow(x, y):\n",
    "    assert x.shape == y.shape\n",
    "    assert x.ndim == 1\n",
    "    res = 0.00\n",
    "    for n in range(len(x)):\n",
    "        res = res + x[n] * y[n]\n",
    "    return res\n",
    "\n",
    "# @numba.njit(parallel=True, fastmath=True)\n",
    "@numba.njit()\n",
    "def f_inner_product_fast(x, y):\n",
    "    assert x.shape == y.shape\n",
    "    assert x.ndim == 1\n",
    "    res = 0.00\n",
    "    for n in numba.prange(len(x)):\n",
    "        res = res + x[n] * y[n]\n",
    "    return res\n",
    "\n",
    "# Test inner product on random vectors of length N:\n",
    "\n",
    "N = 10**6\n",
    "\n",
    "rng = np.random.default_rng(seed=1234)\n",
    "x = rng.normal(loc=1.00, scale=5.00, size=N)\n",
    "y = rng.normal(loc=0.00, scale=1.00, size=N)\n",
    "\n",
    "res00 = np.dot(x, y)\n",
    "res0 = x @ y\n",
    "res1 = f_inner_product_slow(x, y)\n",
    "res2 = f_inner_product_fast(x, y)\n",
    "    \n",
    "print(f\"Should be the same: {res00=}, {res0=}, {res1=}, {res2=}\\n\")    \n",
    "\n",
    "# Time the three different functions to see which is fastest:\n",
    "\n",
    "for _ in range(3):\n",
    "    print(\"np.dot: \", end=\"\")\n",
    "    %timeit -r 5 -n 21 res = np.dot(x, y)\n",
    "    print(\"f_inner_product_fast: \", end=\"\")\n",
    "    %timeit -r 5 -n 11 res = f_inner_product_fast(x, y)\n",
    "    print(\"f_inner_product_slow: \", end=\"\")\n",
    "    %timeit -r 3 -n 1 res = f_inner_product_slow(x, y)\n",
    "    print(\"\")"
   ]
  },
  {
   "cell_type": "markdown",
   "metadata": {},
   "source": [
    "### Exercise 2\n",
    "\n",
    "In the lecture note on Time Value of Money, there was a specific yield-curve function with three parameters (long rate, short rate, \"mean reversion\" parameter).  Use this function (with the same parameters) for this exercise. The function is copied to the cell below.\n",
    "\n",
    "Interpret this yield curve as based on continuously compounded interest rates.\n",
    "\n",
    "1.  Assume (perhaps unwisely?) that this yield curve is unchanging in the sense that at every future date, an investor expects to see the same yield curve function. This creates the subjective possibility of **riding the yield curve** by investing in longer-dated securities rather than shorter dated ones. \n",
    "\n",
    "    * For various holding periods $\\Delta t$ (say one month, six months, one year, two years, five years), plot the annualized rate of return for buying a security of maturity $m$, then selling it $\\Delta t$ periods of time later. Find (by numerical experimentation or otherwise) the maturity $m$ at which an investment gives the highest return. (Hint: The answer can be obtained by taking a ratio of discount factors.)\n",
    "\n",
    "    * In one or two sentences, provide some intuition for your result to explain why the best strategy may actually avoid the longest maturity. (This may be contrary to the intuition in the class notes, which I may need to revise.)\n",
    "\n",
    "3. Now assume that the yield curve is unchanging in the sense that any strategy of rolling over investments at various maturities will always yield the same return.  Provide a plot of the five year, two year, six month, one month, and instantaneous forward rates.\n",
    "\n",
    "4. Extra Credit: Repeat the analysis in questions 1 and 2 assuming that the yield curve represents a rate compounded twice per year (bond-equivalent yield)."
   ]
  },
  {
   "cell_type": "code",
   "execution_count": 4,
   "metadata": {},
   "outputs": [
    {
     "data": {
      "image/png": "[encoded data removed]",
      "text/plain": [
       "<Figure size 800x400 with 2 Axes>"
      ]
     },
     "metadata": {},
     "output_type": "display_data"
    }
   ],
   "source": [
    "# This function defines the yield curve:\n",
    "def fyc(m, parms):\n",
    "    assert (type(parms) == np.ndarray and parms.shape == (3,)\n",
    "           ), \"Parameters parms should be a numpy array with three elements.\"\n",
    "    # Parameters parms packed into numpy array for convenience in later use.\n",
    "    # Unpack the parameters here so that they have intuitive names:\n",
    "    rlong = parms[0]  # e.g., 0.0500\n",
    "    rshort = parms[1] # e.g. 0.0300\n",
    "    alpha = parms[2] #e.g. 0.50  # 1 / alpha = half-life of deviation from \"long rate\"\n",
    "    \n",
    "    # Now define the term structure function. \n",
    "    # NB: The np.exp function here not related to continuous compounding.\n",
    "    r = rlong - (rlong - rshort) * np.exp(-alpha * m)  \n",
    "    return r\n",
    "\n",
    "# Construct a vector of parameters by defining the parameters a priori.\n",
    "# (In a realistic application, these parameters would be estimated from data on securities prices)\n",
    "\n",
    "rlong0 = 0.05\n",
    "rshort0 = 0.03\n",
    "alpha0 = 0.50\n",
    "parms = np.array([rlong0, rshort0, alpha0])\n",
    "\n",
    "# Plot the yield curve\n",
    "\n",
    "mmax = 30.00 # years to plot on horizontal axis\n",
    "nobs = 360 + 1 # The extra 1 makes the time between each observation equal to exactly one month.\n",
    "m = np.linspace(start=0.00, stop=mmax, num=nobs, endpoint=True) # vector of maturities to plot\n",
    "rm = fyc(m, parms) # vector of interest rates from yield curve\n",
    "\n",
    "dfm = np.exp(-rm * m)  # continuously compounded discount factor for different maturities m\n",
    "\n",
    "fig, ax = plt.subplots(1, 2, figsize=(8, 4))\n",
    "\n",
    "ax[0].plot(m, rm, 'bo', markersize=1.00)\n",
    "ax[0].set_title(\"Yield Curve\")\n",
    "ax[0].set_xlabel(\"Maturity $m$ (years!)\" )\n",
    "ax[0].set_ylabel(\"Annualized interest Rate $r_\\infty(m)$\")\n",
    "\n",
    "ax[1].set_title(\"Discount Factor\")\n",
    "ax[1].set_xlabel(\"Maturity $m$ (years!)\")\n",
    "ax[1].set_ylabel(\"Discount Factor $DF(m)$\")\n",
    "ax[1].plot(m, dfm, 'bo', markersize=1.00)\n",
    "\n",
    "plt.tight_layout() # Prevents plots from being squashed together too much.\n",
    "\n",
    "plt.show()\n"
   ]
  },
  {
   "cell_type": "markdown",
   "metadata": {},
   "source": [
    "### Exercise 3\n",
    "\n",
    "Consider a bond with coupon rates $c \\in \\{0.00, 2.00, 4.00, \\ldots, 20.00 \\}$ per hundred dollars of face value and maturity $m \\in \\{2, 5, 10, 30 \\}$ years, with semi-annual coupon payments.  For each maturity, generate two side-by-side plots. This first plot should show the price as a function of yields-to-maturity in the interval $[-2.00, 30.00]$ percent per year.  The second plot should show the yield duration as a function of yield to maturity. The third plot should show the yield to maturity as a function of prices in the range [p_0, p_1], where $p_0$ is the price corresponding to a yield to maturity of -2.00 percent per year and $p_1$ is the price corresponding to a yield to maturity of $30$ percent per year. \n",
    "\n",
    "Hint: Your algorithm should use an equation solving algorithm to to calculate the inverse function of inferring yield from price.\n",
    "\n"
   ]
  },
  {
   "cell_type": "markdown",
   "metadata": {
    "tags": []
   },
   "source": [
    "### Exercise 4: HARD: EXTRA CREDIT \n",
    "\n",
    "Write your own algorithm to calculate yield from price. Try to make it better than `scipy.optimize.minimize_scalar()` or `scipy.optimize.brentq` for the specific problem at hand.\n",
    "\n",
    "This problem is a project for students who are mathematically and algorithmically inclined and probably are already quite familiar with Python.  You may work in groups on this problem. If so, please indicate on your homework whom you worked with.\n",
    "\n",
    "Hints:\n",
    "\n",
    "1. The problem has the nice property that price is a **monotonic** function of yield.  This means that there is only one solution to the problem, and it is easy to tell whether an incorrect guess is too large or too small.\n",
    "\n",
    "2. There are three basic types of algorithms you might consider: bisection, secant method, and Newton's method.  The are mentioned in the notes and are easy to google.  All of them are straightforward to implement in principle but difficult to implement in practice due to various implementation details.\n",
    "\n",
    "3. If the number of iterations does not vary too much from one calculation to the next, it might be far more computationally efficient to calculate the yield on many bonds simultaneously, by replacing a one-bond-at-a-time Python loop with numpy calculations on arrays with information about many bonds. The bisection method might work well using this approach.\n",
    "\n",
    "4. Consider using the Numba package to speed up you algorithm to try to make it faster than `scipy.optimize.root_scalar`.\n",
    "\n",
    "\n"
   ]
  },
  {
   "cell_type": "code",
   "execution_count": 5,
   "metadata": {},
   "outputs": [
    {
     "name": "stdout",
     "output_type": "stream",
     "text": [
      "Finished: timestamp = '2023-09-19 13:03:20'\n",
      "Execution time = 8.196546900000001 seconds\n"
     ]
    }
   ],
   "source": [
    "timestamp = datetime.datetime.now().strftime('%Y-%m-%d %H:%M:%S')\n",
    "tfinish = timeit.default_timer()\n",
    "print(f\"Finished: {timestamp = }\\nExecution time = {tfinish - tstart} seconds\")\n"
   ]
  },
  {
   "cell_type": "code",
   "execution_count": null,
   "metadata": {},
   "outputs": [],
   "source": []
  }
 ],
 "metadata": {
  "kernelspec": {
   "display_name": "Python 3 (ipykernel)",
   "language": "python",
   "name": "python3"
  },
  "language_info": {
   "codemirror_mode": {
    "name": "ipython",
    "version": 3
   },
   "file_extension": ".py",
   "mimetype": "text/x-python",
   "name": "python",
   "nbconvert_exporter": "python",
   "pygments_lexer": "ipython3",
   "version": "3.10.12"
  }
 },
 "nbformat": 4,
 "nbformat_minor": 4
}
